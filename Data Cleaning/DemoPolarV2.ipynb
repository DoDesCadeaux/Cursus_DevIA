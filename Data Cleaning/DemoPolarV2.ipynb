{
 "cells": [
  {
   "cell_type": "markdown",
   "metadata": {},
   "source": [
    "https://drive.google.com/file/d/1Kf_ZraDClLgH7VjwRBKQbo8tFEXldu_u/view?usp=drive_link"
   ]
  },
  {
   "cell_type": "code",
   "execution_count": 3,
   "metadata": {},
   "outputs": [],
   "source": [
    "import polars as pl\n",
    "import pandas as pd\n",
    "import time\n",
    "import psutil\n",
    "import os\n",
    "import pyarrow"
   ]
  },
  {
   "cell_type": "code",
   "execution_count": 5,
   "metadata": {},
   "outputs": [
    {
     "name": "stdout",
     "output_type": "stream",
     "text": [
      "Pandas - Temps de chargement : 4.8827 secondes\n",
      "Pandas - Utilisation de la mémoire : 729.88 Mo\n",
      "\n",
      "Polars - Temps de chargement : 1.6175 secondes\n",
      "Polars - Utilisation de la mémoire : 74.49 Mo\n",
      "\n",
      "Pandas - Temps pour somme de 'total_amount' : 0.0123 secondes\n",
      "Polars - Temps pour somme de 'total_amount' : 0.0015 secondes\n"
     ]
    }
   ],
   "source": [
    "# Chargement d'un fichier parquet\n",
    "parquet_file = r\"yellow_tripdata_2022-01.parquet\"\n",
    "\n",
    "# Fonction pour mesurer l'utilisation de la mémoire\n",
    "def memory_usage():\n",
    "    process = psutil.Process(os.getpid())\n",
    "    return process.memory_info().rss / (1024 ** 2)  # Conversion en Mo\n",
    "\n",
    "# Comparaison du temps de chargement et de la mémoire utilisée\n",
    "\n",
    "# Mesurer les performances avec Pandas\n",
    "start_time = time.time()\n",
    "mem_before = memory_usage()\n",
    "df_pandas = pd.read_parquet(parquet_file)\n",
    "time_pandas = time.time() - start_time\n",
    "mem_after = memory_usage()\n",
    "mem_usage_pandas = mem_after - mem_before\n",
    "\n",
    "# Mesurer les performances avec Polars\n",
    "start_time = time.time()\n",
    "mem_before = memory_usage()\n",
    "df_polars = pl.read_parquet(parquet_file)\n",
    "time_polars = time.time() - start_time\n",
    "mem_after = memory_usage()\n",
    "mem_usage_polars = mem_after - mem_before\n",
    "\n",
    "# Afficher les résultats\n",
    "print(f\"Pandas - Temps de chargement : {time_pandas:.4f} secondes\")\n",
    "print(f\"Pandas - Utilisation de la mémoire : {mem_usage_pandas:.2f} Mo\\n\")\n",
    "\n",
    "print(f\"Polars - Temps de chargement : {time_polars:.4f} secondes\")\n",
    "print(f\"Polars - Utilisation de la mémoire : {mem_usage_polars:.2f} Mo\\n\")\n",
    "\n",
    "# Comparaison des performances sur une opération simple, par exemple, la somme d'une colonne\n",
    "start_time = time.time()\n",
    "sum_pandas = df_pandas[\"total_amount\"].sum()\n",
    "time_sum_pandas = time.time() - start_time\n",
    "\n",
    "start_time = time.time()\n",
    "sum_polars = df_polars[\"total_amount\"].sum()\n",
    "time_sum_polars = time.time() - start_time\n",
    "\n",
    "print(f\"Pandas - Temps pour somme de 'total_amount' : {time_sum_pandas:.4f} secondes\")\n",
    "print(f\"Polars - Temps pour somme de 'total_amount' : {time_sum_polars:.4f} secondes\")"
   ]
  },
  {
   "cell_type": "code",
   "execution_count": 6,
   "metadata": {},
   "outputs": [
    {
     "data": {
      "text/html": [
       "<div><style>\n",
       ".dataframe > thead > tr,\n",
       ".dataframe > tbody > tr {\n",
       "  text-align: right;\n",
       "  white-space: pre-wrap;\n",
       "}\n",
       "</style>\n",
       "<small>shape: (5, 19)</small><table border=\"1\" class=\"dataframe\"><thead><tr><th>VendorID</th><th>tpep_pickup_datetime</th><th>tpep_dropoff_datetime</th><th>passenger_count</th><th>trip_distance</th><th>RatecodeID</th><th>store_and_fwd_flag</th><th>PULocationID</th><th>DOLocationID</th><th>payment_type</th><th>fare_amount</th><th>extra</th><th>mta_tax</th><th>tip_amount</th><th>tolls_amount</th><th>improvement_surcharge</th><th>total_amount</th><th>congestion_surcharge</th><th>airport_fee</th></tr><tr><td>i64</td><td>datetime[ns]</td><td>datetime[ns]</td><td>f64</td><td>f64</td><td>f64</td><td>str</td><td>i64</td><td>i64</td><td>i64</td><td>f64</td><td>f64</td><td>f64</td><td>f64</td><td>f64</td><td>f64</td><td>f64</td><td>f64</td><td>f64</td></tr></thead><tbody><tr><td>1</td><td>2022-01-01 00:35:40</td><td>2022-01-01 00:53:29</td><td>2.0</td><td>3.8</td><td>1.0</td><td>&quot;N&quot;</td><td>142</td><td>236</td><td>1</td><td>14.5</td><td>3.0</td><td>0.5</td><td>3.65</td><td>0.0</td><td>0.3</td><td>21.95</td><td>2.5</td><td>0.0</td></tr><tr><td>1</td><td>2022-01-01 00:33:43</td><td>2022-01-01 00:42:07</td><td>1.0</td><td>2.1</td><td>1.0</td><td>&quot;N&quot;</td><td>236</td><td>42</td><td>1</td><td>8.0</td><td>0.5</td><td>0.5</td><td>4.0</td><td>0.0</td><td>0.3</td><td>13.3</td><td>0.0</td><td>0.0</td></tr><tr><td>2</td><td>2022-01-01 00:53:21</td><td>2022-01-01 01:02:19</td><td>1.0</td><td>0.97</td><td>1.0</td><td>&quot;N&quot;</td><td>166</td><td>166</td><td>1</td><td>7.5</td><td>0.5</td><td>0.5</td><td>1.76</td><td>0.0</td><td>0.3</td><td>10.56</td><td>0.0</td><td>0.0</td></tr><tr><td>2</td><td>2022-01-01 00:25:21</td><td>2022-01-01 00:35:23</td><td>1.0</td><td>1.09</td><td>1.0</td><td>&quot;N&quot;</td><td>114</td><td>68</td><td>2</td><td>8.0</td><td>0.5</td><td>0.5</td><td>0.0</td><td>0.0</td><td>0.3</td><td>11.8</td><td>2.5</td><td>0.0</td></tr><tr><td>2</td><td>2022-01-01 00:36:48</td><td>2022-01-01 01:14:20</td><td>1.0</td><td>4.3</td><td>1.0</td><td>&quot;N&quot;</td><td>68</td><td>163</td><td>1</td><td>23.5</td><td>0.5</td><td>0.5</td><td>3.0</td><td>0.0</td><td>0.3</td><td>30.3</td><td>2.5</td><td>0.0</td></tr></tbody></table></div>"
      ],
      "text/plain": [
       "shape: (5, 19)\n",
       "┌──────────┬───────────┬───────────┬───────────┬───┬───────────┬───────────┬───────────┬───────────┐\n",
       "│ VendorID ┆ tpep_pick ┆ tpep_drop ┆ passenger ┆ … ┆ improveme ┆ total_amo ┆ congestio ┆ airport_f │\n",
       "│ ---      ┆ up_dateti ┆ off_datet ┆ _count    ┆   ┆ nt_surcha ┆ unt       ┆ n_surchar ┆ ee        │\n",
       "│ i64      ┆ me        ┆ ime       ┆ ---       ┆   ┆ rge       ┆ ---       ┆ ge        ┆ ---       │\n",
       "│          ┆ ---       ┆ ---       ┆ f64       ┆   ┆ ---       ┆ f64       ┆ ---       ┆ f64       │\n",
       "│          ┆ datetime[ ┆ datetime[ ┆           ┆   ┆ f64       ┆           ┆ f64       ┆           │\n",
       "│          ┆ ns]       ┆ ns]       ┆           ┆   ┆           ┆           ┆           ┆           │\n",
       "╞══════════╪═══════════╪═══════════╪═══════════╪═══╪═══════════╪═══════════╪═══════════╪═══════════╡\n",
       "│ 1        ┆ 2022-01-0 ┆ 2022-01-0 ┆ 2.0       ┆ … ┆ 0.3       ┆ 21.95     ┆ 2.5       ┆ 0.0       │\n",
       "│          ┆ 1         ┆ 1         ┆           ┆   ┆           ┆           ┆           ┆           │\n",
       "│          ┆ 00:35:40  ┆ 00:53:29  ┆           ┆   ┆           ┆           ┆           ┆           │\n",
       "│ 1        ┆ 2022-01-0 ┆ 2022-01-0 ┆ 1.0       ┆ … ┆ 0.3       ┆ 13.3      ┆ 0.0       ┆ 0.0       │\n",
       "│          ┆ 1         ┆ 1         ┆           ┆   ┆           ┆           ┆           ┆           │\n",
       "│          ┆ 00:33:43  ┆ 00:42:07  ┆           ┆   ┆           ┆           ┆           ┆           │\n",
       "│ 2        ┆ 2022-01-0 ┆ 2022-01-0 ┆ 1.0       ┆ … ┆ 0.3       ┆ 10.56     ┆ 0.0       ┆ 0.0       │\n",
       "│          ┆ 1         ┆ 1         ┆           ┆   ┆           ┆           ┆           ┆           │\n",
       "│          ┆ 00:53:21  ┆ 01:02:19  ┆           ┆   ┆           ┆           ┆           ┆           │\n",
       "│ 2        ┆ 2022-01-0 ┆ 2022-01-0 ┆ 1.0       ┆ … ┆ 0.3       ┆ 11.8      ┆ 2.5       ┆ 0.0       │\n",
       "│          ┆ 1         ┆ 1         ┆           ┆   ┆           ┆           ┆           ┆           │\n",
       "│          ┆ 00:25:21  ┆ 00:35:23  ┆           ┆   ┆           ┆           ┆           ┆           │\n",
       "│ 2        ┆ 2022-01-0 ┆ 2022-01-0 ┆ 1.0       ┆ … ┆ 0.3       ┆ 30.3      ┆ 2.5       ┆ 0.0       │\n",
       "│          ┆ 1         ┆ 1         ┆           ┆   ┆           ┆           ┆           ┆           │\n",
       "│          ┆ 00:36:48  ┆ 01:14:20  ┆           ┆   ┆           ┆           ┆           ┆           │\n",
       "└──────────┴───────────┴───────────┴───────────┴───┴───────────┴───────────┴───────────┴───────────┘"
      ]
     },
     "execution_count": 6,
     "metadata": {},
     "output_type": "execute_result"
    }
   ],
   "source": [
    "# 1. Lecture de données depuis un fichier Parquet\n",
    "\n",
    "df = pl.read_parquet(parquet_file)\n",
    "df.head()"
   ]
  },
  {
   "cell_type": "code",
   "execution_count": 7,
   "metadata": {},
   "outputs": [
    {
     "data": {
      "text/plain": [
       "Schema([('VendorID', Int64),\n",
       "        ('tpep_pickup_datetime', Datetime(time_unit='ns', time_zone=None)),\n",
       "        ('tpep_dropoff_datetime', Datetime(time_unit='ns', time_zone=None)),\n",
       "        ('passenger_count', Float64),\n",
       "        ('trip_distance', Float64),\n",
       "        ('RatecodeID', Float64),\n",
       "        ('store_and_fwd_flag', String),\n",
       "        ('PULocationID', Int64),\n",
       "        ('DOLocationID', Int64),\n",
       "        ('payment_type', Int64),\n",
       "        ('fare_amount', Float64),\n",
       "        ('extra', Float64),\n",
       "        ('mta_tax', Float64),\n",
       "        ('tip_amount', Float64),\n",
       "        ('tolls_amount', Float64),\n",
       "        ('improvement_surcharge', Float64),\n",
       "        ('total_amount', Float64),\n",
       "        ('congestion_surcharge', Float64),\n",
       "        ('airport_fee', Float64)])"
      ]
     },
     "execution_count": 7,
     "metadata": {},
     "output_type": "execute_result"
    }
   ],
   "source": [
    "df.schema"
   ]
  },
  {
   "cell_type": "code",
   "execution_count": 8,
   "metadata": {},
   "outputs": [
    {
     "data": {
      "text/html": [
       "<div><style>\n",
       ".dataframe > thead > tr,\n",
       ".dataframe > tbody > tr {\n",
       "  text-align: right;\n",
       "  white-space: pre-wrap;\n",
       "}\n",
       "</style>\n",
       "<small>shape: (5, 3)</small><table border=\"1\" class=\"dataframe\"><thead><tr><th>VendorID</th><th>trip_distance</th><th>total_amount</th></tr><tr><td>i64</td><td>f64</td><td>f64</td></tr></thead><tbody><tr><td>1</td><td>3.8</td><td>21.95</td></tr><tr><td>1</td><td>2.1</td><td>13.3</td></tr><tr><td>2</td><td>0.97</td><td>10.56</td></tr><tr><td>2</td><td>1.09</td><td>11.8</td></tr><tr><td>2</td><td>4.3</td><td>30.3</td></tr></tbody></table></div>"
      ],
      "text/plain": [
       "shape: (5, 3)\n",
       "┌──────────┬───────────────┬──────────────┐\n",
       "│ VendorID ┆ trip_distance ┆ total_amount │\n",
       "│ ---      ┆ ---           ┆ ---          │\n",
       "│ i64      ┆ f64           ┆ f64          │\n",
       "╞══════════╪═══════════════╪══════════════╡\n",
       "│ 1        ┆ 3.8           ┆ 21.95        │\n",
       "│ 1        ┆ 2.1           ┆ 13.3         │\n",
       "│ 2        ┆ 0.97          ┆ 10.56        │\n",
       "│ 2        ┆ 1.09          ┆ 11.8         │\n",
       "│ 2        ┆ 4.3           ┆ 30.3         │\n",
       "└──────────┴───────────────┴──────────────┘"
      ]
     },
     "execution_count": 8,
     "metadata": {},
     "output_type": "execute_result"
    }
   ],
   "source": [
    "# 2. Sélection de colonnes spécifiques\n",
    "\n",
    "df_selected = df.select([\"VendorID\", \"trip_distance\", \"total_amount\"])\n",
    "df_selected.head()"
   ]
  },
  {
   "cell_type": "code",
   "execution_count": 9,
   "metadata": {},
   "outputs": [
    {
     "data": {
      "text/html": [
       "<div><style>\n",
       ".dataframe > thead > tr,\n",
       ".dataframe > tbody > tr {\n",
       "  text-align: right;\n",
       "  white-space: pre-wrap;\n",
       "}\n",
       "</style>\n",
       "<small>shape: (5, 7)</small><table border=\"1\" class=\"dataframe\"><thead><tr><th>passenger_count</th><th>trip_distance</th><th>Passenger Count</th><th>VendorID</th><th>PULocationID</th><th>DOLocationID</th><th>payment_type</th></tr><tr><td>f64</td><td>f64</td><td>f64</td><td>i64</td><td>i64</td><td>i64</td><td>i64</td></tr></thead><tbody><tr><td>2.0</td><td>3.8</td><td>2.0</td><td>1</td><td>142</td><td>236</td><td>1</td></tr><tr><td>1.0</td><td>2.1</td><td>1.0</td><td>1</td><td>236</td><td>42</td><td>1</td></tr><tr><td>1.0</td><td>0.97</td><td>1.0</td><td>2</td><td>166</td><td>166</td><td>1</td></tr><tr><td>1.0</td><td>1.09</td><td>1.0</td><td>2</td><td>114</td><td>68</td><td>2</td></tr><tr><td>1.0</td><td>4.3</td><td>1.0</td><td>2</td><td>68</td><td>163</td><td>1</td></tr></tbody></table></div>"
      ],
      "text/plain": [
       "shape: (5, 7)\n",
       "┌──────────────┬──────────────┬──────────────┬──────────┬──────────────┬─────────────┬─────────────┐\n",
       "│ passenger_co ┆ trip_distanc ┆ Passenger    ┆ VendorID ┆ PULocationID ┆ DOLocationI ┆ payment_typ │\n",
       "│ unt          ┆ e            ┆ Count        ┆ ---      ┆ ---          ┆ D           ┆ e           │\n",
       "│ ---          ┆ ---          ┆ ---          ┆ i64      ┆ i64          ┆ ---         ┆ ---         │\n",
       "│ f64          ┆ f64          ┆ f64          ┆          ┆              ┆ i64         ┆ i64         │\n",
       "╞══════════════╪══════════════╪══════════════╪══════════╪══════════════╪═════════════╪═════════════╡\n",
       "│ 2.0          ┆ 3.8          ┆ 2.0          ┆ 1        ┆ 142          ┆ 236         ┆ 1           │\n",
       "│ 1.0          ┆ 2.1          ┆ 1.0          ┆ 1        ┆ 236          ┆ 42          ┆ 1           │\n",
       "│ 1.0          ┆ 0.97         ┆ 1.0          ┆ 2        ┆ 166          ┆ 166         ┆ 1           │\n",
       "│ 1.0          ┆ 1.09         ┆ 1.0          ┆ 2        ┆ 114          ┆ 68          ┆ 2           │\n",
       "│ 1.0          ┆ 4.3          ┆ 1.0          ┆ 2        ┆ 68           ┆ 163         ┆ 1           │\n",
       "└──────────────┴──────────────┴──────────────┴──────────┴──────────────┴─────────────┴─────────────┘"
      ]
     },
     "execution_count": 9,
     "metadata": {},
     "output_type": "execute_result"
    }
   ],
   "source": [
    "df.select(\n",
    "    pl.col(['passenger_count','trip_distance']),\n",
    "    pl.col('passenger_count').alias('Passenger Count'),\n",
    "    pl.col(pl.Int64)\n",
    ").head(5)"
   ]
  },
  {
   "cell_type": "code",
   "execution_count": 10,
   "metadata": {},
   "outputs": [
    {
     "data": {
      "text/html": [
       "<div><style>\n",
       ".dataframe > thead > tr,\n",
       ".dataframe > tbody > tr {\n",
       "  text-align: right;\n",
       "  white-space: pre-wrap;\n",
       "}\n",
       "</style>\n",
       "<small>shape: (5, 19)</small><table border=\"1\" class=\"dataframe\"><thead><tr><th>VendorID</th><th>tpep_pickup_datetime</th><th>tpep_dropoff_datetime</th><th>passenger_count</th><th>trip_distance</th><th>RatecodeID</th><th>store_and_fwd_flag</th><th>PULocationID</th><th>DOLocationID</th><th>payment_type</th><th>fare_amount</th><th>extra</th><th>mta_tax</th><th>tip_amount</th><th>tolls_amount</th><th>improvement_surcharge</th><th>total_amount</th><th>congestion_surcharge</th><th>airport_fee</th></tr><tr><td>i64</td><td>datetime[ns]</td><td>datetime[ns]</td><td>f64</td><td>f64</td><td>f64</td><td>str</td><td>i64</td><td>i64</td><td>i64</td><td>f64</td><td>f64</td><td>f64</td><td>f64</td><td>f64</td><td>f64</td><td>f64</td><td>f64</td><td>f64</td></tr></thead><tbody><tr><td>1</td><td>2022-01-01 00:40:15</td><td>2022-01-01 01:09:48</td><td>1.0</td><td>10.3</td><td>1.0</td><td>&quot;N&quot;</td><td>138</td><td>161</td><td>1</td><td>33.0</td><td>3.0</td><td>0.5</td><td>13.0</td><td>6.55</td><td>0.3</td><td>56.35</td><td>2.5</td><td>0.0</td></tr><tr><td>2</td><td>2022-01-01 18:04:06</td><td>2022-01-01 18:40:52</td><td>1.0</td><td>9.7</td><td>1.0</td><td>&quot;N&quot;</td><td>138</td><td>48</td><td>1</td><td>34.5</td><td>0.5</td><td>0.5</td><td>9.22</td><td>6.55</td><td>0.3</td><td>55.32</td><td>2.5</td><td>1.25</td></tr><tr><td>1</td><td>2022-01-01 00:10:27</td><td>2022-01-01 00:41:59</td><td>1.0</td><td>17.1</td><td>2.0</td><td>&quot;N&quot;</td><td>132</td><td>170</td><td>1</td><td>52.0</td><td>3.75</td><td>0.5</td><td>15.75</td><td>6.55</td><td>0.3</td><td>78.85</td><td>2.5</td><td>1.25</td></tr><tr><td>2</td><td>2022-01-01 00:31:06</td><td>2022-01-01 00:58:26</td><td>3.0</td><td>19.14</td><td>2.0</td><td>&quot;N&quot;</td><td>132</td><td>263</td><td>1</td><td>52.0</td><td>0.0</td><td>0.5</td><td>12.37</td><td>6.55</td><td>0.3</td><td>75.47</td><td>2.5</td><td>1.25</td></tr><tr><td>2</td><td>2022-01-01 00:56:26</td><td>2022-01-01 01:25:09</td><td>1.0</td><td>18.81</td><td>2.0</td><td>&quot;N&quot;</td><td>132</td><td>148</td><td>1</td><td>52.0</td><td>0.0</td><td>0.5</td><td>11.31</td><td>0.0</td><td>0.3</td><td>67.86</td><td>2.5</td><td>1.25</td></tr></tbody></table></div>"
      ],
      "text/plain": [
       "shape: (5, 19)\n",
       "┌──────────┬───────────┬───────────┬───────────┬───┬───────────┬───────────┬───────────┬───────────┐\n",
       "│ VendorID ┆ tpep_pick ┆ tpep_drop ┆ passenger ┆ … ┆ improveme ┆ total_amo ┆ congestio ┆ airport_f │\n",
       "│ ---      ┆ up_dateti ┆ off_datet ┆ _count    ┆   ┆ nt_surcha ┆ unt       ┆ n_surchar ┆ ee        │\n",
       "│ i64      ┆ me        ┆ ime       ┆ ---       ┆   ┆ rge       ┆ ---       ┆ ge        ┆ ---       │\n",
       "│          ┆ ---       ┆ ---       ┆ f64       ┆   ┆ ---       ┆ f64       ┆ ---       ┆ f64       │\n",
       "│          ┆ datetime[ ┆ datetime[ ┆           ┆   ┆ f64       ┆           ┆ f64       ┆           │\n",
       "│          ┆ ns]       ┆ ns]       ┆           ┆   ┆           ┆           ┆           ┆           │\n",
       "╞══════════╪═══════════╪═══════════╪═══════════╪═══╪═══════════╪═══════════╪═══════════╪═══════════╡\n",
       "│ 1        ┆ 2022-01-0 ┆ 2022-01-0 ┆ 1.0       ┆ … ┆ 0.3       ┆ 56.35     ┆ 2.5       ┆ 0.0       │\n",
       "│          ┆ 1         ┆ 1         ┆           ┆   ┆           ┆           ┆           ┆           │\n",
       "│          ┆ 00:40:15  ┆ 01:09:48  ┆           ┆   ┆           ┆           ┆           ┆           │\n",
       "│ 2        ┆ 2022-01-0 ┆ 2022-01-0 ┆ 1.0       ┆ … ┆ 0.3       ┆ 55.32     ┆ 2.5       ┆ 1.25      │\n",
       "│          ┆ 1         ┆ 1         ┆           ┆   ┆           ┆           ┆           ┆           │\n",
       "│          ┆ 18:04:06  ┆ 18:40:52  ┆           ┆   ┆           ┆           ┆           ┆           │\n",
       "│ 1        ┆ 2022-01-0 ┆ 2022-01-0 ┆ 1.0       ┆ … ┆ 0.3       ┆ 78.85     ┆ 2.5       ┆ 1.25      │\n",
       "│          ┆ 1         ┆ 1         ┆           ┆   ┆           ┆           ┆           ┆           │\n",
       "│          ┆ 00:10:27  ┆ 00:41:59  ┆           ┆   ┆           ┆           ┆           ┆           │\n",
       "│ 2        ┆ 2022-01-0 ┆ 2022-01-0 ┆ 3.0       ┆ … ┆ 0.3       ┆ 75.47     ┆ 2.5       ┆ 1.25      │\n",
       "│          ┆ 1         ┆ 1         ┆           ┆   ┆           ┆           ┆           ┆           │\n",
       "│          ┆ 00:31:06  ┆ 00:58:26  ┆           ┆   ┆           ┆           ┆           ┆           │\n",
       "│ 2        ┆ 2022-01-0 ┆ 2022-01-0 ┆ 1.0       ┆ … ┆ 0.3       ┆ 67.86     ┆ 2.5       ┆ 1.25      │\n",
       "│          ┆ 1         ┆ 1         ┆           ┆   ┆           ┆           ┆           ┆           │\n",
       "│          ┆ 00:56:26  ┆ 01:25:09  ┆           ┆   ┆           ┆           ┆           ┆           │\n",
       "└──────────┴───────────┴───────────┴───────────┴───┴───────────┴───────────┴───────────┴───────────┘"
      ]
     },
     "execution_count": 10,
     "metadata": {},
     "output_type": "execute_result"
    }
   ],
   "source": [
    "# 3. Filtrage des lignes (équivalent de WHERE en SQL)\n",
    "\n",
    "df_filtered = df.filter(pl.col(\"total_amount\") > 50)\n",
    "df_filtered.head()"
   ]
  },
  {
   "cell_type": "code",
   "execution_count": 11,
   "metadata": {},
   "outputs": [
    {
     "data": {
      "text/html": [
       "<div><style>\n",
       ".dataframe > thead > tr,\n",
       ".dataframe > tbody > tr {\n",
       "  text-align: right;\n",
       "  white-space: pre-wrap;\n",
       "}\n",
       "</style>\n",
       "<small>shape: (5, 2)</small><table border=\"1\" class=\"dataframe\"><thead><tr><th>trip_distance</th><th>total_amount</th></tr><tr><td>f64</td><td>f64</td></tr></thead><tbody><tr><td>99.46</td><td>206.85</td></tr><tr><td>99.2</td><td>20.75</td></tr><tr><td>98.9</td><td>16.8</td></tr><tr><td>98.4</td><td>18.35</td></tr><tr><td>98.15</td><td>303.1</td></tr></tbody></table></div>"
      ],
      "text/plain": [
       "shape: (5, 2)\n",
       "┌───────────────┬──────────────┐\n",
       "│ trip_distance ┆ total_amount │\n",
       "│ ---           ┆ ---          │\n",
       "│ f64           ┆ f64          │\n",
       "╞═══════════════╪══════════════╡\n",
       "│ 99.46         ┆ 206.85       │\n",
       "│ 99.2          ┆ 20.75        │\n",
       "│ 98.9          ┆ 16.8         │\n",
       "│ 98.4          ┆ 18.35        │\n",
       "│ 98.15         ┆ 303.1        │\n",
       "└───────────────┴──────────────┘"
      ]
     },
     "execution_count": 11,
     "metadata": {},
     "output_type": "execute_result"
    }
   ],
   "source": [
    "df.filter(\n",
    "    pl.col('trip_distance') <= 100,\n",
    "    pl.col('total_amount').is_not_null()\n",
    ").select(\n",
    "    pl.col('trip_distance','total_amount')\n",
    ").sort('trip_distance',descending=True).head(5)"
   ]
  },
  {
   "cell_type": "code",
   "execution_count": 12,
   "metadata": {},
   "outputs": [
    {
     "data": {
      "text/html": [
       "<div><style>\n",
       ".dataframe > thead > tr,\n",
       ".dataframe > tbody > tr {\n",
       "  text-align: right;\n",
       "  white-space: pre-wrap;\n",
       "}\n",
       "</style>\n",
       "<small>shape: (5, 20)</small><table border=\"1\" class=\"dataframe\"><thead><tr><th>VendorID</th><th>tpep_pickup_datetime</th><th>tpep_dropoff_datetime</th><th>passenger_count</th><th>trip_distance</th><th>RatecodeID</th><th>store_and_fwd_flag</th><th>PULocationID</th><th>DOLocationID</th><th>payment_type</th><th>fare_amount</th><th>extra</th><th>mta_tax</th><th>tip_amount</th><th>tolls_amount</th><th>improvement_surcharge</th><th>total_amount</th><th>congestion_surcharge</th><th>airport_fee</th><th>tip_percentage</th></tr><tr><td>i64</td><td>datetime[ns]</td><td>datetime[ns]</td><td>f64</td><td>f64</td><td>f64</td><td>str</td><td>i64</td><td>i64</td><td>i64</td><td>f64</td><td>f64</td><td>f64</td><td>f64</td><td>f64</td><td>f64</td><td>f64</td><td>f64</td><td>f64</td><td>f64</td></tr></thead><tbody><tr><td>1</td><td>2022-01-01 00:35:40</td><td>2022-01-01 00:53:29</td><td>2.0</td><td>3.8</td><td>1.0</td><td>&quot;N&quot;</td><td>142</td><td>236</td><td>1</td><td>14.5</td><td>3.0</td><td>0.5</td><td>3.65</td><td>0.0</td><td>0.3</td><td>21.95</td><td>2.5</td><td>0.0</td><td>16.628702</td></tr><tr><td>1</td><td>2022-01-01 00:33:43</td><td>2022-01-01 00:42:07</td><td>1.0</td><td>2.1</td><td>1.0</td><td>&quot;N&quot;</td><td>236</td><td>42</td><td>1</td><td>8.0</td><td>0.5</td><td>0.5</td><td>4.0</td><td>0.0</td><td>0.3</td><td>13.3</td><td>0.0</td><td>0.0</td><td>30.075188</td></tr><tr><td>2</td><td>2022-01-01 00:53:21</td><td>2022-01-01 01:02:19</td><td>1.0</td><td>0.97</td><td>1.0</td><td>&quot;N&quot;</td><td>166</td><td>166</td><td>1</td><td>7.5</td><td>0.5</td><td>0.5</td><td>1.76</td><td>0.0</td><td>0.3</td><td>10.56</td><td>0.0</td><td>0.0</td><td>16.666667</td></tr><tr><td>2</td><td>2022-01-01 00:25:21</td><td>2022-01-01 00:35:23</td><td>1.0</td><td>1.09</td><td>1.0</td><td>&quot;N&quot;</td><td>114</td><td>68</td><td>2</td><td>8.0</td><td>0.5</td><td>0.5</td><td>0.0</td><td>0.0</td><td>0.3</td><td>11.8</td><td>2.5</td><td>0.0</td><td>0.0</td></tr><tr><td>2</td><td>2022-01-01 00:36:48</td><td>2022-01-01 01:14:20</td><td>1.0</td><td>4.3</td><td>1.0</td><td>&quot;N&quot;</td><td>68</td><td>163</td><td>1</td><td>23.5</td><td>0.5</td><td>0.5</td><td>3.0</td><td>0.0</td><td>0.3</td><td>30.3</td><td>2.5</td><td>0.0</td><td>9.90099</td></tr></tbody></table></div>"
      ],
      "text/plain": [
       "shape: (5, 20)\n",
       "┌──────────┬───────────┬───────────┬───────────┬───┬───────────┬───────────┬───────────┬───────────┐\n",
       "│ VendorID ┆ tpep_pick ┆ tpep_drop ┆ passenger ┆ … ┆ total_amo ┆ congestio ┆ airport_f ┆ tip_perce │\n",
       "│ ---      ┆ up_dateti ┆ off_datet ┆ _count    ┆   ┆ unt       ┆ n_surchar ┆ ee        ┆ ntage     │\n",
       "│ i64      ┆ me        ┆ ime       ┆ ---       ┆   ┆ ---       ┆ ge        ┆ ---       ┆ ---       │\n",
       "│          ┆ ---       ┆ ---       ┆ f64       ┆   ┆ f64       ┆ ---       ┆ f64       ┆ f64       │\n",
       "│          ┆ datetime[ ┆ datetime[ ┆           ┆   ┆           ┆ f64       ┆           ┆           │\n",
       "│          ┆ ns]       ┆ ns]       ┆           ┆   ┆           ┆           ┆           ┆           │\n",
       "╞══════════╪═══════════╪═══════════╪═══════════╪═══╪═══════════╪═══════════╪═══════════╪═══════════╡\n",
       "│ 1        ┆ 2022-01-0 ┆ 2022-01-0 ┆ 2.0       ┆ … ┆ 21.95     ┆ 2.5       ┆ 0.0       ┆ 16.628702 │\n",
       "│          ┆ 1         ┆ 1         ┆           ┆   ┆           ┆           ┆           ┆           │\n",
       "│          ┆ 00:35:40  ┆ 00:53:29  ┆           ┆   ┆           ┆           ┆           ┆           │\n",
       "│ 1        ┆ 2022-01-0 ┆ 2022-01-0 ┆ 1.0       ┆ … ┆ 13.3      ┆ 0.0       ┆ 0.0       ┆ 30.075188 │\n",
       "│          ┆ 1         ┆ 1         ┆           ┆   ┆           ┆           ┆           ┆           │\n",
       "│          ┆ 00:33:43  ┆ 00:42:07  ┆           ┆   ┆           ┆           ┆           ┆           │\n",
       "│ 2        ┆ 2022-01-0 ┆ 2022-01-0 ┆ 1.0       ┆ … ┆ 10.56     ┆ 0.0       ┆ 0.0       ┆ 16.666667 │\n",
       "│          ┆ 1         ┆ 1         ┆           ┆   ┆           ┆           ┆           ┆           │\n",
       "│          ┆ 00:53:21  ┆ 01:02:19  ┆           ┆   ┆           ┆           ┆           ┆           │\n",
       "│ 2        ┆ 2022-01-0 ┆ 2022-01-0 ┆ 1.0       ┆ … ┆ 11.8      ┆ 2.5       ┆ 0.0       ┆ 0.0       │\n",
       "│          ┆ 1         ┆ 1         ┆           ┆   ┆           ┆           ┆           ┆           │\n",
       "│          ┆ 00:25:21  ┆ 00:35:23  ┆           ┆   ┆           ┆           ┆           ┆           │\n",
       "│ 2        ┆ 2022-01-0 ┆ 2022-01-0 ┆ 1.0       ┆ … ┆ 30.3      ┆ 2.5       ┆ 0.0       ┆ 9.90099   │\n",
       "│          ┆ 1         ┆ 1         ┆           ┆   ┆           ┆           ┆           ┆           │\n",
       "│          ┆ 00:36:48  ┆ 01:14:20  ┆           ┆   ┆           ┆           ┆           ┆           │\n",
       "└──────────┴───────────┴───────────┴───────────┴───┴───────────┴───────────┴───────────┴───────────┘"
      ]
     },
     "execution_count": 12,
     "metadata": {},
     "output_type": "execute_result"
    }
   ],
   "source": [
    "# 4. Ajout de nouvelles colonnes\n",
    "\n",
    "df_with_new_col = df.with_columns(\n",
    "    (pl.col(\"tip_amount\") / pl.col(\"total_amount\") * 100).alias(\"tip_percentage\")\n",
    "    )\n",
    "df_with_new_col.head()"
   ]
  },
  {
   "cell_type": "code",
   "execution_count": 13,
   "metadata": {},
   "outputs": [
    {
     "data": {
      "text/html": [
       "<div><style>\n",
       ".dataframe > thead > tr,\n",
       ".dataframe > tbody > tr {\n",
       "  text-align: right;\n",
       "  white-space: pre-wrap;\n",
       "}\n",
       "</style>\n",
       "<small>shape: (4, 2)</small><table border=\"1\" class=\"dataframe\"><thead><tr><th>VendorID</th><th>total_distance</th></tr><tr><td>i64</td><td>f64</td></tr></thead><tbody><tr><td>6</td><td>45929.08</td></tr><tr><td>5</td><td>536.8</td></tr><tr><td>1</td><td>2.2174e6</td></tr><tr><td>2</td><td>1.0974e7</td></tr></tbody></table></div>"
      ],
      "text/plain": [
       "shape: (4, 2)\n",
       "┌──────────┬────────────────┐\n",
       "│ VendorID ┆ total_distance │\n",
       "│ ---      ┆ ---            │\n",
       "│ i64      ┆ f64            │\n",
       "╞══════════╪════════════════╡\n",
       "│ 6        ┆ 45929.08       │\n",
       "│ 5        ┆ 536.8          │\n",
       "│ 1        ┆ 2.2174e6       │\n",
       "│ 2        ┆ 1.0974e7       │\n",
       "└──────────┴────────────────┘"
      ]
     },
     "execution_count": 13,
     "metadata": {},
     "output_type": "execute_result"
    }
   ],
   "source": [
    "# 5. Groupement et agrégation\n",
    "\n",
    "df_grouped = df.group_by(\"VendorID\").agg(pl.col(\"trip_distance\").sum().alias(\"total_distance\"))\n",
    "df_grouped.head()\n"
   ]
  },
  {
   "cell_type": "code",
   "execution_count": 14,
   "metadata": {},
   "outputs": [
    {
     "data": {
      "text/html": [
       "<div><style>\n",
       ".dataframe > thead > tr,\n",
       ".dataframe > tbody > tr {\n",
       "  text-align: right;\n",
       "  white-space: pre-wrap;\n",
       "}\n",
       "</style>\n",
       "<small>shape: (5, 19)</small><table border=\"1\" class=\"dataframe\"><thead><tr><th>VendorID</th><th>tpep_pickup_datetime</th><th>tpep_dropoff_datetime</th><th>passenger_count</th><th>trip_distance</th><th>RatecodeID</th><th>store_and_fwd_flag</th><th>PULocationID</th><th>DOLocationID</th><th>payment_type</th><th>fare_amount</th><th>extra</th><th>mta_tax</th><th>tip_amount</th><th>tolls_amount</th><th>improvement_surcharge</th><th>total_amount</th><th>congestion_surcharge</th><th>airport_fee</th></tr><tr><td>i64</td><td>datetime[ns]</td><td>datetime[ns]</td><td>f64</td><td>f64</td><td>f64</td><td>str</td><td>i64</td><td>i64</td><td>i64</td><td>f64</td><td>f64</td><td>f64</td><td>f64</td><td>f64</td><td>f64</td><td>f64</td><td>f64</td><td>f64</td></tr></thead><tbody><tr><td>1</td><td>2022-01-07 11:36:43</td><td>2022-01-07 11:47:12</td><td>1.0</td><td>3.3</td><td>1.0</td><td>&quot;N&quot;</td><td>107</td><td>140</td><td>4</td><td>401092.32</td><td>2.5</td><td>0.5</td><td>0.0</td><td>0.0</td><td>0.3</td><td>401095.62</td><td>2.5</td><td>0.0</td></tr><tr><td>2</td><td>2022-01-29 02:23:46</td><td>2022-01-29 02:32:06</td><td>1.0</td><td>1.32</td><td>1.0</td><td>&quot;N&quot;</td><td>79</td><td>249</td><td>1</td><td>7.0</td><td>0.5</td><td>0.5</td><td>888.88</td><td>0.0</td><td>0.3</td><td>899.68</td><td>2.5</td><td>0.0</td></tr><tr><td>2</td><td>2022-01-20 17:53:58</td><td>2022-01-20 17:54:04</td><td>1.0</td><td>0.0</td><td>5.0</td><td>&quot;N&quot;</td><td>163</td><td>230</td><td>1</td><td>720.0</td><td>0.0</td><td>0.0</td><td>0.0</td><td>0.0</td><td>0.3</td><td>722.8</td><td>2.5</td><td>0.0</td></tr><tr><td>2</td><td>2022-01-02 23:23:27</td><td>2022-01-03 03:54:44</td><td>5.0</td><td>254.88</td><td>3.0</td><td>&quot;N&quot;</td><td>154</td><td>264</td><td>2</td><td>668.0</td><td>0.5</td><td>0.0</td><td>0.0</td><td>18.3</td><td>0.3</td><td>688.35</td><td>0.0</td><td>1.25</td></tr><tr><td>1</td><td>2022-01-23 12:07:11</td><td>2022-01-23 16:14:46</td><td>1.0</td><td>257.7</td><td>5.0</td><td>&quot;N&quot;</td><td>132</td><td>265</td><td>1</td><td>650.0</td><td>1.25</td><td>0.0</td><td>0.0</td><td>31.55</td><td>0.3</td><td>683.1</td><td>0.0</td><td>1.25</td></tr></tbody></table></div>"
      ],
      "text/plain": [
       "shape: (5, 19)\n",
       "┌──────────┬───────────┬───────────┬───────────┬───┬───────────┬───────────┬───────────┬───────────┐\n",
       "│ VendorID ┆ tpep_pick ┆ tpep_drop ┆ passenger ┆ … ┆ improveme ┆ total_amo ┆ congestio ┆ airport_f │\n",
       "│ ---      ┆ up_dateti ┆ off_datet ┆ _count    ┆   ┆ nt_surcha ┆ unt       ┆ n_surchar ┆ ee        │\n",
       "│ i64      ┆ me        ┆ ime       ┆ ---       ┆   ┆ rge       ┆ ---       ┆ ge        ┆ ---       │\n",
       "│          ┆ ---       ┆ ---       ┆ f64       ┆   ┆ ---       ┆ f64       ┆ ---       ┆ f64       │\n",
       "│          ┆ datetime[ ┆ datetime[ ┆           ┆   ┆ f64       ┆           ┆ f64       ┆           │\n",
       "│          ┆ ns]       ┆ ns]       ┆           ┆   ┆           ┆           ┆           ┆           │\n",
       "╞══════════╪═══════════╪═══════════╪═══════════╪═══╪═══════════╪═══════════╪═══════════╪═══════════╡\n",
       "│ 1        ┆ 2022-01-0 ┆ 2022-01-0 ┆ 1.0       ┆ … ┆ 0.3       ┆ 401095.62 ┆ 2.5       ┆ 0.0       │\n",
       "│          ┆ 7         ┆ 7         ┆           ┆   ┆           ┆           ┆           ┆           │\n",
       "│          ┆ 11:36:43  ┆ 11:47:12  ┆           ┆   ┆           ┆           ┆           ┆           │\n",
       "│ 2        ┆ 2022-01-2 ┆ 2022-01-2 ┆ 1.0       ┆ … ┆ 0.3       ┆ 899.68    ┆ 2.5       ┆ 0.0       │\n",
       "│          ┆ 9         ┆ 9         ┆           ┆   ┆           ┆           ┆           ┆           │\n",
       "│          ┆ 02:23:46  ┆ 02:32:06  ┆           ┆   ┆           ┆           ┆           ┆           │\n",
       "│ 2        ┆ 2022-01-2 ┆ 2022-01-2 ┆ 1.0       ┆ … ┆ 0.3       ┆ 722.8     ┆ 2.5       ┆ 0.0       │\n",
       "│          ┆ 0         ┆ 0         ┆           ┆   ┆           ┆           ┆           ┆           │\n",
       "│          ┆ 17:53:58  ┆ 17:54:04  ┆           ┆   ┆           ┆           ┆           ┆           │\n",
       "│ 2        ┆ 2022-01-0 ┆ 2022-01-0 ┆ 5.0       ┆ … ┆ 0.3       ┆ 688.35    ┆ 0.0       ┆ 1.25      │\n",
       "│          ┆ 2         ┆ 3         ┆           ┆   ┆           ┆           ┆           ┆           │\n",
       "│          ┆ 23:23:27  ┆ 03:54:44  ┆           ┆   ┆           ┆           ┆           ┆           │\n",
       "│ 1        ┆ 2022-01-2 ┆ 2022-01-2 ┆ 1.0       ┆ … ┆ 0.3       ┆ 683.1     ┆ 0.0       ┆ 1.25      │\n",
       "│          ┆ 3         ┆ 3         ┆           ┆   ┆           ┆           ┆           ┆           │\n",
       "│          ┆ 12:07:11  ┆ 16:14:46  ┆           ┆   ┆           ┆           ┆           ┆           │\n",
       "└──────────┴───────────┴───────────┴───────────┴───┴───────────┴───────────┴───────────┴───────────┘"
      ]
     },
     "execution_count": 14,
     "metadata": {},
     "output_type": "execute_result"
    }
   ],
   "source": [
    "# 6. Tri des données\n",
    "\n",
    "df_sorted = df.sort(\"total_amount\", descending=True)\n",
    "df_sorted.head()"
   ]
  },
  {
   "cell_type": "code",
   "execution_count": 16,
   "metadata": {},
   "outputs": [
    {
     "name": "stdout",
     "output_type": "stream",
     "text": [
      "Données triées écrites dans : Nouveau.parquet\n"
     ]
    }
   ],
   "source": [
    "# 7. Écriture de données dans un fichier Parquet\n",
    "\n",
    "output_file = r\"Nouveau.parquet\"  \n",
    "df_sorted.write_parquet(output_file)\n",
    "print(f\"Données triées écrites dans : {output_file}\")"
   ]
  },
  {
   "cell_type": "code",
   "execution_count": 17,
   "metadata": {},
   "outputs": [
    {
     "name": "stdout",
     "output_type": "stream",
     "text": [
      "naive plan: (run LazyFrame.explain(optimized=True) to see the optimized plan)\n",
      "\n",
      "SORT BY [col(\"total_distance\")]\n",
      "  AGGREGATE\n",
      "  \t[col(\"trip_distance\").sum().alias(\"total_distance\")] BY [col(\"VendorID\")] FROM\n",
      "    FILTER [(col(\"total_amount\")) > (50.0)] FROM\n",
      "      DF [\"VendorID\", \"tpep_pickup_datetime\", \"tpep_dropoff_datetime\", \"passenger_count\"]; PROJECT */19 COLUMNS; SELECTION: None\n"
     ]
    },
    {
     "data": {
      "text/html": [
       "<div><style>\n",
       ".dataframe > thead > tr,\n",
       ".dataframe > tbody > tr {\n",
       "  text-align: right;\n",
       "  white-space: pre-wrap;\n",
       "}\n",
       "</style>\n",
       "<small>shape: (4, 2)</small><table border=\"1\" class=\"dataframe\"><thead><tr><th>VendorID</th><th>total_distance</th></tr><tr><td>i64</td><td>f64</td></tr></thead><tbody><tr><td>2</td><td>1.6815e6</td></tr><tr><td>1</td><td>570949.8</td></tr><tr><td>6</td><td>19700.48</td></tr><tr><td>5</td><td>492.03</td></tr></tbody></table></div>"
      ],
      "text/plain": [
       "shape: (4, 2)\n",
       "┌──────────┬────────────────┐\n",
       "│ VendorID ┆ total_distance │\n",
       "│ ---      ┆ ---            │\n",
       "│ i64      ┆ f64            │\n",
       "╞══════════╪════════════════╡\n",
       "│ 2        ┆ 1.6815e6       │\n",
       "│ 1        ┆ 570949.8       │\n",
       "│ 6        ┆ 19700.48       │\n",
       "│ 5        ┆ 492.03         │\n",
       "└──────────┴────────────────┘"
      ]
     },
     "execution_count": 17,
     "metadata": {},
     "output_type": "execute_result"
    }
   ],
   "source": [
    "# 8. Utilisation du LazyFrame\n",
    "\n",
    "lazy_df = df.lazy()\n",
    "result = (\n",
    "    lazy_df\n",
    "    .filter(pl.col(\"total_amount\") > 50)\n",
    "    .group_by(\"VendorID\")\n",
    "    .agg(pl.col(\"trip_distance\").sum().alias(\"total_distance\"))\n",
    "    .sort(\"total_distance\", descending=True)\n",
    ")\n",
    "print(result)\n",
    "final_df = result.collect()  # Évaluation de la requête lazyframe\n",
    "final_df\n"
   ]
  },
  {
   "cell_type": "code",
   "execution_count": 18,
   "metadata": {},
   "outputs": [
    {
     "name": "stdout",
     "output_type": "stream",
     "text": [
      "shape: (2, 3)\n",
      "┌──────────┬────────────────┬─────────────┐\n",
      "│ VendorID ┆ total_distance ┆ average_tip │\n",
      "│ ---      ┆ ---            ┆ ---         │\n",
      "│ i64      ┆ f64            ┆ f64         │\n",
      "╞══════════╪════════════════╪═════════════╡\n",
      "│ 2        ┆ 4990.39        ┆ 8.871524    │\n",
      "│ 1        ┆ 1942.5         ┆ 9.18        │\n",
      "└──────────┴────────────────┴─────────────┘\n"
     ]
    },
    {
     "name": "stderr",
     "output_type": "stream",
     "text": [
      "/tmp/ipykernel_9355/2347757619.py:16: DeprecationWarning: `LazyFrame.fetch` is deprecated. `LazyFrame.fetch` is deprecated; use `LazyFrame.collect` instead, in conjunction with a call to `head`.\n",
      "  print(result_lazy.fetch())\n"
     ]
    },
    {
     "data": {
      "text/html": [
       "<div><style>\n",
       ".dataframe > thead > tr,\n",
       ".dataframe > tbody > tr {\n",
       "  text-align: right;\n",
       "  white-space: pre-wrap;\n",
       "}\n",
       "</style>\n",
       "<small>shape: (4, 3)</small><table border=\"1\" class=\"dataframe\"><thead><tr><th>VendorID</th><th>total_distance</th><th>average_tip</th></tr><tr><td>i64</td><td>f64</td><td>f64</td></tr></thead><tbody><tr><td>2</td><td>1.6815e6</td><td>8.841613</td></tr><tr><td>1</td><td>570949.8</td><td>7.78816</td></tr><tr><td>6</td><td>19700.48</td><td>0.0</td></tr><tr><td>5</td><td>492.03</td><td>2.427586</td></tr></tbody></table></div>"
      ],
      "text/plain": [
       "shape: (4, 3)\n",
       "┌──────────┬────────────────┬─────────────┐\n",
       "│ VendorID ┆ total_distance ┆ average_tip │\n",
       "│ ---      ┆ ---            ┆ ---         │\n",
       "│ i64      ┆ f64            ┆ f64         │\n",
       "╞══════════╪════════════════╪═════════════╡\n",
       "│ 2        ┆ 1.6815e6       ┆ 8.841613    │\n",
       "│ 1        ┆ 570949.8       ┆ 7.78816     │\n",
       "│ 6        ┆ 19700.48       ┆ 0.0         │\n",
       "│ 5        ┆ 492.03         ┆ 2.427586    │\n",
       "└──────────┴────────────────┴─────────────┘"
      ]
     },
     "execution_count": 18,
     "metadata": {},
     "output_type": "execute_result"
    }
   ],
   "source": [
    "# 9. Utilisation avancée de LazyFrame et optimisation des requêtes\n",
    "\n",
    "lazy_df = df.lazy()\n",
    "result_lazy = (\n",
    "    lazy_df\n",
    "    .filter(pl.col(\"total_amount\") > 50)\n",
    "    .group_by(\"VendorID\")\n",
    "    .agg([\n",
    "        pl.col(\"trip_distance\").sum().alias(\"total_distance\"),\n",
    "        pl.col(\"tip_amount\").mean().alias(\"average_tip\"),\n",
    "    ])\n",
    "    .sort(\"total_distance\", descending=True)\n",
    ")\n",
    "\n",
    "# Optimisations possibles via `collect()` ou `fetch()` pour un échantillon\n",
    "print(result_lazy.fetch())\n",
    "result_lazy.collect()\n"
   ]
  },
  {
   "cell_type": "code",
   "execution_count": 19,
   "metadata": {},
   "outputs": [
    {
     "data": {
      "text/html": [
       "<div><style>\n",
       ".dataframe > thead > tr,\n",
       ".dataframe > tbody > tr {\n",
       "  text-align: right;\n",
       "  white-space: pre-wrap;\n",
       "}\n",
       "</style>\n",
       "<small>shape: (5, 20)</small><table border=\"1\" class=\"dataframe\"><thead><tr><th>VendorID</th><th>tpep_pickup_datetime</th><th>tpep_dropoff_datetime</th><th>passenger_count</th><th>trip_distance</th><th>RatecodeID</th><th>store_and_fwd_flag</th><th>PULocationID</th><th>DOLocationID</th><th>payment_type</th><th>fare_amount</th><th>extra</th><th>mta_tax</th><th>tip_amount</th><th>tolls_amount</th><th>improvement_surcharge</th><th>total_amount</th><th>congestion_surcharge</th><th>airport_fee</th><th>vendor_name</th></tr><tr><td>i64</td><td>datetime[ns]</td><td>datetime[ns]</td><td>f64</td><td>f64</td><td>f64</td><td>str</td><td>i64</td><td>i64</td><td>i64</td><td>f64</td><td>f64</td><td>f64</td><td>f64</td><td>f64</td><td>f64</td><td>f64</td><td>f64</td><td>f64</td><td>str</td></tr></thead><tbody><tr><td>1</td><td>2022-01-01 00:35:40</td><td>2022-01-01 00:53:29</td><td>2.0</td><td>3.8</td><td>1.0</td><td>&quot;N&quot;</td><td>142</td><td>236</td><td>1</td><td>14.5</td><td>3.0</td><td>0.5</td><td>3.65</td><td>0.0</td><td>0.3</td><td>21.95</td><td>2.5</td><td>0.0</td><td>&quot;Vendor A&quot;</td></tr><tr><td>1</td><td>2022-01-01 00:33:43</td><td>2022-01-01 00:42:07</td><td>1.0</td><td>2.1</td><td>1.0</td><td>&quot;N&quot;</td><td>236</td><td>42</td><td>1</td><td>8.0</td><td>0.5</td><td>0.5</td><td>4.0</td><td>0.0</td><td>0.3</td><td>13.3</td><td>0.0</td><td>0.0</td><td>&quot;Vendor A&quot;</td></tr><tr><td>2</td><td>2022-01-01 00:53:21</td><td>2022-01-01 01:02:19</td><td>1.0</td><td>0.97</td><td>1.0</td><td>&quot;N&quot;</td><td>166</td><td>166</td><td>1</td><td>7.5</td><td>0.5</td><td>0.5</td><td>1.76</td><td>0.0</td><td>0.3</td><td>10.56</td><td>0.0</td><td>0.0</td><td>&quot;Vendor B&quot;</td></tr><tr><td>2</td><td>2022-01-01 00:25:21</td><td>2022-01-01 00:35:23</td><td>1.0</td><td>1.09</td><td>1.0</td><td>&quot;N&quot;</td><td>114</td><td>68</td><td>2</td><td>8.0</td><td>0.5</td><td>0.5</td><td>0.0</td><td>0.0</td><td>0.3</td><td>11.8</td><td>2.5</td><td>0.0</td><td>&quot;Vendor B&quot;</td></tr><tr><td>2</td><td>2022-01-01 00:36:48</td><td>2022-01-01 01:14:20</td><td>1.0</td><td>4.3</td><td>1.0</td><td>&quot;N&quot;</td><td>68</td><td>163</td><td>1</td><td>23.5</td><td>0.5</td><td>0.5</td><td>3.0</td><td>0.0</td><td>0.3</td><td>30.3</td><td>2.5</td><td>0.0</td><td>&quot;Vendor B&quot;</td></tr></tbody></table></div>"
      ],
      "text/plain": [
       "shape: (5, 20)\n",
       "┌──────────┬───────────┬───────────┬───────────┬───┬───────────┬───────────┬───────────┬───────────┐\n",
       "│ VendorID ┆ tpep_pick ┆ tpep_drop ┆ passenger ┆ … ┆ total_amo ┆ congestio ┆ airport_f ┆ vendor_na │\n",
       "│ ---      ┆ up_dateti ┆ off_datet ┆ _count    ┆   ┆ unt       ┆ n_surchar ┆ ee        ┆ me        │\n",
       "│ i64      ┆ me        ┆ ime       ┆ ---       ┆   ┆ ---       ┆ ge        ┆ ---       ┆ ---       │\n",
       "│          ┆ ---       ┆ ---       ┆ f64       ┆   ┆ f64       ┆ ---       ┆ f64       ┆ str       │\n",
       "│          ┆ datetime[ ┆ datetime[ ┆           ┆   ┆           ┆ f64       ┆           ┆           │\n",
       "│          ┆ ns]       ┆ ns]       ┆           ┆   ┆           ┆           ┆           ┆           │\n",
       "╞══════════╪═══════════╪═══════════╪═══════════╪═══╪═══════════╪═══════════╪═══════════╪═══════════╡\n",
       "│ 1        ┆ 2022-01-0 ┆ 2022-01-0 ┆ 2.0       ┆ … ┆ 21.95     ┆ 2.5       ┆ 0.0       ┆ Vendor A  │\n",
       "│          ┆ 1         ┆ 1         ┆           ┆   ┆           ┆           ┆           ┆           │\n",
       "│          ┆ 00:35:40  ┆ 00:53:29  ┆           ┆   ┆           ┆           ┆           ┆           │\n",
       "│ 1        ┆ 2022-01-0 ┆ 2022-01-0 ┆ 1.0       ┆ … ┆ 13.3      ┆ 0.0       ┆ 0.0       ┆ Vendor A  │\n",
       "│          ┆ 1         ┆ 1         ┆           ┆   ┆           ┆           ┆           ┆           │\n",
       "│          ┆ 00:33:43  ┆ 00:42:07  ┆           ┆   ┆           ┆           ┆           ┆           │\n",
       "│ 2        ┆ 2022-01-0 ┆ 2022-01-0 ┆ 1.0       ┆ … ┆ 10.56     ┆ 0.0       ┆ 0.0       ┆ Vendor B  │\n",
       "│          ┆ 1         ┆ 1         ┆           ┆   ┆           ┆           ┆           ┆           │\n",
       "│          ┆ 00:53:21  ┆ 01:02:19  ┆           ┆   ┆           ┆           ┆           ┆           │\n",
       "│ 2        ┆ 2022-01-0 ┆ 2022-01-0 ┆ 1.0       ┆ … ┆ 11.8      ┆ 2.5       ┆ 0.0       ┆ Vendor B  │\n",
       "│          ┆ 1         ┆ 1         ┆           ┆   ┆           ┆           ┆           ┆           │\n",
       "│          ┆ 00:25:21  ┆ 00:35:23  ┆           ┆   ┆           ┆           ┆           ┆           │\n",
       "│ 2        ┆ 2022-01-0 ┆ 2022-01-0 ┆ 1.0       ┆ … ┆ 30.3      ┆ 2.5       ┆ 0.0       ┆ Vendor B  │\n",
       "│          ┆ 1         ┆ 1         ┆           ┆   ┆           ┆           ┆           ┆           │\n",
       "│          ┆ 00:36:48  ┆ 01:14:20  ┆           ┆   ┆           ┆           ┆           ┆           │\n",
       "└──────────┴───────────┴───────────┴───────────┴───┴───────────┴───────────┴───────────┴───────────┘"
      ]
     },
     "execution_count": 19,
     "metadata": {},
     "output_type": "execute_result"
    }
   ],
   "source": [
    "# 10. Fusion de DataFrames\n",
    "\n",
    "df_additional = pl.DataFrame({\n",
    "    \"VendorID\": [1, 2],\n",
    "    \"vendor_name\": [\"Vendor A\", \"Vendor B\"]\n",
    "})\n",
    "df_merged = df.join(df_additional, on=\"VendorID\", how=\"left\")\n",
    "df_merged.head()"
   ]
  },
  {
   "cell_type": "code",
   "execution_count": 20,
   "metadata": {},
   "outputs": [
    {
     "data": {
      "text/html": [
       "<div><style>\n",
       ".dataframe > thead > tr,\n",
       ".dataframe > tbody > tr {\n",
       "  text-align: right;\n",
       "  white-space: pre-wrap;\n",
       "}\n",
       "</style>\n",
       "<small>shape: (5, 20)</small><table border=\"1\" class=\"dataframe\"><thead><tr><th>VendorID</th><th>tpep_pickup_datetime</th><th>tpep_dropoff_datetime</th><th>passenger_count</th><th>trip_distance</th><th>RatecodeID</th><th>store_and_fwd_flag</th><th>PULocationID</th><th>DOLocationID</th><th>payment_type</th><th>fare_amount</th><th>extra</th><th>mta_tax</th><th>tip_amount</th><th>tolls_amount</th><th>improvement_surcharge</th><th>total_amount</th><th>congestion_surcharge</th><th>airport_fee</th><th>cumulative_sum_total_amount</th></tr><tr><td>i64</td><td>datetime[ns]</td><td>datetime[ns]</td><td>f64</td><td>f64</td><td>f64</td><td>str</td><td>i64</td><td>i64</td><td>i64</td><td>f64</td><td>f64</td><td>f64</td><td>f64</td><td>f64</td><td>f64</td><td>f64</td><td>f64</td><td>f64</td><td>f64</td></tr></thead><tbody><tr><td>1</td><td>2022-01-01 00:35:40</td><td>2022-01-01 00:53:29</td><td>2.0</td><td>3.8</td><td>1.0</td><td>&quot;N&quot;</td><td>142</td><td>236</td><td>1</td><td>14.5</td><td>3.0</td><td>0.5</td><td>3.65</td><td>0.0</td><td>0.3</td><td>21.95</td><td>2.5</td><td>0.0</td><td>21.95</td></tr><tr><td>1</td><td>2022-01-01 00:33:43</td><td>2022-01-01 00:42:07</td><td>1.0</td><td>2.1</td><td>1.0</td><td>&quot;N&quot;</td><td>236</td><td>42</td><td>1</td><td>8.0</td><td>0.5</td><td>0.5</td><td>4.0</td><td>0.0</td><td>0.3</td><td>13.3</td><td>0.0</td><td>0.0</td><td>35.25</td></tr><tr><td>2</td><td>2022-01-01 00:53:21</td><td>2022-01-01 01:02:19</td><td>1.0</td><td>0.97</td><td>1.0</td><td>&quot;N&quot;</td><td>166</td><td>166</td><td>1</td><td>7.5</td><td>0.5</td><td>0.5</td><td>1.76</td><td>0.0</td><td>0.3</td><td>10.56</td><td>0.0</td><td>0.0</td><td>10.56</td></tr><tr><td>2</td><td>2022-01-01 00:25:21</td><td>2022-01-01 00:35:23</td><td>1.0</td><td>1.09</td><td>1.0</td><td>&quot;N&quot;</td><td>114</td><td>68</td><td>2</td><td>8.0</td><td>0.5</td><td>0.5</td><td>0.0</td><td>0.0</td><td>0.3</td><td>11.8</td><td>2.5</td><td>0.0</td><td>22.36</td></tr><tr><td>2</td><td>2022-01-01 00:36:48</td><td>2022-01-01 01:14:20</td><td>1.0</td><td>4.3</td><td>1.0</td><td>&quot;N&quot;</td><td>68</td><td>163</td><td>1</td><td>23.5</td><td>0.5</td><td>0.5</td><td>3.0</td><td>0.0</td><td>0.3</td><td>30.3</td><td>2.5</td><td>0.0</td><td>52.66</td></tr></tbody></table></div>"
      ],
      "text/plain": [
       "shape: (5, 20)\n",
       "┌──────────┬───────────┬───────────┬───────────┬───┬───────────┬───────────┬───────────┬───────────┐\n",
       "│ VendorID ┆ tpep_pick ┆ tpep_drop ┆ passenger ┆ … ┆ total_amo ┆ congestio ┆ airport_f ┆ cumulativ │\n",
       "│ ---      ┆ up_dateti ┆ off_datet ┆ _count    ┆   ┆ unt       ┆ n_surchar ┆ ee        ┆ e_sum_tot │\n",
       "│ i64      ┆ me        ┆ ime       ┆ ---       ┆   ┆ ---       ┆ ge        ┆ ---       ┆ al_amount │\n",
       "│          ┆ ---       ┆ ---       ┆ f64       ┆   ┆ f64       ┆ ---       ┆ f64       ┆ ---       │\n",
       "│          ┆ datetime[ ┆ datetime[ ┆           ┆   ┆           ┆ f64       ┆           ┆ f64       │\n",
       "│          ┆ ns]       ┆ ns]       ┆           ┆   ┆           ┆           ┆           ┆           │\n",
       "╞══════════╪═══════════╪═══════════╪═══════════╪═══╪═══════════╪═══════════╪═══════════╪═══════════╡\n",
       "│ 1        ┆ 2022-01-0 ┆ 2022-01-0 ┆ 2.0       ┆ … ┆ 21.95     ┆ 2.5       ┆ 0.0       ┆ 21.95     │\n",
       "│          ┆ 1         ┆ 1         ┆           ┆   ┆           ┆           ┆           ┆           │\n",
       "│          ┆ 00:35:40  ┆ 00:53:29  ┆           ┆   ┆           ┆           ┆           ┆           │\n",
       "│ 1        ┆ 2022-01-0 ┆ 2022-01-0 ┆ 1.0       ┆ … ┆ 13.3      ┆ 0.0       ┆ 0.0       ┆ 35.25     │\n",
       "│          ┆ 1         ┆ 1         ┆           ┆   ┆           ┆           ┆           ┆           │\n",
       "│          ┆ 00:33:43  ┆ 00:42:07  ┆           ┆   ┆           ┆           ┆           ┆           │\n",
       "│ 2        ┆ 2022-01-0 ┆ 2022-01-0 ┆ 1.0       ┆ … ┆ 10.56     ┆ 0.0       ┆ 0.0       ┆ 10.56     │\n",
       "│          ┆ 1         ┆ 1         ┆           ┆   ┆           ┆           ┆           ┆           │\n",
       "│          ┆ 00:53:21  ┆ 01:02:19  ┆           ┆   ┆           ┆           ┆           ┆           │\n",
       "│ 2        ┆ 2022-01-0 ┆ 2022-01-0 ┆ 1.0       ┆ … ┆ 11.8      ┆ 2.5       ┆ 0.0       ┆ 22.36     │\n",
       "│          ┆ 1         ┆ 1         ┆           ┆   ┆           ┆           ┆           ┆           │\n",
       "│          ┆ 00:25:21  ┆ 00:35:23  ┆           ┆   ┆           ┆           ┆           ┆           │\n",
       "│ 2        ┆ 2022-01-0 ┆ 2022-01-0 ┆ 1.0       ┆ … ┆ 30.3      ┆ 2.5       ┆ 0.0       ┆ 52.66     │\n",
       "│          ┆ 1         ┆ 1         ┆           ┆   ┆           ┆           ┆           ┆           │\n",
       "│          ┆ 00:36:48  ┆ 01:14:20  ┆           ┆   ┆           ┆           ┆           ┆           │\n",
       "└──────────┴───────────┴───────────┴───────────┴───┴───────────┴───────────┴───────────┴───────────┘"
      ]
     },
     "execution_count": 20,
     "metadata": {},
     "output_type": "execute_result"
    }
   ],
   "source": [
    "# 11. Utilisation des fenêtres (window functions)\n",
    "\n",
    "df_with_window = df.with_columns(\n",
    "    pl.col(\"total_amount\").cum_sum().over(\"VendorID\").alias(\"cumulative_sum_total_amount\")\n",
    ")\n",
    "df_with_window.head()"
   ]
  },
  {
   "cell_type": "code",
   "execution_count": 21,
   "metadata": {},
   "outputs": [
    {
     "name": "stdout",
     "output_type": "stream",
     "text": [
      "Jointure avec condition multiple (ex. sur 'VendorID' et 'payment_type')\n"
     ]
    },
    {
     "data": {
      "text/html": [
       "<div><style>\n",
       ".dataframe > thead > tr,\n",
       ".dataframe > tbody > tr {\n",
       "  text-align: right;\n",
       "  white-space: pre-wrap;\n",
       "}\n",
       "</style>\n",
       "<small>shape: (5, 20)</small><table border=\"1\" class=\"dataframe\"><thead><tr><th>VendorID</th><th>tpep_pickup_datetime</th><th>tpep_dropoff_datetime</th><th>passenger_count</th><th>trip_distance</th><th>RatecodeID</th><th>store_and_fwd_flag</th><th>PULocationID</th><th>DOLocationID</th><th>payment_type</th><th>fare_amount</th><th>extra</th><th>mta_tax</th><th>tip_amount</th><th>tolls_amount</th><th>improvement_surcharge</th><th>total_amount</th><th>congestion_surcharge</th><th>airport_fee</th><th>discount</th></tr><tr><td>i64</td><td>datetime[ns]</td><td>datetime[ns]</td><td>f64</td><td>f64</td><td>f64</td><td>str</td><td>i64</td><td>i64</td><td>i64</td><td>f64</td><td>f64</td><td>f64</td><td>f64</td><td>f64</td><td>f64</td><td>f64</td><td>f64</td><td>f64</td><td>f64</td></tr></thead><tbody><tr><td>1</td><td>2022-01-01 00:35:40</td><td>2022-01-01 00:53:29</td><td>2.0</td><td>3.8</td><td>1.0</td><td>&quot;N&quot;</td><td>142</td><td>236</td><td>1</td><td>14.5</td><td>3.0</td><td>0.5</td><td>3.65</td><td>0.0</td><td>0.3</td><td>21.95</td><td>2.5</td><td>0.0</td><td>0.1</td></tr><tr><td>1</td><td>2022-01-01 00:33:43</td><td>2022-01-01 00:42:07</td><td>1.0</td><td>2.1</td><td>1.0</td><td>&quot;N&quot;</td><td>236</td><td>42</td><td>1</td><td>8.0</td><td>0.5</td><td>0.5</td><td>4.0</td><td>0.0</td><td>0.3</td><td>13.3</td><td>0.0</td><td>0.0</td><td>0.1</td></tr><tr><td>2</td><td>2022-01-01 00:53:21</td><td>2022-01-01 01:02:19</td><td>1.0</td><td>0.97</td><td>1.0</td><td>&quot;N&quot;</td><td>166</td><td>166</td><td>1</td><td>7.5</td><td>0.5</td><td>0.5</td><td>1.76</td><td>0.0</td><td>0.3</td><td>10.56</td><td>0.0</td><td>0.0</td><td>null</td></tr><tr><td>2</td><td>2022-01-01 00:25:21</td><td>2022-01-01 00:35:23</td><td>1.0</td><td>1.09</td><td>1.0</td><td>&quot;N&quot;</td><td>114</td><td>68</td><td>2</td><td>8.0</td><td>0.5</td><td>0.5</td><td>0.0</td><td>0.0</td><td>0.3</td><td>11.8</td><td>2.5</td><td>0.0</td><td>0.15</td></tr><tr><td>2</td><td>2022-01-01 00:36:48</td><td>2022-01-01 01:14:20</td><td>1.0</td><td>4.3</td><td>1.0</td><td>&quot;N&quot;</td><td>68</td><td>163</td><td>1</td><td>23.5</td><td>0.5</td><td>0.5</td><td>3.0</td><td>0.0</td><td>0.3</td><td>30.3</td><td>2.5</td><td>0.0</td><td>null</td></tr></tbody></table></div>"
      ],
      "text/plain": [
       "shape: (5, 20)\n",
       "┌──────────┬────────────┬───────────┬───────────┬───┬───────────┬───────────┬───────────┬──────────┐\n",
       "│ VendorID ┆ tpep_picku ┆ tpep_drop ┆ passenger ┆ … ┆ total_amo ┆ congestio ┆ airport_f ┆ discount │\n",
       "│ ---      ┆ p_datetime ┆ off_datet ┆ _count    ┆   ┆ unt       ┆ n_surchar ┆ ee        ┆ ---      │\n",
       "│ i64      ┆ ---        ┆ ime       ┆ ---       ┆   ┆ ---       ┆ ge        ┆ ---       ┆ f64      │\n",
       "│          ┆ datetime[n ┆ ---       ┆ f64       ┆   ┆ f64       ┆ ---       ┆ f64       ┆          │\n",
       "│          ┆ s]         ┆ datetime[ ┆           ┆   ┆           ┆ f64       ┆           ┆          │\n",
       "│          ┆            ┆ ns]       ┆           ┆   ┆           ┆           ┆           ┆          │\n",
       "╞══════════╪════════════╪═══════════╪═══════════╪═══╪═══════════╪═══════════╪═══════════╪══════════╡\n",
       "│ 1        ┆ 2022-01-01 ┆ 2022-01-0 ┆ 2.0       ┆ … ┆ 21.95     ┆ 2.5       ┆ 0.0       ┆ 0.1      │\n",
       "│          ┆ 00:35:40   ┆ 1         ┆           ┆   ┆           ┆           ┆           ┆          │\n",
       "│          ┆            ┆ 00:53:29  ┆           ┆   ┆           ┆           ┆           ┆          │\n",
       "│ 1        ┆ 2022-01-01 ┆ 2022-01-0 ┆ 1.0       ┆ … ┆ 13.3      ┆ 0.0       ┆ 0.0       ┆ 0.1      │\n",
       "│          ┆ 00:33:43   ┆ 1         ┆           ┆   ┆           ┆           ┆           ┆          │\n",
       "│          ┆            ┆ 00:42:07  ┆           ┆   ┆           ┆           ┆           ┆          │\n",
       "│ 2        ┆ 2022-01-01 ┆ 2022-01-0 ┆ 1.0       ┆ … ┆ 10.56     ┆ 0.0       ┆ 0.0       ┆ null     │\n",
       "│          ┆ 00:53:21   ┆ 1         ┆           ┆   ┆           ┆           ┆           ┆          │\n",
       "│          ┆            ┆ 01:02:19  ┆           ┆   ┆           ┆           ┆           ┆          │\n",
       "│ 2        ┆ 2022-01-01 ┆ 2022-01-0 ┆ 1.0       ┆ … ┆ 11.8      ┆ 2.5       ┆ 0.0       ┆ 0.15     │\n",
       "│          ┆ 00:25:21   ┆ 1         ┆           ┆   ┆           ┆           ┆           ┆          │\n",
       "│          ┆            ┆ 00:35:23  ┆           ┆   ┆           ┆           ┆           ┆          │\n",
       "│ 2        ┆ 2022-01-01 ┆ 2022-01-0 ┆ 1.0       ┆ … ┆ 30.3      ┆ 2.5       ┆ 0.0       ┆ null     │\n",
       "│          ┆ 00:36:48   ┆ 1         ┆           ┆   ┆           ┆           ┆           ┆          │\n",
       "│          ┆            ┆ 01:14:20  ┆           ┆   ┆           ┆           ┆           ┆          │\n",
       "└──────────┴────────────┴───────────┴───────────┴───┴───────────┴───────────┴───────────┴──────────┘"
      ]
     },
     "execution_count": 21,
     "metadata": {},
     "output_type": "execute_result"
    }
   ],
   "source": [
    "# 12. Jointure avec condition multiple (complex join)\n",
    "\n",
    "print(\"Jointure avec condition multiple (ex. sur 'VendorID' et 'payment_type')\")\n",
    "\n",
    "df_additional = pl.DataFrame({\n",
    "    \"VendorID\": [1, 2],\n",
    "    \"payment_type\": [1, 2],\n",
    "    \"discount\": [0.1, 0.15]\n",
    "})\n",
    "df_joined = df.join(df_additional, on=[\"VendorID\", \"payment_type\"], how=\"left\")\n",
    "df_joined.head()"
   ]
  },
  {
   "cell_type": "code",
   "execution_count": 22,
   "metadata": {},
   "outputs": [
    {
     "name": "stdout",
     "output_type": "stream",
     "text": [
      "Pivot de données (ex. pivot sur 'VendorID' et somme de 'total_amount')\n"
     ]
    },
    {
     "data": {
      "text/html": [
       "<div><style>\n",
       ".dataframe > thead > tr,\n",
       ".dataframe > tbody > tr {\n",
       "  text-align: right;\n",
       "  white-space: pre-wrap;\n",
       "}\n",
       "</style>\n",
       "<small>shape: (4, 7)</small><table border=\"1\" class=\"dataframe\"><thead><tr><th>VendorID</th><th>1</th><th>2</th><th>4</th><th>3</th><th>5</th><th>0</th></tr><tr><td>i64</td><td>f64</td><td>f64</td><td>f64</td><td>f64</td><td>f64</td><td>f64</td></tr></thead><tbody><tr><td>1</td><td>1.1102e7</td><td>2.3045e6</td><td>452188.01</td><td>129282.16</td><td>11.8</td><td>303494.16</td></tr><tr><td>2</td><td>2.5891e7</td><td>5.7985e6</td><td>-123957.87</td><td>-38391.83</td><td>null</td><td>1.1995e6</td></tr><tr><td>6</td><td>null</td><td>null</td><td>null</td><td>null</td><td>null</td><td>212038.93</td></tr><tr><td>5</td><td>null</td><td>null</td><td>null</td><td>null</td><td>null</td><td>2159.92</td></tr></tbody></table></div>"
      ],
      "text/plain": [
       "shape: (4, 7)\n",
       "┌──────────┬──────────┬──────────┬────────────┬───────────┬──────┬───────────┐\n",
       "│ VendorID ┆ 1        ┆ 2        ┆ 4          ┆ 3         ┆ 5    ┆ 0         │\n",
       "│ ---      ┆ ---      ┆ ---      ┆ ---        ┆ ---       ┆ ---  ┆ ---       │\n",
       "│ i64      ┆ f64      ┆ f64      ┆ f64        ┆ f64       ┆ f64  ┆ f64       │\n",
       "╞══════════╪══════════╪══════════╪════════════╪═══════════╪══════╪═══════════╡\n",
       "│ 1        ┆ 1.1102e7 ┆ 2.3045e6 ┆ 452188.01  ┆ 129282.16 ┆ 11.8 ┆ 303494.16 │\n",
       "│ 2        ┆ 2.5891e7 ┆ 5.7985e6 ┆ -123957.87 ┆ -38391.83 ┆ null ┆ 1.1995e6  │\n",
       "│ 6        ┆ null     ┆ null     ┆ null       ┆ null      ┆ null ┆ 212038.93 │\n",
       "│ 5        ┆ null     ┆ null     ┆ null       ┆ null      ┆ null ┆ 2159.92   │\n",
       "└──────────┴──────────┴──────────┴────────────┴───────────┴──────┴───────────┘"
      ]
     },
     "execution_count": 22,
     "metadata": {},
     "output_type": "execute_result"
    }
   ],
   "source": [
    "# 13. Pivot de données (pivot/reshape)\n",
    "\n",
    "print(\"Pivot de données (ex. pivot sur 'VendorID' et somme de 'total_amount')\")\n",
    "\n",
    "df_pivot = df.pivot(\n",
    "    values=\"total_amount\",\n",
    "    index=\"VendorID\",\n",
    "    on=\"payment_type\",\n",
    "    aggregate_function=\"sum\"\n",
    ")\n",
    "\n",
    "df_pivot\n"
   ]
  },
  {
   "cell_type": "code",
   "execution_count": 23,
   "metadata": {},
   "outputs": [
    {
     "data": {
      "text/html": [
       "<div><style>\n",
       ".dataframe > thead > tr,\n",
       ".dataframe > tbody > tr {\n",
       "  text-align: right;\n",
       "  white-space: pre-wrap;\n",
       "}\n",
       "</style>\n",
       "<small>shape: (5, 19)</small><table border=\"1\" class=\"dataframe\"><thead><tr><th>VendorID</th><th>tpep_pickup_datetime</th><th>tpep_dropoff_datetime</th><th>passenger_count</th><th>trip_distance</th><th>RatecodeID</th><th>store_and_fwd_flag</th><th>PULocationID</th><th>DOLocationID</th><th>payment_type</th><th>fare_amount</th><th>extra</th><th>mta_tax</th><th>tip_amount</th><th>tolls_amount</th><th>improvement_surcharge</th><th>total_amount</th><th>congestion_surcharge</th><th>airport_fee</th></tr><tr><td>i64</td><td>datetime[ns]</td><td>datetime[ns]</td><td>f64</td><td>f64</td><td>f64</td><td>str</td><td>i64</td><td>i64</td><td>i64</td><td>f64</td><td>f64</td><td>f64</td><td>f64</td><td>f64</td><td>f64</td><td>f64</td><td>f64</td><td>f64</td></tr></thead><tbody><tr><td>1</td><td>2022-01-01 00:35:40</td><td>2022-01-01 00:53:29</td><td>2.0</td><td>3.8</td><td>1.0</td><td>&quot;N&quot;</td><td>142</td><td>236</td><td>1</td><td>14.5</td><td>3.0</td><td>0.5</td><td>3.65</td><td>0.0</td><td>0.3</td><td>21.95</td><td>2.5</td><td>0.0</td></tr><tr><td>2</td><td>2022-01-01 00:36:48</td><td>2022-01-01 01:14:20</td><td>1.0</td><td>4.3</td><td>1.0</td><td>&quot;N&quot;</td><td>68</td><td>163</td><td>1</td><td>23.5</td><td>0.5</td><td>0.5</td><td>3.0</td><td>0.0</td><td>0.3</td><td>30.3</td><td>2.5</td><td>0.0</td></tr><tr><td>1</td><td>2022-01-01 00:40:15</td><td>2022-01-01 01:09:48</td><td>1.0</td><td>10.3</td><td>1.0</td><td>&quot;N&quot;</td><td>138</td><td>161</td><td>1</td><td>33.0</td><td>3.0</td><td>0.5</td><td>13.0</td><td>6.55</td><td>0.3</td><td>56.35</td><td>2.5</td><td>0.0</td></tr><tr><td>2</td><td>2022-01-01 00:20:50</td><td>2022-01-01 00:34:58</td><td>1.0</td><td>5.07</td><td>1.0</td><td>&quot;N&quot;</td><td>233</td><td>87</td><td>1</td><td>17.0</td><td>0.5</td><td>0.5</td><td>5.2</td><td>0.0</td><td>0.3</td><td>26.0</td><td>2.5</td><td>0.0</td></tr><tr><td>1</td><td>2022-01-01 00:33:52</td><td>2022-01-01 00:47:28</td><td>3.0</td><td>4.2</td><td>1.0</td><td>&quot;N&quot;</td><td>148</td><td>141</td><td>1</td><td>14.0</td><td>2.5</td><td>0.5</td><td>3.45</td><td>0.0</td><td>0.3</td><td>20.75</td><td>2.5</td><td>0.0</td></tr></tbody></table></div>"
      ],
      "text/plain": [
       "shape: (5, 19)\n",
       "┌──────────┬───────────┬───────────┬───────────┬───┬───────────┬───────────┬───────────┬───────────┐\n",
       "│ VendorID ┆ tpep_pick ┆ tpep_drop ┆ passenger ┆ … ┆ improveme ┆ total_amo ┆ congestio ┆ airport_f │\n",
       "│ ---      ┆ up_dateti ┆ off_datet ┆ _count    ┆   ┆ nt_surcha ┆ unt       ┆ n_surchar ┆ ee        │\n",
       "│ i64      ┆ me        ┆ ime       ┆ ---       ┆   ┆ rge       ┆ ---       ┆ ge        ┆ ---       │\n",
       "│          ┆ ---       ┆ ---       ┆ f64       ┆   ┆ ---       ┆ f64       ┆ ---       ┆ f64       │\n",
       "│          ┆ datetime[ ┆ datetime[ ┆           ┆   ┆ f64       ┆           ┆ f64       ┆           │\n",
       "│          ┆ ns]       ┆ ns]       ┆           ┆   ┆           ┆           ┆           ┆           │\n",
       "╞══════════╪═══════════╪═══════════╪═══════════╪═══╪═══════════╪═══════════╪═══════════╪═══════════╡\n",
       "│ 1        ┆ 2022-01-0 ┆ 2022-01-0 ┆ 2.0       ┆ … ┆ 0.3       ┆ 21.95     ┆ 2.5       ┆ 0.0       │\n",
       "│          ┆ 1         ┆ 1         ┆           ┆   ┆           ┆           ┆           ┆           │\n",
       "│          ┆ 00:35:40  ┆ 00:53:29  ┆           ┆   ┆           ┆           ┆           ┆           │\n",
       "│ 2        ┆ 2022-01-0 ┆ 2022-01-0 ┆ 1.0       ┆ … ┆ 0.3       ┆ 30.3      ┆ 2.5       ┆ 0.0       │\n",
       "│          ┆ 1         ┆ 1         ┆           ┆   ┆           ┆           ┆           ┆           │\n",
       "│          ┆ 00:36:48  ┆ 01:14:20  ┆           ┆   ┆           ┆           ┆           ┆           │\n",
       "│ 1        ┆ 2022-01-0 ┆ 2022-01-0 ┆ 1.0       ┆ … ┆ 0.3       ┆ 56.35     ┆ 2.5       ┆ 0.0       │\n",
       "│          ┆ 1         ┆ 1         ┆           ┆   ┆           ┆           ┆           ┆           │\n",
       "│          ┆ 00:40:15  ┆ 01:09:48  ┆           ┆   ┆           ┆           ┆           ┆           │\n",
       "│ 2        ┆ 2022-01-0 ┆ 2022-01-0 ┆ 1.0       ┆ … ┆ 0.3       ┆ 26.0      ┆ 2.5       ┆ 0.0       │\n",
       "│          ┆ 1         ┆ 1         ┆           ┆   ┆           ┆           ┆           ┆           │\n",
       "│          ┆ 00:20:50  ┆ 00:34:58  ┆           ┆   ┆           ┆           ┆           ┆           │\n",
       "│ 1        ┆ 2022-01-0 ┆ 2022-01-0 ┆ 3.0       ┆ … ┆ 0.3       ┆ 20.75     ┆ 2.5       ┆ 0.0       │\n",
       "│          ┆ 1         ┆ 1         ┆           ┆   ┆           ┆           ┆           ┆           │\n",
       "│          ┆ 00:33:52  ┆ 00:47:28  ┆           ┆   ┆           ┆           ┆           ┆           │\n",
       "└──────────┴───────────┴───────────┴───────────┴───┴───────────┴───────────┴───────────┴───────────┘"
      ]
     },
     "execution_count": 23,
     "metadata": {},
     "output_type": "execute_result"
    }
   ],
   "source": [
    "# 14. Filtrage conditionnel avancé\n",
    "\n",
    "df_filtered_advanced = df.filter(\n",
    "    (pl.col(\"trip_distance\") > 2.0) & (pl.col(\"total_amount\") > 20)\n",
    ")\n",
    "df_filtered_advanced.head()"
   ]
  },
  {
   "cell_type": "code",
   "execution_count": 24,
   "metadata": {},
   "outputs": [
    {
     "data": {
      "text/html": [
       "<div><style>\n",
       ".dataframe > thead > tr,\n",
       ".dataframe > tbody > tr {\n",
       "  text-align: right;\n",
       "  white-space: pre-wrap;\n",
       "}\n",
       "</style>\n",
       "<small>shape: (5, 21)</small><table border=\"1\" class=\"dataframe\"><thead><tr><th>VendorID</th><th>tpep_pickup_datetime</th><th>tpep_dropoff_datetime</th><th>passenger_count</th><th>trip_distance</th><th>RatecodeID</th><th>store_and_fwd_flag</th><th>PULocationID</th><th>DOLocationID</th><th>payment_type</th><th>fare_amount</th><th>extra</th><th>mta_tax</th><th>tip_amount</th><th>tolls_amount</th><th>improvement_surcharge</th><th>total_amount</th><th>congestion_surcharge</th><th>airport_fee</th><th>tip_percentage</th><th>trip_category</th></tr><tr><td>i64</td><td>datetime[ns]</td><td>datetime[ns]</td><td>f64</td><td>f64</td><td>f64</td><td>str</td><td>i64</td><td>i64</td><td>i64</td><td>f64</td><td>f64</td><td>f64</td><td>f64</td><td>f64</td><td>f64</td><td>f64</td><td>f64</td><td>f64</td><td>f64</td><td>str</td></tr></thead><tbody><tr><td>1</td><td>2022-01-01 00:35:40</td><td>2022-01-01 00:53:29</td><td>2.0</td><td>3.8</td><td>1.0</td><td>&quot;N&quot;</td><td>142</td><td>236</td><td>1</td><td>14.5</td><td>3.0</td><td>0.5</td><td>3.65</td><td>0.0</td><td>0.3</td><td>21.95</td><td>2.5</td><td>0.0</td><td>16.628702</td><td>&quot;short_trip&quot;</td></tr><tr><td>1</td><td>2022-01-01 00:33:43</td><td>2022-01-01 00:42:07</td><td>1.0</td><td>2.1</td><td>1.0</td><td>&quot;N&quot;</td><td>236</td><td>42</td><td>1</td><td>8.0</td><td>0.5</td><td>0.5</td><td>4.0</td><td>0.0</td><td>0.3</td><td>13.3</td><td>0.0</td><td>0.0</td><td>30.075188</td><td>&quot;short_trip&quot;</td></tr><tr><td>2</td><td>2022-01-01 00:53:21</td><td>2022-01-01 01:02:19</td><td>1.0</td><td>0.97</td><td>1.0</td><td>&quot;N&quot;</td><td>166</td><td>166</td><td>1</td><td>7.5</td><td>0.5</td><td>0.5</td><td>1.76</td><td>0.0</td><td>0.3</td><td>10.56</td><td>0.0</td><td>0.0</td><td>16.666667</td><td>&quot;short_trip&quot;</td></tr><tr><td>2</td><td>2022-01-01 00:25:21</td><td>2022-01-01 00:35:23</td><td>1.0</td><td>1.09</td><td>1.0</td><td>&quot;N&quot;</td><td>114</td><td>68</td><td>2</td><td>8.0</td><td>0.5</td><td>0.5</td><td>0.0</td><td>0.0</td><td>0.3</td><td>11.8</td><td>2.5</td><td>0.0</td><td>0.0</td><td>&quot;short_trip&quot;</td></tr><tr><td>2</td><td>2022-01-01 00:36:48</td><td>2022-01-01 01:14:20</td><td>1.0</td><td>4.3</td><td>1.0</td><td>&quot;N&quot;</td><td>68</td><td>163</td><td>1</td><td>23.5</td><td>0.5</td><td>0.5</td><td>3.0</td><td>0.0</td><td>0.3</td><td>30.3</td><td>2.5</td><td>0.0</td><td>9.90099</td><td>&quot;short_trip&quot;</td></tr></tbody></table></div>"
      ],
      "text/plain": [
       "shape: (5, 21)\n",
       "┌──────────┬───────────┬───────────┬───────────┬───┬───────────┬───────────┬───────────┬───────────┐\n",
       "│ VendorID ┆ tpep_pick ┆ tpep_drop ┆ passenger ┆ … ┆ congestio ┆ airport_f ┆ tip_perce ┆ trip_cate │\n",
       "│ ---      ┆ up_dateti ┆ off_datet ┆ _count    ┆   ┆ n_surchar ┆ ee        ┆ ntage     ┆ gory      │\n",
       "│ i64      ┆ me        ┆ ime       ┆ ---       ┆   ┆ ge        ┆ ---       ┆ ---       ┆ ---       │\n",
       "│          ┆ ---       ┆ ---       ┆ f64       ┆   ┆ ---       ┆ f64       ┆ f64       ┆ str       │\n",
       "│          ┆ datetime[ ┆ datetime[ ┆           ┆   ┆ f64       ┆           ┆           ┆           │\n",
       "│          ┆ ns]       ┆ ns]       ┆           ┆   ┆           ┆           ┆           ┆           │\n",
       "╞══════════╪═══════════╪═══════════╪═══════════╪═══╪═══════════╪═══════════╪═══════════╪═══════════╡\n",
       "│ 1        ┆ 2022-01-0 ┆ 2022-01-0 ┆ 2.0       ┆ … ┆ 2.5       ┆ 0.0       ┆ 16.628702 ┆ short_tri │\n",
       "│          ┆ 1         ┆ 1         ┆           ┆   ┆           ┆           ┆           ┆ p         │\n",
       "│          ┆ 00:35:40  ┆ 00:53:29  ┆           ┆   ┆           ┆           ┆           ┆           │\n",
       "│ 1        ┆ 2022-01-0 ┆ 2022-01-0 ┆ 1.0       ┆ … ┆ 0.0       ┆ 0.0       ┆ 30.075188 ┆ short_tri │\n",
       "│          ┆ 1         ┆ 1         ┆           ┆   ┆           ┆           ┆           ┆ p         │\n",
       "│          ┆ 00:33:43  ┆ 00:42:07  ┆           ┆   ┆           ┆           ┆           ┆           │\n",
       "│ 2        ┆ 2022-01-0 ┆ 2022-01-0 ┆ 1.0       ┆ … ┆ 0.0       ┆ 0.0       ┆ 16.666667 ┆ short_tri │\n",
       "│          ┆ 1         ┆ 1         ┆           ┆   ┆           ┆           ┆           ┆ p         │\n",
       "│          ┆ 00:53:21  ┆ 01:02:19  ┆           ┆   ┆           ┆           ┆           ┆           │\n",
       "│ 2        ┆ 2022-01-0 ┆ 2022-01-0 ┆ 1.0       ┆ … ┆ 2.5       ┆ 0.0       ┆ 0.0       ┆ short_tri │\n",
       "│          ┆ 1         ┆ 1         ┆           ┆   ┆           ┆           ┆           ┆ p         │\n",
       "│          ┆ 00:25:21  ┆ 00:35:23  ┆           ┆   ┆           ┆           ┆           ┆           │\n",
       "│ 2        ┆ 2022-01-0 ┆ 2022-01-0 ┆ 1.0       ┆ … ┆ 2.5       ┆ 0.0       ┆ 9.90099   ┆ short_tri │\n",
       "│          ┆ 1         ┆ 1         ┆           ┆   ┆           ┆           ┆           ┆ p         │\n",
       "│          ┆ 00:36:48  ┆ 01:14:20  ┆           ┆   ┆           ┆           ┆           ┆           │\n",
       "└──────────┴───────────┴───────────┴───────────┴───┴───────────┴───────────┴───────────┴───────────┘"
      ]
     },
     "execution_count": 24,
     "metadata": {},
     "output_type": "execute_result"
    }
   ],
   "source": [
    "df_complex = df.with_columns([\n",
    "    (pl.col(\"tip_amount\") / pl.col(\"total_amount\") * 100).alias(\"tip_percentage\"),\n",
    "    pl.when(pl.col(\"trip_distance\") > 10)\n",
    "      .then(pl.lit(\"long_trip\"))\n",
    "      .otherwise(pl.lit(\"short_trip\"))\n",
    "      .alias(\"trip_category\")\n",
    "])\n",
    "\n",
    "df_complex.head()"
   ]
  },
  {
   "cell_type": "code",
   "execution_count": 25,
   "metadata": {},
   "outputs": [
    {
     "data": {
      "text/html": [
       "<div><style>\n",
       ".dataframe > thead > tr,\n",
       ".dataframe > tbody > tr {\n",
       "  text-align: right;\n",
       "  white-space: pre-wrap;\n",
       "}\n",
       "</style>\n",
       "<small>shape: (5, 21)</small><table border=\"1\" class=\"dataframe\"><thead><tr><th>VendorID</th><th>tpep_pickup_datetime</th><th>tpep_dropoff_datetime</th><th>passenger_count</th><th>trip_distance</th><th>RatecodeID</th><th>store_and_fwd_flag</th><th>PULocationID</th><th>DOLocationID</th><th>payment_type</th><th>fare_amount</th><th>extra</th><th>mta_tax</th><th>tip_amount</th><th>tolls_amount</th><th>improvement_surcharge</th><th>total_amount</th><th>congestion_surcharge</th><th>airport_fee</th><th>tip_percentage</th><th>trip_category</th></tr><tr><td>i64</td><td>datetime[ns]</td><td>datetime[ns]</td><td>f64</td><td>f64</td><td>f64</td><td>str</td><td>i64</td><td>i64</td><td>i64</td><td>f64</td><td>f64</td><td>f64</td><td>f64</td><td>f64</td><td>f64</td><td>f64</td><td>f64</td><td>f64</td><td>f64</td><td>str</td></tr></thead><tbody><tr><td>1</td><td>2022-01-01 00:35:40</td><td>2022-01-01 00:53:29</td><td>2.0</td><td>3.8</td><td>1.0</td><td>&quot;N&quot;</td><td>142</td><td>236</td><td>1</td><td>14.5</td><td>3.0</td><td>0.5</td><td>3.65</td><td>0.0</td><td>0.3</td><td>21.95</td><td>2.5</td><td>0.0</td><td>16.628702</td><td>&quot;short_trip&quot;</td></tr><tr><td>1</td><td>2022-01-01 00:33:43</td><td>2022-01-01 00:42:07</td><td>1.0</td><td>2.1</td><td>1.0</td><td>&quot;N&quot;</td><td>236</td><td>42</td><td>1</td><td>8.0</td><td>0.5</td><td>0.5</td><td>4.0</td><td>0.0</td><td>0.3</td><td>13.3</td><td>0.0</td><td>0.0</td><td>30.075188</td><td>&quot;short_trip&quot;</td></tr><tr><td>2</td><td>2022-01-01 00:53:21</td><td>2022-01-01 01:02:19</td><td>1.0</td><td>0.97</td><td>1.0</td><td>&quot;N&quot;</td><td>166</td><td>166</td><td>1</td><td>7.5</td><td>0.5</td><td>0.5</td><td>1.76</td><td>0.0</td><td>0.3</td><td>10.56</td><td>0.0</td><td>0.0</td><td>16.666667</td><td>&quot;short_trip&quot;</td></tr><tr><td>2</td><td>2022-01-01 00:25:21</td><td>2022-01-01 00:35:23</td><td>1.0</td><td>1.09</td><td>1.0</td><td>&quot;N&quot;</td><td>114</td><td>68</td><td>2</td><td>8.0</td><td>0.5</td><td>0.5</td><td>0.0</td><td>0.0</td><td>0.3</td><td>11.8</td><td>2.5</td><td>0.0</td><td>0.0</td><td>&quot;short_trip&quot;</td></tr><tr><td>2</td><td>2022-01-01 00:36:48</td><td>2022-01-01 01:14:20</td><td>1.0</td><td>4.3</td><td>1.0</td><td>&quot;N&quot;</td><td>68</td><td>163</td><td>1</td><td>23.5</td><td>0.5</td><td>0.5</td><td>3.0</td><td>0.0</td><td>0.3</td><td>30.3</td><td>2.5</td><td>0.0</td><td>9.90099</td><td>&quot;short_trip&quot;</td></tr></tbody></table></div>"
      ],
      "text/plain": [
       "shape: (5, 21)\n",
       "┌──────────┬───────────┬───────────┬───────────┬───┬───────────┬───────────┬───────────┬───────────┐\n",
       "│ VendorID ┆ tpep_pick ┆ tpep_drop ┆ passenger ┆ … ┆ congestio ┆ airport_f ┆ tip_perce ┆ trip_cate │\n",
       "│ ---      ┆ up_dateti ┆ off_datet ┆ _count    ┆   ┆ n_surchar ┆ ee        ┆ ntage     ┆ gory      │\n",
       "│ i64      ┆ me        ┆ ime       ┆ ---       ┆   ┆ ge        ┆ ---       ┆ ---       ┆ ---       │\n",
       "│          ┆ ---       ┆ ---       ┆ f64       ┆   ┆ ---       ┆ f64       ┆ f64       ┆ str       │\n",
       "│          ┆ datetime[ ┆ datetime[ ┆           ┆   ┆ f64       ┆           ┆           ┆           │\n",
       "│          ┆ ns]       ┆ ns]       ┆           ┆   ┆           ┆           ┆           ┆           │\n",
       "╞══════════╪═══════════╪═══════════╪═══════════╪═══╪═══════════╪═══════════╪═══════════╪═══════════╡\n",
       "│ 1        ┆ 2022-01-0 ┆ 2022-01-0 ┆ 2.0       ┆ … ┆ 2.5       ┆ 0.0       ┆ 16.628702 ┆ short_tri │\n",
       "│          ┆ 1         ┆ 1         ┆           ┆   ┆           ┆           ┆           ┆ p         │\n",
       "│          ┆ 00:35:40  ┆ 00:53:29  ┆           ┆   ┆           ┆           ┆           ┆           │\n",
       "│ 1        ┆ 2022-01-0 ┆ 2022-01-0 ┆ 1.0       ┆ … ┆ 0.0       ┆ 0.0       ┆ 30.075188 ┆ short_tri │\n",
       "│          ┆ 1         ┆ 1         ┆           ┆   ┆           ┆           ┆           ┆ p         │\n",
       "│          ┆ 00:33:43  ┆ 00:42:07  ┆           ┆   ┆           ┆           ┆           ┆           │\n",
       "│ 2        ┆ 2022-01-0 ┆ 2022-01-0 ┆ 1.0       ┆ … ┆ 0.0       ┆ 0.0       ┆ 16.666667 ┆ short_tri │\n",
       "│          ┆ 1         ┆ 1         ┆           ┆   ┆           ┆           ┆           ┆ p         │\n",
       "│          ┆ 00:53:21  ┆ 01:02:19  ┆           ┆   ┆           ┆           ┆           ┆           │\n",
       "│ 2        ┆ 2022-01-0 ┆ 2022-01-0 ┆ 1.0       ┆ … ┆ 2.5       ┆ 0.0       ┆ 0.0       ┆ short_tri │\n",
       "│          ┆ 1         ┆ 1         ┆           ┆   ┆           ┆           ┆           ┆ p         │\n",
       "│          ┆ 00:25:21  ┆ 00:35:23  ┆           ┆   ┆           ┆           ┆           ┆           │\n",
       "│ 2        ┆ 2022-01-0 ┆ 2022-01-0 ┆ 1.0       ┆ … ┆ 2.5       ┆ 0.0       ┆ 9.90099   ┆ short_tri │\n",
       "│          ┆ 1         ┆ 1         ┆           ┆   ┆           ┆           ┆           ┆ p         │\n",
       "│          ┆ 00:36:48  ┆ 01:14:20  ┆           ┆   ┆           ┆           ┆           ┆           │\n",
       "└──────────┴───────────┴───────────┴───────────┴───┴───────────┴───────────┴───────────┴───────────┘"
      ]
     },
     "execution_count": 25,
     "metadata": {},
     "output_type": "execute_result"
    }
   ],
   "source": [
    "# 15. Calculs complexes avec des expressions multiples\n",
    "\n",
    "df_complex = df.with_columns([\n",
    "    (pl.col(\"tip_amount\") / pl.col(\"total_amount\") * 100).alias(\"tip_percentage\"),\n",
    "    pl.when(pl.col(\"trip_distance\") > 10)\n",
    "      .then(pl.lit(\"long_trip\"))\n",
    "      .otherwise(pl.lit(\"short_trip\"))\n",
    "      .alias(\"trip_category\")\n",
    "])\n",
    "\n",
    "df_complex.head()"
   ]
  },
  {
   "cell_type": "code",
   "execution_count": 26,
   "metadata": {},
   "outputs": [
    {
     "name": "stdout",
     "output_type": "stream",
     "text": [
      "Manipulation de colonnes avec `melt` (ex. denormalisation de 'VendorID' et 'total_amount')\n"
     ]
    },
    {
     "name": "stderr",
     "output_type": "stream",
     "text": [
      "/tmp/ipykernel_9355/2053416918.py:3: DeprecationWarning: `DataFrame.melt` is deprecated. Use `unpivot` instead, with `index` instead of `id_vars` and `on` instead of `value_vars`\n",
      "  df_melted = df.melt(\n"
     ]
    },
    {
     "data": {
      "text/html": [
       "<div><style>\n",
       ".dataframe > thead > tr,\n",
       ".dataframe > tbody > tr {\n",
       "  text-align: right;\n",
       "  white-space: pre-wrap;\n",
       "}\n",
       "</style>\n",
       "<small>shape: (5, 3)</small><table border=\"1\" class=\"dataframe\"><thead><tr><th>VendorID</th><th>amount_type</th><th>amount</th></tr><tr><td>i64</td><td>str</td><td>f64</td></tr></thead><tbody><tr><td>1</td><td>&quot;total_amount&quot;</td><td>21.95</td></tr><tr><td>1</td><td>&quot;total_amount&quot;</td><td>13.3</td></tr><tr><td>2</td><td>&quot;total_amount&quot;</td><td>10.56</td></tr><tr><td>2</td><td>&quot;total_amount&quot;</td><td>11.8</td></tr><tr><td>2</td><td>&quot;total_amount&quot;</td><td>30.3</td></tr></tbody></table></div>"
      ],
      "text/plain": [
       "shape: (5, 3)\n",
       "┌──────────┬──────────────┬────────┐\n",
       "│ VendorID ┆ amount_type  ┆ amount │\n",
       "│ ---      ┆ ---          ┆ ---    │\n",
       "│ i64      ┆ str          ┆ f64    │\n",
       "╞══════════╪══════════════╪════════╡\n",
       "│ 1        ┆ total_amount ┆ 21.95  │\n",
       "│ 1        ┆ total_amount ┆ 13.3   │\n",
       "│ 2        ┆ total_amount ┆ 10.56  │\n",
       "│ 2        ┆ total_amount ┆ 11.8   │\n",
       "│ 2        ┆ total_amount ┆ 30.3   │\n",
       "└──────────┴──────────────┴────────┘"
      ]
     },
     "execution_count": 26,
     "metadata": {},
     "output_type": "execute_result"
    }
   ],
   "source": [
    "# 16. Manipulation de colonnes avec `melt` (dénormalisation)\n",
    "print(\"Manipulation de colonnes avec `melt` (ex. denormalisation de 'VendorID' et 'total_amount')\")\n",
    "df_melted = df.melt(\n",
    "    id_vars=\"VendorID\",\n",
    "    value_vars=[\"total_amount\", \"tip_amount\"],\n",
    "    variable_name=\"amount_type\",\n",
    "    value_name=\"amount\"\n",
    ")\n",
    "df_melted.head()"
   ]
  },
  {
   "cell_type": "markdown",
   "metadata": {},
   "source": [
    "#### Exemple "
   ]
  },
  {
   "cell_type": "code",
   "execution_count": 27,
   "metadata": {},
   "outputs": [
    {
     "data": {
      "text/html": [
       "<div><style>\n",
       ".dataframe > thead > tr,\n",
       ".dataframe > tbody > tr {\n",
       "  text-align: right;\n",
       "  white-space: pre-wrap;\n",
       "}\n",
       "</style>\n",
       "<small>shape: (5, 2)</small><table border=\"1\" class=\"dataframe\"><thead><tr><th>trip_distance</th><th>total_amount</th></tr><tr><td>f64</td><td>f64</td></tr></thead><tbody><tr><td>99.46</td><td>206.85</td></tr><tr><td>99.2</td><td>20.75</td></tr><tr><td>98.9</td><td>16.8</td></tr><tr><td>98.4</td><td>18.35</td></tr><tr><td>98.15</td><td>303.1</td></tr></tbody></table></div>"
      ],
      "text/plain": [
       "shape: (5, 2)\n",
       "┌───────────────┬──────────────┐\n",
       "│ trip_distance ┆ total_amount │\n",
       "│ ---           ┆ ---          │\n",
       "│ f64           ┆ f64          │\n",
       "╞═══════════════╪══════════════╡\n",
       "│ 99.46         ┆ 206.85       │\n",
       "│ 99.2          ┆ 20.75        │\n",
       "│ 98.9          ┆ 16.8         │\n",
       "│ 98.4          ┆ 18.35        │\n",
       "│ 98.15         ┆ 303.1        │\n",
       "└───────────────┴──────────────┘"
      ]
     },
     "execution_count": 27,
     "metadata": {},
     "output_type": "execute_result"
    }
   ],
   "source": [
    "df.filter(\n",
    "    pl.col('trip_distance') <= 100,\n",
    "    pl.col('total_amount').is_not_null()\n",
    ").select(\n",
    "    pl.col('trip_distance','total_amount')\n",
    ").sort('trip_distance',descending=True).head(5)"
   ]
  },
  {
   "cell_type": "code",
   "execution_count": 28,
   "metadata": {},
   "outputs": [
    {
     "data": {
      "text/html": [
       "<div><style>\n",
       ".dataframe > thead > tr,\n",
       ".dataframe > tbody > tr {\n",
       "  text-align: right;\n",
       "  white-space: pre-wrap;\n",
       "}\n",
       "</style>\n",
       "<small>shape: (1, 5)</small><table border=\"1\" class=\"dataframe\"><thead><tr><th>Max passenger count</th><th>Avg passenger per trip</th><th>Avg Trip_distance</th><th>Avg travel time</th><th>Median</th></tr><tr><td>f64</td><td>f64</td><td>f64</td><td>duration[ns]</td><td>duration[ns]</td></tr></thead><tbody><tr><td>9.0</td><td>1.388825</td><td>2.940509</td><td>12m 8s 373439203ns</td><td>10m 3s</td></tr></tbody></table></div>"
      ],
      "text/plain": [
       "shape: (1, 5)\n",
       "┌───────────────┬──────────────────────────┬───────────────────┬────────────────────┬──────────────┐\n",
       "│ Max passenger ┆ Avg passenger per trip   ┆ Avg Trip_distance ┆ Avg travel time    ┆ Median       │\n",
       "│ count         ┆ ---                      ┆ ---               ┆ ---                ┆ ---          │\n",
       "│ ---           ┆ f64                      ┆ f64               ┆ duration[ns]       ┆ duration[ns] │\n",
       "│ f64           ┆                          ┆                   ┆                    ┆              │\n",
       "╞═══════════════╪══════════════════════════╪═══════════════════╪════════════════════╪══════════════╡\n",
       "│ 9.0           ┆ 1.388825                 ┆ 2.940509          ┆ 12m 8s 373439203ns ┆ 10m 3s       │\n",
       "└───────────────┴──────────────────────────┴───────────────────┴────────────────────┴──────────────┘"
      ]
     },
     "execution_count": 28,
     "metadata": {},
     "output_type": "execute_result"
    }
   ],
   "source": [
    "df.filter(\n",
    "    pl.col('trip_distance') <= 100,\n",
    "    (pl.col('tpep_dropoff_datetime')-pl.col('tpep_pickup_datetime')).dt.total_minutes() <=45,\n",
    "    pl.col('total_amount').is_not_null()\n",
    ").select(\n",
    "    pl.col('passenger_count').max().alias('Max passenger count'),\n",
    "    pl.col('passenger_count').mean().alias('Avg passenger per trip'),\n",
    "    pl.col('trip_distance').mean().alias('Avg Trip_distance'),\n",
    "    (pl.col('tpep_dropoff_datetime')-pl.col('tpep_pickup_datetime')).mean().alias('Avg travel time'),\n",
    "    (pl.col('tpep_dropoff_datetime')-pl.col('tpep_pickup_datetime')).median().alias('Median')\n",
    ")"
   ]
  },
  {
   "cell_type": "code",
   "execution_count": 29,
   "metadata": {},
   "outputs": [
    {
     "data": {
      "text/html": [
       "<div><style>\n",
       ".dataframe > thead > tr,\n",
       ".dataframe > tbody > tr {\n",
       "  text-align: right;\n",
       "  white-space: pre-wrap;\n",
       "}\n",
       "</style>\n",
       "<small>shape: (5, 20)</small><table border=\"1\" class=\"dataframe\"><thead><tr><th>VendorID</th><th>tpep_pickup_datetime</th><th>tpep_dropoff_datetime</th><th>passenger_count</th><th>trip_distance</th><th>RatecodeID</th><th>store_and_fwd_flag</th><th>PULocationID</th><th>DOLocationID</th><th>payment_type</th><th>fare_amount</th><th>extra</th><th>mta_tax</th><th>tip_amount</th><th>tolls_amount</th><th>improvement_surcharge</th><th>total_amount</th><th>congestion_surcharge</th><th>airport_fee</th><th>total_minutes</th></tr><tr><td>i64</td><td>datetime[ns]</td><td>datetime[ns]</td><td>f64</td><td>f64</td><td>f64</td><td>str</td><td>i64</td><td>i64</td><td>i64</td><td>f64</td><td>f64</td><td>f64</td><td>f64</td><td>f64</td><td>f64</td><td>f64</td><td>f64</td><td>f64</td><td>i64</td></tr></thead><tbody><tr><td>1</td><td>2022-01-01 00:35:40</td><td>2022-01-01 00:53:29</td><td>2.0</td><td>3.8</td><td>1.0</td><td>&quot;N&quot;</td><td>142</td><td>236</td><td>1</td><td>14.5</td><td>3.0</td><td>0.5</td><td>3.65</td><td>0.0</td><td>0.3</td><td>21.95</td><td>2.5</td><td>0.0</td><td>17</td></tr><tr><td>1</td><td>2022-01-01 00:33:43</td><td>2022-01-01 00:42:07</td><td>1.0</td><td>2.1</td><td>1.0</td><td>&quot;N&quot;</td><td>236</td><td>42</td><td>1</td><td>8.0</td><td>0.5</td><td>0.5</td><td>4.0</td><td>0.0</td><td>0.3</td><td>13.3</td><td>0.0</td><td>0.0</td><td>8</td></tr><tr><td>2</td><td>2022-01-01 00:53:21</td><td>2022-01-01 01:02:19</td><td>1.0</td><td>0.97</td><td>1.0</td><td>&quot;N&quot;</td><td>166</td><td>166</td><td>1</td><td>7.5</td><td>0.5</td><td>0.5</td><td>1.76</td><td>0.0</td><td>0.3</td><td>10.56</td><td>0.0</td><td>0.0</td><td>8</td></tr><tr><td>2</td><td>2022-01-01 00:25:21</td><td>2022-01-01 00:35:23</td><td>1.0</td><td>1.09</td><td>1.0</td><td>&quot;N&quot;</td><td>114</td><td>68</td><td>2</td><td>8.0</td><td>0.5</td><td>0.5</td><td>0.0</td><td>0.0</td><td>0.3</td><td>11.8</td><td>2.5</td><td>0.0</td><td>10</td></tr><tr><td>2</td><td>2022-01-01 00:36:48</td><td>2022-01-01 01:14:20</td><td>1.0</td><td>4.3</td><td>1.0</td><td>&quot;N&quot;</td><td>68</td><td>163</td><td>1</td><td>23.5</td><td>0.5</td><td>0.5</td><td>3.0</td><td>0.0</td><td>0.3</td><td>30.3</td><td>2.5</td><td>0.0</td><td>37</td></tr></tbody></table></div>"
      ],
      "text/plain": [
       "shape: (5, 20)\n",
       "┌──────────┬───────────┬───────────┬───────────┬───┬───────────┬───────────┬───────────┬───────────┐\n",
       "│ VendorID ┆ tpep_pick ┆ tpep_drop ┆ passenger ┆ … ┆ total_amo ┆ congestio ┆ airport_f ┆ total_min │\n",
       "│ ---      ┆ up_dateti ┆ off_datet ┆ _count    ┆   ┆ unt       ┆ n_surchar ┆ ee        ┆ utes      │\n",
       "│ i64      ┆ me        ┆ ime       ┆ ---       ┆   ┆ ---       ┆ ge        ┆ ---       ┆ ---       │\n",
       "│          ┆ ---       ┆ ---       ┆ f64       ┆   ┆ f64       ┆ ---       ┆ f64       ┆ i64       │\n",
       "│          ┆ datetime[ ┆ datetime[ ┆           ┆   ┆           ┆ f64       ┆           ┆           │\n",
       "│          ┆ ns]       ┆ ns]       ┆           ┆   ┆           ┆           ┆           ┆           │\n",
       "╞══════════╪═══════════╪═══════════╪═══════════╪═══╪═══════════╪═══════════╪═══════════╪═══════════╡\n",
       "│ 1        ┆ 2022-01-0 ┆ 2022-01-0 ┆ 2.0       ┆ … ┆ 21.95     ┆ 2.5       ┆ 0.0       ┆ 17        │\n",
       "│          ┆ 1         ┆ 1         ┆           ┆   ┆           ┆           ┆           ┆           │\n",
       "│          ┆ 00:35:40  ┆ 00:53:29  ┆           ┆   ┆           ┆           ┆           ┆           │\n",
       "│ 1        ┆ 2022-01-0 ┆ 2022-01-0 ┆ 1.0       ┆ … ┆ 13.3      ┆ 0.0       ┆ 0.0       ┆ 8         │\n",
       "│          ┆ 1         ┆ 1         ┆           ┆   ┆           ┆           ┆           ┆           │\n",
       "│          ┆ 00:33:43  ┆ 00:42:07  ┆           ┆   ┆           ┆           ┆           ┆           │\n",
       "│ 2        ┆ 2022-01-0 ┆ 2022-01-0 ┆ 1.0       ┆ … ┆ 10.56     ┆ 0.0       ┆ 0.0       ┆ 8         │\n",
       "│          ┆ 1         ┆ 1         ┆           ┆   ┆           ┆           ┆           ┆           │\n",
       "│          ┆ 00:53:21  ┆ 01:02:19  ┆           ┆   ┆           ┆           ┆           ┆           │\n",
       "│ 2        ┆ 2022-01-0 ┆ 2022-01-0 ┆ 1.0       ┆ … ┆ 11.8      ┆ 2.5       ┆ 0.0       ┆ 10        │\n",
       "│          ┆ 1         ┆ 1         ┆           ┆   ┆           ┆           ┆           ┆           │\n",
       "│          ┆ 00:25:21  ┆ 00:35:23  ┆           ┆   ┆           ┆           ┆           ┆           │\n",
       "│ 2        ┆ 2022-01-0 ┆ 2022-01-0 ┆ 1.0       ┆ … ┆ 30.3      ┆ 2.5       ┆ 0.0       ┆ 37        │\n",
       "│          ┆ 1         ┆ 1         ┆           ┆   ┆           ┆           ┆           ┆           │\n",
       "│          ┆ 00:36:48  ┆ 01:14:20  ┆           ┆   ┆           ┆           ┆           ┆           │\n",
       "└──────────┴───────────┴───────────┴───────────┴───┴───────────┴───────────┴───────────┴───────────┘"
      ]
     },
     "execution_count": 29,
     "metadata": {},
     "output_type": "execute_result"
    }
   ],
   "source": [
    "df = df.with_columns(\n",
    "    ((pl.col('tpep_dropoff_datetime')-pl.col('tpep_pickup_datetime')).dt.total_minutes()).alias(\"total_minutes\")\n",
    ")\n",
    "\n",
    "df.head(5)"
   ]
  },
  {
   "cell_type": "code",
   "execution_count": 30,
   "metadata": {},
   "outputs": [
    {
     "data": {
      "text/html": [
       "<div><style>\n",
       ".dataframe > thead > tr,\n",
       ".dataframe > tbody > tr {\n",
       "  text-align: right;\n",
       "  white-space: pre-wrap;\n",
       "}\n",
       "</style>\n",
       "<small>shape: (1, 5)</small><table border=\"1\" class=\"dataframe\"><thead><tr><th>Max passenger count</th><th>Avg passenger per trip</th><th>Avg Trip_distance</th><th>Avg travel time</th><th>Median</th></tr><tr><td>f64</td><td>f64</td><td>f64</td><td>f64</td><td>f64</td></tr></thead><tbody><tr><td>9.0</td><td>1.388825</td><td>2.940509</td><td>11.655341</td><td>10.0</td></tr></tbody></table></div>"
      ],
      "text/plain": [
       "shape: (1, 5)\n",
       "┌─────────────────────┬────────────────────────┬───────────────────┬─────────────────┬────────┐\n",
       "│ Max passenger count ┆ Avg passenger per trip ┆ Avg Trip_distance ┆ Avg travel time ┆ Median │\n",
       "│ ---                 ┆ ---                    ┆ ---               ┆ ---             ┆ ---    │\n",
       "│ f64                 ┆ f64                    ┆ f64               ┆ f64             ┆ f64    │\n",
       "╞═════════════════════╪════════════════════════╪═══════════════════╪═════════════════╪════════╡\n",
       "│ 9.0                 ┆ 1.388825               ┆ 2.940509          ┆ 11.655341       ┆ 10.0   │\n",
       "└─────────────────────┴────────────────────────┴───────────────────┴─────────────────┴────────┘"
      ]
     },
     "execution_count": 30,
     "metadata": {},
     "output_type": "execute_result"
    }
   ],
   "source": [
    "df.filter(\n",
    "    pl.col('trip_distance') <= 100,\n",
    "    pl.col('total_minutes') <=45,\n",
    "    pl.col('total_amount').is_not_null()\n",
    ").select(\n",
    "    pl.col('passenger_count').max().alias('Max passenger count'),\n",
    "    pl.col('passenger_count').mean().alias('Avg passenger per trip'),\n",
    "    pl.col('trip_distance').mean().alias('Avg Trip_distance'),\n",
    "    pl.col('total_minutes').mean().alias('Avg travel time'),\n",
    "    pl.col('total_minutes').median().alias('Median')\n",
    ")"
   ]
  },
  {
   "cell_type": "code",
   "execution_count": 31,
   "metadata": {},
   "outputs": [
    {
     "data": {
      "text/html": [
       "<div><style>\n",
       ".dataframe > thead > tr,\n",
       ".dataframe > tbody > tr {\n",
       "  text-align: right;\n",
       "  white-space: pre-wrap;\n",
       "}\n",
       "</style>\n",
       "<small>shape: (7, 3)</small><table border=\"1\" class=\"dataframe\"><thead><tr><th>day_name</th><th>avg_total_time</th><th>median_total_time</th></tr><tr><td>str</td><td>f64</td><td>f64</td></tr></thead><tbody><tr><td>&quot;Saturday&quot;</td><td>13.529008</td><td>9.0</td></tr><tr><td>&quot;Tuesday&quot;</td><td>13.452088</td><td>10.0</td></tr><tr><td>&quot;Monday&quot;</td><td>13.532508</td><td>10.0</td></tr><tr><td>&quot;Friday&quot;</td><td>14.339303</td><td>10.0</td></tr><tr><td>&quot;Wednesday&quot;</td><td>13.51629</td><td>10.0</td></tr><tr><td>&quot;Thursday&quot;</td><td>13.995267</td><td>10.0</td></tr><tr><td>&quot;Sunday&quot;</td><td>13.700802</td><td>9.0</td></tr></tbody></table></div>"
      ],
      "text/plain": [
       "shape: (7, 3)\n",
       "┌───────────┬────────────────┬───────────────────┐\n",
       "│ day_name  ┆ avg_total_time ┆ median_total_time │\n",
       "│ ---       ┆ ---            ┆ ---               │\n",
       "│ str       ┆ f64            ┆ f64               │\n",
       "╞═══════════╪════════════════╪═══════════════════╡\n",
       "│ Saturday  ┆ 13.529008      ┆ 9.0               │\n",
       "│ Tuesday   ┆ 13.452088      ┆ 10.0              │\n",
       "│ Monday    ┆ 13.532508      ┆ 10.0              │\n",
       "│ Friday    ┆ 14.339303      ┆ 10.0              │\n",
       "│ Wednesday ┆ 13.51629       ┆ 10.0              │\n",
       "│ Thursday  ┆ 13.995267      ┆ 10.0              │\n",
       "│ Sunday    ┆ 13.700802      ┆ 9.0               │\n",
       "└───────────┴────────────────┴───────────────────┘"
      ]
     },
     "execution_count": 31,
     "metadata": {},
     "output_type": "execute_result"
    }
   ],
   "source": [
    "df.select(\n",
    "    pl.col('tpep_pickup_datetime').dt.strftime('%A').alias('day_name'),\n",
    "    pl.col('total_minutes')\n",
    ").group_by('day_name').agg(\n",
    "    avg_total_time=pl.col('total_minutes').mean(),\n",
    "    median_total_time= pl.col('total_minutes').median()\n",
    ")"
   ]
  }
 ],
 "metadata": {
  "kernelspec": {
   "display_name": "Polars Data Cleaning",
   "language": "python",
   "name": "polars_data_cleaning"
  },
  "language_info": {
   "codemirror_mode": {
    "name": "ipython",
    "version": 3
   },
   "file_extension": ".py",
   "mimetype": "text/x-python",
   "name": "python",
   "nbconvert_exporter": "python",
   "pygments_lexer": "ipython3",
   "version": "3.12.4"
  },
  "vscode": {
   "interpreter": {
    "hash": "35d52bf33c07af26253286921e52609e62e3a1cc2800711df2910bedbece265a"
   }
  }
 },
 "nbformat": 4,
 "nbformat_minor": 4
}
