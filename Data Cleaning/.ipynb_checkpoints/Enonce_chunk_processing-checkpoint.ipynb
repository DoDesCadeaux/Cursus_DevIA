{
 "cells": [
  {
   "cell_type": "markdown",
   "id": "58e7b571-fa7c-481c-bf7f-0fba11162f91",
   "metadata": {},
   "source": [
    "# Chunk processing\n",
    "\n",
    "pour les données du novembre \"nov.zip\":\n",
    "\n",
    "- on souhaite avoir des stats univarié et bivarié pour les (combinaisons) des colonnes suivantes: \n",
    "    ```python\n",
    "    [\"event_type\",\"category_code\",\"price\"]\n",
    "    ```\n",
    "- la cible c'est \"event_type\"\n",
    "- les statistiques désirées sont : count, count_nan, moyenne, variance, min,max\n",
    "    - pour la variance utiliser la formule suivante:  \n",
    "          $VAR[X] = \\frac{(\\sum_i x_i^2)}{N} - \\bar{x}^2$  \n",
    "          avec $\\bar{x} = E[X] = \\mu$ moyenne"
   ]
  },
  {
   "cell_type": "code",
   "execution_count": null,
   "id": "99057216-4cfd-4bf2-97a5-277b6d2257c8",
   "metadata": {},
   "outputs": [],
   "source": []
  }
 ],
 "metadata": {
  "kernelspec": {
   "display_name": "Python 3 (ipykernel)",
   "language": "python",
   "name": "python3"
  },
  "language_info": {
   "codemirror_mode": {
    "name": "ipython",
    "version": 3
   },
   "file_extension": ".py",
   "mimetype": "text/x-python",
   "name": "python",
   "nbconvert_exporter": "python",
   "pygments_lexer": "ipython3",
   "version": "3.11.9"
  }
 },
 "nbformat": 4,
 "nbformat_minor": 5
}
