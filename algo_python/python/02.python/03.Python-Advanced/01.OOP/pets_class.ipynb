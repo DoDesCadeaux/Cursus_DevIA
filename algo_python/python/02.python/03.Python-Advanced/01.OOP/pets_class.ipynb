{
 "cells": [
  {
   "cell_type": "code",
   "execution_count": 14,
   "id": "557557df-b47c-4efa-8ee0-e95b83666be1",
   "metadata": {},
   "outputs": [],
   "source": [
    "# Parent class\n",
    "class Dog:\n",
    "\n",
    "    # Class attribute\n",
    "    species = 'mammal'\n",
    "\n",
    "    # Initializer / Instance attributes\n",
    "    def __init__(self, name, age):\n",
    "        self.name = name\n",
    "        self.age = age\n",
    "        self.is_hungry = True\n",
    "\n",
    "    # instance method\n",
    "    def description(self):\n",
    "        return \"{} is {} years old\".format(self.name, self.age)\n",
    "\n",
    "    def eat(self):\n",
    "        self.is_hungry = False\n",
    "\n",
    "    # instance method\n",
    "    def speak(self, sound):\n",
    "        return \"{} says {}\".format(self.name, sound)\n",
    "\n",
    "# Child class (inherits from Dog class)\n",
    "class RussellTerrier(Dog):\n",
    "    def run(self, speed):\n",
    "        return \"{} runs {}\".format(self.name, speed)\n",
    "\n",
    "# Child class (inherits from Dog class)\n",
    "class Bulldog(Dog):\n",
    "    def run(self, speed):\n",
    "        return \"{} runs {}\".format(self.name, speed)"
   ]
  },
  {
   "cell_type": "code",
   "execution_count": 15,
   "id": "b6a60995-98a0-4a85-ac1b-b918fa1c7297",
   "metadata": {},
   "outputs": [
    {
     "name": "stdout",
     "output_type": "stream",
     "text": [
      "I have 2 dogs.\n",
      "Barba is 2\n",
      "Akezine is 1\n",
      "My dogs are not hungry\n"
     ]
    }
   ],
   "source": [
    "class Pets:\n",
    "    def __init__(self):\n",
    "        self.dogs = []\n",
    "    def addDog(self, dog):\n",
    "        self.dogs.append(dog)\n",
    "    def showPets(self):\n",
    "        for i in self.dogs:\n",
    "            print(f\"{i.name} is {i.age}\")\n",
    "    def petNbr(self):\n",
    "        return len(self.dogs)\n",
    "    def eatAll(self):\n",
    "        for i in self.dogs:\n",
    "            i.eat()\n",
    "    def areHungry(self):\n",
    "        for dog in self.dogs:\n",
    "            if dog.is_hungry:\n",
    "                print(\"My dogs are hungry\")\n",
    "                return\n",
    "        print(\"My dogs are not hungry\")\n",
    "\n",
    "akezine = Dog(\"Akezine\", 1)\n",
    "barba = Dog(\"Barba\", 2)\n",
    "larry = Dog(\"Larry\", 9)\n",
    "toutous = Pets()\n",
    "toutous.addDog(barba)\n",
    "toutous.addDog(akezine)\n",
    "print(f\"I have {toutous.petNbr()} dogs.\")\n",
    "toutous.showPets()\n",
    "toutous.eatAll()\n",
    "toutous.areHungry()"
   ]
  },
  {
   "cell_type": "code",
   "execution_count": null,
   "id": "25256f17-193b-4c73-b9ba-c8f47f2d87a8",
   "metadata": {},
   "outputs": [],
   "source": []
  }
 ],
 "metadata": {
  "kernelspec": {
   "display_name": "Python 3 (ipykernel)",
   "language": "python",
   "name": "python3"
  },
  "language_info": {
   "codemirror_mode": {
    "name": "ipython",
    "version": 3
   },
   "file_extension": ".py",
   "mimetype": "text/x-python",
   "name": "python",
   "nbconvert_exporter": "python",
   "pygments_lexer": "ipython3",
   "version": "3.12.4"
  }
 },
 "nbformat": 4,
 "nbformat_minor": 5
}
