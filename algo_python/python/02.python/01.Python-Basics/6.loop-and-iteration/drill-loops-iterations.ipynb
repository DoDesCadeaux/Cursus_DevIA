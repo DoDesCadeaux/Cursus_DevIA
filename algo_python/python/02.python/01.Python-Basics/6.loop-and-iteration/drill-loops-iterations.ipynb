{
 "cells": [
  {
   "cell_type": "markdown",
   "metadata": {},
   "source": [
    "# Drill loops and iterations"
   ]
  },
  {
   "cell_type": "markdown",
   "metadata": {},
   "source": [
    "### 1. Display all students in the \"students\" list in alphabetical order"
   ]
  },
  {
   "cell_type": "code",
   "execution_count": 8,
   "metadata": {},
   "outputs": [
    {
     "data": {
      "text/plain": [
       "['Adrien',\n",
       " 'Axel',\n",
       " 'Baptiste',\n",
       " 'Caroline',\n",
       " 'Joe',\n",
       " 'Mathieu',\n",
       " 'Merouane',\n",
       " 'Nathan',\n",
       " 'Raphaël',\n",
       " 'Sophie']"
      ]
     },
     "execution_count": 8,
     "metadata": {},
     "output_type": "execute_result"
    }
   ],
   "source": [
    "students =  [\"Merouane\", \"Baptiste\", \"Caroline\", \"Joe\", \"Sophie\", \"Nathan\", \"Raphaël\", \"Axel\", \"Mathieu\", \"Adrien\"]\n",
    "students.sort()\n",
    "students"
   ]
  },
  {
   "cell_type": "markdown",
   "metadata": {},
   "source": [
    "### 2. Display only those whose first name begins with the letter M"
   ]
  },
  {
   "cell_type": "code",
   "execution_count": 9,
   "metadata": {},
   "outputs": [
    {
     "data": {
      "text/plain": [
       "['Mathieu', 'Merouane']"
      ]
     },
     "execution_count": 9,
     "metadata": {},
     "output_type": "execute_result"
    }
   ],
   "source": [
    "m_students = [x for x in students if x.startswith('M')]\n",
    "m_students"
   ]
  },
  {
   "cell_type": "markdown",
   "metadata": {},
   "source": [
    "### 3. Display integers from 0 to 15 not included, using a \"for\"loop and the range() instruction."
   ]
  },
  {
   "cell_type": "code",
   "execution_count": 10,
   "metadata": {},
   "outputs": [
    {
     "name": "stdout",
     "output_type": "stream",
     "text": [
      "0\n",
      "1\n",
      "2\n",
      "3\n",
      "4\n",
      "5\n",
      "6\n",
      "7\n",
      "8\n",
      "9\n",
      "10\n",
      "11\n",
      "12\n",
      "13\n",
      "14\n"
     ]
    }
   ],
   "source": [
    "for i in range(0, 15):\n",
    "    print(i)"
   ]
  },
  {
   "cell_type": "markdown",
   "metadata": {},
   "source": [
    "### 4. Use the \"break\" instruction to interrupt a \"for\" loop to display integers from 1 to 10 included, when the loop variable is 5"
   ]
  },
  {
   "cell_type": "code",
   "execution_count": 11,
   "metadata": {},
   "outputs": [
    {
     "name": "stdout",
     "output_type": "stream",
     "text": [
      "1\n",
      "2\n",
      "3\n",
      "4\n"
     ]
    }
   ],
   "source": [
    "for i in range(1, 11):\n",
    "    if i == 5:\n",
    "        break\n",
    "    print(i)"
   ]
  },
  {
   "cell_type": "markdown",
   "metadata": {},
   "source": [
    "### 5. Use the \"continue\" instruction to modify  a \"for\" loop to display intergers from 1 to 10 included,  when the loop variable is 5"
   ]
  },
  {
   "cell_type": "code",
   "execution_count": 12,
   "metadata": {},
   "outputs": [
    {
     "name": "stdout",
     "output_type": "stream",
     "text": [
      "1\n",
      "2\n",
      "3\n",
      "4\n",
      "6\n",
      "7\n",
      "8\n",
      "9\n",
      "10\n"
     ]
    }
   ],
   "source": [
    "for i in range(1, 11):\n",
    "    if i == 5:\n",
    "        continue\n",
    "    print(i)"
   ]
  },
  {
   "cell_type": "markdown",
   "metadata": {},
   "source": [
    "### 6. Follow the instructions :"
   ]
  },
  {
   "cell_type": "markdown",
   "metadata": {},
   "source": [
    "- sort and display the list;\n",
    "- add item 12 to the list and display the list;\n",
    "- reverse and display the list;\n",
    "- display the index of element 17;\n",
    "- remove item 38 and display the list;\n",
    "- display the sub-list of the 2nd to 3rd element;\n",
    "- display the sub-list from the beginning to the 2nd element;\n",
    "- display the sub-list of the 3rd element at the end of the list;\n",
    "- display the complete sub-list of the list;\n",
    "- display the last element using a negative indication."
   ]
  },
  {
   "cell_type": "code",
   "execution_count": 30,
   "metadata": {},
   "outputs": [
    {
     "name": "stdout",
     "output_type": "stream",
     "text": [
      "[12, 72, 25, 17, 10]\n",
      "[72, 25]\n",
      "[12, 72]\n",
      "[25, 17, 10]\n",
      "[12, 72, 25, 17, 10]\n",
      "10\n"
     ]
    }
   ],
   "source": [
    "list_of_num = [17, 38, 10, 25, 72]\n",
    "list_of_num.sort()\n",
    "list_of_num.append(12)\n",
    "list_of_num.reverse()\n",
    "list_of_num.index(17)\n",
    "list_of_num.remove(38)\n",
    "print(list_of_num)\n",
    "print(list_of_num[1:3:])\n",
    "print(list_of_num[:2])\n",
    "print(list_of_num[2::])\n",
    "print(list_of_num[::])\n",
    "print(list_of_num[-1])"
   ]
  },
  {
   "cell_type": "markdown",
   "metadata": {},
   "source": [
    "Note that some list methods do not return anything."
   ]
  },
  {
   "cell_type": "markdown",
   "metadata": {},
   "source": [
    "### 7. Write an algorithm that asks the user to enter a number. Then make sure that your program displays all the numbers up to 0, for example, if the user enters the number 3, then your program will display something like this: 3,2,1,0"
   ]
  },
  {
   "cell_type": "code",
   "execution_count": 34,
   "metadata": {},
   "outputs": [
    {
     "name": "stdin",
     "output_type": "stream",
     "text": [
      "Number:\n",
      " 5\n"
     ]
    },
    {
     "name": "stdout",
     "output_type": "stream",
     "text": [
      "5\n",
      "4\n",
      "3\n",
      "2\n",
      "1\n",
      "0\n"
     ]
    }
   ],
   "source": [
    "number = int(input(\"Number:\\n\"))\n",
    "for i in range(number, -1, -1):\n",
    "    print(i)"
   ]
  },
  {
   "cell_type": "markdown",
   "metadata": {},
   "source": [
    "### 8.The price is right ! Create a variable that will contain the number to be found. Then create an algorithm that will ask the user to find this price. If the user enters a number that is too high, he will have the sentence: \"It's less\". If he enters a number that is too low, he will have the sentence: \"It's more\". If the user finds the right price he will have the sentence: \"Well done, you won\"."
   ]
  },
  {
   "cell_type": "code",
   "execution_count": 37,
   "metadata": {},
   "outputs": [
    {
     "name": "stdin",
     "output_type": "stream",
     "text": [
      "Guess:\n",
      " 43\n"
     ]
    },
    {
     "name": "stdout",
     "output_type": "stream",
     "text": [
      "It's less\n"
     ]
    },
    {
     "name": "stdin",
     "output_type": "stream",
     "text": [
      "Guess:\n",
      " 41\n"
     ]
    },
    {
     "name": "stdout",
     "output_type": "stream",
     "text": [
      "It's more\n"
     ]
    },
    {
     "name": "stdin",
     "output_type": "stream",
     "text": [
      "Guess:\n",
      " 42\n"
     ]
    },
    {
     "name": "stdout",
     "output_type": "stream",
     "text": [
      "Well done, you won\n"
     ]
    }
   ],
   "source": [
    "correct = 42\n",
    "while True:\n",
    "    guess = int(input(\"Guess:\\n\"))\n",
    "    if guess < correct:\n",
    "        print(\"It's more\")\n",
    "    elif guess > correct:\n",
    "        print(\"It's less\")\n",
    "    else:\n",
    "        print(\"Well done, you won\")\n",
    "        break"
   ]
  },
  {
   "cell_type": "markdown",
   "metadata": {},
   "source": [
    "### 9. Display all students with the sentence \"NAME is a alumni. \""
   ]
  },
  {
   "cell_type": "code",
   "execution_count": 44,
   "metadata": {},
   "outputs": [
    {
     "name": "stdout",
     "output_type": "stream",
     "text": [
      "David is a alumni\n",
      "Julie is a alumni\n",
      "Justine is a alumni\n",
      "Stéphane is a alumni\n",
      "Valentin is a alumni\n",
      "Mostapha is a alumni\n",
      "Axel is a alumni\n",
      "Claudiu is a alumni\n",
      "Redouane is a alumni\n",
      "Son is a alumni\n"
     ]
    }
   ],
   "source": [
    "all_students =  [[\"David\", \"Justine\", \"Valentin\",\"Axel\", \"Redouane\"], [\"Julie\", \"Stéphane\", \"Mostapha\", \"Claudiu\", \"Son\"]]\n",
    "\n",
    "for i, j in zip(all_students[0], all_students[1]):\n",
    "    print(f\"{i} is a alumni\")\n",
    "    print(f\"{j} is a alumni\")"
   ]
  },
  {
   "cell_type": "markdown",
   "metadata": {},
   "source": [
    "### 10. Display all elements. If the element is part of the first table display - \"*PHP* is a backend language\" - and if the element is part of the second language, display - \"*HTML* is a Frontend language\" ... "
   ]
  },
  {
   "cell_type": "code",
   "execution_count": 45,
   "metadata": {},
   "outputs": [
    {
     "name": "stdout",
     "output_type": "stream",
     "text": [
      "PHP is a backend language\n",
      "HTML is a frontend laguage\n",
      "Java is a backend language\n",
      "CSS is a frontend laguage\n",
      "C# is a backend language\n",
      "Javascript is a frontend laguage\n"
     ]
    }
   ],
   "source": [
    "languages = [[\"PHP\", \"Java\", \"C#\"], [\"HTML\", \"CSS\", \"Javascript\"]]\n",
    "\n",
    "for i, j in zip(languages[0], languages[1]):\n",
    "    print(f\"{i} is a backend language\")\n",
    "    print(f\"{j} is a frontend laguage\")"
   ]
  },
  {
   "cell_type": "markdown",
   "metadata": {},
   "source": [
    "## [Next one](../7.tuples-dictionaries/tuples-and-dictionaries.ipynb)"
   ]
  }
 ],
 "metadata": {
  "kernelspec": {
   "display_name": "Python 3 (ipykernel)",
   "language": "python",
   "name": "python3"
  },
  "language_info": {
   "codemirror_mode": {
    "name": "ipython",
    "version": 3
   },
   "file_extension": ".py",
   "mimetype": "text/x-python",
   "name": "python",
   "nbconvert_exporter": "python",
   "pygments_lexer": "ipython3",
   "version": "3.12.4"
  }
 },
 "nbformat": 4,
 "nbformat_minor": 4
}
