{
 "cells": [
  {
   "cell_type": "markdown",
   "metadata": {},
   "source": [
    "# Exercise 1"
   ]
  },
  {
   "cell_type": "markdown",
   "metadata": {},
   "source": [
    "### Step 1. Go to https://www.kaggle.com/openfoodfacts/world-food-facts/data"
   ]
  },
  {
   "cell_type": "markdown",
   "metadata": {},
   "source": [
    "### Step 2. Download the dataset to your computer and unzip it."
   ]
  },
  {
   "cell_type": "markdown",
   "metadata": {},
   "source": [
    "### Step 3. Use the tsv file and assign it to a dataframe called food"
   ]
  },
  {
   "cell_type": "code",
   "execution_count": 3,
   "metadata": {
    "collapsed": true
   },
   "outputs": [],
   "source": [
    "import pandas as pd\n",
    "import numpy as np\n",
    "\n",
    "\n",
    "food = pd.read_csv(\"./openfoodfacts_datas.tsv\", sep=\"\\t\" )"
   ]
  },
  {
   "cell_type": "markdown",
   "metadata": {},
   "source": [
    "### Step 4. See the first 5 entries"
   ]
  },
  {
   "cell_type": "code",
   "execution_count": 4,
   "metadata": {
    "collapsed": true
   },
   "outputs": [
    {
     "output_type": "execute_result",
     "data": {
      "text/plain": "    code                                                url  \\\n0   3087  http://world-en.openfoodfacts.org/product/0000...   \n1   4530  http://world-en.openfoodfacts.org/product/0000...   \n2   4559  http://world-en.openfoodfacts.org/product/0000...   \n3  16087  http://world-en.openfoodfacts.org/product/0000...   \n4  16094  http://world-en.openfoodfacts.org/product/0000...   \n\n                      creator   created_t      created_datetime  \\\n0  openfoodfacts-contributors  1474103866  2016-09-17T09:17:46Z   \n1             usda-ndb-import  1489069957  2017-03-09T14:32:37Z   \n2             usda-ndb-import  1489069957  2017-03-09T14:32:37Z   \n3             usda-ndb-import  1489055731  2017-03-09T10:35:31Z   \n4             usda-ndb-import  1489055653  2017-03-09T10:34:13Z   \n\n  last_modified_t last_modified_datetime                    product_name  \\\n0      1474103893   2016-09-17T09:18:13Z              Farine de blé noir   \n1      1489069957   2017-03-09T14:32:37Z  Banana Chips Sweetened (Whole)   \n2      1489069957   2017-03-09T14:32:37Z                         Peanuts   \n3      1489055731   2017-03-09T10:35:31Z          Organic Salted Nut Mix   \n4      1489055653   2017-03-09T10:34:13Z                 Organic Polenta   \n\n  generic_name quantity  ... fruits-vegetables-nuts_100g  \\\n0          NaN      1kg  ...                         NaN   \n1          NaN      NaN  ...                         NaN   \n2          NaN      NaN  ...                         NaN   \n3          NaN      NaN  ...                         NaN   \n4          NaN      NaN  ...                         NaN   \n\n  fruits-vegetables-nuts-estimate_100g collagen-meat-protein-ratio_100g  \\\n0                                  NaN                              NaN   \n1                                  NaN                              NaN   \n2                                  NaN                              NaN   \n3                                  NaN                              NaN   \n4                                  NaN                              NaN   \n\n  cocoa_100g chlorophyl_100g carbon-footprint_100g nutrition-score-fr_100g  \\\n0        NaN             NaN                   NaN                     NaN   \n1        NaN             NaN                   NaN                    14.0   \n2        NaN             NaN                   NaN                     0.0   \n3        NaN             NaN                   NaN                    12.0   \n4        NaN             NaN                   NaN                     NaN   \n\n  nutrition-score-uk_100g glycemic-index_100g water-hardness_100g  \n0                     NaN                 NaN                 NaN  \n1                    14.0                 NaN                 NaN  \n2                     0.0                 NaN                 NaN  \n3                    12.0                 NaN                 NaN  \n4                     NaN                 NaN                 NaN  \n\n[5 rows x 163 columns]",
      "text/html": "<div>\n<style scoped>\n    .dataframe tbody tr th:only-of-type {\n        vertical-align: middle;\n    }\n\n    .dataframe tbody tr th {\n        vertical-align: top;\n    }\n\n    .dataframe thead th {\n        text-align: right;\n    }\n</style>\n<table border=\"1\" class=\"dataframe\">\n  <thead>\n    <tr style=\"text-align: right;\">\n      <th></th>\n      <th>code</th>\n      <th>url</th>\n      <th>creator</th>\n      <th>created_t</th>\n      <th>created_datetime</th>\n      <th>last_modified_t</th>\n      <th>last_modified_datetime</th>\n      <th>product_name</th>\n      <th>generic_name</th>\n      <th>quantity</th>\n      <th>...</th>\n      <th>fruits-vegetables-nuts_100g</th>\n      <th>fruits-vegetables-nuts-estimate_100g</th>\n      <th>collagen-meat-protein-ratio_100g</th>\n      <th>cocoa_100g</th>\n      <th>chlorophyl_100g</th>\n      <th>carbon-footprint_100g</th>\n      <th>nutrition-score-fr_100g</th>\n      <th>nutrition-score-uk_100g</th>\n      <th>glycemic-index_100g</th>\n      <th>water-hardness_100g</th>\n    </tr>\n  </thead>\n  <tbody>\n    <tr>\n      <th>0</th>\n      <td>3087</td>\n      <td>http://world-en.openfoodfacts.org/product/0000...</td>\n      <td>openfoodfacts-contributors</td>\n      <td>1474103866</td>\n      <td>2016-09-17T09:17:46Z</td>\n      <td>1474103893</td>\n      <td>2016-09-17T09:18:13Z</td>\n      <td>Farine de blé noir</td>\n      <td>NaN</td>\n      <td>1kg</td>\n      <td>...</td>\n      <td>NaN</td>\n      <td>NaN</td>\n      <td>NaN</td>\n      <td>NaN</td>\n      <td>NaN</td>\n      <td>NaN</td>\n      <td>NaN</td>\n      <td>NaN</td>\n      <td>NaN</td>\n      <td>NaN</td>\n    </tr>\n    <tr>\n      <th>1</th>\n      <td>4530</td>\n      <td>http://world-en.openfoodfacts.org/product/0000...</td>\n      <td>usda-ndb-import</td>\n      <td>1489069957</td>\n      <td>2017-03-09T14:32:37Z</td>\n      <td>1489069957</td>\n      <td>2017-03-09T14:32:37Z</td>\n      <td>Banana Chips Sweetened (Whole)</td>\n      <td>NaN</td>\n      <td>NaN</td>\n      <td>...</td>\n      <td>NaN</td>\n      <td>NaN</td>\n      <td>NaN</td>\n      <td>NaN</td>\n      <td>NaN</td>\n      <td>NaN</td>\n      <td>14.0</td>\n      <td>14.0</td>\n      <td>NaN</td>\n      <td>NaN</td>\n    </tr>\n    <tr>\n      <th>2</th>\n      <td>4559</td>\n      <td>http://world-en.openfoodfacts.org/product/0000...</td>\n      <td>usda-ndb-import</td>\n      <td>1489069957</td>\n      <td>2017-03-09T14:32:37Z</td>\n      <td>1489069957</td>\n      <td>2017-03-09T14:32:37Z</td>\n      <td>Peanuts</td>\n      <td>NaN</td>\n      <td>NaN</td>\n      <td>...</td>\n      <td>NaN</td>\n      <td>NaN</td>\n      <td>NaN</td>\n      <td>NaN</td>\n      <td>NaN</td>\n      <td>NaN</td>\n      <td>0.0</td>\n      <td>0.0</td>\n      <td>NaN</td>\n      <td>NaN</td>\n    </tr>\n    <tr>\n      <th>3</th>\n      <td>16087</td>\n      <td>http://world-en.openfoodfacts.org/product/0000...</td>\n      <td>usda-ndb-import</td>\n      <td>1489055731</td>\n      <td>2017-03-09T10:35:31Z</td>\n      <td>1489055731</td>\n      <td>2017-03-09T10:35:31Z</td>\n      <td>Organic Salted Nut Mix</td>\n      <td>NaN</td>\n      <td>NaN</td>\n      <td>...</td>\n      <td>NaN</td>\n      <td>NaN</td>\n      <td>NaN</td>\n      <td>NaN</td>\n      <td>NaN</td>\n      <td>NaN</td>\n      <td>12.0</td>\n      <td>12.0</td>\n      <td>NaN</td>\n      <td>NaN</td>\n    </tr>\n    <tr>\n      <th>4</th>\n      <td>16094</td>\n      <td>http://world-en.openfoodfacts.org/product/0000...</td>\n      <td>usda-ndb-import</td>\n      <td>1489055653</td>\n      <td>2017-03-09T10:34:13Z</td>\n      <td>1489055653</td>\n      <td>2017-03-09T10:34:13Z</td>\n      <td>Organic Polenta</td>\n      <td>NaN</td>\n      <td>NaN</td>\n      <td>...</td>\n      <td>NaN</td>\n      <td>NaN</td>\n      <td>NaN</td>\n      <td>NaN</td>\n      <td>NaN</td>\n      <td>NaN</td>\n      <td>NaN</td>\n      <td>NaN</td>\n      <td>NaN</td>\n      <td>NaN</td>\n    </tr>\n  </tbody>\n</table>\n<p>5 rows × 163 columns</p>\n</div>"
     },
     "metadata": {},
     "execution_count": 4
    }
   ],
   "source": [
    "food.head(5)"
   ]
  },
  {
   "cell_type": "markdown",
   "metadata": {},
   "source": [
    "### Step 5. What is the number of observations in the dataset?"
   ]
  },
  {
   "cell_type": "code",
   "execution_count": 9,
   "metadata": {
    "collapsed": true,
    "tags": []
   },
   "outputs": [
    {
     "output_type": "stream",
     "name": "stdout",
     "text": "(356027, 163)\n&lt;class &#39;pandas.core.frame.DataFrame&#39;&gt;\nRangeIndex: 356027 entries, 0 to 356026\nColumns: 163 entries, code to water-hardness_100g\ndtypes: float64(107), object(56)\nmemory usage: 442.8+ MB\n"
    }
   ],
   "source": [
    "food.info()"
   ]
  },
  {
   "cell_type": "markdown",
   "metadata": {},
   "source": [
    "### Step 6. What is the number of columns in the dataset?"
   ]
  },
  {
   "cell_type": "code",
   "execution_count": 10,
   "metadata": {
    "collapsed": true,
    "tags": []
   },
   "outputs": [
    {
     "output_type": "stream",
     "name": "stdout",
     "text": "(356027, 163)\n"
    }
   ],
   "source": [
    "print(food.shape)"
   ]
  },
  {
   "cell_type": "markdown",
   "metadata": {},
   "source": [
    "### Step 7. Print the name of all the columns."
   ]
  },
  {
   "cell_type": "code",
   "execution_count": 12,
   "metadata": {
    "collapsed": true
   },
   "outputs": [
    {
     "output_type": "execute_result",
     "data": {
      "text/plain": "[&#39;code&#39;,\n &#39;url&#39;,\n &#39;creator&#39;,\n &#39;created_t&#39;,\n &#39;created_datetime&#39;,\n &#39;last_modified_t&#39;,\n &#39;last_modified_datetime&#39;,\n &#39;product_name&#39;,\n &#39;generic_name&#39;,\n &#39;quantity&#39;,\n &#39;packaging&#39;,\n &#39;packaging_tags&#39;,\n &#39;brands&#39;,\n &#39;brands_tags&#39;,\n &#39;categories&#39;,\n &#39;categories_tags&#39;,\n &#39;categories_en&#39;,\n &#39;origins&#39;,\n &#39;origins_tags&#39;,\n &#39;manufacturing_places&#39;,\n &#39;manufacturing_places_tags&#39;,\n &#39;labels&#39;,\n &#39;labels_tags&#39;,\n &#39;labels_en&#39;,\n &#39;emb_codes&#39;,\n &#39;emb_codes_tags&#39;,\n &#39;first_packaging_code_geo&#39;,\n &#39;cities&#39;,\n &#39;cities_tags&#39;,\n &#39;purchase_places&#39;,\n &#39;stores&#39;,\n &#39;countries&#39;,\n &#39;countries_tags&#39;,\n &#39;countries_en&#39;,\n &#39;ingredients_text&#39;,\n &#39;allergens&#39;,\n &#39;allergens_en&#39;,\n &#39;traces&#39;,\n &#39;traces_tags&#39;,\n &#39;traces_en&#39;,\n &#39;serving_size&#39;,\n &#39;no_nutriments&#39;,\n &#39;additives_n&#39;,\n &#39;additives&#39;,\n &#39;additives_tags&#39;,\n &#39;additives_en&#39;,\n &#39;ingredients_from_palm_oil_n&#39;,\n &#39;ingredients_from_palm_oil&#39;,\n &#39;ingredients_from_palm_oil_tags&#39;,\n &#39;ingredients_that_may_be_from_palm_oil_n&#39;,\n &#39;ingredients_that_may_be_from_palm_oil&#39;,\n &#39;ingredients_that_may_be_from_palm_oil_tags&#39;,\n &#39;nutrition_grade_uk&#39;,\n &#39;nutrition_grade_fr&#39;,\n &#39;pnns_groups_1&#39;,\n &#39;pnns_groups_2&#39;,\n &#39;states&#39;,\n &#39;states_tags&#39;,\n &#39;states_en&#39;,\n &#39;main_category&#39;,\n &#39;main_category_en&#39;,\n &#39;image_url&#39;,\n &#39;image_small_url&#39;,\n &#39;energy_100g&#39;,\n &#39;energy-from-fat_100g&#39;,\n &#39;fat_100g&#39;,\n &#39;saturated-fat_100g&#39;,\n &#39;-butyric-acid_100g&#39;,\n &#39;-caproic-acid_100g&#39;,\n &#39;-caprylic-acid_100g&#39;,\n &#39;-capric-acid_100g&#39;,\n &#39;-lauric-acid_100g&#39;,\n &#39;-myristic-acid_100g&#39;,\n &#39;-palmitic-acid_100g&#39;,\n &#39;-stearic-acid_100g&#39;,\n &#39;-arachidic-acid_100g&#39;,\n &#39;-behenic-acid_100g&#39;,\n &#39;-lignoceric-acid_100g&#39;,\n &#39;-cerotic-acid_100g&#39;,\n &#39;-montanic-acid_100g&#39;,\n &#39;-melissic-acid_100g&#39;,\n &#39;monounsaturated-fat_100g&#39;,\n &#39;polyunsaturated-fat_100g&#39;,\n &#39;omega-3-fat_100g&#39;,\n &#39;-alpha-linolenic-acid_100g&#39;,\n &#39;-eicosapentaenoic-acid_100g&#39;,\n &#39;-docosahexaenoic-acid_100g&#39;,\n &#39;omega-6-fat_100g&#39;,\n &#39;-linoleic-acid_100g&#39;,\n &#39;-arachidonic-acid_100g&#39;,\n &#39;-gamma-linolenic-acid_100g&#39;,\n &#39;-dihomo-gamma-linolenic-acid_100g&#39;,\n &#39;omega-9-fat_100g&#39;,\n &#39;-oleic-acid_100g&#39;,\n &#39;-elaidic-acid_100g&#39;,\n &#39;-gondoic-acid_100g&#39;,\n &#39;-mead-acid_100g&#39;,\n &#39;-erucic-acid_100g&#39;,\n &#39;-nervonic-acid_100g&#39;,\n &#39;trans-fat_100g&#39;,\n &#39;cholesterol_100g&#39;,\n &#39;carbohydrates_100g&#39;,\n &#39;sugars_100g&#39;,\n &#39;-sucrose_100g&#39;,\n &#39;-glucose_100g&#39;,\n &#39;-fructose_100g&#39;,\n &#39;-lactose_100g&#39;,\n &#39;-maltose_100g&#39;,\n &#39;-maltodextrins_100g&#39;,\n &#39;starch_100g&#39;,\n &#39;polyols_100g&#39;,\n &#39;fiber_100g&#39;,\n &#39;proteins_100g&#39;,\n &#39;casein_100g&#39;,\n &#39;serum-proteins_100g&#39;,\n &#39;nucleotides_100g&#39;,\n &#39;salt_100g&#39;,\n &#39;sodium_100g&#39;,\n &#39;alcohol_100g&#39;,\n &#39;vitamin-a_100g&#39;,\n &#39;beta-carotene_100g&#39;,\n &#39;vitamin-d_100g&#39;,\n &#39;vitamin-e_100g&#39;,\n &#39;vitamin-k_100g&#39;,\n &#39;vitamin-c_100g&#39;,\n &#39;vitamin-b1_100g&#39;,\n &#39;vitamin-b2_100g&#39;,\n &#39;vitamin-pp_100g&#39;,\n &#39;vitamin-b6_100g&#39;,\n &#39;vitamin-b9_100g&#39;,\n &#39;folates_100g&#39;,\n &#39;vitamin-b12_100g&#39;,\n &#39;biotin_100g&#39;,\n &#39;pantothenic-acid_100g&#39;,\n &#39;silica_100g&#39;,\n &#39;bicarbonate_100g&#39;,\n &#39;potassium_100g&#39;,\n &#39;chloride_100g&#39;,\n &#39;calcium_100g&#39;,\n &#39;phosphorus_100g&#39;,\n &#39;iron_100g&#39;,\n &#39;magnesium_100g&#39;,\n &#39;zinc_100g&#39;,\n &#39;copper_100g&#39;,\n &#39;manganese_100g&#39;,\n &#39;fluoride_100g&#39;,\n &#39;selenium_100g&#39;,\n &#39;chromium_100g&#39;,\n &#39;molybdenum_100g&#39;,\n &#39;iodine_100g&#39;,\n &#39;caffeine_100g&#39;,\n &#39;taurine_100g&#39;,\n &#39;ph_100g&#39;,\n &#39;fruits-vegetables-nuts_100g&#39;,\n &#39;fruits-vegetables-nuts-estimate_100g&#39;,\n &#39;collagen-meat-protein-ratio_100g&#39;,\n &#39;cocoa_100g&#39;,\n &#39;chlorophyl_100g&#39;,\n &#39;carbon-footprint_100g&#39;,\n &#39;nutrition-score-fr_100g&#39;,\n &#39;nutrition-score-uk_100g&#39;,\n &#39;glycemic-index_100g&#39;,\n &#39;water-hardness_100g&#39;]"
     },
     "metadata": {},
     "execution_count": 12
    }
   ],
   "source": [
    "food.columns.to_list()"
   ]
  },
  {
   "cell_type": "markdown",
   "metadata": {},
   "source": [
    "### Step 8. What is the name of 105th column?"
   ]
  },
  {
   "cell_type": "code",
   "execution_count": 13,
   "metadata": {
    "collapsed": true
   },
   "outputs": [
    {
     "output_type": "execute_result",
     "data": {
      "text/plain": "&#39;-glucose_100g&#39;"
     },
     "metadata": {},
     "execution_count": 13
    }
   ],
   "source": [
    "food.columns[104]"
   ]
  },
  {
   "cell_type": "markdown",
   "metadata": {},
   "source": [
    "### Step 9. What is the type of the observations of the 105th column?"
   ]
  },
  {
   "cell_type": "code",
   "execution_count": 22,
   "metadata": {
    "collapsed": true
   },
   "outputs": [
    {
     "output_type": "execute_result",
     "data": {
      "text/plain": "dtype(&#39;float64&#39;)"
     },
     "metadata": {},
     "execution_count": 22
    }
   ],
   "source": [
    "food[food.columns[104]].dtype"
   ]
  },
  {
   "cell_type": "markdown",
   "metadata": {},
   "source": [
    "### Step 10. How is the dataset indexed?"
   ]
  },
  {
   "cell_type": "code",
   "execution_count": 23,
   "metadata": {
    "collapsed": true
   },
   "outputs": [
    {
     "output_type": "execute_result",
     "data": {
      "text/plain": "RangeIndex(start=0, stop=356027, step=1)"
     },
     "metadata": {},
     "execution_count": 23
    }
   ],
   "source": [
    "food.index"
   ]
  },
  {
   "cell_type": "markdown",
   "metadata": {},
   "source": [
    "### Step 11. What is the product name of the 19th observation?"
   ]
  },
  {
   "cell_type": "code",
   "execution_count": 33,
   "metadata": {
    "collapsed": true
   },
   "outputs": [
    {
     "output_type": "execute_result",
     "data": {
      "text/plain": "&#39;Lotus Organic Brown Jasmine Rice&#39;"
     },
     "metadata": {},
     "execution_count": 33
    }
   ],
   "source": [
    "food.product_name.iloc[18]"
   ]
  }
 ],
 "metadata": {
  "anaconda-cloud": {},
  "kernelspec": {
   "name": "Python 3.8.3 64-bit (conda)",
   "display_name": "Python 3.8.3 64-bit (conda)",
   "metadata": {
    "interpreter": {
     "hash": "3b1a8060338225f2bebef7ac4b2e7f6bf43c2f4428566c5ddcf188aa63f7df5e"
    }
   }
  },
  "language_info": {
   "codemirror_mode": {
    "name": "ipython",
    "version": 2
   },
   "file_extension": ".py",
   "mimetype": "text/x-python",
   "name": "python",
   "nbconvert_exporter": "python",
   "pygments_lexer": "ipython2",
   "version": "3.8.3-final"
  }
 },
 "nbformat": 4,
 "nbformat_minor": 0
}