{
 "cells": [
  {
   "cell_type": "markdown",
   "metadata": {},
   "source": [
    "# Ex1 - Filtering and Sorting Data"
   ]
  },
  {
   "cell_type": "markdown",
   "metadata": {},
   "source": [
    "This time we are going to pull data directly from the internet.\n",
    "Special thanks to: https://github.com/justmarkham for sharing the dataset and materials.\n",
    "\n",
    "### Step 1. Import the necessary libraries"
   ]
  },
  {
   "cell_type": "code",
   "execution_count": 136,
   "metadata": {},
   "outputs": [],
   "source": [
    "import pandas as pd\n",
    "import numpy as np\n"
   ]
  },
  {
   "cell_type": "markdown",
   "metadata": {},
   "source": [
    "### Step 2. Import the dataset from this [address](https://raw.githubusercontent.com/justmarkham/DAT8/master/data/chipotle.tsv). "
   ]
  },
  {
   "cell_type": "markdown",
   "metadata": {},
   "source": [
    "### Step 3. Assign it to a variable called chipo."
   ]
  },
  {
   "cell_type": "code",
   "execution_count": 137,
   "metadata": {},
   "outputs": [],
   "source": [
    "chipo = pd.read_csv(\"https://raw.githubusercontent.com/justmarkham/DAT8/master/data/chipotle.tsv\", sep = \"\\t\")"
   ]
  },
  {
   "cell_type": "markdown",
   "metadata": {},
   "source": [
    "### Step 4. How many products cost more than $10.00?"
   ]
  },
  {
   "cell_type": "code",
   "execution_count": 138,
   "metadata": {},
   "outputs": [
    {
     "output_type": "execute_result",
     "data": {
      "text/plain": "                         item_name  item_price\n3598  Chips and Fresh Tomato Salsa       44.25\n3480                 Carnitas Bowl       35.25\n3602               Chicken Burrito       35.00\n1254               Chicken Burrito       35.00\n3601                Veggie Burrito       33.75\n...                            ...         ...\n476                Chicken Burrito       10.58\n2919                  Chicken Bowl       10.58\n3520               Chicken Burrito       10.58\n1099               Chicken Burrito       10.58\n3599                 Bottled Water       10.50\n\n[1130 rows x 2 columns]",
      "text/html": "<div>\n<style scoped>\n    .dataframe tbody tr th:only-of-type {\n        vertical-align: middle;\n    }\n\n    .dataframe tbody tr th {\n        vertical-align: top;\n    }\n\n    .dataframe thead th {\n        text-align: right;\n    }\n</style>\n<table border=\"1\" class=\"dataframe\">\n  <thead>\n    <tr style=\"text-align: right;\">\n      <th></th>\n      <th>item_name</th>\n      <th>item_price</th>\n    </tr>\n  </thead>\n  <tbody>\n    <tr>\n      <th>3598</th>\n      <td>Chips and Fresh Tomato Salsa</td>\n      <td>44.25</td>\n    </tr>\n    <tr>\n      <th>3480</th>\n      <td>Carnitas Bowl</td>\n      <td>35.25</td>\n    </tr>\n    <tr>\n      <th>3602</th>\n      <td>Chicken Burrito</td>\n      <td>35.00</td>\n    </tr>\n    <tr>\n      <th>1254</th>\n      <td>Chicken Burrito</td>\n      <td>35.00</td>\n    </tr>\n    <tr>\n      <th>3601</th>\n      <td>Veggie Burrito</td>\n      <td>33.75</td>\n    </tr>\n    <tr>\n      <th>...</th>\n      <td>...</td>\n      <td>...</td>\n    </tr>\n    <tr>\n      <th>476</th>\n      <td>Chicken Burrito</td>\n      <td>10.58</td>\n    </tr>\n    <tr>\n      <th>2919</th>\n      <td>Chicken Bowl</td>\n      <td>10.58</td>\n    </tr>\n    <tr>\n      <th>3520</th>\n      <td>Chicken Burrito</td>\n      <td>10.58</td>\n    </tr>\n    <tr>\n      <th>1099</th>\n      <td>Chicken Burrito</td>\n      <td>10.58</td>\n    </tr>\n    <tr>\n      <th>3599</th>\n      <td>Bottled Water</td>\n      <td>10.50</td>\n    </tr>\n  </tbody>\n</table>\n<p>1130 rows × 2 columns</p>\n</div>"
     },
     "metadata": {},
     "execution_count": 138
    }
   ],
   "source": [
    "# Convert in Float\n",
    "chipo.item_price = chipo.item_price.map(lambda ip: float(ip[1:]))\n",
    "\n",
    "# Creating df over $10\n",
    "df_item_over_ten =chipo[[\"item_name\", \"item_price\"]][chipo[\"item_price\"] > 10]\n",
    "\n",
    "#Display sorted dataFrame\n",
    "df_item_over_ten.sort_values(\"item_price\", ascending=False)"
   ]
  },
  {
   "cell_type": "markdown",
   "metadata": {},
   "source": [
    "### Step 5. What is the price of each item? \n",
    "###### print a data frame with only two columns item_name and item_price"
   ]
  },
  {
   "cell_type": "code",
   "execution_count": 139,
   "metadata": {},
   "outputs": [
    {
     "output_type": "execute_result",
     "data": {
      "text/plain": "&lt;bound method DataFrame.sort_index of                                   item_name  item_price\n0              Chips and Fresh Tomato Salsa        2.39\n1                                      Izze        3.39\n2                          Nantucket Nectar        3.39\n3     Chips and Tomatillo-Green Chili Salsa        2.39\n4                              Chicken Bowl       16.98\n...                                     ...         ...\n4237                    Chips and Guacamole        8.50\n4354                       Steak Soft Tacos       18.50\n4489                    Chips and Guacamole       17.80\n4509                                  Chips        1.99\n4510                          Barbacoa Bowl       11.49\n\n[209 rows x 2 columns]&gt;"
     },
     "metadata": {},
     "execution_count": 139
    }
   ],
   "source": [
    "chipo[[\"item_name\", \"item_price\"]].drop_duplicates([\"item_name\", \"item_price\"]).sort_index\n"
   ]
  },
  {
   "cell_type": "markdown",
   "metadata": {},
   "source": [
    "### Step 6. Sort by the name of the item"
   ]
  },
  {
   "cell_type": "code",
   "execution_count": 140,
   "metadata": {},
   "outputs": [
    {
     "output_type": "execute_result",
     "data": {
      "text/plain": "                                  item_name\n3389                      6 Pack Soft Drink\n418                           Barbacoa Bowl\n1202                       Barbacoa Burrito\n1019                  Barbacoa Crispy Tacos\n3546                    Barbacoa Salad Bowl\n3548                    Barbacoa Soft Tacos\n2441                          Bottled Water\n673                                    Bowl\n760                                 Burrito\n1142                            Canned Soda\n964                       Canned Soft Drink\n1359                          Carnitas Bowl\n1097                       Carnitas Burrito\n554                   Carnitas Crispy Tacos\n3750                         Carnitas Salad\n2610                    Carnitas Salad Bowl\n2299                    Carnitas Soft Tacos\n4555                           Chicken Bowl\n2026                        Chicken Burrito\n1027                   Chicken Crispy Tacos\n2968                          Chicken Salad\n3117                     Chicken Salad Bowl\n1496                     Chicken Soft Tacos\n2193                                  Chips\n3506           Chips and Fresh Tomato Salsa\n311                     Chips and Guacamole\n674       Chips and Mild Fresh Tomato Salsa\n2602     Chips and Roasted Chili Corn Salsa\n1458     Chips and Roasted Chili-Corn Salsa\n1593  Chips and Tomatillo Green Chili Salsa\n1999    Chips and Tomatillo Red Chili Salsa\n3657  Chips and Tomatillo-Green Chili Salsa\n2972    Chips and Tomatillo-Red Chili Salsa\n521                            Crispy Tacos\n1213                                   Izze\n2379                       Nantucket Nectar\n1414                                  Salad\n1120                          Side of Chips\n3190                             Steak Bowl\n4546                          Steak Burrito\n3503                     Steak Crispy Tacos\n752                             Steak Salad\n4391                       Steak Salad Bowl\n4549                       Steak Soft Tacos\n2326                            Veggie Bowl\n1959                         Veggie Burrito\n1653                    Veggie Crispy Tacos\n3471                           Veggie Salad\n4201                      Veggie Salad Bowl\n738                       Veggie Soft Tacos",
      "text/html": "<div>\n<style scoped>\n    .dataframe tbody tr th:only-of-type {\n        vertical-align: middle;\n    }\n\n    .dataframe tbody tr th {\n        vertical-align: top;\n    }\n\n    .dataframe thead th {\n        text-align: right;\n    }\n</style>\n<table border=\"1\" class=\"dataframe\">\n  <thead>\n    <tr style=\"text-align: right;\">\n      <th></th>\n      <th>item_name</th>\n    </tr>\n  </thead>\n  <tbody>\n    <tr>\n      <th>3389</th>\n      <td>6 Pack Soft Drink</td>\n    </tr>\n    <tr>\n      <th>418</th>\n      <td>Barbacoa Bowl</td>\n    </tr>\n    <tr>\n      <th>1202</th>\n      <td>Barbacoa Burrito</td>\n    </tr>\n    <tr>\n      <th>1019</th>\n      <td>Barbacoa Crispy Tacos</td>\n    </tr>\n    <tr>\n      <th>3546</th>\n      <td>Barbacoa Salad Bowl</td>\n    </tr>\n    <tr>\n      <th>3548</th>\n      <td>Barbacoa Soft Tacos</td>\n    </tr>\n    <tr>\n      <th>2441</th>\n      <td>Bottled Water</td>\n    </tr>\n    <tr>\n      <th>673</th>\n      <td>Bowl</td>\n    </tr>\n    <tr>\n      <th>760</th>\n      <td>Burrito</td>\n    </tr>\n    <tr>\n      <th>1142</th>\n      <td>Canned Soda</td>\n    </tr>\n    <tr>\n      <th>964</th>\n      <td>Canned Soft Drink</td>\n    </tr>\n    <tr>\n      <th>1359</th>\n      <td>Carnitas Bowl</td>\n    </tr>\n    <tr>\n      <th>1097</th>\n      <td>Carnitas Burrito</td>\n    </tr>\n    <tr>\n      <th>554</th>\n      <td>Carnitas Crispy Tacos</td>\n    </tr>\n    <tr>\n      <th>3750</th>\n      <td>Carnitas Salad</td>\n    </tr>\n    <tr>\n      <th>2610</th>\n      <td>Carnitas Salad Bowl</td>\n    </tr>\n    <tr>\n      <th>2299</th>\n      <td>Carnitas Soft Tacos</td>\n    </tr>\n    <tr>\n      <th>4555</th>\n      <td>Chicken Bowl</td>\n    </tr>\n    <tr>\n      <th>2026</th>\n      <td>Chicken Burrito</td>\n    </tr>\n    <tr>\n      <th>1027</th>\n      <td>Chicken Crispy Tacos</td>\n    </tr>\n    <tr>\n      <th>2968</th>\n      <td>Chicken Salad</td>\n    </tr>\n    <tr>\n      <th>3117</th>\n      <td>Chicken Salad Bowl</td>\n    </tr>\n    <tr>\n      <th>1496</th>\n      <td>Chicken Soft Tacos</td>\n    </tr>\n    <tr>\n      <th>2193</th>\n      <td>Chips</td>\n    </tr>\n    <tr>\n      <th>3506</th>\n      <td>Chips and Fresh Tomato Salsa</td>\n    </tr>\n    <tr>\n      <th>311</th>\n      <td>Chips and Guacamole</td>\n    </tr>\n    <tr>\n      <th>674</th>\n      <td>Chips and Mild Fresh Tomato Salsa</td>\n    </tr>\n    <tr>\n      <th>2602</th>\n      <td>Chips and Roasted Chili Corn Salsa</td>\n    </tr>\n    <tr>\n      <th>1458</th>\n      <td>Chips and Roasted Chili-Corn Salsa</td>\n    </tr>\n    <tr>\n      <th>1593</th>\n      <td>Chips and Tomatillo Green Chili Salsa</td>\n    </tr>\n    <tr>\n      <th>1999</th>\n      <td>Chips and Tomatillo Red Chili Salsa</td>\n    </tr>\n    <tr>\n      <th>3657</th>\n      <td>Chips and Tomatillo-Green Chili Salsa</td>\n    </tr>\n    <tr>\n      <th>2972</th>\n      <td>Chips and Tomatillo-Red Chili Salsa</td>\n    </tr>\n    <tr>\n      <th>521</th>\n      <td>Crispy Tacos</td>\n    </tr>\n    <tr>\n      <th>1213</th>\n      <td>Izze</td>\n    </tr>\n    <tr>\n      <th>2379</th>\n      <td>Nantucket Nectar</td>\n    </tr>\n    <tr>\n      <th>1414</th>\n      <td>Salad</td>\n    </tr>\n    <tr>\n      <th>1120</th>\n      <td>Side of Chips</td>\n    </tr>\n    <tr>\n      <th>3190</th>\n      <td>Steak Bowl</td>\n    </tr>\n    <tr>\n      <th>4546</th>\n      <td>Steak Burrito</td>\n    </tr>\n    <tr>\n      <th>3503</th>\n      <td>Steak Crispy Tacos</td>\n    </tr>\n    <tr>\n      <th>752</th>\n      <td>Steak Salad</td>\n    </tr>\n    <tr>\n      <th>4391</th>\n      <td>Steak Salad Bowl</td>\n    </tr>\n    <tr>\n      <th>4549</th>\n      <td>Steak Soft Tacos</td>\n    </tr>\n    <tr>\n      <th>2326</th>\n      <td>Veggie Bowl</td>\n    </tr>\n    <tr>\n      <th>1959</th>\n      <td>Veggie Burrito</td>\n    </tr>\n    <tr>\n      <th>1653</th>\n      <td>Veggie Crispy Tacos</td>\n    </tr>\n    <tr>\n      <th>3471</th>\n      <td>Veggie Salad</td>\n    </tr>\n    <tr>\n      <th>4201</th>\n      <td>Veggie Salad Bowl</td>\n    </tr>\n    <tr>\n      <th>738</th>\n      <td>Veggie Soft Tacos</td>\n    </tr>\n  </tbody>\n</table>\n</div>"
     },
     "metadata": {},
     "execution_count": 140
    }
   ],
   "source": [
    "chipo[[\"item_name\"]].sort_values(['item_name']).drop_duplicates([\"item_name\"])"
   ]
  },
  {
   "cell_type": "markdown",
   "metadata": {},
   "source": [
    "### Step 7. What was the quantity of the most expensive item ordered?"
   ]
  },
  {
   "cell_type": "code",
   "execution_count": 145,
   "metadata": {},
   "outputs": [
    {
     "output_type": "execute_result",
     "data": {
      "text/plain": "      order_id  quantity                     item_name choice_description  \\\n3598      1443        15  Chips and Fresh Tomato Salsa                NaN   \n\n      item_price  \n3598       44.25  ",
      "text/html": "<div>\n<style scoped>\n    .dataframe tbody tr th:only-of-type {\n        vertical-align: middle;\n    }\n\n    .dataframe tbody tr th {\n        vertical-align: top;\n    }\n\n    .dataframe thead th {\n        text-align: right;\n    }\n</style>\n<table border=\"1\" class=\"dataframe\">\n  <thead>\n    <tr style=\"text-align: right;\">\n      <th></th>\n      <th>order_id</th>\n      <th>quantity</th>\n      <th>item_name</th>\n      <th>choice_description</th>\n      <th>item_price</th>\n    </tr>\n  </thead>\n  <tbody>\n    <tr>\n      <th>3598</th>\n      <td>1443</td>\n      <td>15</td>\n      <td>Chips and Fresh Tomato Salsa</td>\n      <td>NaN</td>\n      <td>44.25</td>\n    </tr>\n  </tbody>\n</table>\n</div>"
     },
     "metadata": {},
     "execution_count": 145
    }
   ],
   "source": [
    "chipo.sort_values(\"item_price\", ascending= False).head(1)"
   ]
  },
  {
   "cell_type": "markdown",
   "metadata": {},
   "source": [
    "### Step 8. How many times was a Veggie Salad Bowl ordered?"
   ]
  },
  {
   "cell_type": "code",
   "execution_count": 152,
   "metadata": {},
   "outputs": [
    {
     "output_type": "execute_result",
     "data": {
      "text/plain": "order_id              18\nquantity              18\nitem_name             18\nchoice_description    18\nitem_price            18\ndtype: int64"
     },
     "metadata": {},
     "execution_count": 152
    }
   ],
   "source": [
    "# len(chipo[chipo[\"item_name\"] == \"Veggie Salad Bowl\"])\n",
    "\n",
    "chipo[chipo[\"item_name\"] == \"Veggie Salad Bowl\"].count()"
   ]
  },
  {
   "cell_type": "markdown",
   "metadata": {},
   "source": [
    "### Step 9. How many times did someone order more than one Canned Soda?"
   ]
  },
  {
   "cell_type": "code",
   "execution_count": 156,
   "metadata": {},
   "outputs": [
    {
     "output_type": "execute_result",
     "data": {
      "text/plain": "order_id              20\nquantity              20\nitem_name             20\nchoice_description    20\nitem_price            20\ndtype: int64"
     },
     "metadata": {},
     "execution_count": 156
    }
   ],
   "source": [
    "chipo[(chipo[\"item_name\"] == \"Canned Soda\") & (chipo['quantity'] > 1)].count()"
   ]
  }
 ],
 "metadata": {
  "kernelspec": {
   "display_name": "Python 3",
   "language": "python",
   "name": "python3"
  },
  "language_info": {
   "codemirror_mode": {
    "name": "ipython",
    "version": 3
   },
   "file_extension": ".py",
   "mimetype": "text/x-python",
   "name": "python",
   "nbconvert_exporter": "python",
   "pygments_lexer": "ipython3",
   "version": "3.8.3-final"
  }
 },
 "nbformat": 4,
 "nbformat_minor": 1
}