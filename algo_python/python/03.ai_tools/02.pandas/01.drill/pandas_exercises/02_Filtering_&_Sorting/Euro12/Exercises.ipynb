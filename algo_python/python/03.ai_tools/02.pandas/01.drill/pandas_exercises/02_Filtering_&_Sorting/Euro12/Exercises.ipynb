{
 "cells": [
  {
   "cell_type": "markdown",
   "metadata": {},
   "source": [
    "# Ex2 - Filtering and Sorting Data"
   ]
  },
  {
   "cell_type": "markdown",
   "metadata": {},
   "source": [
    "This time we are going to pull data directly from the internet.\n",
    "\n",
    "### Step 1. Import the necessary libraries"
   ]
  },
  {
   "cell_type": "code",
   "execution_count": 112,
   "metadata": {
    "collapsed": false
   },
   "outputs": [],
   "source": [
    "import pandas as pd"
   ]
  },
  {
   "cell_type": "markdown",
   "metadata": {},
   "source": [
    "### Step 2. Import the dataset from this [address](https://raw.githubusercontent.com/guipsamora/pandas_exercises/master/02_Filtering_%26_Sorting/Euro12/Euro_2012_stats_TEAM.csv). "
   ]
  },
  {
   "cell_type": "markdown",
   "metadata": {},
   "source": [
    "### Step 3. Assign it to a variable called euro12."
   ]
  },
  {
   "cell_type": "code",
   "execution_count": 113,
   "metadata": {
    "collapsed": false
   },
   "outputs": [
    {
     "output_type": "execute_result",
     "data": {
      "text/plain": "                     Goals  Shots on target  Shots off target  \\\nTeam                                                            \nCroatia                  4               13                12   \nCzech Republic           4               13                18   \nDenmark                  4               10                10   \nEngland                  5               11                18   \nFrance                   3               22                24   \nGermany                 10               32                32   \nGreece                   5                8                18   \nItaly                    6               34                45   \nNetherlands              2               12                36   \nPoland                   2               15                23   \nPortugal                 6               22                42   \nRepublic of Ireland      1                7                12   \nRussia                   5                9                31   \nSpain                   12               42                33   \nSweden                   5               17                19   \nUkraine                  2                7                26   \n\n                    Shooting Accuracy % Goals-to-shots  \\\nTeam                                                     \nCroatia                         51.9%            16.0%   \nCzech Republic                  41.9%            12.9%   \nDenmark                         50.0%            20.0%   \nEngland                         50.0%            17.2%   \nFrance                          37.9%             6.5%   \nGermany                         47.8%            15.6%   \nGreece                          30.7%            19.2%   \nItaly                           43.0%             7.5%   \nNetherlands                     25.0%             4.1%   \nPoland                          39.4%             5.2%   \nPortugal                        34.3%             9.3%   \nRepublic of Ireland             36.8%             5.2%   \nRussia                          22.5%            12.5%   \nSpain                           55.9%            16.0%   \nSweden                          47.2%            13.8%   \nUkraine                         21.2%             6.0%   \n\n                     Total shots (inc. Blocked)  Hit Woodwork  Penalty goals  \\\nTeam                                                                           \nCroatia                                      32             0              0   \nCzech Republic                               39             0              0   \nDenmark                                      27             1              0   \nEngland                                      40             0              0   \nFrance                                       65             1              0   \nGermany                                      80             2              1   \nGreece                                       32             1              1   \nItaly                                       110             2              0   \nNetherlands                                  60             2              0   \nPoland                                       48             0              0   \nPortugal                                     82             6              0   \nRepublic of Ireland                          28             0              0   \nRussia                                       59             2              0   \nSpain                                       100             0              1   \nSweden                                       39             3              0   \nUkraine                                      38             0              0   \n\n                     Penalties not scored  Headed goals  ...  Saves made  \\\nTeam                                                     ...               \nCroatia                                 0             2  ...          13   \nCzech Republic                          0             0  ...           9   \nDenmark                                 0             3  ...          10   \nEngland                                 0             3  ...          22   \nFrance                                  0             0  ...           6   \nGermany                                 0             2  ...          10   \nGreece                                  1             0  ...          13   \nItaly                                   0             2  ...          20   \nNetherlands                             0             0  ...          12   \nPoland                                  0             1  ...           6   \nPortugal                                0             2  ...          10   \nRepublic of Ireland                     0             1  ...          17   \nRussia                                  0             1  ...          10   \nSpain                                   0             2  ...          15   \nSweden                                  0             1  ...           8   \nUkraine                                 0             2  ...          13   \n\n                     Saves-to-shots ratio Fouls Won  Fouls Conceded  Offsides  \\\nTeam                                                                            \nCroatia                             81.3%        41              62         2   \nCzech Republic                      60.1%        53              73         8   \nDenmark                             66.7%        25              38         8   \nEngland                             88.1%        43              45         6   \nFrance                              54.6%        36              51         5   \nGermany                             62.6%        63              49        12   \nGreece                              65.1%        67              48        12   \nItaly                               74.1%       101              89        16   \nNetherlands                         70.6%        35              30         3   \nPoland                              66.7%        48              56         3   \nPortugal                            71.5%        73              90        10   \nRepublic of Ireland                 65.4%        43              51        11   \nRussia                              77.0%        34              43         4   \nSpain                               93.8%       102              83        19   \nSweden                              61.6%        35              51         7   \nUkraine                             76.5%        48              31         4   \n\n                     Yellow Cards  Red Cards  Subs on  Subs off  Players Used  \nTeam                                                                           \nCroatia                         9          0        9         9            16  \nCzech Republic                  7          0       11        11            19  \nDenmark                         4          0        7         7            15  \nEngland                         5          0       11        11            16  \nFrance                          6          0       11        11            19  \nGermany                         4          0       15        15            17  \nGreece                          9          1       12        12            20  \nItaly                          16          0       18        18            19  \nNetherlands                     5          0        7         7            15  \nPoland                          7          1        7         7            17  \nPortugal                       12          0       14        14            16  \nRepublic of Ireland             6          1       10        10            17  \nRussia                          6          0        7         7            16  \nSpain                          11          0       17        17            18  \nSweden                          7          0        9         9            18  \nUkraine                         5          0        9         9            18  \n\n[16 rows x 34 columns]",
      "text/html": "<div>\n<style scoped>\n    .dataframe tbody tr th:only-of-type {\n        vertical-align: middle;\n    }\n\n    .dataframe tbody tr th {\n        vertical-align: top;\n    }\n\n    .dataframe thead th {\n        text-align: right;\n    }\n</style>\n<table border=\"1\" class=\"dataframe\">\n  <thead>\n    <tr style=\"text-align: right;\">\n      <th></th>\n      <th>Goals</th>\n      <th>Shots on target</th>\n      <th>Shots off target</th>\n      <th>Shooting Accuracy</th>\n      <th>% Goals-to-shots</th>\n      <th>Total shots (inc. Blocked)</th>\n      <th>Hit Woodwork</th>\n      <th>Penalty goals</th>\n      <th>Penalties not scored</th>\n      <th>Headed goals</th>\n      <th>...</th>\n      <th>Saves made</th>\n      <th>Saves-to-shots ratio</th>\n      <th>Fouls Won</th>\n      <th>Fouls Conceded</th>\n      <th>Offsides</th>\n      <th>Yellow Cards</th>\n      <th>Red Cards</th>\n      <th>Subs on</th>\n      <th>Subs off</th>\n      <th>Players Used</th>\n    </tr>\n    <tr>\n      <th>Team</th>\n      <th></th>\n      <th></th>\n      <th></th>\n      <th></th>\n      <th></th>\n      <th></th>\n      <th></th>\n      <th></th>\n      <th></th>\n      <th></th>\n      <th></th>\n      <th></th>\n      <th></th>\n      <th></th>\n      <th></th>\n      <th></th>\n      <th></th>\n      <th></th>\n      <th></th>\n      <th></th>\n      <th></th>\n    </tr>\n  </thead>\n  <tbody>\n    <tr>\n      <th>Croatia</th>\n      <td>4</td>\n      <td>13</td>\n      <td>12</td>\n      <td>51.9%</td>\n      <td>16.0%</td>\n      <td>32</td>\n      <td>0</td>\n      <td>0</td>\n      <td>0</td>\n      <td>2</td>\n      <td>...</td>\n      <td>13</td>\n      <td>81.3%</td>\n      <td>41</td>\n      <td>62</td>\n      <td>2</td>\n      <td>9</td>\n      <td>0</td>\n      <td>9</td>\n      <td>9</td>\n      <td>16</td>\n    </tr>\n    <tr>\n      <th>Czech Republic</th>\n      <td>4</td>\n      <td>13</td>\n      <td>18</td>\n      <td>41.9%</td>\n      <td>12.9%</td>\n      <td>39</td>\n      <td>0</td>\n      <td>0</td>\n      <td>0</td>\n      <td>0</td>\n      <td>...</td>\n      <td>9</td>\n      <td>60.1%</td>\n      <td>53</td>\n      <td>73</td>\n      <td>8</td>\n      <td>7</td>\n      <td>0</td>\n      <td>11</td>\n      <td>11</td>\n      <td>19</td>\n    </tr>\n    <tr>\n      <th>Denmark</th>\n      <td>4</td>\n      <td>10</td>\n      <td>10</td>\n      <td>50.0%</td>\n      <td>20.0%</td>\n      <td>27</td>\n      <td>1</td>\n      <td>0</td>\n      <td>0</td>\n      <td>3</td>\n      <td>...</td>\n      <td>10</td>\n      <td>66.7%</td>\n      <td>25</td>\n      <td>38</td>\n      <td>8</td>\n      <td>4</td>\n      <td>0</td>\n      <td>7</td>\n      <td>7</td>\n      <td>15</td>\n    </tr>\n    <tr>\n      <th>England</th>\n      <td>5</td>\n      <td>11</td>\n      <td>18</td>\n      <td>50.0%</td>\n      <td>17.2%</td>\n      <td>40</td>\n      <td>0</td>\n      <td>0</td>\n      <td>0</td>\n      <td>3</td>\n      <td>...</td>\n      <td>22</td>\n      <td>88.1%</td>\n      <td>43</td>\n      <td>45</td>\n      <td>6</td>\n      <td>5</td>\n      <td>0</td>\n      <td>11</td>\n      <td>11</td>\n      <td>16</td>\n    </tr>\n    <tr>\n      <th>France</th>\n      <td>3</td>\n      <td>22</td>\n      <td>24</td>\n      <td>37.9%</td>\n      <td>6.5%</td>\n      <td>65</td>\n      <td>1</td>\n      <td>0</td>\n      <td>0</td>\n      <td>0</td>\n      <td>...</td>\n      <td>6</td>\n      <td>54.6%</td>\n      <td>36</td>\n      <td>51</td>\n      <td>5</td>\n      <td>6</td>\n      <td>0</td>\n      <td>11</td>\n      <td>11</td>\n      <td>19</td>\n    </tr>\n    <tr>\n      <th>Germany</th>\n      <td>10</td>\n      <td>32</td>\n      <td>32</td>\n      <td>47.8%</td>\n      <td>15.6%</td>\n      <td>80</td>\n      <td>2</td>\n      <td>1</td>\n      <td>0</td>\n      <td>2</td>\n      <td>...</td>\n      <td>10</td>\n      <td>62.6%</td>\n      <td>63</td>\n      <td>49</td>\n      <td>12</td>\n      <td>4</td>\n      <td>0</td>\n      <td>15</td>\n      <td>15</td>\n      <td>17</td>\n    </tr>\n    <tr>\n      <th>Greece</th>\n      <td>5</td>\n      <td>8</td>\n      <td>18</td>\n      <td>30.7%</td>\n      <td>19.2%</td>\n      <td>32</td>\n      <td>1</td>\n      <td>1</td>\n      <td>1</td>\n      <td>0</td>\n      <td>...</td>\n      <td>13</td>\n      <td>65.1%</td>\n      <td>67</td>\n      <td>48</td>\n      <td>12</td>\n      <td>9</td>\n      <td>1</td>\n      <td>12</td>\n      <td>12</td>\n      <td>20</td>\n    </tr>\n    <tr>\n      <th>Italy</th>\n      <td>6</td>\n      <td>34</td>\n      <td>45</td>\n      <td>43.0%</td>\n      <td>7.5%</td>\n      <td>110</td>\n      <td>2</td>\n      <td>0</td>\n      <td>0</td>\n      <td>2</td>\n      <td>...</td>\n      <td>20</td>\n      <td>74.1%</td>\n      <td>101</td>\n      <td>89</td>\n      <td>16</td>\n      <td>16</td>\n      <td>0</td>\n      <td>18</td>\n      <td>18</td>\n      <td>19</td>\n    </tr>\n    <tr>\n      <th>Netherlands</th>\n      <td>2</td>\n      <td>12</td>\n      <td>36</td>\n      <td>25.0%</td>\n      <td>4.1%</td>\n      <td>60</td>\n      <td>2</td>\n      <td>0</td>\n      <td>0</td>\n      <td>0</td>\n      <td>...</td>\n      <td>12</td>\n      <td>70.6%</td>\n      <td>35</td>\n      <td>30</td>\n      <td>3</td>\n      <td>5</td>\n      <td>0</td>\n      <td>7</td>\n      <td>7</td>\n      <td>15</td>\n    </tr>\n    <tr>\n      <th>Poland</th>\n      <td>2</td>\n      <td>15</td>\n      <td>23</td>\n      <td>39.4%</td>\n      <td>5.2%</td>\n      <td>48</td>\n      <td>0</td>\n      <td>0</td>\n      <td>0</td>\n      <td>1</td>\n      <td>...</td>\n      <td>6</td>\n      <td>66.7%</td>\n      <td>48</td>\n      <td>56</td>\n      <td>3</td>\n      <td>7</td>\n      <td>1</td>\n      <td>7</td>\n      <td>7</td>\n      <td>17</td>\n    </tr>\n    <tr>\n      <th>Portugal</th>\n      <td>6</td>\n      <td>22</td>\n      <td>42</td>\n      <td>34.3%</td>\n      <td>9.3%</td>\n      <td>82</td>\n      <td>6</td>\n      <td>0</td>\n      <td>0</td>\n      <td>2</td>\n      <td>...</td>\n      <td>10</td>\n      <td>71.5%</td>\n      <td>73</td>\n      <td>90</td>\n      <td>10</td>\n      <td>12</td>\n      <td>0</td>\n      <td>14</td>\n      <td>14</td>\n      <td>16</td>\n    </tr>\n    <tr>\n      <th>Republic of Ireland</th>\n      <td>1</td>\n      <td>7</td>\n      <td>12</td>\n      <td>36.8%</td>\n      <td>5.2%</td>\n      <td>28</td>\n      <td>0</td>\n      <td>0</td>\n      <td>0</td>\n      <td>1</td>\n      <td>...</td>\n      <td>17</td>\n      <td>65.4%</td>\n      <td>43</td>\n      <td>51</td>\n      <td>11</td>\n      <td>6</td>\n      <td>1</td>\n      <td>10</td>\n      <td>10</td>\n      <td>17</td>\n    </tr>\n    <tr>\n      <th>Russia</th>\n      <td>5</td>\n      <td>9</td>\n      <td>31</td>\n      <td>22.5%</td>\n      <td>12.5%</td>\n      <td>59</td>\n      <td>2</td>\n      <td>0</td>\n      <td>0</td>\n      <td>1</td>\n      <td>...</td>\n      <td>10</td>\n      <td>77.0%</td>\n      <td>34</td>\n      <td>43</td>\n      <td>4</td>\n      <td>6</td>\n      <td>0</td>\n      <td>7</td>\n      <td>7</td>\n      <td>16</td>\n    </tr>\n    <tr>\n      <th>Spain</th>\n      <td>12</td>\n      <td>42</td>\n      <td>33</td>\n      <td>55.9%</td>\n      <td>16.0%</td>\n      <td>100</td>\n      <td>0</td>\n      <td>1</td>\n      <td>0</td>\n      <td>2</td>\n      <td>...</td>\n      <td>15</td>\n      <td>93.8%</td>\n      <td>102</td>\n      <td>83</td>\n      <td>19</td>\n      <td>11</td>\n      <td>0</td>\n      <td>17</td>\n      <td>17</td>\n      <td>18</td>\n    </tr>\n    <tr>\n      <th>Sweden</th>\n      <td>5</td>\n      <td>17</td>\n      <td>19</td>\n      <td>47.2%</td>\n      <td>13.8%</td>\n      <td>39</td>\n      <td>3</td>\n      <td>0</td>\n      <td>0</td>\n      <td>1</td>\n      <td>...</td>\n      <td>8</td>\n      <td>61.6%</td>\n      <td>35</td>\n      <td>51</td>\n      <td>7</td>\n      <td>7</td>\n      <td>0</td>\n      <td>9</td>\n      <td>9</td>\n      <td>18</td>\n    </tr>\n    <tr>\n      <th>Ukraine</th>\n      <td>2</td>\n      <td>7</td>\n      <td>26</td>\n      <td>21.2%</td>\n      <td>6.0%</td>\n      <td>38</td>\n      <td>0</td>\n      <td>0</td>\n      <td>0</td>\n      <td>2</td>\n      <td>...</td>\n      <td>13</td>\n      <td>76.5%</td>\n      <td>48</td>\n      <td>31</td>\n      <td>4</td>\n      <td>5</td>\n      <td>0</td>\n      <td>9</td>\n      <td>9</td>\n      <td>18</td>\n    </tr>\n  </tbody>\n</table>\n<p>16 rows × 34 columns</p>\n</div>"
     },
     "metadata": {},
     "execution_count": 113
    }
   ],
   "source": [
    "url = \"https://raw.githubusercontent.com/guipsamora/pandas_exercises/master/02_Filtering_&_Sorting/Euro12/Euro_2012_stats_TEAM.csv\"\n",
    "\n",
    "euro12 = pd.read_csv(url, sep=\",\")\n",
    "euro12.set_index(\"Team\", inplace=True)\n",
    "euro12"
   ]
  },
  {
   "cell_type": "markdown",
   "metadata": {},
   "source": [
    "### Step 4. Select only the Goal column."
   ]
  },
  {
   "cell_type": "code",
   "execution_count": 114,
   "metadata": {
    "collapsed": false
   },
   "outputs": [
    {
     "output_type": "execute_result",
     "data": {
      "text/plain": "                     Goals\nTeam                      \nCroatia                  4\nCzech Republic           4\nDenmark                  4\nEngland                  5\nFrance                   3\nGermany                 10\nGreece                   5\nItaly                    6\nNetherlands              2\nPoland                   2\nPortugal                 6\nRepublic of Ireland      1\nRussia                   5\nSpain                   12\nSweden                   5\nUkraine                  2",
      "text/html": "<div>\n<style scoped>\n    .dataframe tbody tr th:only-of-type {\n        vertical-align: middle;\n    }\n\n    .dataframe tbody tr th {\n        vertical-align: top;\n    }\n\n    .dataframe thead th {\n        text-align: right;\n    }\n</style>\n<table border=\"1\" class=\"dataframe\">\n  <thead>\n    <tr style=\"text-align: right;\">\n      <th></th>\n      <th>Goals</th>\n    </tr>\n    <tr>\n      <th>Team</th>\n      <th></th>\n    </tr>\n  </thead>\n  <tbody>\n    <tr>\n      <th>Croatia</th>\n      <td>4</td>\n    </tr>\n    <tr>\n      <th>Czech Republic</th>\n      <td>4</td>\n    </tr>\n    <tr>\n      <th>Denmark</th>\n      <td>4</td>\n    </tr>\n    <tr>\n      <th>England</th>\n      <td>5</td>\n    </tr>\n    <tr>\n      <th>France</th>\n      <td>3</td>\n    </tr>\n    <tr>\n      <th>Germany</th>\n      <td>10</td>\n    </tr>\n    <tr>\n      <th>Greece</th>\n      <td>5</td>\n    </tr>\n    <tr>\n      <th>Italy</th>\n      <td>6</td>\n    </tr>\n    <tr>\n      <th>Netherlands</th>\n      <td>2</td>\n    </tr>\n    <tr>\n      <th>Poland</th>\n      <td>2</td>\n    </tr>\n    <tr>\n      <th>Portugal</th>\n      <td>6</td>\n    </tr>\n    <tr>\n      <th>Republic of Ireland</th>\n      <td>1</td>\n    </tr>\n    <tr>\n      <th>Russia</th>\n      <td>5</td>\n    </tr>\n    <tr>\n      <th>Spain</th>\n      <td>12</td>\n    </tr>\n    <tr>\n      <th>Sweden</th>\n      <td>5</td>\n    </tr>\n    <tr>\n      <th>Ukraine</th>\n      <td>2</td>\n    </tr>\n  </tbody>\n</table>\n</div>"
     },
     "metadata": {},
     "execution_count": 114
    }
   ],
   "source": [
    "df_goal_col = euro12.loc[:,[\"Goals\"]]\n",
    "type(df_goal_col)\n",
    "df_goal_col"
   ]
  },
  {
   "cell_type": "markdown",
   "metadata": {},
   "source": [
    "### Step 5. How many team participated in the Euro2012?"
   ]
  },
  {
   "cell_type": "code",
   "execution_count": 115,
   "metadata": {
    "collapsed": false,
    "tags": []
   },
   "outputs": [
    {
     "output_type": "stream",
     "name": "stdout",
     "text": "&lt;class &#39;pandas.core.frame.DataFrame&#39;&gt;\nIndex: 16 entries, Croatia to Ukraine\nData columns (total 34 columns):\n #   Column                      Non-Null Count  Dtype  \n---  ------                      --------------  -----  \n 0   Goals                       16 non-null     int64  \n 1   Shots on target             16 non-null     int64  \n 2   Shots off target            16 non-null     int64  \n 3   Shooting Accuracy           16 non-null     object \n 4   % Goals-to-shots            16 non-null     object \n 5   Total shots (inc. Blocked)  16 non-null     int64  \n 6   Hit Woodwork                16 non-null     int64  \n 7   Penalty goals               16 non-null     int64  \n 8   Penalties not scored        16 non-null     int64  \n 9   Headed goals                16 non-null     int64  \n 10  Passes                      16 non-null     int64  \n 11  Passes completed            16 non-null     int64  \n 12  Passing Accuracy            16 non-null     object \n 13  Touches                     16 non-null     int64  \n 14  Crosses                     16 non-null     int64  \n 15  Dribbles                    16 non-null     int64  \n 16  Corners Taken               16 non-null     int64  \n 17  Tackles                     16 non-null     int64  \n 18  Clearances                  16 non-null     int64  \n 19  Interceptions               16 non-null     int64  \n 20  Clearances off line         15 non-null     float64\n 21  Clean Sheets                16 non-null     int64  \n 22  Blocks                      16 non-null     int64  \n 23  Goals conceded              16 non-null     int64  \n 24  Saves made                  16 non-null     int64  \n 25  Saves-to-shots ratio        16 non-null     object \n 26  Fouls Won                   16 non-null     int64  \n 27  Fouls Conceded              16 non-null     int64  \n 28  Offsides                    16 non-null     int64  \n 29  Yellow Cards                16 non-null     int64  \n 30  Red Cards                   16 non-null     int64  \n 31  Subs on                     16 non-null     int64  \n 32  Subs off                    16 non-null     int64  \n 33  Players Used                16 non-null     int64  \ndtypes: float64(1), int64(29), object(4)\nmemory usage: 4.4+ KB\n"
    },
    {
     "output_type": "execute_result",
     "data": {
      "text/plain": "16"
     },
     "metadata": {},
     "execution_count": 115
    }
   ],
   "source": [
    "# euro12.shape\n",
    "euro12.info()\n",
    "len(euro12.index)"
   ]
  },
  {
   "cell_type": "markdown",
   "metadata": {},
   "source": [
    "### Step 6. What is the number of columns in the dataset?"
   ]
  },
  {
   "cell_type": "code",
   "execution_count": 116,
   "metadata": {
    "collapsed": false
   },
   "outputs": [
    {
     "output_type": "execute_result",
     "data": {
      "text/plain": "34"
     },
     "metadata": {},
     "execution_count": 116
    }
   ],
   "source": [
    "len(euro12.columns.to_list())"
   ]
  },
  {
   "cell_type": "markdown",
   "metadata": {},
   "source": [
    "### Step 7. View only the columns Team, Yellow Cards and Red Cards and assign them to a dataframe called discipline"
   ]
  },
  {
   "cell_type": "code",
   "execution_count": 117,
   "metadata": {
    "collapsed": false
   },
   "outputs": [
    {
     "output_type": "execute_result",
     "data": {
      "text/plain": "                     Yellow Cards  Red Cards\nTeam                                        \nCroatia                         9          0\nCzech Republic                  7          0\nDenmark                         4          0\nEngland                         5          0\nFrance                          6          0\nGermany                         4          0\nGreece                          9          1\nItaly                          16          0\nNetherlands                     5          0\nPoland                          7          1\nPortugal                       12          0\nRepublic of Ireland             6          1\nRussia                          6          0\nSpain                          11          0\nSweden                          7          0\nUkraine                         5          0",
      "text/html": "<div>\n<style scoped>\n    .dataframe tbody tr th:only-of-type {\n        vertical-align: middle;\n    }\n\n    .dataframe tbody tr th {\n        vertical-align: top;\n    }\n\n    .dataframe thead th {\n        text-align: right;\n    }\n</style>\n<table border=\"1\" class=\"dataframe\">\n  <thead>\n    <tr style=\"text-align: right;\">\n      <th></th>\n      <th>Yellow Cards</th>\n      <th>Red Cards</th>\n    </tr>\n    <tr>\n      <th>Team</th>\n      <th></th>\n      <th></th>\n    </tr>\n  </thead>\n  <tbody>\n    <tr>\n      <th>Croatia</th>\n      <td>9</td>\n      <td>0</td>\n    </tr>\n    <tr>\n      <th>Czech Republic</th>\n      <td>7</td>\n      <td>0</td>\n    </tr>\n    <tr>\n      <th>Denmark</th>\n      <td>4</td>\n      <td>0</td>\n    </tr>\n    <tr>\n      <th>England</th>\n      <td>5</td>\n      <td>0</td>\n    </tr>\n    <tr>\n      <th>France</th>\n      <td>6</td>\n      <td>0</td>\n    </tr>\n    <tr>\n      <th>Germany</th>\n      <td>4</td>\n      <td>0</td>\n    </tr>\n    <tr>\n      <th>Greece</th>\n      <td>9</td>\n      <td>1</td>\n    </tr>\n    <tr>\n      <th>Italy</th>\n      <td>16</td>\n      <td>0</td>\n    </tr>\n    <tr>\n      <th>Netherlands</th>\n      <td>5</td>\n      <td>0</td>\n    </tr>\n    <tr>\n      <th>Poland</th>\n      <td>7</td>\n      <td>1</td>\n    </tr>\n    <tr>\n      <th>Portugal</th>\n      <td>12</td>\n      <td>0</td>\n    </tr>\n    <tr>\n      <th>Republic of Ireland</th>\n      <td>6</td>\n      <td>1</td>\n    </tr>\n    <tr>\n      <th>Russia</th>\n      <td>6</td>\n      <td>0</td>\n    </tr>\n    <tr>\n      <th>Spain</th>\n      <td>11</td>\n      <td>0</td>\n    </tr>\n    <tr>\n      <th>Sweden</th>\n      <td>7</td>\n      <td>0</td>\n    </tr>\n    <tr>\n      <th>Ukraine</th>\n      <td>5</td>\n      <td>0</td>\n    </tr>\n  </tbody>\n</table>\n</div>"
     },
     "metadata": {},
     "execution_count": 117
    }
   ],
   "source": [
    "discipline = euro12.loc[:, [\"Yellow Cards\", \"Red Cards\"]]\n",
    "\n",
    "discipline"
   ]
  },
  {
   "cell_type": "markdown",
   "metadata": {},
   "source": [
    "### Step 8. Sort the teams by Red Cards, then to Yellow Cards"
   ]
  },
  {
   "cell_type": "code",
   "execution_count": 118,
   "metadata": {
    "collapsed": false,
    "scrolled": true
   },
   "outputs": [
    {
     "output_type": "execute_result",
     "data": {
      "text/plain": "                     Yellow Cards  Red Cards\nTeam                                        \nGreece                          9          1\nPoland                          7          1\nRepublic of Ireland             6          1\nItaly                          16          0\nPortugal                       12          0\nSpain                          11          0\nCroatia                         9          0\nCzech Republic                  7          0\nSweden                          7          0\nFrance                          6          0\nRussia                          6          0\nEngland                         5          0\nNetherlands                     5          0\nUkraine                         5          0\nDenmark                         4          0\nGermany                         4          0",
      "text/html": "<div>\n<style scoped>\n    .dataframe tbody tr th:only-of-type {\n        vertical-align: middle;\n    }\n\n    .dataframe tbody tr th {\n        vertical-align: top;\n    }\n\n    .dataframe thead th {\n        text-align: right;\n    }\n</style>\n<table border=\"1\" class=\"dataframe\">\n  <thead>\n    <tr style=\"text-align: right;\">\n      <th></th>\n      <th>Yellow Cards</th>\n      <th>Red Cards</th>\n    </tr>\n    <tr>\n      <th>Team</th>\n      <th></th>\n      <th></th>\n    </tr>\n  </thead>\n  <tbody>\n    <tr>\n      <th>Greece</th>\n      <td>9</td>\n      <td>1</td>\n    </tr>\n    <tr>\n      <th>Poland</th>\n      <td>7</td>\n      <td>1</td>\n    </tr>\n    <tr>\n      <th>Republic of Ireland</th>\n      <td>6</td>\n      <td>1</td>\n    </tr>\n    <tr>\n      <th>Italy</th>\n      <td>16</td>\n      <td>0</td>\n    </tr>\n    <tr>\n      <th>Portugal</th>\n      <td>12</td>\n      <td>0</td>\n    </tr>\n    <tr>\n      <th>Spain</th>\n      <td>11</td>\n      <td>0</td>\n    </tr>\n    <tr>\n      <th>Croatia</th>\n      <td>9</td>\n      <td>0</td>\n    </tr>\n    <tr>\n      <th>Czech Republic</th>\n      <td>7</td>\n      <td>0</td>\n    </tr>\n    <tr>\n      <th>Sweden</th>\n      <td>7</td>\n      <td>0</td>\n    </tr>\n    <tr>\n      <th>France</th>\n      <td>6</td>\n      <td>0</td>\n    </tr>\n    <tr>\n      <th>Russia</th>\n      <td>6</td>\n      <td>0</td>\n    </tr>\n    <tr>\n      <th>England</th>\n      <td>5</td>\n      <td>0</td>\n    </tr>\n    <tr>\n      <th>Netherlands</th>\n      <td>5</td>\n      <td>0</td>\n    </tr>\n    <tr>\n      <th>Ukraine</th>\n      <td>5</td>\n      <td>0</td>\n    </tr>\n    <tr>\n      <th>Denmark</th>\n      <td>4</td>\n      <td>0</td>\n    </tr>\n    <tr>\n      <th>Germany</th>\n      <td>4</td>\n      <td>0</td>\n    </tr>\n  </tbody>\n</table>\n</div>"
     },
     "metadata": {},
     "execution_count": 118
    }
   ],
   "source": [
    "discipline.sort_values([\"Red Cards\", \"Yellow Cards\"], ascending=False)"
   ]
  },
  {
   "cell_type": "markdown",
   "metadata": {},
   "source": [
    "### Step 9. Calculate the mean Yellow Cards given per Team"
   ]
  },
  {
   "cell_type": "code",
   "execution_count": 119,
   "metadata": {
    "collapsed": false
   },
   "outputs": [
    {
     "output_type": "execute_result",
     "data": {
      "text/plain": "7"
     },
     "metadata": {},
     "execution_count": 119
    }
   ],
   "source": [
    "round(discipline['Yellow Cards'].mean())"
   ]
  },
  {
   "cell_type": "markdown",
   "metadata": {},
   "source": [
    "### Step 10. Filter teams that scored more than 6 goals"
   ]
  },
  {
   "cell_type": "code",
   "execution_count": 120,
   "metadata": {
    "collapsed": false
   },
   "outputs": [
    {
     "output_type": "execute_result",
     "data": {
      "text/plain": "         Goals\nTeam          \nGermany     10\nSpain       12",
      "text/html": "<div>\n<style scoped>\n    .dataframe tbody tr th:only-of-type {\n        vertical-align: middle;\n    }\n\n    .dataframe tbody tr th {\n        vertical-align: top;\n    }\n\n    .dataframe thead th {\n        text-align: right;\n    }\n</style>\n<table border=\"1\" class=\"dataframe\">\n  <thead>\n    <tr style=\"text-align: right;\">\n      <th></th>\n      <th>Goals</th>\n    </tr>\n    <tr>\n      <th>Team</th>\n      <th></th>\n    </tr>\n  </thead>\n  <tbody>\n    <tr>\n      <th>Germany</th>\n      <td>10</td>\n    </tr>\n    <tr>\n      <th>Spain</th>\n      <td>12</td>\n    </tr>\n  </tbody>\n</table>\n</div>"
     },
     "metadata": {},
     "execution_count": 120
    }
   ],
   "source": [
    "score_more_than_six_goals = df_goal_col[df_goal_col[\"Goals\"] > 6]\n",
    "score_more_than_six_goals"
   ]
  },
  {
   "cell_type": "markdown",
   "metadata": {},
   "source": [
    "### Step 11. Select the teams that start with G"
   ]
  },
  {
   "cell_type": "code",
   "execution_count": 126,
   "metadata": {
    "collapsed": false
   },
   "outputs": [
    {
     "output_type": "execute_result",
     "data": {
      "text/plain": "         Goals  Shots on target  Shots off target Shooting Accuracy  \\\nTeam                                                                  \nGermany     10               32                32             47.8%   \nGreece       5                8                18             30.7%   \n\n        % Goals-to-shots  Total shots (inc. Blocked)  Hit Woodwork  \\\nTeam                                                                 \nGermany            15.6%                          80             2   \nGreece             19.2%                          32             1   \n\n         Penalty goals  Penalties not scored  Headed goals  ...  Saves made  \\\nTeam                                                        ...               \nGermany              1                     0             2  ...          10   \nGreece               1                     1             0  ...          13   \n\n         Saves-to-shots ratio Fouls Won  Fouls Conceded  Offsides  \\\nTeam                                                                \nGermany                 62.6%        63              49        12   \nGreece                  65.1%        67              48        12   \n\n         Yellow Cards  Red Cards  Subs on  Subs off  Players Used  \nTeam                                                               \nGermany             4          0       15        15            17  \nGreece              9          1       12        12            20  \n\n[2 rows x 34 columns]",
      "text/html": "<div>\n<style scoped>\n    .dataframe tbody tr th:only-of-type {\n        vertical-align: middle;\n    }\n\n    .dataframe tbody tr th {\n        vertical-align: top;\n    }\n\n    .dataframe thead th {\n        text-align: right;\n    }\n</style>\n<table border=\"1\" class=\"dataframe\">\n  <thead>\n    <tr style=\"text-align: right;\">\n      <th></th>\n      <th>Goals</th>\n      <th>Shots on target</th>\n      <th>Shots off target</th>\n      <th>Shooting Accuracy</th>\n      <th>% Goals-to-shots</th>\n      <th>Total shots (inc. Blocked)</th>\n      <th>Hit Woodwork</th>\n      <th>Penalty goals</th>\n      <th>Penalties not scored</th>\n      <th>Headed goals</th>\n      <th>...</th>\n      <th>Saves made</th>\n      <th>Saves-to-shots ratio</th>\n      <th>Fouls Won</th>\n      <th>Fouls Conceded</th>\n      <th>Offsides</th>\n      <th>Yellow Cards</th>\n      <th>Red Cards</th>\n      <th>Subs on</th>\n      <th>Subs off</th>\n      <th>Players Used</th>\n    </tr>\n    <tr>\n      <th>Team</th>\n      <th></th>\n      <th></th>\n      <th></th>\n      <th></th>\n      <th></th>\n      <th></th>\n      <th></th>\n      <th></th>\n      <th></th>\n      <th></th>\n      <th></th>\n      <th></th>\n      <th></th>\n      <th></th>\n      <th></th>\n      <th></th>\n      <th></th>\n      <th></th>\n      <th></th>\n      <th></th>\n      <th></th>\n    </tr>\n  </thead>\n  <tbody>\n    <tr>\n      <th>Germany</th>\n      <td>10</td>\n      <td>32</td>\n      <td>32</td>\n      <td>47.8%</td>\n      <td>15.6%</td>\n      <td>80</td>\n      <td>2</td>\n      <td>1</td>\n      <td>0</td>\n      <td>2</td>\n      <td>...</td>\n      <td>10</td>\n      <td>62.6%</td>\n      <td>63</td>\n      <td>49</td>\n      <td>12</td>\n      <td>4</td>\n      <td>0</td>\n      <td>15</td>\n      <td>15</td>\n      <td>17</td>\n    </tr>\n    <tr>\n      <th>Greece</th>\n      <td>5</td>\n      <td>8</td>\n      <td>18</td>\n      <td>30.7%</td>\n      <td>19.2%</td>\n      <td>32</td>\n      <td>1</td>\n      <td>1</td>\n      <td>1</td>\n      <td>0</td>\n      <td>...</td>\n      <td>13</td>\n      <td>65.1%</td>\n      <td>67</td>\n      <td>48</td>\n      <td>12</td>\n      <td>9</td>\n      <td>1</td>\n      <td>12</td>\n      <td>12</td>\n      <td>20</td>\n    </tr>\n  </tbody>\n</table>\n<p>2 rows × 34 columns</p>\n</div>"
     },
     "metadata": {},
     "execution_count": 126
    }
   ],
   "source": [
    "euro12[euro12.index.str.startswith(\"G\")]"
   ]
  },
  {
   "cell_type": "markdown",
   "metadata": {},
   "source": [
    "### Step 12. Select the first 7 columns"
   ]
  },
  {
   "cell_type": "code",
   "execution_count": 129,
   "metadata": {
    "collapsed": false
   },
   "outputs": [
    {
     "output_type": "execute_result",
     "data": {
      "text/plain": "                     Goals  Shots on target  Shots off target  \\\nTeam                                                            \nCroatia                  4               13                12   \nCzech Republic           4               13                18   \nDenmark                  4               10                10   \nEngland                  5               11                18   \nFrance                   3               22                24   \nGermany                 10               32                32   \nGreece                   5                8                18   \nItaly                    6               34                45   \nNetherlands              2               12                36   \nPoland                   2               15                23   \nPortugal                 6               22                42   \nRepublic of Ireland      1                7                12   \nRussia                   5                9                31   \nSpain                   12               42                33   \nSweden                   5               17                19   \nUkraine                  2                7                26   \n\n                    Shooting Accuracy % Goals-to-shots  \\\nTeam                                                     \nCroatia                         51.9%            16.0%   \nCzech Republic                  41.9%            12.9%   \nDenmark                         50.0%            20.0%   \nEngland                         50.0%            17.2%   \nFrance                          37.9%             6.5%   \nGermany                         47.8%            15.6%   \nGreece                          30.7%            19.2%   \nItaly                           43.0%             7.5%   \nNetherlands                     25.0%             4.1%   \nPoland                          39.4%             5.2%   \nPortugal                        34.3%             9.3%   \nRepublic of Ireland             36.8%             5.2%   \nRussia                          22.5%            12.5%   \nSpain                           55.9%            16.0%   \nSweden                          47.2%            13.8%   \nUkraine                         21.2%             6.0%   \n\n                     Total shots (inc. Blocked)  \nTeam                                             \nCroatia                                      32  \nCzech Republic                               39  \nDenmark                                      27  \nEngland                                      40  \nFrance                                       65  \nGermany                                      80  \nGreece                                       32  \nItaly                                       110  \nNetherlands                                  60  \nPoland                                       48  \nPortugal                                     82  \nRepublic of Ireland                          28  \nRussia                                       59  \nSpain                                       100  \nSweden                                       39  \nUkraine                                      38  ",
      "text/html": "<div>\n<style scoped>\n    .dataframe tbody tr th:only-of-type {\n        vertical-align: middle;\n    }\n\n    .dataframe tbody tr th {\n        vertical-align: top;\n    }\n\n    .dataframe thead th {\n        text-align: right;\n    }\n</style>\n<table border=\"1\" class=\"dataframe\">\n  <thead>\n    <tr style=\"text-align: right;\">\n      <th></th>\n      <th>Goals</th>\n      <th>Shots on target</th>\n      <th>Shots off target</th>\n      <th>Shooting Accuracy</th>\n      <th>% Goals-to-shots</th>\n      <th>Total shots (inc. Blocked)</th>\n    </tr>\n    <tr>\n      <th>Team</th>\n      <th></th>\n      <th></th>\n      <th></th>\n      <th></th>\n      <th></th>\n      <th></th>\n    </tr>\n  </thead>\n  <tbody>\n    <tr>\n      <th>Croatia</th>\n      <td>4</td>\n      <td>13</td>\n      <td>12</td>\n      <td>51.9%</td>\n      <td>16.0%</td>\n      <td>32</td>\n    </tr>\n    <tr>\n      <th>Czech Republic</th>\n      <td>4</td>\n      <td>13</td>\n      <td>18</td>\n      <td>41.9%</td>\n      <td>12.9%</td>\n      <td>39</td>\n    </tr>\n    <tr>\n      <th>Denmark</th>\n      <td>4</td>\n      <td>10</td>\n      <td>10</td>\n      <td>50.0%</td>\n      <td>20.0%</td>\n      <td>27</td>\n    </tr>\n    <tr>\n      <th>England</th>\n      <td>5</td>\n      <td>11</td>\n      <td>18</td>\n      <td>50.0%</td>\n      <td>17.2%</td>\n      <td>40</td>\n    </tr>\n    <tr>\n      <th>France</th>\n      <td>3</td>\n      <td>22</td>\n      <td>24</td>\n      <td>37.9%</td>\n      <td>6.5%</td>\n      <td>65</td>\n    </tr>\n    <tr>\n      <th>Germany</th>\n      <td>10</td>\n      <td>32</td>\n      <td>32</td>\n      <td>47.8%</td>\n      <td>15.6%</td>\n      <td>80</td>\n    </tr>\n    <tr>\n      <th>Greece</th>\n      <td>5</td>\n      <td>8</td>\n      <td>18</td>\n      <td>30.7%</td>\n      <td>19.2%</td>\n      <td>32</td>\n    </tr>\n    <tr>\n      <th>Italy</th>\n      <td>6</td>\n      <td>34</td>\n      <td>45</td>\n      <td>43.0%</td>\n      <td>7.5%</td>\n      <td>110</td>\n    </tr>\n    <tr>\n      <th>Netherlands</th>\n      <td>2</td>\n      <td>12</td>\n      <td>36</td>\n      <td>25.0%</td>\n      <td>4.1%</td>\n      <td>60</td>\n    </tr>\n    <tr>\n      <th>Poland</th>\n      <td>2</td>\n      <td>15</td>\n      <td>23</td>\n      <td>39.4%</td>\n      <td>5.2%</td>\n      <td>48</td>\n    </tr>\n    <tr>\n      <th>Portugal</th>\n      <td>6</td>\n      <td>22</td>\n      <td>42</td>\n      <td>34.3%</td>\n      <td>9.3%</td>\n      <td>82</td>\n    </tr>\n    <tr>\n      <th>Republic of Ireland</th>\n      <td>1</td>\n      <td>7</td>\n      <td>12</td>\n      <td>36.8%</td>\n      <td>5.2%</td>\n      <td>28</td>\n    </tr>\n    <tr>\n      <th>Russia</th>\n      <td>5</td>\n      <td>9</td>\n      <td>31</td>\n      <td>22.5%</td>\n      <td>12.5%</td>\n      <td>59</td>\n    </tr>\n    <tr>\n      <th>Spain</th>\n      <td>12</td>\n      <td>42</td>\n      <td>33</td>\n      <td>55.9%</td>\n      <td>16.0%</td>\n      <td>100</td>\n    </tr>\n    <tr>\n      <th>Sweden</th>\n      <td>5</td>\n      <td>17</td>\n      <td>19</td>\n      <td>47.2%</td>\n      <td>13.8%</td>\n      <td>39</td>\n    </tr>\n    <tr>\n      <th>Ukraine</th>\n      <td>2</td>\n      <td>7</td>\n      <td>26</td>\n      <td>21.2%</td>\n      <td>6.0%</td>\n      <td>38</td>\n    </tr>\n  </tbody>\n</table>\n</div>"
     },
     "metadata": {},
     "execution_count": 129
    }
   ],
   "source": [
    "euro12.iloc[:, :6]"
   ]
  },
  {
   "cell_type": "markdown",
   "metadata": {},
   "source": [
    "### Step 13. Select all columns except the last 3."
   ]
  },
  {
   "cell_type": "code",
   "execution_count": 132,
   "metadata": {
    "collapsed": false
   },
   "outputs": [
    {
     "output_type": "execute_result",
     "data": {
      "text/plain": "                     Goals  Shots on target  Shots off target  \\\nTeam                                                            \nCroatia                  4               13                12   \nCzech Republic           4               13                18   \nDenmark                  4               10                10   \nEngland                  5               11                18   \nFrance                   3               22                24   \nGermany                 10               32                32   \nGreece                   5                8                18   \nItaly                    6               34                45   \nNetherlands              2               12                36   \nPoland                   2               15                23   \nPortugal                 6               22                42   \nRepublic of Ireland      1                7                12   \nRussia                   5                9                31   \nSpain                   12               42                33   \nSweden                   5               17                19   \nUkraine                  2                7                26   \n\n                    Shooting Accuracy % Goals-to-shots  \\\nTeam                                                     \nCroatia                         51.9%            16.0%   \nCzech Republic                  41.9%            12.9%   \nDenmark                         50.0%            20.0%   \nEngland                         50.0%            17.2%   \nFrance                          37.9%             6.5%   \nGermany                         47.8%            15.6%   \nGreece                          30.7%            19.2%   \nItaly                           43.0%             7.5%   \nNetherlands                     25.0%             4.1%   \nPoland                          39.4%             5.2%   \nPortugal                        34.3%             9.3%   \nRepublic of Ireland             36.8%             5.2%   \nRussia                          22.5%            12.5%   \nSpain                           55.9%            16.0%   \nSweden                          47.2%            13.8%   \nUkraine                         21.2%             6.0%   \n\n                     Total shots (inc. Blocked)  Hit Woodwork  Penalty goals  \\\nTeam                                                                           \nCroatia                                      32             0              0   \nCzech Republic                               39             0              0   \nDenmark                                      27             1              0   \nEngland                                      40             0              0   \nFrance                                       65             1              0   \nGermany                                      80             2              1   \nGreece                                       32             1              1   \nItaly                                       110             2              0   \nNetherlands                                  60             2              0   \nPoland                                       48             0              0   \nPortugal                                     82             6              0   \nRepublic of Ireland                          28             0              0   \nRussia                                       59             2              0   \nSpain                                       100             0              1   \nSweden                                       39             3              0   \nUkraine                                      38             0              0   \n\n                     Penalties not scored  Headed goals  ...  Clean Sheets  \\\nTeam                                                     ...                 \nCroatia                                 0             2  ...             0   \nCzech Republic                          0             0  ...             1   \nDenmark                                 0             3  ...             1   \nEngland                                 0             3  ...             2   \nFrance                                  0             0  ...             1   \nGermany                                 0             2  ...             1   \nGreece                                  1             0  ...             1   \nItaly                                   0             2  ...             2   \nNetherlands                             0             0  ...             0   \nPoland                                  0             1  ...             0   \nPortugal                                0             2  ...             2   \nRepublic of Ireland                     0             1  ...             0   \nRussia                                  0             1  ...             0   \nSpain                                   0             2  ...             5   \nSweden                                  0             1  ...             1   \nUkraine                                 0             2  ...             0   \n\n                     Blocks Goals conceded  Saves made  Saves-to-shots ratio  \\\nTeam                                                                           \nCroatia                  10              3          13                 81.3%   \nCzech Republic           10              6           9                 60.1%   \nDenmark                  10              5          10                 66.7%   \nEngland                  29              3          22                 88.1%   \nFrance                    7              5           6                 54.6%   \nGermany                  11              6          10                 62.6%   \nGreece                   23              7          13                 65.1%   \nItaly                    18              7          20                 74.1%   \nNetherlands               9              5          12                 70.6%   \nPoland                    8              3           6                 66.7%   \nPortugal                 11              4          10                 71.5%   \nRepublic of Ireland      23              9          17                 65.4%   \nRussia                    8              3          10                 77.0%   \nSpain                     8              1          15                 93.8%   \nSweden                   12              5           8                 61.6%   \nUkraine                   4              4          13                 76.5%   \n\n                     Fouls Won  Fouls Conceded  Offsides  Yellow Cards  \\\nTeam                                                                     \nCroatia                     41              62         2             9   \nCzech Republic              53              73         8             7   \nDenmark                     25              38         8             4   \nEngland                     43              45         6             5   \nFrance                      36              51         5             6   \nGermany                     63              49        12             4   \nGreece                      67              48        12             9   \nItaly                      101              89        16            16   \nNetherlands                 35              30         3             5   \nPoland                      48              56         3             7   \nPortugal                    73              90        10            12   \nRepublic of Ireland         43              51        11             6   \nRussia                      34              43         4             6   \nSpain                      102              83        19            11   \nSweden                      35              51         7             7   \nUkraine                     48              31         4             5   \n\n                     Red Cards  \nTeam                            \nCroatia                      0  \nCzech Republic               0  \nDenmark                      0  \nEngland                      0  \nFrance                       0  \nGermany                      0  \nGreece                       1  \nItaly                        0  \nNetherlands                  0  \nPoland                       1  \nPortugal                     0  \nRepublic of Ireland          1  \nRussia                       0  \nSpain                        0  \nSweden                       0  \nUkraine                      0  \n\n[16 rows x 31 columns]",
      "text/html": "<div>\n<style scoped>\n    .dataframe tbody tr th:only-of-type {\n        vertical-align: middle;\n    }\n\n    .dataframe tbody tr th {\n        vertical-align: top;\n    }\n\n    .dataframe thead th {\n        text-align: right;\n    }\n</style>\n<table border=\"1\" class=\"dataframe\">\n  <thead>\n    <tr style=\"text-align: right;\">\n      <th></th>\n      <th>Goals</th>\n      <th>Shots on target</th>\n      <th>Shots off target</th>\n      <th>Shooting Accuracy</th>\n      <th>% Goals-to-shots</th>\n      <th>Total shots (inc. Blocked)</th>\n      <th>Hit Woodwork</th>\n      <th>Penalty goals</th>\n      <th>Penalties not scored</th>\n      <th>Headed goals</th>\n      <th>...</th>\n      <th>Clean Sheets</th>\n      <th>Blocks</th>\n      <th>Goals conceded</th>\n      <th>Saves made</th>\n      <th>Saves-to-shots ratio</th>\n      <th>Fouls Won</th>\n      <th>Fouls Conceded</th>\n      <th>Offsides</th>\n      <th>Yellow Cards</th>\n      <th>Red Cards</th>\n    </tr>\n    <tr>\n      <th>Team</th>\n      <th></th>\n      <th></th>\n      <th></th>\n      <th></th>\n      <th></th>\n      <th></th>\n      <th></th>\n      <th></th>\n      <th></th>\n      <th></th>\n      <th></th>\n      <th></th>\n      <th></th>\n      <th></th>\n      <th></th>\n      <th></th>\n      <th></th>\n      <th></th>\n      <th></th>\n      <th></th>\n      <th></th>\n    </tr>\n  </thead>\n  <tbody>\n    <tr>\n      <th>Croatia</th>\n      <td>4</td>\n      <td>13</td>\n      <td>12</td>\n      <td>51.9%</td>\n      <td>16.0%</td>\n      <td>32</td>\n      <td>0</td>\n      <td>0</td>\n      <td>0</td>\n      <td>2</td>\n      <td>...</td>\n      <td>0</td>\n      <td>10</td>\n      <td>3</td>\n      <td>13</td>\n      <td>81.3%</td>\n      <td>41</td>\n      <td>62</td>\n      <td>2</td>\n      <td>9</td>\n      <td>0</td>\n    </tr>\n    <tr>\n      <th>Czech Republic</th>\n      <td>4</td>\n      <td>13</td>\n      <td>18</td>\n      <td>41.9%</td>\n      <td>12.9%</td>\n      <td>39</td>\n      <td>0</td>\n      <td>0</td>\n      <td>0</td>\n      <td>0</td>\n      <td>...</td>\n      <td>1</td>\n      <td>10</td>\n      <td>6</td>\n      <td>9</td>\n      <td>60.1%</td>\n      <td>53</td>\n      <td>73</td>\n      <td>8</td>\n      <td>7</td>\n      <td>0</td>\n    </tr>\n    <tr>\n      <th>Denmark</th>\n      <td>4</td>\n      <td>10</td>\n      <td>10</td>\n      <td>50.0%</td>\n      <td>20.0%</td>\n      <td>27</td>\n      <td>1</td>\n      <td>0</td>\n      <td>0</td>\n      <td>3</td>\n      <td>...</td>\n      <td>1</td>\n      <td>10</td>\n      <td>5</td>\n      <td>10</td>\n      <td>66.7%</td>\n      <td>25</td>\n      <td>38</td>\n      <td>8</td>\n      <td>4</td>\n      <td>0</td>\n    </tr>\n    <tr>\n      <th>England</th>\n      <td>5</td>\n      <td>11</td>\n      <td>18</td>\n      <td>50.0%</td>\n      <td>17.2%</td>\n      <td>40</td>\n      <td>0</td>\n      <td>0</td>\n      <td>0</td>\n      <td>3</td>\n      <td>...</td>\n      <td>2</td>\n      <td>29</td>\n      <td>3</td>\n      <td>22</td>\n      <td>88.1%</td>\n      <td>43</td>\n      <td>45</td>\n      <td>6</td>\n      <td>5</td>\n      <td>0</td>\n    </tr>\n    <tr>\n      <th>France</th>\n      <td>3</td>\n      <td>22</td>\n      <td>24</td>\n      <td>37.9%</td>\n      <td>6.5%</td>\n      <td>65</td>\n      <td>1</td>\n      <td>0</td>\n      <td>0</td>\n      <td>0</td>\n      <td>...</td>\n      <td>1</td>\n      <td>7</td>\n      <td>5</td>\n      <td>6</td>\n      <td>54.6%</td>\n      <td>36</td>\n      <td>51</td>\n      <td>5</td>\n      <td>6</td>\n      <td>0</td>\n    </tr>\n    <tr>\n      <th>Germany</th>\n      <td>10</td>\n      <td>32</td>\n      <td>32</td>\n      <td>47.8%</td>\n      <td>15.6%</td>\n      <td>80</td>\n      <td>2</td>\n      <td>1</td>\n      <td>0</td>\n      <td>2</td>\n      <td>...</td>\n      <td>1</td>\n      <td>11</td>\n      <td>6</td>\n      <td>10</td>\n      <td>62.6%</td>\n      <td>63</td>\n      <td>49</td>\n      <td>12</td>\n      <td>4</td>\n      <td>0</td>\n    </tr>\n    <tr>\n      <th>Greece</th>\n      <td>5</td>\n      <td>8</td>\n      <td>18</td>\n      <td>30.7%</td>\n      <td>19.2%</td>\n      <td>32</td>\n      <td>1</td>\n      <td>1</td>\n      <td>1</td>\n      <td>0</td>\n      <td>...</td>\n      <td>1</td>\n      <td>23</td>\n      <td>7</td>\n      <td>13</td>\n      <td>65.1%</td>\n      <td>67</td>\n      <td>48</td>\n      <td>12</td>\n      <td>9</td>\n      <td>1</td>\n    </tr>\n    <tr>\n      <th>Italy</th>\n      <td>6</td>\n      <td>34</td>\n      <td>45</td>\n      <td>43.0%</td>\n      <td>7.5%</td>\n      <td>110</td>\n      <td>2</td>\n      <td>0</td>\n      <td>0</td>\n      <td>2</td>\n      <td>...</td>\n      <td>2</td>\n      <td>18</td>\n      <td>7</td>\n      <td>20</td>\n      <td>74.1%</td>\n      <td>101</td>\n      <td>89</td>\n      <td>16</td>\n      <td>16</td>\n      <td>0</td>\n    </tr>\n    <tr>\n      <th>Netherlands</th>\n      <td>2</td>\n      <td>12</td>\n      <td>36</td>\n      <td>25.0%</td>\n      <td>4.1%</td>\n      <td>60</td>\n      <td>2</td>\n      <td>0</td>\n      <td>0</td>\n      <td>0</td>\n      <td>...</td>\n      <td>0</td>\n      <td>9</td>\n      <td>5</td>\n      <td>12</td>\n      <td>70.6%</td>\n      <td>35</td>\n      <td>30</td>\n      <td>3</td>\n      <td>5</td>\n      <td>0</td>\n    </tr>\n    <tr>\n      <th>Poland</th>\n      <td>2</td>\n      <td>15</td>\n      <td>23</td>\n      <td>39.4%</td>\n      <td>5.2%</td>\n      <td>48</td>\n      <td>0</td>\n      <td>0</td>\n      <td>0</td>\n      <td>1</td>\n      <td>...</td>\n      <td>0</td>\n      <td>8</td>\n      <td>3</td>\n      <td>6</td>\n      <td>66.7%</td>\n      <td>48</td>\n      <td>56</td>\n      <td>3</td>\n      <td>7</td>\n      <td>1</td>\n    </tr>\n    <tr>\n      <th>Portugal</th>\n      <td>6</td>\n      <td>22</td>\n      <td>42</td>\n      <td>34.3%</td>\n      <td>9.3%</td>\n      <td>82</td>\n      <td>6</td>\n      <td>0</td>\n      <td>0</td>\n      <td>2</td>\n      <td>...</td>\n      <td>2</td>\n      <td>11</td>\n      <td>4</td>\n      <td>10</td>\n      <td>71.5%</td>\n      <td>73</td>\n      <td>90</td>\n      <td>10</td>\n      <td>12</td>\n      <td>0</td>\n    </tr>\n    <tr>\n      <th>Republic of Ireland</th>\n      <td>1</td>\n      <td>7</td>\n      <td>12</td>\n      <td>36.8%</td>\n      <td>5.2%</td>\n      <td>28</td>\n      <td>0</td>\n      <td>0</td>\n      <td>0</td>\n      <td>1</td>\n      <td>...</td>\n      <td>0</td>\n      <td>23</td>\n      <td>9</td>\n      <td>17</td>\n      <td>65.4%</td>\n      <td>43</td>\n      <td>51</td>\n      <td>11</td>\n      <td>6</td>\n      <td>1</td>\n    </tr>\n    <tr>\n      <th>Russia</th>\n      <td>5</td>\n      <td>9</td>\n      <td>31</td>\n      <td>22.5%</td>\n      <td>12.5%</td>\n      <td>59</td>\n      <td>2</td>\n      <td>0</td>\n      <td>0</td>\n      <td>1</td>\n      <td>...</td>\n      <td>0</td>\n      <td>8</td>\n      <td>3</td>\n      <td>10</td>\n      <td>77.0%</td>\n      <td>34</td>\n      <td>43</td>\n      <td>4</td>\n      <td>6</td>\n      <td>0</td>\n    </tr>\n    <tr>\n      <th>Spain</th>\n      <td>12</td>\n      <td>42</td>\n      <td>33</td>\n      <td>55.9%</td>\n      <td>16.0%</td>\n      <td>100</td>\n      <td>0</td>\n      <td>1</td>\n      <td>0</td>\n      <td>2</td>\n      <td>...</td>\n      <td>5</td>\n      <td>8</td>\n      <td>1</td>\n      <td>15</td>\n      <td>93.8%</td>\n      <td>102</td>\n      <td>83</td>\n      <td>19</td>\n      <td>11</td>\n      <td>0</td>\n    </tr>\n    <tr>\n      <th>Sweden</th>\n      <td>5</td>\n      <td>17</td>\n      <td>19</td>\n      <td>47.2%</td>\n      <td>13.8%</td>\n      <td>39</td>\n      <td>3</td>\n      <td>0</td>\n      <td>0</td>\n      <td>1</td>\n      <td>...</td>\n      <td>1</td>\n      <td>12</td>\n      <td>5</td>\n      <td>8</td>\n      <td>61.6%</td>\n      <td>35</td>\n      <td>51</td>\n      <td>7</td>\n      <td>7</td>\n      <td>0</td>\n    </tr>\n    <tr>\n      <th>Ukraine</th>\n      <td>2</td>\n      <td>7</td>\n      <td>26</td>\n      <td>21.2%</td>\n      <td>6.0%</td>\n      <td>38</td>\n      <td>0</td>\n      <td>0</td>\n      <td>0</td>\n      <td>2</td>\n      <td>...</td>\n      <td>0</td>\n      <td>4</td>\n      <td>4</td>\n      <td>13</td>\n      <td>76.5%</td>\n      <td>48</td>\n      <td>31</td>\n      <td>4</td>\n      <td>5</td>\n      <td>0</td>\n    </tr>\n  </tbody>\n</table>\n<p>16 rows × 31 columns</p>\n</div>"
     },
     "metadata": {},
     "execution_count": 132
    }
   ],
   "source": [
    "euro12.iloc[:, :-3]"
   ]
  },
  {
   "cell_type": "markdown",
   "metadata": {},
   "source": [
    "### Step 14. Present only the Shooting Accuracy from England, Italy and Russia"
   ]
  },
  {
   "cell_type": "code",
   "execution_count": 133,
   "metadata": {
    "collapsed": false
   },
   "outputs": [
    {
     "output_type": "execute_result",
     "data": {
      "text/plain": "Team\nEngland    50.0%\nItaly      43.0%\nRussia     22.5%\nName: Shooting Accuracy, dtype: object"
     },
     "metadata": {},
     "execution_count": 133
    }
   ],
   "source": [
    "euro12.loc[[\"England\", \"Italy\", \"Russia\"], \"Shooting Accuracy\"]"
   ]
  }
 ],
 "metadata": {
  "anaconda-cloud": {},
  "kernelspec": {
   "name": "Python 3.8.3 64-bit (conda)",
   "display_name": "Python 3.8.3 64-bit (conda)",
   "metadata": {
    "interpreter": {
     "hash": "3b1a8060338225f2bebef7ac4b2e7f6bf43c2f4428566c5ddcf188aa63f7df5e"
    }
   }
  },
  "language_info": {
   "codemirror_mode": {
    "name": "ipython",
    "version": 2
   },
   "file_extension": ".py",
   "mimetype": "text/x-python",
   "name": "python",
   "nbconvert_exporter": "python",
   "pygments_lexer": "ipython2",
   "version": "3.8.3-final"
  }
 },
 "nbformat": 4,
 "nbformat_minor": 0
}