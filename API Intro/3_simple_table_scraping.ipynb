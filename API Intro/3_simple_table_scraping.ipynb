{
 "cells": [
  {
   "cell_type": "code",
   "execution_count": 1,
   "id": "76a65145-bafd-4e24-8566-ef79602f8fd7",
   "metadata": {},
   "outputs": [],
   "source": [
    "import numpy as np\n",
    "import pandas as pd"
   ]
  },
  {
   "cell_type": "code",
   "execution_count": 2,
   "id": "c25eae67-e12d-4f7d-afca-2ab753e4a010",
   "metadata": {},
   "outputs": [],
   "source": [
    "url = \"https://en.wikipedia.org/wiki/List_of_countries_by_GDP_(PPP)_per_capita\"\n",
    "\n",
    "LIST_OF_DF = pd.read_html(url) ## require internet connection"
   ]
  },
  {
   "cell_type": "code",
   "execution_count": 3,
   "id": "5cb87106-f920-4f7d-aba7-34447cd5d627",
   "metadata": {},
   "outputs": [
    {
     "data": {
      "text/plain": [
       "(list, 9)"
      ]
     },
     "execution_count": 3,
     "metadata": {},
     "output_type": "execute_result"
    }
   ],
   "source": [
    "type(LIST_OF_DF),len(LIST_OF_DF)"
   ]
  },
  {
   "cell_type": "code",
   "execution_count": 7,
   "id": "72429500-fdc2-45c7-be24-8550a49b2cd5",
   "metadata": {},
   "outputs": [
    {
     "data": {
      "text/html": [
       "<div>\n",
       "<style scoped>\n",
       "    .dataframe tbody tr th:only-of-type {\n",
       "        vertical-align: middle;\n",
       "    }\n",
       "\n",
       "    .dataframe tbody tr th {\n",
       "        vertical-align: top;\n",
       "    }\n",
       "\n",
       "    .dataframe thead th {\n",
       "        text-align: right;\n",
       "    }\n",
       "</style>\n",
       "<table border=\"1\" class=\"dataframe\">\n",
       "  <thead>\n",
       "    <tr style=\"text-align: right;\">\n",
       "      <th></th>\n",
       "      <th>0</th>\n",
       "      <th>1</th>\n",
       "      <th>2</th>\n",
       "    </tr>\n",
       "  </thead>\n",
       "  <tbody>\n",
       "    <tr>\n",
       "      <th>0</th>\n",
       "      <td>&gt;$60,000 $50,000 – $60,000 $40,000 – $50,000 $...</td>\n",
       "      <td>$20,000 – $30,000 $10,000 – $20,000 $5,000 – $...</td>\n",
       "      <td>$1,000 – $2,500 &lt;$1,000 No data</td>\n",
       "    </tr>\n",
       "  </tbody>\n",
       "</table>\n",
       "</div>"
      ],
      "text/plain": [
       "                                                   0  \\\n",
       "0  >$60,000 $50,000 – $60,000 $40,000 – $50,000 $...   \n",
       "\n",
       "                                                   1  \\\n",
       "0  $20,000 – $30,000 $10,000 – $20,000 $5,000 – $...   \n",
       "\n",
       "                                 2  \n",
       "0  $1,000 – $2,500 <$1,000 No data  "
      ]
     },
     "execution_count": 7,
     "metadata": {},
     "output_type": "execute_result"
    }
   ],
   "source": [
    "LIST_OF_DF[0]"
   ]
  },
  {
   "cell_type": "code",
   "execution_count": 4,
   "id": "552d54b9-3cd4-45bf-9274-8528520d6b9d",
   "metadata": {},
   "outputs": [
    {
     "data": {
      "text/html": [
       "<div>\n",
       "<style scoped>\n",
       "    .dataframe tbody tr th:only-of-type {\n",
       "        vertical-align: middle;\n",
       "    }\n",
       "\n",
       "    .dataframe tbody tr th {\n",
       "        vertical-align: top;\n",
       "    }\n",
       "\n",
       "    .dataframe thead tr th {\n",
       "        text-align: left;\n",
       "    }\n",
       "</style>\n",
       "<table border=\"1\" class=\"dataframe\">\n",
       "  <thead>\n",
       "    <tr>\n",
       "      <th></th>\n",
       "      <th>Country/Territory</th>\n",
       "      <th colspan=\"2\" halign=\"left\">IMF[5][6]</th>\n",
       "      <th colspan=\"2\" halign=\"left\">World Bank[7]</th>\n",
       "      <th colspan=\"2\" halign=\"left\">CIA[8][9][10]</th>\n",
       "    </tr>\n",
       "    <tr>\n",
       "      <th></th>\n",
       "      <th>Country/Territory</th>\n",
       "      <th>Projection</th>\n",
       "      <th>Year</th>\n",
       "      <th>Estimate</th>\n",
       "      <th>Year</th>\n",
       "      <th>Estimate</th>\n",
       "      <th>Year</th>\n",
       "    </tr>\n",
       "  </thead>\n",
       "  <tbody>\n",
       "    <tr>\n",
       "      <th>0</th>\n",
       "      <td>Luxembourg *</td>\n",
       "      <td>143743</td>\n",
       "      <td>2024</td>\n",
       "      <td>143342</td>\n",
       "      <td>2023</td>\n",
       "      <td>115700</td>\n",
       "      <td>2021</td>\n",
       "    </tr>\n",
       "    <tr>\n",
       "      <th>1</th>\n",
       "      <td>Liechtenstein *</td>\n",
       "      <td>—</td>\n",
       "      <td>—</td>\n",
       "      <td>—</td>\n",
       "      <td>—</td>\n",
       "      <td>139100</td>\n",
       "      <td>2009</td>\n",
       "    </tr>\n",
       "    <tr>\n",
       "      <th>2</th>\n",
       "      <td>Ireland *</td>\n",
       "      <td>133822</td>\n",
       "      <td>2024</td>\n",
       "      <td>127623</td>\n",
       "      <td>2023</td>\n",
       "      <td>102500</td>\n",
       "      <td>2021</td>\n",
       "    </tr>\n",
       "    <tr>\n",
       "      <th>3</th>\n",
       "      <td>Singapore *</td>\n",
       "      <td>133737</td>\n",
       "      <td>2024</td>\n",
       "      <td>141500</td>\n",
       "      <td>2023</td>\n",
       "      <td>106000</td>\n",
       "      <td>2021</td>\n",
       "    </tr>\n",
       "    <tr>\n",
       "      <th>4</th>\n",
       "      <td>Macau *</td>\n",
       "      <td>125510</td>\n",
       "      <td>2024</td>\n",
       "      <td>113183</td>\n",
       "      <td>2023</td>\n",
       "      <td>64800</td>\n",
       "      <td>2021</td>\n",
       "    </tr>\n",
       "    <tr>\n",
       "      <th>...</th>\n",
       "      <td>...</td>\n",
       "      <td>...</td>\n",
       "      <td>...</td>\n",
       "      <td>...</td>\n",
       "      <td>...</td>\n",
       "      <td>...</td>\n",
       "      <td>...</td>\n",
       "    </tr>\n",
       "    <tr>\n",
       "      <th>225</th>\n",
       "      <td>Mozambique *</td>\n",
       "      <td>1649</td>\n",
       "      <td>2024</td>\n",
       "      <td>1657</td>\n",
       "      <td>2023</td>\n",
       "      <td>1200</td>\n",
       "      <td>2021</td>\n",
       "    </tr>\n",
       "    <tr>\n",
       "      <th>226</th>\n",
       "      <td>DR Congo *</td>\n",
       "      <td>1552</td>\n",
       "      <td>2024</td>\n",
       "      <td>1671</td>\n",
       "      <td>2023</td>\n",
       "      <td>1100</td>\n",
       "      <td>2021</td>\n",
       "    </tr>\n",
       "    <tr>\n",
       "      <th>227</th>\n",
       "      <td>Central African Republic *</td>\n",
       "      <td>1123</td>\n",
       "      <td>2024</td>\n",
       "      <td>1130</td>\n",
       "      <td>2023</td>\n",
       "      <td>800</td>\n",
       "      <td>2021</td>\n",
       "    </tr>\n",
       "    <tr>\n",
       "      <th>228</th>\n",
       "      <td>Burundi *</td>\n",
       "      <td>916</td>\n",
       "      <td>2024</td>\n",
       "      <td>951</td>\n",
       "      <td>2023</td>\n",
       "      <td>700</td>\n",
       "      <td>2021</td>\n",
       "    </tr>\n",
       "    <tr>\n",
       "      <th>229</th>\n",
       "      <td>South Sudan *</td>\n",
       "      <td>455</td>\n",
       "      <td>2024</td>\n",
       "      <td>1146</td>\n",
       "      <td>2015</td>\n",
       "      <td>1600</td>\n",
       "      <td>2017</td>\n",
       "    </tr>\n",
       "  </tbody>\n",
       "</table>\n",
       "<p>230 rows × 7 columns</p>\n",
       "</div>"
      ],
      "text/plain": [
       "              Country/Territory  IMF[5][6]       World Bank[7]        \\\n",
       "              Country/Territory Projection  Year      Estimate  Year   \n",
       "0                  Luxembourg *     143743  2024        143342  2023   \n",
       "1               Liechtenstein *          —     —             —     —   \n",
       "2                     Ireland *     133822  2024        127623  2023   \n",
       "3                   Singapore *     133737  2024        141500  2023   \n",
       "4                       Macau *     125510  2024        113183  2023   \n",
       "..                          ...        ...   ...           ...   ...   \n",
       "225                Mozambique *       1649  2024          1657  2023   \n",
       "226                  DR Congo *       1552  2024          1671  2023   \n",
       "227  Central African Republic *       1123  2024          1130  2023   \n",
       "228                   Burundi *        916  2024           951  2023   \n",
       "229               South Sudan *        455  2024          1146  2015   \n",
       "\n",
       "    CIA[8][9][10]        \n",
       "         Estimate  Year  \n",
       "0          115700  2021  \n",
       "1          139100  2009  \n",
       "2          102500  2021  \n",
       "3          106000  2021  \n",
       "4           64800  2021  \n",
       "..            ...   ...  \n",
       "225          1200  2021  \n",
       "226          1100  2021  \n",
       "227           800  2021  \n",
       "228           700  2021  \n",
       "229          1600  2017  \n",
       "\n",
       "[230 rows x 7 columns]"
      ]
     },
     "execution_count": 4,
     "metadata": {},
     "output_type": "execute_result"
    }
   ],
   "source": [
    "LIST_OF_DF[1]"
   ]
  },
  {
   "cell_type": "code",
   "execution_count": 5,
   "id": "e0ad8fde-21c7-428b-88cb-fd3e1dcc9dfc",
   "metadata": {},
   "outputs": [],
   "source": [
    "my_table = LIST_OF_DF[1]"
   ]
  },
  {
   "cell_type": "code",
   "execution_count": 6,
   "id": "493e44e2-a200-465f-8de6-83a7291be57c",
   "metadata": {},
   "outputs": [
    {
     "data": {
      "text/plain": [
       "MultiIndex([('Country/Territory', 'Country/Territory'),\n",
       "            (        'IMF[5][6]',        'Projection'),\n",
       "            (        'IMF[5][6]',              'Year'),\n",
       "            (    'World Bank[7]',          'Estimate'),\n",
       "            (    'World Bank[7]',              'Year'),\n",
       "            (    'CIA[8][9][10]',          'Estimate'),\n",
       "            (    'CIA[8][9][10]',              'Year')],\n",
       "           )"
      ]
     },
     "execution_count": 6,
     "metadata": {},
     "output_type": "execute_result"
    }
   ],
   "source": [
    "my_table.columns"
   ]
  },
  {
   "cell_type": "code",
   "execution_count": null,
   "id": "9b54b8a1-05ef-4d16-bead-b2b6a556dced",
   "metadata": {},
   "outputs": [],
   "source": []
  }
 ],
 "metadata": {
  "kernelspec": {
   "display_name": "Python 3 (ipykernel)",
   "language": "python",
   "name": "python3"
  },
  "language_info": {
   "codemirror_mode": {
    "name": "ipython",
    "version": 3
   },
   "file_extension": ".py",
   "mimetype": "text/x-python",
   "name": "python",
   "nbconvert_exporter": "python",
   "pygments_lexer": "ipython3",
   "version": "3.12.4"
  }
 },
 "nbformat": 4,
 "nbformat_minor": 5
}
