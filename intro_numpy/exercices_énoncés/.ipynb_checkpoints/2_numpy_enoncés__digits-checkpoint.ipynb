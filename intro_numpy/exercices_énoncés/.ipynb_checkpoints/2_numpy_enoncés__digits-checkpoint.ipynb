{
 "cells": [
  {
   "cell_type": "markdown",
   "id": "93955b4f-9b27-4dd9-be10-d88bd432d8be",
   "metadata": {},
   "source": [
    "\n",
    "## create an array of images:\n",
    "given folder 'digits',with subfolders '0','1',etc.\n",
    "create:\n",
    "- one array with all the images inside\n",
    "    - numpy array only: not a python list of numpy arrays, nor a numpy array of python objects\n",
    "    - grey-scaled images is OK (take the average of red, green, blue channels)\n",
    "\n",
    "- one array with the label (0,1,...) of each image \n",
    "\n",
    "note/recommendations: \n",
    "- from os import listdir\n",
    "    - https://www.geeksforgeeks.org/python-os-listdir-method/\n",
    " \n",
    "-  from matplotlib.pyplot import imread,imshow,imsave\n",
    "    - https://matplotlib.org/stable/api/_as_gen/matplotlib.pyplot.imread.html\n",
    "    - https://matplotlib.org/stable/api/_as_gen/matplotlib.pyplot.imshow.html\n",
    "\n",
    "## get stats from arrays:\n",
    "\n",
    "for each label:\n",
    "- get sample of 3 images for that label\n",
    "- what is the average image for that label\n",
    "- what are the minimum and maximum values of each corner among the images for that label\n"
   ]
  },
  {
   "cell_type": "code",
   "execution_count": 1,
   "id": "8c050e13-fbbb-4c37-9fa7-d1d4cbef4b57",
   "metadata": {},
   "outputs": [],
   "source": [
    "import numpy as np\n",
    "import matplotlib.pyplot as plt"
   ]
  },
  {
   "cell_type": "code",
   "execution_count": 3,
   "id": "c551138d-4263-4591-8d87-fb45e3373fc9",
   "metadata": {},
   "outputs": [
    {
     "data": {
      "text/plain": [
       "array([[[0.        , 0.        , 0.        , 1.        ],\n",
       "        [0.        , 0.        , 0.        , 1.        ],\n",
       "        [0.40784314, 0.40784314, 0.40784314, 1.        ],\n",
       "        [0.93333334, 0.93333334, 0.93333334, 1.        ],\n",
       "        [0.70980394, 0.70980394, 0.70980394, 1.        ],\n",
       "        [0.07450981, 0.07450981, 0.07450981, 1.        ],\n",
       "        [0.        , 0.        , 0.        , 1.        ],\n",
       "        [0.        , 0.        , 0.        , 1.        ]],\n",
       "\n",
       "       [[0.        , 0.        , 0.        , 1.        ],\n",
       "        [0.        , 0.        , 0.        , 1.        ],\n",
       "        [0.93333334, 0.93333334, 0.93333334, 1.        ],\n",
       "        [1.        , 1.        , 1.        , 1.        ],\n",
       "        [0.7764706 , 0.7764706 , 0.7764706 , 1.        ],\n",
       "        [1.        , 1.        , 1.        , 1.        ],\n",
       "        [0.40784314, 0.40784314, 0.40784314, 1.        ],\n",
       "        [0.        , 0.        , 0.        , 1.        ]],\n",
       "\n",
       "       [[0.        , 0.        , 0.        , 1.        ],\n",
       "        [0.2509804 , 0.2509804 , 0.2509804 , 1.        ],\n",
       "        [1.        , 1.        , 1.        , 1.        ],\n",
       "        [0.15686275, 0.15686275, 0.15686275, 1.        ],\n",
       "        [0.        , 0.        , 0.        , 1.        ],\n",
       "        [0.8352941 , 0.8352941 , 0.8352941 , 1.        ],\n",
       "        [0.627451  , 0.627451  , 0.627451  , 1.        ],\n",
       "        [0.        , 0.        , 0.        , 1.        ]],\n",
       "\n",
       "       [[0.        , 0.        , 0.        , 1.        ],\n",
       "        [0.3372549 , 0.3372549 , 0.3372549 , 1.        ],\n",
       "        [0.8862745 , 0.8862745 , 0.8862745 , 1.        ],\n",
       "        [0.        , 0.        , 0.        , 1.        ],\n",
       "        [0.        , 0.        , 0.        , 1.        ],\n",
       "        [0.627451  , 0.627451  , 0.627451  , 1.        ],\n",
       "        [0.627451  , 0.627451  , 0.627451  , 1.        ],\n",
       "        [0.        , 0.        , 0.        , 1.        ]],\n",
       "\n",
       "       [[0.        , 0.        , 0.        , 1.        ],\n",
       "        [0.40784314, 0.40784314, 0.40784314, 1.        ],\n",
       "        [0.627451  , 0.627451  , 0.627451  , 1.        ],\n",
       "        [0.        , 0.        , 0.        , 1.        ],\n",
       "        [0.        , 0.        , 0.        , 1.        ],\n",
       "        [0.70980394, 0.70980394, 0.70980394, 1.        ],\n",
       "        [0.627451  , 0.627451  , 0.627451  , 1.        ],\n",
       "        [0.        , 0.        , 0.        , 1.        ]],\n",
       "\n",
       "       [[0.        , 0.        , 0.        , 1.        ],\n",
       "        [0.3372549 , 0.3372549 , 0.3372549 , 1.        ],\n",
       "        [0.8352941 , 0.8352941 , 0.8352941 , 1.        ],\n",
       "        [0.        , 0.        , 0.        , 1.        ],\n",
       "        [0.07450981, 0.07450981, 0.07450981, 1.        ],\n",
       "        [0.8862745 , 0.8862745 , 0.8862745 , 1.        ],\n",
       "        [0.54901963, 0.54901963, 0.54901963, 1.        ],\n",
       "        [0.        , 0.        , 0.        , 1.        ]],\n",
       "\n",
       "       [[0.        , 0.        , 0.        , 1.        ],\n",
       "        [0.15686275, 0.15686275, 0.15686275, 1.        ],\n",
       "        [0.96862745, 0.96862745, 0.96862745, 1.        ],\n",
       "        [0.40784314, 0.40784314, 0.40784314, 1.        ],\n",
       "        [0.7764706 , 0.7764706 , 0.7764706 , 1.        ],\n",
       "        [0.8862745 , 0.8862745 , 0.8862745 , 1.        ],\n",
       "        [0.        , 0.        , 0.        , 1.        ],\n",
       "        [0.        , 0.        , 0.        , 1.        ]],\n",
       "\n",
       "       [[0.        , 0.        , 0.        , 1.        ],\n",
       "        [0.        , 0.        , 0.        , 1.        ],\n",
       "        [0.47843137, 0.47843137, 0.47843137, 1.        ],\n",
       "        [0.93333334, 0.93333334, 0.93333334, 1.        ],\n",
       "        [0.7764706 , 0.7764706 , 0.7764706 , 1.        ],\n",
       "        [0.        , 0.        , 0.        , 1.        ],\n",
       "        [0.        , 0.        , 0.        , 1.        ],\n",
       "        [0.        , 0.        , 0.        , 1.        ]]], dtype=float32)"
      ]
     },
     "execution_count": 3,
     "metadata": {},
     "output_type": "execute_result"
    }
   ],
   "source": [
    "im_0 = plt.imread('digits/0/im_0_00000.png')\n",
    "im_0"
   ]
  },
  {
   "cell_type": "code",
   "execution_count": 5,
   "id": "f017d054-f2fa-49bb-81fc-83f56fffa0cd",
   "metadata": {},
   "outputs": [
    {
     "data": {
      "image/png": "[encoded data removed]",
      "text/plain": [
       "<Figure size 640x480 with 1 Axes>"
      ]
     },
     "metadata": {},
     "output_type": "display_data"
    }
   ],
   "source": [
    "plt.imshow(im_0)\n",
    "plt.show()"
   ]
  },
  {
   "cell_type": "code",
   "execution_count": null,
   "id": "3dc21522-5a0e-4af2-81c3-4a4563ca28fc",
   "metadata": {},
   "outputs": [],
   "source": []
  }
 ],
 "metadata": {
  "kernelspec": {
   "display_name": "Python 3 (ipykernel)",
   "language": "python",
   "name": "python3"
  },
  "language_info": {
   "codemirror_mode": {
    "name": "ipython",
    "version": 3
   },
   "file_extension": ".py",
   "mimetype": "text/x-python",
   "name": "python",
   "nbconvert_exporter": "python",
   "pygments_lexer": "ipython3",
   "version": "3.10.13"
  }
 },
 "nbformat": 4,
 "nbformat_minor": 5
}
