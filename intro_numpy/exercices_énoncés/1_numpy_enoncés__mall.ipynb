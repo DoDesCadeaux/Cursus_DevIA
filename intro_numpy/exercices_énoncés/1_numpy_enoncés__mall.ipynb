{
 "cells": [
  {
   "cell_type": "code",
   "execution_count": 5,
   "id": "9b3b33c8-c731-4d8f-99bc-e7d764aa91b7",
   "metadata": {},
   "outputs": [],
   "source": [
    "import numpy as np\n",
    "import json"
   ]
  },
  {
   "cell_type": "code",
   "execution_count": 6,
   "id": "ad53947c-47b5-4578-8be7-d195f4e459bf",
   "metadata": {},
   "outputs": [],
   "source": [
    "j_file = json.load(open(\"data/Mall_Customers_doc_source.json\",\"r\"))"
   ]
  },
  {
   "cell_type": "code",
   "execution_count": 7,
   "id": "652f79af-6186-4aed-b232-4a3a0023e397",
   "metadata": {},
   "outputs": [
    {
     "data": {
      "text/plain": [
       "{'CustomerID': 'Unique ID assigned to the customer',\n",
       " 'Gender': 'Gender of the customer',\n",
       " 'Age': 'Age of the customer',\n",
       " 'Annual Income (k$)': 'Annual Income of the customer',\n",
       " 'Spending Score (1-100)': 'Score assigned by the mall based on customer behavior and spending nature'}"
      ]
     },
     "execution_count": 7,
     "metadata": {},
     "output_type": "execute_result"
    }
   ],
   "source": [
    "j_file[\"DOC\"]"
   ]
  },
  {
   "cell_type": "markdown",
   "id": "5e8f6aea-9d96-4804-8be9-b68fa79a895e",
   "metadata": {},
   "source": [
    "# Mall customers: simple numpy use-case\n",
    "\n",
    "## import all columns of the \"Mall_Customers.csv\" dataset with numpy (loadtxt)"
   ]
  },
  {
   "cell_type": "code",
   "execution_count": 8,
   "id": "d0ef2a11-8161-418b-ad04-88c3e9184d22",
   "metadata": {
    "scrolled": true
   },
   "outputs": [
    {
     "data": {
      "text/plain": [
       "array([['CustomerID', '1', '2', '3', '4', '5', '6', '7', '8', '9', '10',\n",
       "        '11', '12', '13', '14', '15', '16', '17', '18', '19', '20', '21',\n",
       "        '22', '23', '24', '25', '26', '27', '28', '29', '30', '31', '32',\n",
       "        '33', '34', '35', '36', '37', '38', '39', '40', '41', '42', '43',\n",
       "        '44', '45', '46', '47', '48', '49', '50', '51', '52', '53', '54',\n",
       "        '55', '56', '57', '58', '59', '60', '61', '62', '63', '64', '65',\n",
       "        '66', '67', '68', '69', '70', '71', '72', '73', '74', '75', '76',\n",
       "        '77', '78', '79', '80', '81', '82', '83', '84', '85', '86', '87',\n",
       "        '88', '89', '90', '91', '92', '93', '94', '95', '96', '97', '98',\n",
       "        '99', '100', '101', '102', '103', '104', '105', '106', '107',\n",
       "        '108', '109', '110', '111', '112', '113', '114', '115', '116',\n",
       "        '117', '118', '119', '120', '121', '122', '123', '124', '125',\n",
       "        '126', '127', '128', '129', '130', '131', '132', '133', '134',\n",
       "        '135', '136', '137', '138', '139', '140', '141', '142', '143',\n",
       "        '144', '145', '146', '147', '148', '149', '150', '151', '152',\n",
       "        '153', '154', '155', '156', '157', '158', '159', '160', '161',\n",
       "        '162', '163', '164', '165', '166', '167', '168', '169', '170',\n",
       "        '171', '172', '173', '174', '175', '176', '177', '178', '179',\n",
       "        '180', '181', '182', '183', '184', '185', '186', '187', '188',\n",
       "        '189', '190', '191', '192', '193', '194', '195', '196', '197',\n",
       "        '198', '199', '200'],\n",
       "       ['Gender', 'Male', 'Male', 'Female', 'Female', 'Female', 'Female',\n",
       "        'Female', 'Female', 'Male', 'Female', 'Male', 'Female', 'Female',\n",
       "        'Female', 'Male', 'Male', 'Female', 'Male', 'Male', 'Female',\n",
       "        'Male', 'Male', 'Female', 'Male', 'Female', 'Male', 'Female',\n",
       "        'Male', 'Female', 'Female', 'Male', 'Female', 'Male', 'Male',\n",
       "        'Female', 'Female', 'Female', 'Female', 'Female', 'Female',\n",
       "        'Female', 'Male', 'Male', 'Female', 'Female', 'Female', 'Female',\n",
       "        'Female', 'Female', 'Female', 'Female', 'Male', 'Female', 'Male',\n",
       "        'Female', 'Male', 'Female', 'Male', 'Female', 'Male', 'Male',\n",
       "        'Male', 'Female', 'Female', 'Male', 'Male', 'Female', 'Female',\n",
       "        'Male', 'Female', 'Male', 'Female', 'Female', 'Female', 'Male',\n",
       "        'Male', 'Female', 'Male', 'Female', 'Female', 'Male', 'Male',\n",
       "        'Male', 'Female', 'Female', 'Male', 'Female', 'Female', 'Female',\n",
       "        'Female', 'Female', 'Male', 'Male', 'Female', 'Female', 'Male',\n",
       "        'Female', 'Female', 'Male', 'Male', 'Female', 'Female', 'Male',\n",
       "        'Male', 'Male', 'Female', 'Female', 'Male', 'Male', 'Male',\n",
       "        'Male', 'Female', 'Female', 'Male', 'Female', 'Female', 'Female',\n",
       "        'Female', 'Female', 'Female', 'Male', 'Female', 'Female', 'Male',\n",
       "        'Female', 'Female', 'Male', 'Male', 'Male', 'Male', 'Male',\n",
       "        'Male', 'Female', 'Female', 'Male', 'Female', 'Female', 'Male',\n",
       "        'Male', 'Female', 'Female', 'Male', 'Female', 'Female', 'Male',\n",
       "        'Male', 'Male', 'Female', 'Female', 'Male', 'Male', 'Male',\n",
       "        'Female', 'Female', 'Female', 'Female', 'Male', 'Female', 'Male',\n",
       "        'Female', 'Female', 'Female', 'Male', 'Female', 'Male', 'Female',\n",
       "        'Male', 'Female', 'Female', 'Male', 'Male', 'Male', 'Male',\n",
       "        'Male', 'Female', 'Female', 'Male', 'Male', 'Male', 'Male',\n",
       "        'Female', 'Female', 'Male', 'Female', 'Female', 'Male', 'Female',\n",
       "        'Male', 'Female', 'Female', 'Female', 'Female', 'Male', 'Female',\n",
       "        'Female', 'Female', 'Female', 'Male', 'Male', 'Male'],\n",
       "       ['Age', '19', '21', '20', '23', '31', '22', '35', '23', '64',\n",
       "        '30', '67', '35', '58', '24', '37', '22', '35', '20', '52', '35',\n",
       "        '35', '25', '46', '31', '54', '29', '45', '35', '40', '23', '60',\n",
       "        '21', '53', '18', '49', '21', '42', '30', '36', '20', '65', '24',\n",
       "        '48', '31', '49', '24', '50', '27', '29', '31', '49', '33', '31',\n",
       "        '59', '50', '47', '51', '69', '27', '53', '70', '19', '67', '54',\n",
       "        '63', '18', '43', '68', '19', '32', '70', '47', '60', '60', '59',\n",
       "        '26', '45', '40', '23', '49', '57', '38', '67', '46', '21', '48',\n",
       "        '55', '22', '34', '50', '68', '18', '48', '40', '32', '24', '47',\n",
       "        '27', '48', '20', '23', '49', '67', '26', '49', '21', '66', '54',\n",
       "        '68', '66', '65', '19', '38', '19', '18', '19', '63', '49', '51',\n",
       "        '50', '27', '38', '40', '39', '23', '31', '43', '40', '59', '38',\n",
       "        '47', '39', '25', '31', '20', '29', '44', '32', '19', '35', '57',\n",
       "        '32', '28', '32', '25', '28', '48', '32', '34', '34', '43', '39',\n",
       "        '44', '38', '47', '27', '37', '30', '34', '30', '56', '29', '19',\n",
       "        '31', '50', '36', '42', '33', '36', '32', '40', '28', '36', '36',\n",
       "        '52', '30', '58', '27', '59', '35', '37', '32', '46', '29', '41',\n",
       "        '30', '54', '28', '41', '36', '34', '32', '33', '38', '47', '35',\n",
       "        '45', '32', '32', '30'],\n",
       "       ['Annual Income (k$)', '15', '15', '16', '16', '17', '17', '18',\n",
       "        '18', '19', '19', '19', '19', '20', '20', '20', '20', '21', '21',\n",
       "        '23', '23', '24', '24', '25', '25', '28', '28', '28', '28', '29',\n",
       "        '29', '30', '30', '33', '33', '33', '33', '34', '34', '37', '37',\n",
       "        '38', '38', '39', '39', '39', '39', '40', '40', '40', '40', '42',\n",
       "        '42', '43', '43', '43', '43', '44', '44', '46', '46', '46', '46',\n",
       "        '47', '47', '48', '48', '48', '48', '48', '48', '49', '49', '50',\n",
       "        '50', '54', '54', '54', '54', '54', '54', '54', '54', '54', '54',\n",
       "        '54', '54', '57', '57', '58', '58', '59', '59', '60', '60', '60',\n",
       "        '60', '60', '60', '61', '61', '62', '62', '62', '62', '62', '62',\n",
       "        '63', '63', '63', '63', '63', '63', '64', '64', '65', '65', '65',\n",
       "        '65', '67', '67', '67', '67', '69', '69', '70', '70', '71', '71',\n",
       "        '71', '71', '71', '71', '72', '72', '73', '73', '73', '73', '74',\n",
       "        '74', '75', '75', '76', '76', '77', '77', '77', '77', '78', '78',\n",
       "        '78', '78', '78', '78', '78', '78', '78', '78', '78', '78', '79',\n",
       "        '79', '81', '81', '85', '85', '86', '86', '87', '87', '87', '87',\n",
       "        '87', '87', '88', '88', '88', '88', '93', '93', '97', '97', '98',\n",
       "        '98', '99', '99', '101', '101', '103', '103', '103', '103',\n",
       "        '113', '113', '120', '120', '126', '126', '137', '137']],\n",
       "      dtype='<U18')"
      ]
     },
     "execution_count": 8,
     "metadata": {},
     "output_type": "execute_result"
    }
   ],
   "source": [
    "mall_customers = np.loadtxt('data/Mall_Customers.csv', dtype='str', delimiter=',', usecols=(0, 1, 2, 3), unpack=True)\n",
    "mall_customers"
   ]
  },
  {
   "cell_type": "markdown",
   "id": "db4cf6b1-1786-4a3d-a635-fd944e07a8a0",
   "metadata": {},
   "source": [
    "### check memory footprint of values (nbytes)\n",
    "- how can we reduce the memory footprint (without loosing data) ?"
   ]
  },
  {
   "cell_type": "code",
   "execution_count": 13,
   "id": "c774c0a3-df99-432b-8b77-5235a7037701",
   "metadata": {},
   "outputs": [
    {
     "data": {
      "text/plain": [
       "57888"
      ]
     },
     "execution_count": 13,
     "metadata": {},
     "output_type": "execute_result"
    }
   ],
   "source": [
    "# check memory footprint of values\n",
    "memory = mall_customers.nbytes\n",
    "memory"
   ]
  },
  {
   "cell_type": "markdown",
   "id": "17097067-c7f0-4b2a-a50b-bc1e85b376a3",
   "metadata": {},
   "source": [
    "### select the first 6 rows from each columns\n",
    "\n",
    "### select data from males with age above 30\n",
    "\n",
    "### create a 'give_statitics' function\n",
    "- returns an dictionary with :\n",
    "    - mean\n",
    "    - std\n",
    "    - median\n",
    "    - min\n",
    "    - max\n",
    "    - count of non empty\n",
    "### what are the statistics for the (whole) dataset ?\n",
    "\n",
    "### create function that does a group by"
   ]
  },
  {
   "cell_type": "code",
   "execution_count": 14,
   "id": "91254267-6fad-46bd-9603-c6ab9978eb42",
   "metadata": {},
   "outputs": [
    {
     "data": {
      "text/plain": [
       "array([['CustomerID', '1', '2', '3', '4', '5'],\n",
       "       ['Gender', 'Male', 'Male', 'Female', 'Female', 'Female'],\n",
       "       ['Age', '19', '21', '20', '23', '31'],\n",
       "       ['Annual Income (k$)', '15', '15', '16', '16', '17']], dtype='<U18')"
      ]
     },
     "execution_count": 14,
     "metadata": {},
     "output_type": "execute_result"
    }
   ],
   "source": [
    "mall_customers[:, 0:6]"
   ]
  },
  {
   "cell_type": "code",
   "execution_count": 15,
   "id": "3c245f5a-aae5-4c5c-9678-dc3d8625140a",
   "metadata": {
    "scrolled": true
   },
   "outputs": [
    {
     "data": {
      "text/plain": [
       "array([['9', 'Male', '64', '19'],\n",
       "       ['11', 'Male', '67', '19'],\n",
       "       ['15', 'Male', '37', '20'],\n",
       "       ['19', 'Male', '52', '23'],\n",
       "       ['21', 'Male', '35', '24'],\n",
       "       ['24', 'Male', '31', '25'],\n",
       "       ['28', 'Male', '35', '28'],\n",
       "       ['31', 'Male', '60', '30'],\n",
       "       ['33', 'Male', '53', '33'],\n",
       "       ['43', 'Male', '48', '39'],\n",
       "       ['52', 'Male', '33', '42'],\n",
       "       ['54', 'Male', '59', '43'],\n",
       "       ['56', 'Male', '47', '43'],\n",
       "       ['58', 'Male', '69', '44'],\n",
       "       ['60', 'Male', '53', '46'],\n",
       "       ['61', 'Male', '70', '46'],\n",
       "       ['65', 'Male', '63', '48'],\n",
       "       ['71', 'Male', '70', '49'],\n",
       "       ['75', 'Male', '59', '54'],\n",
       "       ['78', 'Male', '40', '54'],\n",
       "       ['81', 'Male', '57', '54'],\n",
       "       ['82', 'Male', '38', '54'],\n",
       "       ['83', 'Male', '67', '54'],\n",
       "       ['86', 'Male', '48', '54'],\n",
       "       ['93', 'Male', '48', '60'],\n",
       "       ['99', 'Male', '48', '61'],\n",
       "       ['103', 'Male', '67', '62'],\n",
       "       ['105', 'Male', '49', '62'],\n",
       "       ['108', 'Male', '54', '63'],\n",
       "       ['109', 'Male', '68', '63'],\n",
       "       ['110', 'Male', '66', '63'],\n",
       "       ['111', 'Male', '65', '63'],\n",
       "       ['124', 'Male', '39', '69'],\n",
       "       ['127', 'Male', '43', '71'],\n",
       "       ['128', 'Male', '40', '71'],\n",
       "       ['129', 'Male', '59', '71'],\n",
       "       ['130', 'Male', '38', '71'],\n",
       "       ['131', 'Male', '47', '71'],\n",
       "       ['132', 'Male', '39', '71'],\n",
       "       ['138', 'Male', '32', '73'],\n",
       "       ['142', 'Male', '32', '75'],\n",
       "       ['147', 'Male', '48', '77'],\n",
       "       ['150', 'Male', '34', '78'],\n",
       "       ['151', 'Male', '43', '78'],\n",
       "       ['152', 'Male', '39', '78'],\n",
       "       ['157', 'Male', '37', '78'],\n",
       "       ['159', 'Male', '34', '78'],\n",
       "       ['165', 'Male', '50', '85'],\n",
       "       ['167', 'Male', '42', '86'],\n",
       "       ['170', 'Male', '32', '87'],\n",
       "       ['171', 'Male', '40', '87'],\n",
       "       ['173', 'Male', '36', '87'],\n",
       "       ['174', 'Male', '36', '87'],\n",
       "       ['177', 'Male', '58', '88'],\n",
       "       ['179', 'Male', '59', '93'],\n",
       "       ['180', 'Male', '35', '93'],\n",
       "       ['183', 'Male', '46', '98'],\n",
       "       ['186', 'Male', '30', '99'],\n",
       "       ['193', 'Male', '33', '113'],\n",
       "       ['198', 'Male', '32', '126'],\n",
       "       ['199', 'Male', '32', '137'],\n",
       "       ['200', 'Male', '30', '137']], dtype='<U18')"
      ]
     },
     "execution_count": 15,
     "metadata": {},
     "output_type": "execute_result"
    }
   ],
   "source": [
    "gender = mall_customers[1]\n",
    "age = mall_customers[2]\n",
    "\n",
    "males = gender == 'Male'\n",
    "above_30 = age >= '30'\n",
    "males_above_30 = mall_customers[:, males & above_30]\n",
    "males_above_30.T"
   ]
  },
  {
   "cell_type": "code",
   "execution_count": 17,
   "id": "384746ed-dd9a-40b6-b59f-a879bf78ddd7",
   "metadata": {
    "scrolled": true
   },
   "outputs": [
    {
     "data": {
      "text/plain": [
       "{'ages mean': np.float64(38.85),\n",
       " 'ages std': np.float64(13.934041050606963),\n",
       " 'ages median': np.float64(36.0),\n",
       " 'ages min': np.float64(18.0),\n",
       " 'ages max': np.float64(70.0),\n",
       " 'ages non_empty': 200,\n",
       " 'income mean': np.float64(60.56),\n",
       " 'income std': np.float64(26.19897707926781),\n",
       " 'income median': np.float64(61.5),\n",
       " 'income min': np.float64(15.0),\n",
       " 'income max': np.float64(137.0),\n",
       " 'income non_empty': 200}"
      ]
     },
     "execution_count": 17,
     "metadata": {},
     "output_type": "execute_result"
    }
   ],
   "source": [
    "def give_statistics(arr):\n",
    "    ages = arr[2, 1:].astype(np.float64)\n",
    "    annual_income = arr[3, 1:].astype(np.float64)\n",
    "    return {'ages mean': np.mean(ages),\n",
    "            'ages std': np.std(ages),\n",
    "            'ages median': np.median(ages),\n",
    "            'ages min': np.min(ages),\n",
    "            'ages max': np.max(ages),\n",
    "            'ages non_empty': np.count_nonzero(ages),\n",
    "            'income mean': np.mean(annual_income),\n",
    "            'income std': np.std(annual_income),\n",
    "            'income median': np.median(annual_income),\n",
    "            'income min': np.min(annual_income),\n",
    "            'income max': np.max(annual_income),\n",
    "            'income non_empty': np.count_nonzero(annual_income),\n",
    "           }\n",
    "\n",
    "give_statistics(mall_customers)"
   ]
  },
  {
   "cell_type": "code",
   "execution_count": 18,
   "id": "c6bc3032-2041-45a9-be4b-5fb72debe875",
   "metadata": {},
   "outputs": [
    {
     "name": "stdout",
     "output_type": "stream",
     "text": [
      "[15. 46. 48. 63. 64. 65. 74. 81.]\n"
     ]
    },
    {
     "data": {
      "text/plain": [
       "{'Std Annual Income (k$)': 19.300259065618782}"
      ]
     },
     "execution_count": 18,
     "metadata": {},
     "output_type": "execute_result"
    }
   ],
   "source": [
    "def group_by(arr, aggregation=None, colonne=None, value=None, target=None):\n",
    "    source_col = None\n",
    "    target_col = None\n",
    "    for i in range(arr.shape[0]):\n",
    "        if arr[i][0] == colonne:\n",
    "            source_col = arr[i, 1:].astype(np.float64)\n",
    "        if arr[i][0] == target:\n",
    "            target_col = arr[i, 1:].astype(np.float64)\n",
    "\n",
    "    if aggregation not in [\"mean\", \"std\", \"median\", \"min\", \"max\"]:\n",
    "        raise ValueError(f\"{aggregation} is not a valid aggregation\")\n",
    "\n",
    "    aggregation_functions = {\n",
    "        \"mean\": np.mean,\n",
    "        \"std\": np.std,\n",
    "        \"median\": np.median,\n",
    "        \"min\": np.min,\n",
    "        \"max\": np.max\n",
    "    }\n",
    "    \n",
    "    if aggregation not in aggregation_functions:\n",
    "        raise ValueError(f\"{aggregation} is not a supported aggregation\")\n",
    "\n",
    "    condition_col = source_col == float(value)\n",
    "\n",
    "    solution = aggregation_functions[aggregation](target_col[condition_col])\n",
    "    \n",
    "    print(target_col[condition_col])\n",
    "    return {f\"{aggregation.capitalize()} {target}\": float(solution)}\n",
    "\n",
    "group_by(mall_customers, aggregation=\"std\", colonne=\"Age\", value=\"19\", target=\"Annual Income (k$)\")"
   ]
  }
 ],
 "metadata": {
  "kernelspec": {
   "display_name": "Python (myenv)",
   "language": "python",
   "name": "myenv"
  },
  "language_info": {
   "codemirror_mode": {
    "name": "ipython",
    "version": 3
   },
   "file_extension": ".py",
   "mimetype": "text/x-python",
   "name": "python",
   "nbconvert_exporter": "python",
   "pygments_lexer": "ipython3",
   "version": "3.12.4"
  }
 },
 "nbformat": 4,
 "nbformat_minor": 5
}
