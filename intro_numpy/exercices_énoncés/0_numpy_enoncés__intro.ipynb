{
 "cells": [
  {
   "cell_type": "markdown",
   "metadata": {
    "id": "rPIVKXCNPMrs"
   },
   "source": [
    "**<p style=\"text-align:center; font-size:30px\"><u> Exercices de base numpy</u></p>**"
   ]
  },
  {
   "cell_type": "markdown",
   "metadata": {
    "id": "aDp8NaOTPMru"
   },
   "source": [
    "# Exercice 1\n",
    "- créez un numpy array depuis la liste suivante [11.7, 20, 325, 10.2, 11.7, 20]\n",
    "- remplacez la première occurence de la valeur 11.7 par 5\n",
    "- remplacez toutes les occurences des valeurs 20 par 0\n",
    "- calculez la taille (mémoire) du tableau\n",
    "- modifier le typage en uint8\n",
    "- calculez la taille du tableau\n",
    "- Observez les valeurs ? Que s'est-il passé ?\n",
    "\n",
    "<br>"
   ]
  },
  {
   "cell_type": "code",
   "execution_count": 1,
   "metadata": {},
   "outputs": [],
   "source": [
    "import numpy as np"
   ]
  },
  {
   "cell_type": "code",
   "execution_count": 24,
   "metadata": {},
   "outputs": [
    {
     "data": {
      "text/plain": [
       "array([ 11.7,  20. , 325. ,  10.2,  11.7,  20. ])"
      ]
     },
     "metadata": {},
     "output_type": "display_data"
    },
    {
     "data": {
      "text/plain": [
       "array([  5. ,  20. , 325. ,  10.2,  11.7,  20. ])"
      ]
     },
     "metadata": {},
     "output_type": "display_data"
    },
    {
     "data": {
      "text/plain": [
       "array([  5. ,   0. , 325. ,  10.2,  11.7,   0. ])"
      ]
     },
     "metadata": {},
     "output_type": "display_data"
    },
    {
     "data": {
      "text/plain": [
       "6"
      ]
     },
     "metadata": {},
     "output_type": "display_data"
    },
    {
     "name": "stdout",
     "output_type": "stream",
     "text": [
      "ICI\n"
     ]
    },
    {
     "data": {
      "text/plain": [
       "array([ 5,  0, 69, 10, 11,  0], dtype=uint8)"
      ]
     },
     "metadata": {},
     "output_type": "display_data"
    },
    {
     "data": {
      "text/plain": [
       "6"
      ]
     },
     "metadata": {},
     "output_type": "display_data"
    }
   ],
   "source": [
    "arr = np.array([11.7, 20, 325, 10.2, 11.7, 20])\n",
    "display(arr)\n",
    "\n",
    "arr[0] = 5\n",
    "display(arr)\n",
    "\n",
    "arr[arr == 20] = 0\n",
    "display(arr)\n",
    "\n",
    "display(arr.size)\n",
    "\n",
    "print(\"ICI\")\n",
    "arr = arr.astype('uint8')\n",
    "display(arr)\n",
    "\n",
    "display(arr.size)"
   ]
  },
  {
   "cell_type": "markdown",
   "metadata": {
    "id": "822o_kAlPMrw"
   },
   "source": [
    "# Exercice 2\n",
    "\n",
    "- créez un numpy array depuis la matrice suivante [[1, 2, 3],  [4, 5, 6], [7, 8, np.nan]]\n",
    "- affichez:\n",
    "  - le type de données de la matrice\n",
    "  - sa forme\n",
    "  - son nombre de dimension\n",
    "  - son nombre d'élément\n",
    "  - Depuis la forme, pouvez-vous obtenir le nombre de dimension et le nombre d'élément ?\n",
    "- multipliez la dernière colonne par 5 et divisez la première ligne par 0\n",
    "- modifier le typage en int. Que se passe-t-il ?\n",
    "\n",
    "<br>"
   ]
  },
  {
   "cell_type": "code",
   "execution_count": 42,
   "metadata": {},
   "outputs": [
    {
     "data": {
      "text/plain": [
       "dtype('float64')"
      ]
     },
     "metadata": {},
     "output_type": "display_data"
    }
   ],
   "source": [
    "arr = np.array([[1, 2, 3], [4, 5, 6], [7, 8, np.nan]])\n",
    "display(arr.dtype)"
   ]
  },
  {
   "cell_type": "code",
   "execution_count": 31,
   "metadata": {},
   "outputs": [
    {
     "data": {
      "text/plain": [
       "(3, 3)"
      ]
     },
     "metadata": {},
     "output_type": "display_data"
    }
   ],
   "source": [
    "display(arr.shape)"
   ]
  },
  {
   "cell_type": "code",
   "execution_count": 32,
   "metadata": {},
   "outputs": [
    {
     "data": {
      "text/plain": [
       "2"
      ]
     },
     "metadata": {},
     "output_type": "display_data"
    }
   ],
   "source": [
    "display(arr.ndim)"
   ]
  },
  {
   "cell_type": "code",
   "execution_count": 34,
   "metadata": {},
   "outputs": [
    {
     "data": {
      "text/plain": [
       "9"
      ]
     },
     "metadata": {},
     "output_type": "display_data"
    }
   ],
   "source": [
    "display(arr.size)"
   ]
  },
  {
   "cell_type": "code",
   "execution_count": 38,
   "metadata": {},
   "outputs": [
    {
     "data": {
      "text/plain": [
       "2"
      ]
     },
     "metadata": {},
     "output_type": "display_data"
    },
    {
     "data": {
      "text/plain": [
       "9"
      ]
     },
     "metadata": {},
     "output_type": "display_data"
    }
   ],
   "source": [
    "n_dims = len(arr.shape)\n",
    "display(n_dims)\n",
    "\n",
    "n_elems = arr.shape[1] * arr.shape[0]\n",
    "display(n_elems)"
   ]
  },
  {
   "cell_type": "code",
   "execution_count": 47,
   "metadata": {},
   "outputs": [
    {
     "data": {
      "text/plain": [
       "array([35., 40., nan])"
      ]
     },
     "metadata": {},
     "output_type": "display_data"
    },
    {
     "name": "stderr",
     "output_type": "stream",
     "text": [
      "/tmp/ipykernel_29346/3144587440.py:4: RuntimeWarning: divide by zero encountered in divide\n",
      "  divide_arr = arr[0] / 0\n"
     ]
    },
    {
     "data": {
      "text/plain": [
       "array([inf, inf, inf])"
      ]
     },
     "metadata": {},
     "output_type": "display_data"
    },
    {
     "name": "stderr",
     "output_type": "stream",
     "text": [
      "/tmp/ipykernel_29346/3144587440.py:6: RuntimeWarning: invalid value encountered in cast\n",
      "  divide_arr = divide_arr.astype('uint64')\n"
     ]
    },
    {
     "data": {
      "text/plain": [
       "array([0, 0, 0], dtype=uint64)"
      ]
     },
     "metadata": {},
     "output_type": "display_data"
    }
   ],
   "source": [
    "new_arr = arr[-1] * 5\n",
    "display(new_arr)\n",
    "\n",
    "divide_arr = arr[0] / 0\n",
    "display(divide_arr)\n",
    "divide_arr = divide_arr.astype('uint64')\n",
    "display(divide_arr)"
   ]
  },
  {
   "cell_type": "markdown",
   "metadata": {},
   "source": [
    "# Exercice 3\n",
    "\n",
    "Exercice:\n",
    "1. Créer la matrice suivante dans la variable x1:\n",
    "  ```py\n",
    "      [[10, 20, 30],\n",
    "       [40, 50, 60],\n",
    "       [70, 80, 90]]\n",
    "````\n",
    "\n",
    "2. Extraire une partie de x1 dans la variable x2\n",
    "  ```py\n",
    "      [[50, 60],\n",
    "       [80, 90]]\n",
    "````\n",
    "3. Remplacer le 50 de x2 par 99\n",
    "4. Réafficher x1"
   ]
  },
  {
   "cell_type": "code",
   "execution_count": 55,
   "metadata": {},
   "outputs": [
    {
     "data": {
      "text/plain": [
       "array([[10, 20, 30],\n",
       "       [40, 50, 60],\n",
       "       [70, 80, 90]])"
      ]
     },
     "metadata": {},
     "output_type": "display_data"
    },
    {
     "data": {
      "text/plain": [
       "array([[50, 60],\n",
       "       [80, 90]])"
      ]
     },
     "metadata": {},
     "output_type": "display_data"
    },
    {
     "data": {
      "text/plain": [
       "array([[99, 60],\n",
       "       [80, 90]])"
      ]
     },
     "metadata": {},
     "output_type": "display_data"
    },
    {
     "data": {
      "text/plain": [
       "array([[10, 20, 30],\n",
       "       [40, 99, 60],\n",
       "       [70, 80, 90]])"
      ]
     },
     "metadata": {},
     "output_type": "display_data"
    }
   ],
   "source": [
    "x1 = np.arange(10, 100, 10).reshape(3, 3)\n",
    "display(x1)\n",
    "\n",
    "x2 = x1[1:, 1:]\n",
    "display(x2)\n",
    "\n",
    "x2[0][0] = 99\n",
    "display(x2)\n",
    "\n",
    "display(x1)"
   ]
  },
  {
   "cell_type": "markdown",
   "metadata": {},
   "source": [
    "# Exercice 4\n",
    "\n",
    "Exercice:\n",
    "1. Créer la matrice suivante dans la variable x3:\n",
    "  ```py\n",
    "      [[10, 20, 30],\n",
    "       [40, 50, 60],\n",
    "       [70, 80, 90]]\n",
    "````\n",
    "\n",
    "2. Extraire __une copie__ d'une partie de x3 dans la variable x4\n",
    "  ```py\n",
    "      [[50, 60],\n",
    "       [80, 90]]\n",
    "````\n",
    "3. Remplacer le 50 de x4 par 99\n",
    "4. Réafficher x3"
   ]
  },
  {
   "cell_type": "code",
   "execution_count": 61,
   "metadata": {},
   "outputs": [
    {
     "data": {
      "text/plain": [
       "array([[10, 20, 30],\n",
       "       [40, 50, 60],\n",
       "       [70, 80, 90]])"
      ]
     },
     "metadata": {},
     "output_type": "display_data"
    },
    {
     "data": {
      "text/plain": [
       "array([[10, 20, 30],\n",
       "       [40, 50, 60],\n",
       "       [70, 80, 90]])"
      ]
     },
     "execution_count": 61,
     "metadata": {},
     "output_type": "execute_result"
    }
   ],
   "source": [
    "x3 = np.arange(10, 100, 10).reshape(3, 3)\n",
    "display(x3)\n",
    "\n",
    "x4 = x3[1:, 1:].copy()\n",
    "x4[0][0] = 99\n",
    "x3"
   ]
  },
  {
   "cell_type": "markdown",
   "metadata": {
    "id": "_dh3U5u1PMry"
   },
   "source": [
    "# Exercice 5\n",
    "\n",
    "- créez une matrice (4*4) remplie de valeurs aléatoires comprises entre 2 et 8\n",
    "- créer un matrice d'identité (*i.e.* une matrice carrée dont la diagonale descendente principale est remplie de 1 et le reste = 0). Proposez plusieurs solutions\n",
    "- créer une matrice dont la diagonale principale sera remplie de 6 valeurs aléatoires. Proposez plusieurs solutions\n",
    "\n",
    "(tip: 'zeros','identity', 'fill_diagonal')\n",
    "<br>"
   ]
  },
  {
   "cell_type": "code",
   "execution_count": 66,
   "metadata": {},
   "outputs": [
    {
     "data": {
      "text/plain": [
       "array([[6, 5, 4, 2],\n",
       "       [7, 5, 4, 2],\n",
       "       [5, 5, 7, 8],\n",
       "       [2, 4, 2, 7]])"
      ]
     },
     "execution_count": 66,
     "metadata": {},
     "output_type": "execute_result"
    }
   ],
   "source": [
    "rand_arr = np.random.randint(low=2, high=9, size=(4, 4))\n",
    "rand_arr"
   ]
  },
  {
   "cell_type": "code",
   "execution_count": 86,
   "metadata": {},
   "outputs": [
    {
     "data": {
      "text/plain": [
       "array([[1., 0., 0., 0., 0.],\n",
       "       [0., 1., 0., 0., 0.],\n",
       "       [0., 0., 1., 0., 0.],\n",
       "       [0., 0., 0., 1., 0.],\n",
       "       [0., 0., 0., 0., 1.]])"
      ]
     },
     "metadata": {},
     "output_type": "display_data"
    },
    {
     "data": {
      "text/plain": [
       "array([[1., 0., 0., 0., 0.],\n",
       "       [0., 1., 0., 0., 0.],\n",
       "       [0., 0., 1., 0., 0.],\n",
       "       [0., 0., 0., 1., 0.],\n",
       "       [0., 0., 0., 0., 1.]])"
      ]
     },
     "metadata": {},
     "output_type": "display_data"
    },
    {
     "data": {
      "text/plain": [
       "array([[1., 0., 0., 0., 0.],\n",
       "       [0., 1., 0., 0., 0.],\n",
       "       [0., 0., 1., 0., 0.],\n",
       "       [0., 0., 0., 1., 0.],\n",
       "       [0., 0., 0., 0., 1.]])"
      ]
     },
     "metadata": {},
     "output_type": "display_data"
    },
    {
     "data": {
      "text/plain": [
       "array([[0.92220709, 0.        , 0.        , 0.        ],\n",
       "       [0.        , 0.20711211, 0.        , 0.        ],\n",
       "       [0.        , 0.        , 0.77647174, 0.        ],\n",
       "       [0.        , 0.        , 0.        , 0.23263363]])"
      ]
     },
     "metadata": {},
     "output_type": "display_data"
    },
    {
     "data": {
      "text/plain": [
       "array([[-0.06660051,  0.        ,  0.        ,  0.        ,  0.        ],\n",
       "       [ 0.        , -0.06660051,  0.        ,  0.        ,  0.        ],\n",
       "       [ 0.        ,  0.        , -0.06660051,  0.        ,  0.        ],\n",
       "       [ 0.        ,  0.        ,  0.        , -0.06660051,  0.        ],\n",
       "       [ 0.        ,  0.        ,  0.        ,  0.        , -0.06660051]])"
      ]
     },
     "execution_count": 86,
     "metadata": {},
     "output_type": "execute_result"
    }
   ],
   "source": [
    "eye = np.eye(5)\n",
    "display(eye)\n",
    "\n",
    "identity = np.identity(5)\n",
    "display(identity)\n",
    "\n",
    "diag = np.diag([1., 1., 1., 1., 1.])\n",
    "display(diag)\n",
    "\n",
    "rand_diag = np.diag(np.random.rand(4))\n",
    "display(rand_diag)\n",
    "\n",
    "new_eye = eye.copy()\n",
    "new_eye[new_eye == 1] = np.random.randn()\n",
    "new_eye"
   ]
  },
  {
   "cell_type": "markdown",
   "metadata": {
    "id": "Ifr5eMoKPMrz"
   },
   "source": [
    "# Exercice 6\n",
    "\n",
    "- reproduire la matrice suivante (sans les noms de lignes ou colonnes)\n",
    "<table border=\"1\" class=\"dataframe\">\n",
    "  <thead>\n",
    "    <tr style=\"text-align: right;\">\n",
    "      <th></th>\n",
    "      <th>pâtes</th>\n",
    "      <th>légumes</th>\n",
    "      <th>divers</th>\n",
    "    </tr>\n",
    "  </thead>\n",
    "  <tbody>\n",
    "    <tr>\n",
    "      <th>bob</th>\n",
    "      <td>10€</td>\n",
    "      <td>30€</td>\n",
    "      <td>5€</td>\n",
    "    </tr>\n",
    "    <tr>\n",
    "      <th>alice</th>\n",
    "      <td>20€</td>\n",
    "      <td>50€</td>\n",
    "      <td>1€</td>\n",
    "    </tr>\n",
    "    <tr>\n",
    "      <th>john</th>\n",
    "      <td>15€</td>\n",
    "      <td>30€</td>\n",
    "      <td>NaN</td>\n",
    "    </tr>\n",
    "  </tbody>\n",
    "</table>\n",
    "\n",
    "- affichez le montant total des achats\n",
    "- affichez les totaux des achats par personne\n",
    "- affichez les moyennes des achats par type d'aliments\n",
    "\n",
    "<br>"
   ]
  },
  {
   "cell_type": "code",
   "execution_count": 109,
   "metadata": {},
   "outputs": [
    {
     "data": {
      "text/plain": [
       "array([[10., 30.,  5.],\n",
       "       [20., 50.,  1.],\n",
       "       [15., 30., nan]])"
      ]
     },
     "metadata": {},
     "output_type": "display_data"
    },
    {
     "name": "stdout",
     "output_type": "stream",
     "text": [
      "161.0\n"
     ]
    },
    {
     "data": {
      "text/plain": [
       "[45, 71, 45]"
      ]
     },
     "metadata": {},
     "output_type": "display_data"
    },
    {
     "data": {
      "text/plain": [
       "{'pates': 15, 'legumes': 36, 'divers': 3}"
      ]
     },
     "execution_count": 109,
     "metadata": {},
     "output_type": "execute_result"
    }
   ],
   "source": [
    "arr = np.array([[10, 30, 5], [20, 50, 1], [15, 30, np.nan]])\n",
    "display(arr)\n",
    "\n",
    "total = np.nansum(arr)\n",
    "print(total)\n",
    "\n",
    "total_pps = []\n",
    "for i in range(3):\n",
    "    total_pps.append(int(np.nansum(arr[i])))\n",
    "display(total_pps)\n",
    "\n",
    "mean_type = {\"pates\": 0, \"legumes\": 0, \"divers\": 0}\n",
    "\n",
    "mean_type[\"pates\"] = int(np.nanmean(arr[:, 0:1]))\n",
    "mean_type[\"legumes\"] = int(np.nanmean(arr[:, 1:2]))\n",
    "mean_type[\"divers\"] = int(np.nanmean(arr[:, -1:]))\n",
    "\n",
    "mean_type"
   ]
  },
  {
   "cell_type": "markdown",
   "metadata": {},
   "source": [
    "# Exercice 7\n",
    "\n",
    "Cette fois-ci nous avons les quantités achetées ainsi que le prix unitaires pour chacun des éléments\n",
    "\n",
    "<table border=\"1\" class=\"dataframe\">\n",
    "  <thead>\n",
    "    <tr style=\"text-align: right;\">\n",
    "      <th></th>\n",
    "      <th>pâtes</th>\n",
    "      <th>légumes</th>\n",
    "      <th>divers</th>\n",
    "    </tr>\n",
    "  </thead>\n",
    "  <tbody>\n",
    "    <tr>\n",
    "      <th>bob</th>\n",
    "      <td>1</td>\n",
    "      <td>4</td>\n",
    "      <td>2</td>\n",
    "    </tr>\n",
    "    <tr>\n",
    "      <th>alice</th>\n",
    "      <td>3</td>\n",
    "      <td>5</td>\n",
    "      <td>7</td>\n",
    "    </tr>\n",
    "    <tr>\n",
    "      <th>john</th>\n",
    "      <td>5</td>\n",
    "      <td>4</td>\n",
    "      <td>4</td>\n",
    "    </tr>\n",
    "  </tbody>\n",
    "</table>\n",
    "\n",
    "```py\n",
    "[20, 5, 3]\n",
    "````\n",
    "\n",
    "- calculez le montant total par personne\n",
    "- calculez le montant total par produit\n",
    "\n",
    "<br>"
   ]
  },
  {
   "cell_type": "code",
   "execution_count": 127,
   "metadata": {
    "vscode": {
     "languageId": "plaintext"
    }
   },
   "outputs": [
    {
     "data": {
      "text/plain": [
       "{'bob': 46, 'alice': 106, 'john': 132}"
      ]
     },
     "execution_count": 127,
     "metadata": {},
     "output_type": "execute_result"
    }
   ],
   "source": [
    "quant = np.array([[1, 4, 2], [3, 5, 7], [5, 4, 4]])\n",
    "prices = np.array([20, 5, 3])\n",
    "\n",
    "montant_pps = {\"bob\": 0, \"alice\": 0, \"john\": 0}\n",
    "\n",
    "montant_pps[\"bob\"] = int(np.sum(quant[0] * prices))\n",
    "montant_pps[\"alice\"] = int(np.sum(quant[1] * prices))\n",
    "montant_pps[\"john\"] = int(np.sum(quant[2] * prices))\n",
    "\n",
    "montant_pps"
   ]
  },
  {
   "cell_type": "code",
   "execution_count": 144,
   "metadata": {},
   "outputs": [
    {
     "data": {
      "text/plain": [
       "284"
      ]
     },
     "execution_count": 144,
     "metadata": {},
     "output_type": "execute_result"
    }
   ],
   "source": [
    "pates = int(np.sum(quant[:, 0:1] * prices[0]))\n",
    "legumes = int(np.sum(quant[:, 1:2] * prices[1]))\n",
    "divers = int(np.sum(quant[:, 2:] * prices[2]))\n",
    "\n",
    "pates, legumes, divers\n",
    "total = pates + legumes + divers\n",
    "total"
   ]
  }
 ],
 "metadata": {
  "colab": {
   "provenance": []
  },
  "kernelspec": {
   "display_name": "Python (myenv)",
   "language": "python",
   "name": "myenv"
  },
  "language_info": {
   "codemirror_mode": {
    "name": "ipython",
    "version": 3
   },
   "file_extension": ".py",
   "mimetype": "text/x-python",
   "name": "python",
   "nbconvert_exporter": "python",
   "pygments_lexer": "ipython3",
   "version": "3.12.4"
  },
  "vscode": {
   "interpreter": {
    "hash": "8b038021cdf13f495f9b9095f721a5cca6d620ce47cac75dee16c0cf770fe58e"
   }
  }
 },
 "nbformat": 4,
 "nbformat_minor": 4
}
