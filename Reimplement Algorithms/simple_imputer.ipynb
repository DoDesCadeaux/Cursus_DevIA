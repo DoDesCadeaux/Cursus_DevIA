{
 "cells": [
  {
   "cell_type": "code",
   "execution_count": 2,
   "id": "9e5b9f70-49e3-42f7-8ee7-c6c2ae3c4151",
   "metadata": {},
   "outputs": [],
   "source": [
    "import numpy as np\n",
    "import pandas as pd\n",
    "from sklearn.impute import SimpleImputer"
   ]
  },
  {
   "cell_type": "code",
   "execution_count": 178,
   "id": "477e7302-4e98-4e04-9d26-d82f14857620",
   "metadata": {},
   "outputs": [],
   "source": [
    "data = pd.DataFrame({\n",
    "    'A': [1, 2, np.nan, 3, 4, np.nan, 6, 7, 8, 9, np.nan, 11, 12, 2, 2, 3, 4, 3]\n",
    "})"
   ]
  },
  {
   "cell_type": "code",
   "execution_count": 179,
   "id": "dce2d116-f9c4-4612-8dc5-51cb050e95ff",
   "metadata": {},
   "outputs": [
    {
     "data": {
      "text/html": [
       "<div>\n",
       "<style scoped>\n",
       "    .dataframe tbody tr th:only-of-type {\n",
       "        vertical-align: middle;\n",
       "    }\n",
       "\n",
       "    .dataframe tbody tr th {\n",
       "        vertical-align: top;\n",
       "    }\n",
       "\n",
       "    .dataframe thead th {\n",
       "        text-align: right;\n",
       "    }\n",
       "</style>\n",
       "<table border=\"1\" class=\"dataframe\">\n",
       "  <thead>\n",
       "    <tr style=\"text-align: right;\">\n",
       "      <th></th>\n",
       "      <th>A</th>\n",
       "    </tr>\n",
       "  </thead>\n",
       "  <tbody>\n",
       "    <tr>\n",
       "      <th>0</th>\n",
       "      <td>1.0</td>\n",
       "    </tr>\n",
       "    <tr>\n",
       "      <th>1</th>\n",
       "      <td>2.0</td>\n",
       "    </tr>\n",
       "    <tr>\n",
       "      <th>2</th>\n",
       "      <td>NaN</td>\n",
       "    </tr>\n",
       "    <tr>\n",
       "      <th>3</th>\n",
       "      <td>3.0</td>\n",
       "    </tr>\n",
       "    <tr>\n",
       "      <th>4</th>\n",
       "      <td>4.0</td>\n",
       "    </tr>\n",
       "    <tr>\n",
       "      <th>5</th>\n",
       "      <td>NaN</td>\n",
       "    </tr>\n",
       "    <tr>\n",
       "      <th>6</th>\n",
       "      <td>6.0</td>\n",
       "    </tr>\n",
       "    <tr>\n",
       "      <th>7</th>\n",
       "      <td>7.0</td>\n",
       "    </tr>\n",
       "    <tr>\n",
       "      <th>8</th>\n",
       "      <td>8.0</td>\n",
       "    </tr>\n",
       "    <tr>\n",
       "      <th>9</th>\n",
       "      <td>9.0</td>\n",
       "    </tr>\n",
       "    <tr>\n",
       "      <th>10</th>\n",
       "      <td>NaN</td>\n",
       "    </tr>\n",
       "    <tr>\n",
       "      <th>11</th>\n",
       "      <td>11.0</td>\n",
       "    </tr>\n",
       "    <tr>\n",
       "      <th>12</th>\n",
       "      <td>12.0</td>\n",
       "    </tr>\n",
       "    <tr>\n",
       "      <th>13</th>\n",
       "      <td>2.0</td>\n",
       "    </tr>\n",
       "    <tr>\n",
       "      <th>14</th>\n",
       "      <td>2.0</td>\n",
       "    </tr>\n",
       "    <tr>\n",
       "      <th>15</th>\n",
       "      <td>3.0</td>\n",
       "    </tr>\n",
       "    <tr>\n",
       "      <th>16</th>\n",
       "      <td>4.0</td>\n",
       "    </tr>\n",
       "    <tr>\n",
       "      <th>17</th>\n",
       "      <td>3.0</td>\n",
       "    </tr>\n",
       "  </tbody>\n",
       "</table>\n",
       "</div>"
      ],
      "text/plain": [
       "       A\n",
       "0    1.0\n",
       "1    2.0\n",
       "2    NaN\n",
       "3    3.0\n",
       "4    4.0\n",
       "5    NaN\n",
       "6    6.0\n",
       "7    7.0\n",
       "8    8.0\n",
       "9    9.0\n",
       "10   NaN\n",
       "11  11.0\n",
       "12  12.0\n",
       "13   2.0\n",
       "14   2.0\n",
       "15   3.0\n",
       "16   4.0\n",
       "17   3.0"
      ]
     },
     "execution_count": 179,
     "metadata": {},
     "output_type": "execute_result"
    }
   ],
   "source": [
    "data"
   ]
  },
  {
   "cell_type": "code",
   "execution_count": 180,
   "id": "5e53f190-e958-45ab-aa50-fb4f61af6e81",
   "metadata": {},
   "outputs": [
    {
     "name": "stdout",
     "output_type": "stream",
     "text": [
      "[[ 1.]\n",
      " [ 2.]\n",
      " [ 2.]\n",
      " [ 3.]\n",
      " [ 4.]\n",
      " [ 2.]\n",
      " [ 6.]\n",
      " [ 7.]\n",
      " [ 8.]\n",
      " [ 9.]\n",
      " [ 2.]\n",
      " [11.]\n",
      " [12.]\n",
      " [ 2.]\n",
      " [ 2.]\n",
      " [ 3.]\n",
      " [ 4.]\n",
      " [ 3.]]\n"
     ]
    }
   ],
   "source": [
    "imputer = SimpleImputer(strategy='most_frequent')\n",
    "imputed_data = imputer.fit_transform(data)\n",
    "\n",
    "print(imputed_data)"
   ]
  },
  {
   "cell_type": "code",
   "execution_count": 181,
   "id": "b7f454c9-a454-4895-98bd-6a694a674bed",
   "metadata": {},
   "outputs": [
    {
     "data": {
      "text/plain": [
       "array([[ 1.],\n",
       "       [ 2.],\n",
       "       [nan],\n",
       "       [ 3.],\n",
       "       [ 4.],\n",
       "       [nan],\n",
       "       [ 6.],\n",
       "       [ 7.],\n",
       "       [ 8.],\n",
       "       [ 9.],\n",
       "       [nan],\n",
       "       [11.],\n",
       "       [12.],\n",
       "       [ 2.],\n",
       "       [ 2.],\n",
       "       [ 3.],\n",
       "       [ 4.],\n",
       "       [ 3.]])"
      ]
     },
     "execution_count": 181,
     "metadata": {},
     "output_type": "execute_result"
    }
   ],
   "source": [
    "data_np = data.to_numpy()\n",
    "data_np"
   ]
  },
  {
   "cell_type": "code",
   "execution_count": 142,
   "id": "cf8a529e-e7e6-471f-a1e9-5e6e43a815e6",
   "metadata": {},
   "outputs": [
    {
     "data": {
      "text/plain": [
       "np.float64(3.0)"
      ]
     },
     "metadata": {},
     "output_type": "display_data"
    },
    {
     "data": {
      "text/plain": [
       "array([[ 1.],\n",
       "       [ 2.],\n",
       "       [ 3.],\n",
       "       [ 3.],\n",
       "       [ 4.],\n",
       "       [ 3.],\n",
       "       [ 6.],\n",
       "       [ 7.],\n",
       "       [ 8.],\n",
       "       [ 9.],\n",
       "       [ 3.],\n",
       "       [11.],\n",
       "       [12.],\n",
       "       [ 2.],\n",
       "       [ 2.],\n",
       "       [ 3.],\n",
       "       [ 3.],\n",
       "       [ 3.]])"
      ]
     },
     "execution_count": 142,
     "metadata": {},
     "output_type": "execute_result"
    }
   ],
   "source": [
    "# Most frequent imputer\n",
    "count_uniques, count = np.array(np.unique(data_np, return_counts=True))\n",
    "\n",
    "mask = ~np.isnan(count_uniques)\n",
    "filtered_unique = count_uniques[mask]\n",
    "filtered_count = count[mask]\n",
    "\n",
    "mode_index = np.argmax(filtered_count)\n",
    "mode = filtered_unique[mode_index]\n",
    "display(mode)\n",
    "\n",
    "nan_mask = np.isnan(data_np)\n",
    "\n",
    "data_np[nan_mask] = mode\n",
    "\n",
    "data_np"
   ]
  },
  {
   "cell_type": "code",
   "execution_count": 165,
   "id": "c7ac4942-3838-46da-bbdc-09b46ebe29de",
   "metadata": {},
   "outputs": [
    {
     "data": {
      "text/plain": [
       "array([[ 1.        ],\n",
       "       [ 2.        ],\n",
       "       [ 5.06666667],\n",
       "       [ 3.        ],\n",
       "       [ 4.        ],\n",
       "       [ 5.06666667],\n",
       "       [ 6.        ],\n",
       "       [ 7.        ],\n",
       "       [ 8.        ],\n",
       "       [ 9.        ],\n",
       "       [ 5.06666667],\n",
       "       [11.        ],\n",
       "       [12.        ],\n",
       "       [ 2.        ],\n",
       "       [ 2.        ],\n",
       "       [ 3.        ],\n",
       "       [ 3.        ],\n",
       "       [ 3.        ]])"
      ]
     },
     "execution_count": 165,
     "metadata": {},
     "output_type": "execute_result"
    }
   ],
   "source": [
    "# Mean imputer\n",
    "mask = ~np.isnan(data_np)\n",
    "filtered_data = data_np[mask]\n",
    "mean = filtered_data.sum() / len(filtered_data)\n",
    "\n",
    "nan_mask = np.isnan(data_np)\n",
    "data_np[nan_mask] = mean\n",
    "data_np"
   ]
  },
  {
   "cell_type": "code",
   "execution_count": 182,
   "id": "d9ff2322-6346-45d3-bec0-5a18a6dc6fb2",
   "metadata": {},
   "outputs": [
    {
     "data": {
      "text/plain": [
       "array([[ 1.],\n",
       "       [ 2.],\n",
       "       [ 4.],\n",
       "       [ 3.],\n",
       "       [ 4.],\n",
       "       [ 4.],\n",
       "       [ 6.],\n",
       "       [ 7.],\n",
       "       [ 8.],\n",
       "       [ 9.],\n",
       "       [ 4.],\n",
       "       [11.],\n",
       "       [12.],\n",
       "       [ 2.],\n",
       "       [ 2.],\n",
       "       [ 3.],\n",
       "       [ 4.],\n",
       "       [ 3.]])"
      ]
     },
     "execution_count": 182,
     "metadata": {},
     "output_type": "execute_result"
    }
   ],
   "source": [
    "# Median imputer\n",
    "\n",
    "mask = ~np.isnan(data_np)\n",
    "filtered_data = data_np[mask]\n",
    "median = np.median(filtered_data)\n",
    "\n",
    "nan_mask = np.isnan(data_np)\n",
    "data_np[nan_mask] = median\n",
    "data_np"
   ]
  }
 ],
 "metadata": {
  "kernelspec": {
   "display_name": "Python 3 (ipykernel)",
   "language": "python",
   "name": "python3"
  },
  "language_info": {
   "codemirror_mode": {
    "name": "ipython",
    "version": 3
   },
   "file_extension": ".py",
   "mimetype": "text/x-python",
   "name": "python",
   "nbconvert_exporter": "python",
   "pygments_lexer": "ipython3",
   "version": "3.10.12"
  }
 },
 "nbformat": 4,
 "nbformat_minor": 5
}
