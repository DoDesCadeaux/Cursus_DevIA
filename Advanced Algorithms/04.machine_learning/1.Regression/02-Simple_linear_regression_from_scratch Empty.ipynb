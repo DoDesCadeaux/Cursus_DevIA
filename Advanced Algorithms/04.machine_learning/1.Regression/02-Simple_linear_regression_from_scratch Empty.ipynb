{
 "cells": [
  {
   "cell_type": "code",
   "execution_count": 1,
   "metadata": {},
   "outputs": [],
   "source": [
    "import numpy as np"
   ]
  },
  {
   "cell_type": "markdown",
   "metadata": {
    "id": "oGRCdv2_63Fm"
   },
   "source": [
    "# Linear regression\n",
    "\n",
    "Now that we've created our first learning machine model, let's see how it works under the hood."
   ]
  },
  {
   "cell_type": "markdown",
   "metadata": {
    "id": "4IHjwpyJmYz0"
   },
   "source": [
    "## How does it work?\n",
    "Here comes a part that some of you fear: Mathematics!    \n",
    "\n",
    "But don't worry, you'll see that it's not that complicated.\n",
    "\n",
    "### How to calculate the y-axis from the x-axis?"
   ]
  },
  {
   "cell_type": "markdown",
   "metadata": {
    "id": "rPLnFMBxs4C9"
   },
   "source": [
    "A linear model is in fact based on a simple [affine function.](https://fr.wikipedia.org/wiki/Fonction_affine) !"
   ]
  },
  {
   "cell_type": "markdown",
   "metadata": {
    "id": "2XTFIZfapioo"
   },
   "source": [
    "$$f(x) = ax + b$$\n",
    "or ...\n",
    "$$y = f(x) = ax + b$$\n",
    "or..."
   ]
  },
  {
   "cell_type": "markdown",
   "metadata": {},
   "source": [
    "```py\n",
    "y = a*x + b\n",
    "```"
   ]
  },
  {
   "cell_type": "markdown",
   "metadata": {},
   "source": [
    "**Exercise :** Create a function ``f`` which receives as a parameter the variable ``x``,``a`` and ``b`` and returns ``y``"
   ]
  },
  {
   "cell_type": "code",
   "execution_count": 2,
   "metadata": {},
   "outputs": [],
   "source": [
    "def f(x, a, b=0):\n",
    "    y = a * x + b\n",
    "    return y"
   ]
  },
  {
   "cell_type": "markdown",
   "metadata": {},
   "source": [
    "This function will allow us to create a straight line that passes through all the points as well as possible. For the moment, we do not know the value of parameters a and b, so it is impossible to draw a good straight line on the scatterplot, unless we choose parameters at random. And that is what we are going to do."
   ]
  },
  {
   "cell_type": "markdown",
   "metadata": {
    "id": "nl6jA7JTdoO8"
   },
   "source": [
    "\n",
    "The linear model with random parameters would look something like this: "
   ]
  },
  {
   "cell_type": "markdown",
   "metadata": {
    "id": "a6Va6jerdvjC"
   },
   "source": [
    "![image.png](./assets/random_bias.png)\n"
   ]
  },
  {
   "cell_type": "markdown",
   "metadata": {
    "id": "2x4DbSIbeQNA"
   },
   "source": [
    "But we want to achieve this result:"
   ]
  },
  {
   "cell_type": "markdown",
   "metadata": {
    "id": "w7hNlrnOezsy"
   },
   "source": [
    "![](./assets/trained_bias.png)"
   ]
  },
  {
   "cell_type": "markdown",
   "metadata": {
    "id": "mKo1rgh_fA7O"
   },
   "source": [
    "And it will be the role of the machine to learn how to find these values (a and b) by minimizing the cost function that we will see in detail in the next chapter.\n",
    "\n",
    "Before we do that, we need to look at the small problem we have with this method. If we execute the function as is, we would have to make a loop for each element $x^{i}$ of our dataset. This can be very expensive in terms of machine resources. If your dataset is very large, it will take a lot of time to train your model. \n",
    "\n",
    "To solve this problem, it is customary to use something you are beginning to know, matrices! \n",
    "\n",
    "The matrices allow us to perform the function only once on our entire dataset. \n",
    "\n",
    "The matrix writing of $f(x)=ax+b$ is written like this:\n",
    "$$ F = X . \\theta$$\n",
    "\n",
    "As these are matrices that contain all the data, by convention, we put them in uppercase.\n",
    "\n",
    "The variable $F$ will contain a matrix with the set of predictions of $x^{(i)}$. \n",
    "\n",
    "$$ \n",
    "F \\\\\n",
    "\\begin{bmatrix}\n",
    "f(x^{(1)})\\\\\n",
    "f(x^{(2)})\\\\\n",
    "f(x^{(3)})\\\\\n",
    "... \\\\\n",
    "f(x^{(m)})\\\\\n",
    "\\end{bmatrix}\n",
    "$$"
   ]
  },
  {
   "cell_type": "markdown",
   "metadata": {},
   "source": [
    "The variable $\\theta$ (pronounced theta) will contain a vector with the values $a$ and $b$."
   ]
  },
  {
   "cell_type": "markdown",
   "metadata": {},
   "source": [
    "$$\n",
    "\\theta \\\\\n",
    "\\begin{bmatrix}\n",
    "a \\\\\n",
    "b \\\\\n",
    "\\end{bmatrix}\n",
    "$$"
   ]
  },
  {
   "cell_type": "markdown",
   "metadata": {},
   "source": [
    "The variable $X$ will contain a matrix with two dimensions, one dimension with the value of $x^{(i)}$ and another dimension with 1's everywhere.  Why? Because we have to multiply our X and theta matrices.\n",
    "$$ \n",
    "\\begin{equation*}\n",
    "\\begin{bmatrix}\n",
    "x^{(1)} && 1\\\\\n",
    "x^{(2)} && 1\\\\\n",
    "x^{(3)} && 1\\\\\n",
    "... \\\\\n",
    "x^{(m)} && 1\\\\\n",
    "\\end{bmatrix}\n",
    ".\n",
    "\\begin{bmatrix}\n",
    "a \\\\\n",
    "b \\\\\n",
    "\\end{bmatrix}\n",
    "\\end{equation*}\n",
    "$$\n",
    "\n",
    "![](./assets/dot_mat.JPG)"
   ]
  },
  {
   "cell_type": "markdown",
   "metadata": {},
   "source": [
    "Which amounts to writing this: \n",
    "$$ y^{(1)} = x^{(1)}* a + 1 * b$$\n",
    "\n",
    "And if we simplify:\n",
    "$$ y^{(1)} = ax^{(1)} + b$$\n",
    "\n",
    "\n",
    "So we are back to our original function.\n"
   ]
  },
  {
   "cell_type": "markdown",
   "metadata": {},
   "source": [
    "**Exercise :**\n",
    "1. Create a variable ``X`` which contains a matrix (30,2) with a column filled with values of our dataframe and then another one with 1's. \n",
    "2. Create ``theta`` variable which contains a vector with 2 random values.\n",
    "3. Create a variable ``F`` which contains a multiplication of the matrix X with the theta vector."
   ]
  },
  {
   "cell_type": "code",
   "execution_count": 81,
   "metadata": {
    "scrolled": true
   },
   "outputs": [
    {
     "data": {
      "text/plain": [
       "array([[ 1.1,  1. ],\n",
       "       [ 1.3,  1. ],\n",
       "       [ 1.5,  1. ],\n",
       "       [ 2. ,  1. ],\n",
       "       [ 2.2,  1. ],\n",
       "       [ 2.9,  1. ],\n",
       "       [ 3. ,  1. ],\n",
       "       [ 3.2,  1. ],\n",
       "       [ 3.2,  1. ],\n",
       "       [ 3.7,  1. ],\n",
       "       [ 3.9,  1. ],\n",
       "       [ 4. ,  1. ],\n",
       "       [ 4. ,  1. ],\n",
       "       [ 4.1,  1. ],\n",
       "       [ 4.5,  1. ],\n",
       "       [ 4.9,  1. ],\n",
       "       [ 5.1,  1. ],\n",
       "       [ 5.3,  1. ],\n",
       "       [ 5.9,  1. ],\n",
       "       [ 6. ,  1. ],\n",
       "       [ 6.8,  1. ],\n",
       "       [ 7.1,  1. ],\n",
       "       [ 7.9,  1. ],\n",
       "       [ 8.2,  1. ],\n",
       "       [ 8.7,  1. ],\n",
       "       [ 9. ,  1. ],\n",
       "       [ 9.5,  1. ],\n",
       "       [ 9.6,  1. ],\n",
       "       [10.3,  1. ],\n",
       "       [10.5,  1. ]])"
      ]
     },
     "metadata": {},
     "output_type": "display_data"
    },
    {
     "data": {
      "text/plain": [
       "array([-0.63073232,  1.3384761 ])"
      ]
     },
     "metadata": {},
     "output_type": "display_data"
    }
   ],
   "source": [
    "import pandas as pd\n",
    "\n",
    "df = pd.read_csv(\"./data/salary_data.csv\")\n",
    "# From df create X, theta must be random values like np.array([2,3])\n",
    "years_experience = df['YearsExperience'].values\n",
    "ones = np.ones((df.shape[0], 1))\n",
    "X = np.hstack((years_experience.reshape(-1, 1), ones))\n",
    "display(X)\n",
    "\n",
    "theta = np.array([np.random.randn(), np.random.randn()])\n",
    "display(theta)\n",
    "# Display X"
   ]
  },
  {
   "cell_type": "code",
   "execution_count": 4,
   "metadata": {
    "scrolled": true
   },
   "outputs": [
    {
     "data": {
      "text/html": [
       "<div>\n",
       "<style scoped>\n",
       "    .dataframe tbody tr th:only-of-type {\n",
       "        vertical-align: middle;\n",
       "    }\n",
       "\n",
       "    .dataframe tbody tr th {\n",
       "        vertical-align: top;\n",
       "    }\n",
       "\n",
       "    .dataframe thead th {\n",
       "        text-align: right;\n",
       "    }\n",
       "</style>\n",
       "<table border=\"1\" class=\"dataframe\">\n",
       "  <thead>\n",
       "    <tr style=\"text-align: right;\">\n",
       "      <th></th>\n",
       "      <th>YearsExperience</th>\n",
       "      <th>Salary</th>\n",
       "    </tr>\n",
       "  </thead>\n",
       "  <tbody>\n",
       "    <tr>\n",
       "      <th>0</th>\n",
       "      <td>1.1</td>\n",
       "      <td>39343</td>\n",
       "    </tr>\n",
       "    <tr>\n",
       "      <th>1</th>\n",
       "      <td>1.3</td>\n",
       "      <td>46205</td>\n",
       "    </tr>\n",
       "    <tr>\n",
       "      <th>2</th>\n",
       "      <td>1.5</td>\n",
       "      <td>37731</td>\n",
       "    </tr>\n",
       "    <tr>\n",
       "      <th>3</th>\n",
       "      <td>2.0</td>\n",
       "      <td>43525</td>\n",
       "    </tr>\n",
       "    <tr>\n",
       "      <th>4</th>\n",
       "      <td>2.2</td>\n",
       "      <td>39891</td>\n",
       "    </tr>\n",
       "    <tr>\n",
       "      <th>5</th>\n",
       "      <td>2.9</td>\n",
       "      <td>56642</td>\n",
       "    </tr>\n",
       "    <tr>\n",
       "      <th>6</th>\n",
       "      <td>3.0</td>\n",
       "      <td>60150</td>\n",
       "    </tr>\n",
       "    <tr>\n",
       "      <th>7</th>\n",
       "      <td>3.2</td>\n",
       "      <td>54445</td>\n",
       "    </tr>\n",
       "    <tr>\n",
       "      <th>8</th>\n",
       "      <td>3.2</td>\n",
       "      <td>64445</td>\n",
       "    </tr>\n",
       "    <tr>\n",
       "      <th>9</th>\n",
       "      <td>3.7</td>\n",
       "      <td>57189</td>\n",
       "    </tr>\n",
       "    <tr>\n",
       "      <th>10</th>\n",
       "      <td>3.9</td>\n",
       "      <td>63218</td>\n",
       "    </tr>\n",
       "    <tr>\n",
       "      <th>11</th>\n",
       "      <td>4.0</td>\n",
       "      <td>55794</td>\n",
       "    </tr>\n",
       "    <tr>\n",
       "      <th>12</th>\n",
       "      <td>4.0</td>\n",
       "      <td>56957</td>\n",
       "    </tr>\n",
       "    <tr>\n",
       "      <th>13</th>\n",
       "      <td>4.1</td>\n",
       "      <td>57081</td>\n",
       "    </tr>\n",
       "    <tr>\n",
       "      <th>14</th>\n",
       "      <td>4.5</td>\n",
       "      <td>61111</td>\n",
       "    </tr>\n",
       "    <tr>\n",
       "      <th>15</th>\n",
       "      <td>4.9</td>\n",
       "      <td>67938</td>\n",
       "    </tr>\n",
       "    <tr>\n",
       "      <th>16</th>\n",
       "      <td>5.1</td>\n",
       "      <td>66029</td>\n",
       "    </tr>\n",
       "    <tr>\n",
       "      <th>17</th>\n",
       "      <td>5.3</td>\n",
       "      <td>83088</td>\n",
       "    </tr>\n",
       "    <tr>\n",
       "      <th>18</th>\n",
       "      <td>5.9</td>\n",
       "      <td>81363</td>\n",
       "    </tr>\n",
       "    <tr>\n",
       "      <th>19</th>\n",
       "      <td>6.0</td>\n",
       "      <td>93940</td>\n",
       "    </tr>\n",
       "    <tr>\n",
       "      <th>20</th>\n",
       "      <td>6.8</td>\n",
       "      <td>91738</td>\n",
       "    </tr>\n",
       "    <tr>\n",
       "      <th>21</th>\n",
       "      <td>7.1</td>\n",
       "      <td>98273</td>\n",
       "    </tr>\n",
       "    <tr>\n",
       "      <th>22</th>\n",
       "      <td>7.9</td>\n",
       "      <td>101302</td>\n",
       "    </tr>\n",
       "    <tr>\n",
       "      <th>23</th>\n",
       "      <td>8.2</td>\n",
       "      <td>113812</td>\n",
       "    </tr>\n",
       "    <tr>\n",
       "      <th>24</th>\n",
       "      <td>8.7</td>\n",
       "      <td>109431</td>\n",
       "    </tr>\n",
       "    <tr>\n",
       "      <th>25</th>\n",
       "      <td>9.0</td>\n",
       "      <td>105582</td>\n",
       "    </tr>\n",
       "    <tr>\n",
       "      <th>26</th>\n",
       "      <td>9.5</td>\n",
       "      <td>116969</td>\n",
       "    </tr>\n",
       "    <tr>\n",
       "      <th>27</th>\n",
       "      <td>9.6</td>\n",
       "      <td>112635</td>\n",
       "    </tr>\n",
       "    <tr>\n",
       "      <th>28</th>\n",
       "      <td>10.3</td>\n",
       "      <td>122391</td>\n",
       "    </tr>\n",
       "    <tr>\n",
       "      <th>29</th>\n",
       "      <td>10.5</td>\n",
       "      <td>121872</td>\n",
       "    </tr>\n",
       "  </tbody>\n",
       "</table>\n",
       "</div>"
      ],
      "text/plain": [
       "    YearsExperience  Salary\n",
       "0               1.1   39343\n",
       "1               1.3   46205\n",
       "2               1.5   37731\n",
       "3               2.0   43525\n",
       "4               2.2   39891\n",
       "5               2.9   56642\n",
       "6               3.0   60150\n",
       "7               3.2   54445\n",
       "8               3.2   64445\n",
       "9               3.7   57189\n",
       "10              3.9   63218\n",
       "11              4.0   55794\n",
       "12              4.0   56957\n",
       "13              4.1   57081\n",
       "14              4.5   61111\n",
       "15              4.9   67938\n",
       "16              5.1   66029\n",
       "17              5.3   83088\n",
       "18              5.9   81363\n",
       "19              6.0   93940\n",
       "20              6.8   91738\n",
       "21              7.1   98273\n",
       "22              7.9  101302\n",
       "23              8.2  113812\n",
       "24              8.7  109431\n",
       "25              9.0  105582\n",
       "26              9.5  116969\n",
       "27              9.6  112635\n",
       "28             10.3  122391\n",
       "29             10.5  121872"
      ]
     },
     "execution_count": 4,
     "metadata": {},
     "output_type": "execute_result"
    }
   ],
   "source": [
    "df"
   ]
  },
  {
   "cell_type": "code",
   "execution_count": 5,
   "metadata": {},
   "outputs": [
    {
     "data": {
      "text/plain": [
       "(30, 2)"
      ]
     },
     "execution_count": 5,
     "metadata": {},
     "output_type": "execute_result"
    }
   ],
   "source": [
    "df.shape"
   ]
  },
  {
   "cell_type": "markdown",
   "metadata": {},
   "source": [
    "**Exercise :** Create a ``model`` function that receives in parameter ``X`` and ``theta``.  The function must return ``F``. "
   ]
  },
  {
   "cell_type": "code",
   "execution_count": 6,
   "metadata": {},
   "outputs": [],
   "source": [
    "def model(X, theta):\n",
    "    return X.dot(theta)"
   ]
  },
  {
   "cell_type": "markdown",
   "metadata": {},
   "source": [
    "**Exercice :** Create ``y_pred`` variable and use your model function with ``X, theta``"
   ]
  },
  {
   "cell_type": "code",
   "execution_count": 7,
   "metadata": {},
   "outputs": [
    {
     "name": "stdout",
     "output_type": "stream",
     "text": [
      "[ 5.2  5.6  6.   7.   7.4  8.8  9.   9.4  9.4 10.4 10.8 11.  11.  11.2\n",
      " 12.  12.8 13.2 13.6 14.8 15.  16.6 17.2 18.8 19.4 20.4 21.  22.  22.2\n",
      " 23.6 24. ]\n"
     ]
    },
    {
     "data": {
      "text/plain": [
       "array([ 5.2,  5.6,  6. ,  7. ,  7.4,  8.8,  9. ,  9.4,  9.4, 10.4, 10.8,\n",
       "       11. , 11. , 11.2, 12. , 12.8, 13.2, 13.6, 14.8, 15. , 16.6, 17.2,\n",
       "       18.8, 19.4, 20.4, 21. , 22. , 22.2, 23.6, 24. ])"
      ]
     },
     "execution_count": 7,
     "metadata": {},
     "output_type": "execute_result"
    }
   ],
   "source": [
    "y_pred = model(X, theta)\n",
    "print(y_pred)\n",
    "y_pred"
   ]
  },
  {
   "cell_type": "markdown",
   "metadata": {},
   "source": [
    "Now we know how to apply our model to our entire dataset. Now we have to know how to find the right values of a and b. For that we will have to calculate the average of all our errors with a cost function."
   ]
  },
  {
   "cell_type": "markdown",
   "metadata": {
    "id": "XKaQ28Hafn_h"
   },
   "source": [
    "### Cost function"
   ]
  },
  {
   "cell_type": "markdown",
   "metadata": {
    "id": "VRBuUaU2ftck"
   },
   "source": [
    "The cost function allows us to evaluate the performance of our model by measuring the errors between the prediction and the actual value. The question we ask ourselves is: How to measure these errors?\n",
    "\n",
    "Imagine that you have 4 years of experience and that you spend 90000€ per year. Your Machine Learning model predicts that this salary is worth €110000. You can conclude that your model therefore makes an error of 90000 - 110000 = -20000 €.\n",
    "\n",
    "Thus, you could say that to measure your errors, you have to calculate the difference $f(x)-y$. However, if your prediction f(x) is less than y, then this error is negative (as in the example above), and it is not very practical to minimize this function.\n",
    "\n",
    "So, to measure the errors between the $f(x)$ predictions and the y-values of the Dataset, we calculate the square of the difference: $(f(x)-y)^2$. This is by the way what is called the Euclidean norm, which represents the direct distance between $f(x)$ and y in Euclidean geometry.\n"
   ]
  },
  {
   "cell_type": "markdown",
   "metadata": {
    "id": "yJFTEvD8wb7b"
   },
   "source": [
    "\n",
    "\n",
    "![image.png](./assets/eucli.JPG)"
   ]
  },
  {
   "cell_type": "markdown",
   "metadata": {
    "id": "xa-c_X4xt2vO"
   },
   "source": [
    "But this is not enough. Indeed, we have the error of a single exepmle. But we must have the average of all the errors of all the points. \n",
    "\n",
    "We could write it like this: \n",
    "\n",
    "\n",
    "\n",
    "$$MSE(a,b) = {\\dfrac{(f(x^{(1)})- y^{(1)})^2 + (f(x^{(2)})- y^{(2)})^2  + ... +(f(x^{(m)})- y^{(m)})^2}{m}}$$"
   ]
  },
  {
   "cell_type": "markdown",
   "metadata": {
    "id": "1GUWy24S5b27"
   },
   "source": [
    "Why $MSE$? Because this function is called **Mean Squared Error**"
   ]
  },
  {
   "cell_type": "markdown",
   "metadata": {
    "id": "ImWIompHxm2Q"
   },
   "source": [
    "By convention this function is written in the following way, adding a coefficient $\\frac{1}{2}$ to simplify a derivative calculation that will come later.\n",
    "\n",
    "$$ MSE(a, b) = {\\dfrac{1}{2m}} \\sum _ {i=1}^m (f(x^{(i)}) - y^{(i)})^2$$\n",
    "\n",
    "Or\n",
    "\n",
    "$$ MSE(a, b) = {\\dfrac{1}{2m}} \\sum _ {i=1}^m (ax^{(i)} +b - y^{(i)})^2$$\n"
   ]
  },
  {
   "cell_type": "markdown",
   "metadata": {},
   "source": [
    "But as we work with matrices, we also have to transcribe our formula which becomes : \n",
    "\n",
    "$$MSE(\\theta) = \\frac {1}{2m}  \\sum _ {i=1}^m (X . \\theta - y)^2$$"
   ]
  },
  {
   "cell_type": "markdown",
   "metadata": {},
   "source": [
    "or \n",
    "\n",
    "```py\n",
    "MSE = 1/(2*m) * sum((X * theta - y)**2)\n",
    "```"
   ]
  },
  {
   "cell_type": "markdown",
   "metadata": {
    "id": "47zckFxMQiVs"
   },
   "source": [
    "**Exercice :** Create a ``MSE`` function that receives in parameter ``X, y and theta``using the example above."
   ]
  },
  {
   "cell_type": "code",
   "execution_count": 8,
   "metadata": {},
   "outputs": [
    {
     "data": {
      "text/plain": [
       "(30,)"
      ]
     },
     "execution_count": 8,
     "metadata": {},
     "output_type": "execute_result"
    }
   ],
   "source": [
    "y = df['Salary'].values\n",
    "y.shape"
   ]
  },
  {
   "cell_type": "code",
   "execution_count": 9,
   "metadata": {},
   "outputs": [],
   "source": [
    "def MSE(X, y, theta):\n",
    "    return (1/(2 * len(X))) * (sum(model(X, theta) - y) ** 2)"
   ]
  },
  {
   "cell_type": "code",
   "execution_count": 10,
   "metadata": {},
   "outputs": [
    {
     "data": {
      "text/plain": [
       "array([ 5.2,  5.6,  6. ,  7. ,  7.4,  8.8,  9. ,  9.4,  9.4, 10.4, 10.8,\n",
       "       11. , 11. , 11.2, 12. , 12.8, 13.2, 13.6, 14.8, 15. , 16.6, 17.2,\n",
       "       18.8, 19.4, 20.4, 21. , 22. , 22.2, 23.6, 24. ])"
      ]
     },
     "execution_count": 10,
     "metadata": {},
     "output_type": "execute_result"
    }
   ],
   "source": [
    "model(X, theta)"
   ]
  },
  {
   "cell_type": "code",
   "execution_count": 11,
   "metadata": {},
   "outputs": [
    {
     "data": {
      "text/plain": [
       "array([ 39343,  46205,  37731,  43525,  39891,  56642,  60150,  54445,\n",
       "        64445,  57189,  63218,  55794,  56957,  57081,  61111,  67938,\n",
       "        66029,  83088,  81363,  93940,  91738,  98273, 101302, 113812,\n",
       "       109431, 105582, 116969, 112635, 122391, 121872])"
      ]
     },
     "execution_count": 11,
     "metadata": {},
     "output_type": "execute_result"
    }
   ],
   "source": [
    "y"
   ]
  },
  {
   "cell_type": "code",
   "execution_count": 12,
   "metadata": {
    "id": "CRRlqkpmQdk7"
   },
   "outputs": [
    {
     "data": {
      "text/plain": [
       "np.float64(86615772893.89067)"
      ]
     },
     "execution_count": 12,
     "metadata": {},
     "output_type": "execute_result"
    }
   ],
   "source": [
    "MSE(X, y, theta)"
   ]
  },
  {
   "cell_type": "markdown",
   "metadata": {
    "id": "s_2cfr2DOB9X"
   },
   "source": [
    "### Minimize the cost function.\n",
    "\n",
    "\n",
    "\n",
    "If the cost function is omitted with respect to the parameter, it looks something like this:"
   ]
  },
  {
   "cell_type": "markdown",
   "metadata": {
    "id": "ASRXsJyO__ic"
   },
   "source": [
    "![image.png](./assets/convexe.png)"
   ]
  },
  {
   "cell_type": "markdown",
   "metadata": {
    "id": "55-cHhR_DBNI"
   },
   "source": [
    "The aim is therefore to reach the lowest point of the curve, i.e. the lowest possible sum of errors. "
   ]
  },
  {
   "cell_type": "markdown",
   "metadata": {
    "id": "cqyzIhPKDMc_"
   },
   "source": [
    "![image.png](./assets/gradient_descent.png)"
   ]
  },
  {
   "cell_type": "markdown",
   "metadata": {},
   "source": [
    "To do this, there are several function minimization algorithms, such as the least squares method or **gradient descent**. We will focus here on gradient descent because it is one of the most widely used."
   ]
  },
  {
   "cell_type": "markdown",
   "metadata": {
    "id": "7gmDtf6l-f7T"
   },
   "source": [
    "The gradient desecent an iterative algorithm which therefore proceeds by progressive improvements. For a linear problem, this algorithm needs to have two hyperparameters :\n",
    "\n",
    "**1. The number of iterations :** As its name indicates, this is the parameter that will determine the number of iterations.\n",
    "\n",
    "**2. The learning rate :** This is the length of the step between each iteration. "
   ]
  },
  {
   "cell_type": "markdown",
   "metadata": {
    "id": "KMJ0V9J6HQZa"
   },
   "source": [
    "![learningrate](./assets/gradient_descent_1.gif)"
   ]
  },
  {
   "cell_type": "markdown",
   "metadata": {},
   "source": [
    "It is important to clearly define the learning rate. If you set a high value, the algorithm will be faster, but you risk never reaching the lowest point of the curve, the steps being too big. Our model will never be able to work since it cannot find the minimum of the cost function."
   ]
  },
  {
   "cell_type": "markdown",
   "metadata": {
    "id": "TASxiF6zHnq0"
   },
   "source": [
    "![](./assets/gradient_descent_2.gif)"
   ]
  },
  {
   "cell_type": "markdown",
   "metadata": {},
   "source": [
    "Conversely, if you set a small value, then the algorithm will find the lowest point of the curve, but it will be slower."
   ]
  },
  {
   "cell_type": "markdown",
   "metadata": {
    "id": "9on9fx_9HhYb"
   },
   "source": [
    "![learning rate](./assets/gradient_descent_3.gif)"
   ]
  },
  {
   "cell_type": "markdown",
   "metadata": {},
   "source": [
    "At each iteration, we will have to calculate the regression slope. \n",
    "![](./assets/derivative.gif)"
   ]
  },
  {
   "cell_type": "markdown",
   "metadata": {},
   "source": [
    "And in mathematics we calculate a slope with a [partial derivative](https://en.wikipedia.org/wiki/Partial_derivative#:~:text=In%20mathematics%2C%20a%20partial%20derivative,vector%20calculus%20and%20differential%20geometry.).The symbol used to denote partial derivatives is $\\partial$. "
   ]
  },
  {
   "cell_type": "markdown",
   "metadata": {},
   "source": [
    "$$ \\frac {\\partial MSE(\\theta) }{\\partial \\theta}  = \\frac {1}{m} X^T.(X.\\theta - y)$$\n",
    "\n",
    "The $X^T$ is to transpose the matrix, as in numpy."
   ]
  },
  {
   "cell_type": "markdown",
   "metadata": {},
   "source": [
    "You could translate this into code like this:\n",
    "\n",
    "```py\n",
    "1/m * X.T.dot(model(X, theta) - y)\n",
    "```\n",
    "\n"
   ]
  },
  {
   "cell_type": "code",
   "execution_count": 27,
   "metadata": {},
   "outputs": [],
   "source": [
    "def grad(X, y, theta):\n",
    "    return (1/len(X)) * X.T.dot(model(X, theta) - y)"
   ]
  },
  {
   "cell_type": "code",
   "execution_count": 28,
   "metadata": {},
   "outputs": [
    {
     "data": {
      "text/plain": [
       "array([-477310.72666667,  -75989.37333333])"
      ]
     },
     "metadata": {},
     "output_type": "display_data"
    }
   ],
   "source": [
    "display(grad(X, y, theta))"
   ]
  },
  {
   "cell_type": "markdown",
   "metadata": {},
   "source": [
    "We still have to write the gradient descent. \n",
    "\n",
    "$$\\theta = \\theta - l .  \\frac {\\partial MSE(\\theta) }{\\partial \\theta}$$\n",
    "\n",
    "The variable $a$ is the learning rate. So at each iteration, we redefine theta. We do ; ``theta`` - ``learning_rate`` multiplied by the partial derivative of mean squared error. You could translate this into code like this:"
   ]
  },
  {
   "cell_type": "markdown",
   "metadata": {},
   "source": [
    "```py\n",
    "theta = theta - learning_rate * grad(X, y, theta)\n",
    "```"
   ]
  },
  {
   "cell_type": "markdown",
   "metadata": {},
   "source": [
    "**Exercise :**\n",
    "1. Create a gradient_descent funcion that receives in parameter ``X``, ``y``, ``theta``, ``learning_rate``, ``n_iterations``\n",
    "2. In the function, create a variable cost_history with a matrix filled with 0 and which has a length of n_iterations.We will use it to display the histogram of the model learning process.\n",
    "3. Create a loop that iterates up to ``n_iterations``\n",
    "4. In the loop, update ``theta`` with the formula of the gradient descent (The example above) \n",
    "5. In the loop, update ``cost_history[i]`` with the values of ``MSE(X,y,theta)``\n",
    "6. return theta and cost_history"
   ]
  },
  {
   "cell_type": "code",
   "execution_count": 31,
   "metadata": {},
   "outputs": [],
   "source": [
    "def gradient_descent(X,y, theta, learning_rate, n_iterations):\n",
    "    cost_history = []\n",
    "    \n",
    "    for i in range(n_iterations):\n",
    "        theta = theta - learning_rate * grad(X, y, theta)\n",
    "        cost_history.append(MSE(X, y, theta))\n",
    "    return theta, cost_history"
   ]
  },
  {
   "cell_type": "markdown",
   "metadata": {},
   "source": [
    "### Train your model\n",
    "\n",
    "Now that we know which algorithm is used to minimize the cost function, we train our model.   \n",
    "We define a number of iterations, and a learning step $\\alpha$, and here we go!\n",
    "\n",
    "Once the model is trained, we observe the results compared to our Dataset\n",
    "\n",
    "**Exercise :** Create variables n_iterations and learning_rate. \n",
    "The learning rate and the n_iterations are defined by looking a little. You have to try several things, there is no magic number. However, starting with 1000 iterations and 0.01 of learning_rate is a good basis to start training."
   ]
  },
  {
   "cell_type": "code",
   "execution_count": 24,
   "metadata": {},
   "outputs": [
    {
     "data": {
      "text/plain": [
       "np.float64(86615772893.89067)"
      ]
     },
     "execution_count": 24,
     "metadata": {},
     "output_type": "execute_result"
    }
   ],
   "source": [
    "MSE(X, y, theta)"
   ]
  },
  {
   "cell_type": "code",
   "execution_count": 77,
   "metadata": {},
   "outputs": [],
   "source": [
    "n_iterations = 1000\n",
    "learning_rate = 0.01"
   ]
  },
  {
   "cell_type": "markdown",
   "metadata": {},
   "source": [
    "**Exercise:** Create variables ``theta_final``, ``cost history`` and instance ``gradient_descent()``."
   ]
  },
  {
   "cell_type": "code",
   "execution_count": 82,
   "metadata": {
    "scrolled": true
   },
   "outputs": [
    {
     "data": {
      "text/plain": [
       "(array([ 9876.08773105, 22920.65416398]),\n",
       " [np.float64(37317745896.727554),\n",
       "  np.float64(16697081801.687225),\n",
       "  np.float64(7882267523.251509),\n",
       "  np.float64(3996034214.6470075),\n",
       "  np.float64(2212905800.915939),\n",
       "  np.float64(1354699219.700183),\n",
       "  np.float64(919489608.7755747),\n",
       "  np.float64(687023216.0405731),\n",
       "  np.float64(556850107.6974332),\n",
       "  np.float64(480978592.6608779),\n",
       "  np.float64(435275985.2044778),\n",
       "  np.float64(406972568.70152956),\n",
       "  np.float64(388993489.24945474),\n",
       "  np.float64(377267779.5576002),\n",
       "  np.float64(369384190.8332979),\n",
       "  np.float64(363884435.6225791),\n",
       "  np.float64(359873764.53114706),\n",
       "  np.float64(356797861.6873023),\n",
       "  np.float64(354311126.13231516),\n",
       "  np.float64(352197192.2541447),\n",
       "  np.float64(350320240.23374397),\n",
       "  np.float64(348594863.3990956),\n",
       "  np.float64(346967294.4805501),\n",
       "  np.float64(345403657.82213664),\n",
       "  np.float64(343882597.4911526),\n",
       "  np.float64(342390643.0150035),\n",
       "  np.float64(340919292.7658364),\n",
       "  np.float64(339463177.0268742),\n",
       "  np.float64(338018900.5260928),\n",
       "  np.float64(336584312.8938895),\n",
       "  np.float64(335158048.75255233),\n",
       "  np.float64(333739237.7500427),\n",
       "  np.float64(332327321.7272507),\n",
       "  np.float64(330921939.4307376),\n",
       "  np.float64(329522853.8148174),\n",
       "  np.float64(328129906.198719),\n",
       "  np.float64(326742987.3579873),\n",
       "  np.float64(325362019.2944515),\n",
       "  np.float64(323986943.74008495),\n",
       "  np.float64(322617714.90727264),\n",
       "  np.float64(321254294.9169068),\n",
       "  np.float64(319896650.9151231),\n",
       "  np.float64(318544753.2549326),\n",
       "  np.float64(317198574.34936666),\n",
       "  np.float64(315858087.9481106),\n",
       "  np.float64(314523268.68117356),\n",
       "  np.float64(313194091.77095914),\n",
       "  np.float64(311870532.85054994),\n",
       "  np.float64(310552567.8489446),\n",
       "  np.float64(309240172.91853786),\n",
       "  np.float64(307933324.38923514),\n",
       "  np.float64(306631998.73935807),\n",
       "  np.float64(305336172.57714087),\n",
       "  np.float64(304045822.6289151),\n",
       "  np.float64(302760925.73149943),\n",
       "  np.float64(301481458.82725346),\n",
       "  np.float64(300207398.9608013),\n",
       "  np.float64(298938723.2768211),\n",
       "  np.float64(297675409.018499),\n",
       "  np.float64(296417433.5263941),\n",
       "  np.float64(295164774.2375948),\n",
       "  np.float64(293917408.6850183),\n",
       "  np.float64(292675314.49682933),\n",
       "  np.float64(291438469.395932),\n",
       "  np.float64(290206851.19949055),\n",
       "  np.float64(288980437.81848973),\n",
       "  np.float64(287759207.2573126),\n",
       "  np.float64(286543137.61332357),\n",
       "  np.float64(285332207.0764693),\n",
       "  np.float64(284126393.9288745),\n",
       "  np.float64(282925676.54445314),\n",
       "  np.float64(281730033.3885173),\n",
       "  np.float64(280539443.0173835),\n",
       "  np.float64(279353884.0779947),\n",
       "  np.float64(278173335.3075304),\n",
       "  np.float64(276997775.5330299),\n",
       "  np.float64(275827183.6710084),\n",
       "  np.float64(274661538.7270812),\n",
       "  np.float64(273500819.79558384),\n",
       "  np.float64(272345006.05920196),\n",
       "  np.float64(271194076.7885928),\n",
       "  np.float64(270048011.34201837),\n",
       "  np.float64(268906789.16497016),\n",
       "  np.float64(267770389.78980458),\n",
       "  np.float64(266638792.8353726),\n",
       "  np.float64(265511978.00665787),\n",
       "  np.float64(264389925.0944095),\n",
       "  np.float64(263272613.97478056),\n",
       "  np.float64(262160024.60896984),\n",
       "  np.float64(261052137.04285753),\n",
       "  np.float64(259948931.40664923),\n",
       "  np.float64(258850387.91452402),\n",
       "  np.float64(257756486.86427134),\n",
       "  np.float64(256667208.63694608),\n",
       "  np.float64(255582533.69650874),\n",
       "  np.float64(254502442.5894824),\n",
       "  np.float64(253426915.94459915),\n",
       "  np.float64(252355934.47245422),\n",
       "  np.float64(251289478.96515995),\n",
       "  np.float64(250227530.29599914),\n",
       "  np.float64(249170069.4190882),\n",
       "  np.float64(248117077.36902854),\n",
       "  np.float64(247068535.2605682),\n",
       "  np.float64(246024424.28826717),\n",
       "  np.float64(244984725.72615644),\n",
       "  np.float64(243949420.92740113),\n",
       "  np.float64(242918491.323969),\n",
       "  np.float64(241891918.4262967),\n",
       "  np.float64(240869683.82295695),\n",
       "  np.float64(239851769.1803297),\n",
       "  np.float64(238838156.2422728),\n",
       "  np.float64(237828826.82979405),\n",
       "  np.float64(236823762.84072497),\n",
       "  np.float64(235822946.24939847),\n",
       "  np.float64(234826359.106322),\n",
       "  np.float64(233833983.53786027),\n",
       "  np.float64(232845801.74590847),\n",
       "  np.float64(231861796.00757834),\n",
       "  np.float64(230881948.6748791),\n",
       "  np.float64(229906242.17440104),\n",
       "  np.float64(228934659.0069946),\n",
       "  np.float64(227967181.74746788),\n",
       "  np.float64(227003793.04426444),\n",
       "  np.float64(226044475.61915684),\n",
       "  np.float64(225089212.26693383),\n",
       "  np.float64(224137985.85509428),\n",
       "  np.float64(223190779.32353827),\n",
       "  np.float64(222247575.68426335),\n",
       "  np.float64(221308358.021057),\n",
       "  np.float64(220373109.4891951),\n",
       "  np.float64(219441813.3151394),\n",
       "  np.float64(218514452.79623592),\n",
       "  np.float64(217591011.30041704),\n",
       "  np.float64(216671472.26590106),\n",
       "  np.float64(215755819.2008978),\n",
       "  np.float64(214844035.68330824),\n",
       "  np.float64(213936105.3604381),\n",
       "  np.float64(213032011.9486955),\n",
       "  np.float64(212131739.2333034),\n",
       "  np.float64(211235271.06801024),\n",
       "  np.float64(210342591.37479764),\n",
       "  np.float64(209453684.14359146),\n",
       "  np.float64(208568533.43197757),\n",
       "  np.float64(207687123.36491534),\n",
       "  np.float64(206809438.1344503),\n",
       "  np.float64(205935461.99943182),\n",
       "  np.float64(205065179.28523436),\n",
       "  np.float64(204198574.38347068),\n",
       "  np.float64(203335631.7517146),\n",
       "  np.float64(202476335.91322267),\n",
       "  np.float64(201620671.4566568),\n",
       "  np.float64(200768623.03580695),\n",
       "  np.float64(199920175.36931455),\n",
       "  np.float64(199075313.2404024),\n",
       "  np.float64(198234021.4965984),\n",
       "  np.float64(197396285.04946452),\n",
       "  np.float64(196562088.87432545),\n",
       "  np.float64(195731418.01000208),\n",
       "  np.float64(194904257.55853963),\n",
       "  np.float64(194080592.68494284),\n",
       "  np.float64(193260408.61690983),\n",
       "  np.float64(192443690.64456463),\n",
       "  np.float64(191630424.1201961),\n",
       "  np.float64(190820594.45799556),\n",
       "  np.float64(190014187.13379112),\n",
       "  np.float64(189211187.68479276),\n",
       "  np.float64(188411581.70932794),\n",
       "  np.float64(187615354.86658618),\n",
       "  np.float64(186822492.87636265),\n",
       "  np.float64(186032981.5188),\n",
       "  np.float64(185246806.63413215),\n",
       "  np.float64(184463954.12243375),\n",
       "  np.float64(183684409.94336617),\n",
       "  np.float64(182908160.1159233),\n",
       "  np.float64(182135190.71818504),\n",
       "  np.float64(181365487.88706395),\n",
       "  np.float64(180599037.81805813),\n",
       "  np.float64(179835826.765004),\n",
       "  np.float64(179075841.03982794),\n",
       "  np.float64(178319067.01230365),\n",
       "  np.float64(177565491.10980523),\n",
       "  np.float64(176815099.817065),\n",
       "  np.float64(176067879.6759295),\n",
       "  np.float64(175323817.28512153),\n",
       "  np.float64(174582899.2999971),\n",
       "  np.float64(173845112.43230453),\n",
       "  np.float64(173110443.44995067),\n",
       "  np.float64(172378879.17676106),\n",
       "  np.float64(171650406.49224228),\n",
       "  np.float64(170925012.33134913),\n",
       "  np.float64(170202683.6842493),\n",
       "  np.float64(169483407.59608856),\n",
       "  np.float64(168767171.16676193),\n",
       "  np.float64(168053961.55067956),\n",
       "  np.float64(167343765.95653576),\n",
       "  np.float64(166636571.64708152),\n",
       "  np.float64(165932365.9388969),\n",
       "  np.float64(165231136.2021613),\n",
       "  np.float64(164532869.860425),\n",
       "  np.float64(163837554.39039108),\n",
       "  np.float64(163145177.32168245),\n",
       "  np.float64(162455726.23662198),\n",
       "  np.float64(161769188.77001226),\n",
       "  np.float64(161085552.60890904),\n",
       "  np.float64(160404805.49240255),\n",
       "  np.float64(159726935.21139795),\n",
       "  np.float64(159051929.6083972),\n",
       "  np.float64(158379776.57727733),\n",
       "  np.float64(157710464.0630779),\n",
       "  np.float64(157043980.06178123),\n",
       "  np.float64(156380312.6201006),\n",
       "  np.float64(155719449.8352609),\n",
       "  np.float64(155061379.85479024),\n",
       "  np.float64(154406090.87630668),\n",
       "  np.float64(153753571.14730158),\n",
       "  np.float64(153103808.96493396),\n",
       "  np.float64(152456792.6758188),\n",
       "  np.float64(151812510.67581984),\n",
       "  np.float64(151170951.4098373),\n",
       "  np.float64(150532103.37160522),\n",
       "  np.float64(149895955.10348117),\n",
       "  np.float64(149262495.19624528),\n",
       "  np.float64(148631712.2888917),\n",
       "  np.float64(148003595.06842482),\n",
       "  np.float64(147378132.26965952),\n",
       "  np.float64(146755312.67501718),\n",
       "  np.float64(146135125.1143228),\n",
       "  np.float64(145517558.46460953),\n",
       "  np.float64(144902601.64991412),\n",
       "  np.float64(144290243.6410806),\n",
       "  np.float64(143680473.45556226),\n",
       "  np.float64(143073280.1572245),\n",
       "  np.float64(142468652.85614926),\n",
       "  np.float64(141866580.70843878),\n",
       "  np.float64(141267052.91602248),\n",
       "  np.float64(140670058.72645965),\n",
       "  np.float64(140075587.43275368),\n",
       "  np.float64(139483628.3731515),\n",
       "  np.float64(138894170.93095958),\n",
       "  np.float64(138307204.53434914),\n",
       "  np.float64(137722718.65616894),\n",
       "  np.float64(137140702.81375384),\n",
       "  np.float64(136561146.568739),\n",
       "  np.float64(135984039.52687317),\n",
       "  np.float64(135409371.33783),\n",
       "  np.float64(134837131.69502392),\n",
       "  np.float64(134267310.33542466),\n",
       "  np.float64(133699897.03937466),\n",
       "  np.float64(133134881.63040294),\n",
       "  np.float64(132572253.97504523),\n",
       "  np.float64(132012003.98266144),\n",
       "  np.float64(131454121.60525422),\n",
       "  np.float64(130898596.83728859),\n",
       "  np.float64(130345419.71551323),\n",
       "  np.float64(129794580.31878218),\n",
       "  np.float64(129246068.76787612),\n",
       "  np.float64(128699875.22532319),\n",
       "  np.float64(128155989.89522743),\n",
       "  np.float64(127614403.02308929),\n",
       "  np.float64(127075104.89563033),\n",
       "  np.float64(126538085.84062189),\n",
       "  np.float64(126003336.22671108),\n",
       "  np.float64(125470846.46324529),\n",
       "  np.float64(124940607.00010185),\n",
       "  np.float64(124412608.32751858),\n",
       "  np.float64(123886840.97591998),\n",
       "  np.float64(123363295.51574945),\n",
       "  np.float64(122841962.55730005),\n",
       "  np.float64(122322832.7505455),\n",
       "  np.float64(121805896.78497142),\n",
       "  np.float64(121291145.38941224),\n",
       "  np.float64(120778569.33188073),\n",
       "  np.float64(120268159.41940325),\n",
       "  np.float64(119759906.4978577),\n",
       "  np.float64(119253801.45180577),\n",
       "  np.float64(118749835.20433047),\n",
       "  np.float64(118247998.71687554),\n",
       "  np.float64(117748282.98908141),\n",
       "  np.float64(117250679.05862233),\n",
       "  np.float64(116755178.00104862),\n",
       "  np.float64(116261770.92962536),\n",
       "  np.float64(115770448.99517204),\n",
       "  np.float64(115281203.38590594),\n",
       "  np.float64(114794025.32728218),\n",
       "  np.float64(114308906.0818373),\n",
       "  np.float64(113825836.94903193),\n",
       "  np.float64(113344809.26509583),\n",
       "  np.float64(112865814.40287188),\n",
       "  np.float64(112388843.77166063),\n",
       "  np.float64(111913888.81706712),\n",
       "  np.float64(111440941.02084678),\n",
       "  np.float64(110969991.90075527),\n",
       "  np.float64(110501033.01039122),\n",
       "  np.float64(110034055.93904918),\n",
       "  np.float64(109569052.31156732),\n",
       "  np.float64(109106013.78817768),\n",
       "  np.float64(108644932.06435554),\n",
       "  np.float64(108185798.87067014),\n",
       "  np.float64(107728605.97263949),\n",
       "  np.float64(107273345.17057845),\n",
       "  np.float64(106820008.29945539),\n",
       "  np.float64(106368587.22874282),\n",
       "  np.float64(105919073.86227365),\n",
       "  np.float64(105471460.13809448),\n",
       "  np.float64(105025738.02832158),\n",
       "  np.float64(104581899.5389983),\n",
       "  np.float64(104139936.70994934),\n",
       "  np.float64(103699841.61463977),\n",
       "  np.float64(103261606.36003135),\n",
       "  np.float64(102825223.08644229),\n",
       "  np.float64(102390683.96740511),\n",
       "  np.float64(101957981.20952855),\n",
       "  np.float64(101527107.05235517),\n",
       "  np.float64(101098053.76822276),\n",
       "  np.float64(100670813.66212706),\n",
       "  np.float64(100245379.07158256),\n",
       "  np.float64(99821742.36648445),\n",
       "  np.float64(99399895.94897489),\n",
       "  np.float64(98979832.25330253),\n",
       "  np.float64(98561543.74568996),\n",
       "  np.float64(98145022.92419691),\n",
       "  np.float64(97730262.3185871),\n",
       "  np.float64(97317254.4901926),\n",
       "  np.float64(96905992.03178097),\n",
       "  np.float64(96496467.56742401),\n",
       "  np.float64(96088673.75236292),\n",
       "  np.float64(95682603.2728787),\n",
       "  np.float64(95278248.84615976),\n",
       "  np.float64(94875603.22017224),\n",
       "  np.float64(94474659.17352813),\n",
       "  np.float64(94075409.5153575),\n",
       "  np.float64(93677847.0851799),\n",
       "  np.float64(93281964.75277345),\n",
       "  np.float64(92887755.41805057),\n",
       "  np.float64(92495212.0109263),\n",
       "  np.float64(92104327.4911953),\n",
       "  np.float64(91715094.84840475),\n",
       "  np.float64(91327507.10172589),\n",
       "  np.float64(90941557.29983301),\n",
       "  np.float64(90557238.52077584),\n",
       "  np.float64(90174543.8718552),\n",
       "  np.float64(89793466.48950227),\n",
       "  np.float64(89413999.53915295),\n",
       "  np.float64(89036136.21512549),\n",
       "  np.float64(88659869.74049947),\n",
       "  np.float64(88285193.36699387),\n",
       "  np.float64(87912100.37484546),\n",
       "  np.float64(87540584.0726879),\n",
       "  np.float64(87170637.79743464),\n",
       "  np.float64(86802254.91415574),\n",
       "  np.float64(86435428.81596114),\n",
       "  np.float64(86070152.92388132),\n",
       "  np.float64(85706420.68674853),\n",
       "  np.float64(85344225.5810816),\n",
       "  np.float64(84983561.11096722),\n",
       "  np.float64(84624420.80794318),\n",
       "  np.float64(84266798.23088424),\n",
       "  np.float64(83910686.96588326),\n",
       "  np.float64(83556080.62614074),\n",
       "  np.float64(83202972.85184543),\n",
       "  np.float64(82851357.31006467),\n",
       "  np.float64(82501227.69462706),\n",
       "  np.float64(82152577.72601262),\n",
       "  np.float64(81805401.15123765),\n",
       "  np.float64(81459691.7437432),\n",
       "  np.float64(81115443.30328436),\n",
       "  np.float64(80772649.65581849),\n",
       "  np.float64(80431304.65339464),\n",
       "  np.float64(80091402.17404157),\n",
       "  np.float64(79752936.12166207),\n",
       "  np.float64(79415900.42591864),\n",
       "  np.float64(79080289.0421285),\n",
       "  np.float64(78746095.95115227),\n",
       "  np.float64(78413315.15928945),\n",
       "  np.float64(78081940.69816719),\n",
       "  np.float64(77751966.62463485),\n",
       "  np.float64(77423387.02065936),\n",
       "  np.float64(77096195.99321531),\n",
       "  np.float64(76770387.6741827),\n",
       "  np.float64(76445956.22023907),\n",
       "  np.float64(76122895.81275545),\n",
       "  np.float64(75801200.65769456),\n",
       "  np.float64(75480864.98550236),\n",
       "  np.float64(75161883.0510078),\n",
       "  np.float64(74844249.13331918),\n",
       "  np.float64(74527957.53572126),\n",
       "  np.float64(74213002.58557284),\n",
       "  np.float64(73899378.63420536),\n",
       "  np.float64(73587080.05682163),\n",
       "  np.float64(73276101.25239474),\n",
       "  np.float64(72966436.643567),\n",
       "  np.float64(72658080.67655253),\n",
       "  np.float64(72351027.82103322),\n",
       "  np.float64(72045272.57006392),\n",
       "  np.float64(71740809.43997133),\n",
       "  np.float64(71437632.97025624),\n",
       "  np.float64(71135737.72349514),\n",
       "  np.float64(70835118.28524292),\n",
       "  np.float64(70535769.26393649),\n",
       "  np.float64(70237685.29079723),\n",
       "  np.float64(69940861.01973534),\n",
       "  np.float64(69645291.1272525),\n",
       "  np.float64(69350970.31234807),\n",
       "  np.float64(69057893.29642431),\n",
       "  np.float64(68766054.82318978),\n",
       "  np.float64(68475449.65856603),\n",
       "  np.float64(68186072.59059457),\n",
       "  np.float64(67897918.42934194),\n",
       "  np.float64(67610982.00680783),\n",
       "  np.float64(67325258.17683119),\n",
       "  np.float64(67040741.8149995),\n",
       "  np.float64(66757427.81855556),\n",
       "  np.float64(66475311.10630621),\n",
       "  np.float64(66194386.618532054),\n",
       "  np.float64(65914649.31689529),\n",
       "  np.float64(65636094.184350714),\n",
       "  np.float64(65358716.22505454),\n",
       "  np.float64(65082510.46427619),\n",
       "  np.float64(64807471.948307276),\n",
       "  np.float64(64533595.74437481),\n",
       "  np.float64(64260876.94055151),\n",
       "  np.float64(63989310.64566676),\n",
       "  np.float64(63718891.98922134),\n",
       "  np.float64(63449616.12129833),\n",
       "  np.float64(63181478.212476045),\n",
       "  np.float64(62914473.453742705),\n",
       "  np.float64(62648597.05640925),\n",
       "  np.float64(62383844.25202283),\n",
       "  np.float64(62120210.29228304),\n",
       "  np.float64(61857690.448955394),\n",
       "  np.float64(61596280.013786815),\n",
       "  np.float64(61335974.29842119),\n",
       "  np.float64(61076768.63431578),\n",
       "  np.float64(60818658.372657314),\n",
       "  np.float64(60561638.88427725),\n",
       "  np.float64(60305705.559571095),\n",
       "  np.float64(60050853.80841312),\n",
       "  np.float64(59797079.06007781),\n",
       "  np.float64(59544376.76315311),\n",
       "  np.float64(59292742.38546249),\n",
       "  np.float64(59042171.41398209),\n",
       "  np.float64(58792659.35476016),\n",
       "  np.float64(58544201.732836016),\n",
       "  np.float64(58296794.09216092),\n",
       "  np.float64(58050431.99551674),\n",
       "  np.float64(57805111.02443718),\n",
       "  np.float64(57560826.7791285),\n",
       "  np.float64(57317574.878390096),\n",
       "  np.float64(57075350.95953657),\n",
       "  np.float64(56834150.678319596),\n",
       "  np.float64(56593969.70884893),\n",
       "  np.float64(56354803.743515626),\n",
       "  np.float64(56116648.49291527),\n",
       "  np.float64(55879499.68576997),\n",
       "  np.float64(55643353.068852305),\n",
       "  np.float64(55408204.406908974),\n",
       "  np.float64(55174049.48258524),\n",
       "  np.float64(54940884.09634818),\n",
       "  np.float64(54708704.066412814),\n",
       "  np.float64(54477505.228665635),\n",
       "  np.float64(54247283.436591454),\n",
       "  np.float64(54018034.56119767),\n",
       "  np.float64(53789754.490941234),\n",
       "  np.float64(53562439.13165398),\n",
       "  np.float64(53336084.40646978),\n",
       "  np.float64(53110686.25575196),\n",
       "  np.float64(52886240.63701888),\n",
       "  np.float64(52662743.524872996),\n",
       "  np.float64(52440190.910928115),\n",
       "  np.float64(52218578.80373731),\n",
       "  np.float64(51997903.228721656),\n",
       "  np.float64(51778160.228098296),\n",
       "  np.float64(51559345.8608109),\n",
       "  np.float64(51341456.20245673),\n",
       "  np.float64(51124487.34521887),\n",
       "  np.float64(50908435.397794455),\n",
       "  np.float64(50693296.48532452),\n",
       "  np.float64(50479066.74932562),\n",
       "  np.float64(50265742.34762121),\n",
       "  np.float64(50053319.454270616),\n",
       "  np.float64(49841794.25950179),\n",
       "  np.float64(49631162.96964273),\n",
       "  np.float64(49421421.807053976),\n",
       "  np.float64(49212567.01005988),\n",
       "  np.float64(49004594.83288187),\n",
       "  np.float64(48797501.54557099),\n",
       "  np.float64(48591283.433941424),\n",
       "  np.float64(48385936.799502365),\n",
       "  np.float64(48181457.95939354),\n",
       "  np.float64(47977843.24631893),\n",
       "  np.float64(47775089.00847974),\n",
       "  np.float64(47573191.60950985),\n",
       "  np.float64(47372147.42841057),\n",
       "  np.float64(47171952.85948556),\n",
       "  np.float64(46972604.31227571),\n",
       "  np.float64(46774098.21149553),\n",
       "  np.float64(46576430.99696923),\n",
       "  np.float64(46379599.1235649),\n",
       "  np.float64(46183599.06113399),\n",
       "  np.float64(45988427.29444491),\n",
       "  np.float64(45794080.323122405),\n",
       "  np.float64(45600554.66158368),\n",
       "  np.float64(45407846.838975176),\n",
       "  np.float64(45215953.39911206),\n",
       "  np.float64(45024870.90041476),\n",
       "  np.float64(44834595.915848255),\n",
       "  np.float64(44645125.0328604),\n",
       "  np.float64(44456454.85331906),\n",
       "  np.float64(44268581.993454315),\n",
       "  np.float64(44081503.08379558),\n",
       "  np.float64(43895214.76911074),\n",
       "  np.float64(43709713.7083482),\n",
       "  np.float64(43524996.574574396),\n",
       "  np.float64(43341060.05491628),\n",
       "  np.float64(43157900.85050044),\n",
       "  np.float64(42975515.67639515),\n",
       "  np.float64(42793901.26155019),\n",
       "  np.float64(42613054.34873848),\n",
       "  np.float64(42432971.69449887),\n",
       "  np.float64(42253650.069076754),\n",
       "  np.float64(42075086.25636651),\n",
       "  np.float64(41897277.053853266),\n",
       "  np.float64(41720219.272556596),\n",
       "  np.float64(41543909.73697242),\n",
       "  np.float64(41368345.28501643),\n",
       "  np.float64(41193522.76796691),\n",
       "  np.float64(41019439.05040901),\n",
       "  np.float64(40846091.010177895),\n",
       "  np.float64(40673475.53830377),\n",
       "  np.float64(40501589.5389537),\n",
       "  np.float64(40330429.929379605),\n",
       "  np.float64(40159993.63985978),\n",
       "  np.float64(39990277.61364572),\n",
       "  np.float64(39821278.80690719),\n",
       "  np.float64(39652994.188675575),\n",
       "  np.float64(39485420.74079286),\n",
       "  np.float64(39318555.45785457),\n",
       "  np.float64(39152395.34715808),\n",
       "  np.float64(38986937.4286468),\n",
       "  np.float64(38822178.73485865),\n",
       "  np.float64(38658116.310872115),\n",
       "  np.float64(38494747.21425236),\n",
       "  np.float64(38332068.515000336),\n",
       "  np.float64(38170077.295498),\n",
       "  np.float64(38008770.65045823),\n",
       "  np.float64(37848145.68687085),\n",
       "  np.float64(37688199.52395197),\n",
       "  np.float64(37528929.293091714),\n",
       "  np.float64(37370332.13780305),\n",
       "  np.float64(37212405.213670895),\n",
       "  np.float64(37055145.68829942),\n",
       "  np.float64(36898550.74126369),\n",
       "  np.float64(36742617.56405741),\n",
       "  np.float64(36587343.360042654),\n",
       "  np.float64(36432725.344400585),\n",
       "  np.float64(36278760.74408084),\n",
       "  np.float64(36125446.7977527),\n",
       "  np.float64(35972780.755753435),\n",
       "  np.float64(35820759.88004118),\n",
       "  np.float64(35669381.44414496),\n",
       "  np.float64(35518642.733116046),\n",
       "  np.float64(35368541.0434784),\n",
       "  np.float64(35219073.683181606),\n",
       "  np.float64(35070237.971551694),\n",
       "  np.float64(34922031.239243016),\n",
       "  np.float64(34774450.82819014),\n",
       "  np.float64(34627494.09156151),\n",
       "  np.float64(34481158.39371073),\n",
       "  np.float64(34335441.110130124),\n",
       "  np.float64(34190339.6274017),\n",
       "  np.float64(34045851.34315304),\n",
       "  np.float64(33901973.66600876),\n",
       "  np.float64(33758704.01554529),\n",
       "  np.float64(33616039.822243206),\n",
       "  np.float64(33473978.527442176),\n",
       "  np.float64(33332517.58329482),\n",
       "  np.float64(33191654.45272103),\n",
       "  np.float64(33051386.609361853),\n",
       "  np.float64(32911711.53753533),\n",
       "  np.float64(32772626.732190218),\n",
       "  np.float64(32634129.698862817),\n",
       "  np.float64(32496217.95362943),\n",
       "  np.float64(32358889.023064155),\n",
       "  np.float64(32222140.444193795),\n",
       "  np.float64(32085969.764453724),\n",
       "  np.float64(31950374.54164371),\n",
       "  np.float64(31815352.343884468),\n",
       "  np.float64(31680900.749573544),\n",
       "  np.float64(31547017.347342305),\n",
       "  np.float64(31413699.736012306),\n",
       "  np.float64(31280945.524553023),\n",
       "  np.float64(31148752.33203787),\n",
       "  np.float64(31017117.78760216),\n",
       "  np.float64(30886039.530401025),\n",
       "  np.float64(30755515.209565967),\n",
       "  np.float64(30625542.48416317),\n",
       "  np.float64(30496119.023152094),\n",
       "  np.float64(30367242.505342584),\n",
       "  np.float64(30238910.619354386),\n",
       "  np.float64(30111121.063574564),\n",
       "  np.float64(29983871.546117477),\n",
       "  np.float64(29857159.78478251),\n",
       "  np.float64(29730983.507013403),\n",
       "  np.float64(29605340.449858505),\n",
       "  np.float64(29480228.35992848),\n",
       "  np.float64(29355644.99335757),\n",
       "  np.float64(29231588.11576193),\n",
       "  np.float64(29108055.5022009),\n",
       "  np.float64(28985044.937135927),\n",
       "  np.float64(28862554.214391578),\n",
       "  np.float64(28740581.137115125),\n",
       "  np.float64(28619123.51773885),\n",
       "  np.float64(28498179.177938405),\n",
       "  np.float64(28377745.94859618),\n",
       "  np.float64(28257821.669760462),\n",
       "  np.float64(28138404.190608058),\n",
       "  np.float64(28019491.369404376),\n",
       "  np.float64(27901081.073466927),\n",
       "  np.float64(27783171.179124847),\n",
       "  np.float64(27665759.571682297),\n",
       "  np.float64(27548844.14538024),\n",
       "  np.float64(27432422.80335852),\n",
       "  np.float64(27316493.45761822),\n",
       "  np.float64(27201054.028984424),\n",
       "  np.float64(27086102.447068613),\n",
       "  np.float64(26971636.650231738),\n",
       "  np.float64(26857654.585548017),\n",
       "  np.float64(26744154.20876596),\n",
       "  np.float64(26631133.484273996),\n",
       "  np.float64(26518590.38506309),\n",
       "  np.float64(26406522.89268969),\n",
       "  np.float64(26294928.997240916),\n",
       "  np.float64(26183806.69729709),\n",
       "  np.float64(26073153.999897376),\n",
       "  np.float64(25962968.92050179),\n",
       "  np.float64(25853249.48295845),\n",
       "  np.float64(25743993.719466403),\n",
       "  np.float64(25635199.67054008),\n",
       "  np.float64(25526865.384974767),\n",
       "  np.float64(25418988.919811815),\n",
       "  np.float64(25311568.34030351),\n",
       "  np.float64(25204601.719878115),\n",
       "  np.float64(25098087.140106007),\n",
       "  np.float64(24992022.690664273),\n",
       "  np.float64(24886406.469303973),\n",
       "  np.float64(24781236.58181358),\n",
       "  np.float64(24676511.14198807),\n",
       "  np.float64(24572228.27159229),\n",
       "  np.float64(24468386.100329157),\n",
       "  np.float64(24364982.765805505),\n",
       "  np.float64(24262016.413498275),\n",
       "  np.float64(24159485.19672144),\n",
       "  np.float64(24057387.27659403),\n",
       "  np.float64(23955720.82200521),\n",
       "  np.float64(23854484.00958272),\n",
       "  np.float64(23753675.023660257),\n",
       "  np.float64(23653292.05624415),\n",
       "  np.float64(23553333.306980744),\n",
       "  np.float64(23453796.983125944),\n",
       "  np.float64(23354681.299510486),\n",
       "  np.float64(23255984.478510387),\n",
       "  np.float64(23157704.75001281),\n",
       "  np.float64(23059840.35138648),\n",
       "  np.float64(22962389.52744797),\n",
       "  np.float64(22865350.53043219),\n",
       "  np.float64(22768721.619959492),\n",
       "  np.float64(22672501.063005377),\n",
       "  np.float64(22576687.1338683),\n",
       "  np.float64(22481278.114141047),\n",
       "  np.float64(22386272.292677302),\n",
       "  np.float64(22291667.965561982),\n",
       "  np.float64(22197463.436081234),\n",
       "  np.float64(22103657.014691256),\n",
       "  np.float64(22010247.018988084),\n",
       "  np.float64(21917231.773678556),\n",
       "  np.float64(21824609.61054796),\n",
       "  np.float64(21732378.86843195),\n",
       "  np.float64(21640537.893186606),\n",
       "  np.float64(21549085.037658345),\n",
       "  np.float64(21458018.66165401),\n",
       "  np.float64(21367337.13191252),\n",
       "  np.float64(21277038.822074212),\n",
       "  np.float64(21187122.112652827),\n",
       "  np.float64(21097585.391006004),\n",
       "  np.float64(21008427.05130675),\n",
       "  np.float64(20919645.494513627),\n",
       "  np.float64(20831239.128342982),\n",
       "  np.float64(20743206.367240228),\n",
       "  np.float64(20655545.632351793),\n",
       "  np.float64(20568255.35149572),\n",
       "  np.float64(20481333.959134366),\n",
       "  np.float64(20394779.896345533),\n",
       "  np.float64(20308591.61079576),\n",
       "  np.float64(20222767.556711085),\n",
       "  np.float64(20137306.194850463),\n",
       "  np.float64(20052205.992477898),\n",
       "  np.float64(19967465.423333824),\n",
       "  np.float64(19883082.96760923),\n",
       "  np.float64(19799057.111917984),\n",
       "  np.float64(19715386.349269394),\n",
       "  np.float64(19632069.179040775),\n",
       "  np.float64(19549104.10695173),\n",
       "  np.float64(19466489.64503659),\n",
       "  np.float64(19384224.311617684),\n",
       "  np.float64(19302306.631278478),\n",
       "  np.float64(19220735.134838406),\n",
       "  np.float64(19139508.359325252),\n",
       "  np.float64(19058624.847949434),\n",
       "  np.float64(18978083.150077015),\n",
       "  np.float64(18897881.8212054),\n",
       "  np.float64(18818019.422936324),\n",
       "  np.float64(18738494.522949487),\n",
       "  np.float64(18659305.694978364),\n",
       "  np.float64(18580451.51878364),\n",
       "  np.float64(18501930.58012747),\n",
       "  np.float64(18423741.470749244),\n",
       "  np.float64(18345882.788338974),\n",
       "  np.float64(18268353.136513118),\n",
       "  np.float64(18191151.1247898),\n",
       "  np.float64(18114275.368562248),\n",
       "  np.float64(18037724.48907609),\n",
       "  np.float64(17961497.113402605),\n",
       "  np.float64(17885591.874415945),\n",
       "  np.float64(17810007.410767153),\n",
       "  np.float64(17734742.366860434),\n",
       "  np.float64(17659795.392828833),\n",
       "  np.float64(17585165.144510202),\n",
       "  np.float64(17510850.28342212),\n",
       "  np.float64(17436849.476739205),\n",
       "  np.float64(17363161.397268374),\n",
       "  np.float64(17289784.7234252),\n",
       "  np.float64(17216718.139210388),\n",
       "  np.float64(17143960.334186062),\n",
       "  np.float64(17071510.00345185),\n",
       "  np.float64(16999365.847622577),\n",
       "  np.float64(16927526.572803885),\n",
       "  np.float64(16855990.890569158),\n",
       "  np.float64(16784757.51793724),\n",
       "  np.float64(16713825.177348332),\n",
       "  np.float64(16643192.596641965),\n",
       "  np.float64(16572858.50903364),\n",
       "  np.float64(16502821.653092302),\n",
       "  np.float64(16433080.772717938),\n",
       "  np.float64(16363634.61711833),\n",
       "  np.float64(16294481.940787202),\n",
       "  np.float64(16225621.503482293),\n",
       "  np.float64(16157052.070202185),\n",
       "  np.float64(16088772.41116447),\n",
       "  np.float64(16020781.301784022),\n",
       "  np.float64(15953077.522650927),\n",
       "  np.float64(15885659.859508185),\n",
       "  np.float64(15818527.103230357),\n",
       "  np.float64(15751678.049802123),\n",
       "  np.float64(15685111.50029558),\n",
       "  np.float64(15618826.260850111),\n",
       "  np.float64(15552821.142649958),\n",
       "  np.float64(15487094.961903617),\n",
       "  np.float64(15421646.53982208),\n",
       "  np.float64(15356474.70259812),\n",
       "  np.float64(15291578.281384673),\n",
       "  np.float64(15226956.112274557),\n",
       "  np.float64(15162607.036279092),\n",
       "  np.float64(15098529.899307469),\n",
       "  np.float64(15034723.552146014),\n",
       "  np.float64(14971186.850437826),\n",
       "  np.float64(14907918.654662156),\n",
       "  np.float64(14844917.83011329),\n",
       "  np.float64(14782183.246881088),\n",
       "  np.float64(14719713.779830791),\n",
       "  np.float64(14657508.308581896),\n",
       "  np.float64(14595565.717489012),\n",
       "  np.float64(14533884.89562118),\n",
       "  np.float64(14472464.736742513),\n",
       "  np.float64(14411304.139291445),\n",
       "  np.float64(14350402.006362643),\n",
       "  np.float64(14289757.245685214),\n",
       "  np.float64(14229368.769605018),\n",
       "  np.float64(14169235.495063981),\n",
       "  np.float64(14109356.343581164),\n",
       "  np.float64(14049730.241233176),\n",
       "  np.float64(13990356.118634934),\n",
       "  np.float64(13931232.910920748),\n",
       "  np.float64(13872359.557724854),\n",
       "  np.float64(13813735.003162934),\n",
       "  np.float64(13755358.195812594),\n",
       "  np.float64(13697228.088694638),\n",
       "  np.float64(13639343.639254652),\n",
       "  np.float64(13581703.80934373),\n",
       "  np.float64(13524307.565200642),\n",
       "  np.float64(13467153.877432669),\n",
       "  np.float64(13410241.720996879),\n",
       "  np.float64(13353570.075182898),\n",
       "  np.float64(13297137.92359306),\n",
       "  np.float64(13240944.25412568),\n",
       "  np.float64(13184988.058955817),\n",
       "  np.float64(13129268.334517965),\n",
       "  np.float64(13073784.081487212),\n",
       "  np.float64(13018534.30476194),\n",
       "  np.float64(12963518.013446007),\n",
       "  np.float64(12908734.220830806),\n",
       "  np.float64(12854181.944377407),\n",
       "  np.float64(12799860.20569915),\n",
       "  np.float64(12745768.030543778),\n",
       "  np.float64(12691904.448776642),\n",
       "  np.float64(12638268.49436271),\n",
       "  np.float64(12584859.205349315),\n",
       "  np.float64(12531675.623848971),\n",
       "  np.float64(12478716.796022693),\n",
       "  np.float64(12425981.772061791),\n",
       "  np.float64(12373469.606171632),\n",
       "  np.float64(12321179.35655484),\n",
       "  np.float64(12269110.085393801),\n",
       "  np.float64(12217260.85883398),\n",
       "  np.float64(12165630.746967724),\n",
       "  np.float64(12114218.823816676),\n",
       "  np.float64(12063024.167315979),\n",
       "  np.float64(12012045.859297357),\n",
       "  np.float64(11961282.985472603),\n",
       "  np.float64(11910734.635417625),\n",
       "  np.float64(11860399.902555585),\n",
       "  np.float64(11810277.884140313),\n",
       "  np.float64(11760367.681241605),\n",
       "  np.float64(11710668.398727491),\n",
       "  np.float64(11661179.145248696),\n",
       "  np.float64(11611899.033223594),\n",
       "  np.float64(11562827.178820807),\n",
       "  np.float64(11513962.701943874),\n",
       "  np.float64(11465304.726216296),\n",
       "  np.float64(11416852.378964594),\n",
       "  np.float64(11368604.791203488),\n",
       "  np.float64(11320561.097619573),\n",
       "  np.float64(11272720.436557053),\n",
       "  np.float64(11225081.950000852),\n",
       "  np.float64(11177644.78356195),\n",
       "  np.float64(11130408.086462123),\n",
       "  np.float64(11083371.01151853),\n",
       "  np.float64(11036532.715128254),\n",
       "  np.float64(10989892.357254116),\n",
       "  np.float64(10943449.101408113),\n",
       "  np.float64(10897202.114637692),\n",
       "  np.float64(10851150.567510135),\n",
       "  np.float64(10805293.634098131),\n",
       "  np.float64(10759630.491964657),\n",
       "  np.float64(10714160.32214842),\n",
       "  np.float64(10668882.309148734),\n",
       "  np.float64(10623795.640911572),\n",
       "  np.float64(10578899.50881412),\n",
       "  np.float64(10534193.107651494),\n",
       "  np.float64(10489675.635621289),\n",
       "  np.float64(10445346.294309188),\n",
       "  np.float64(10401204.288675562),\n",
       "  np.float64(10357248.827040171),\n",
       "  np.float64(10313479.121068591),\n",
       "  np.float64(10269894.3857581),\n",
       "  np.float64(10226493.839423003),\n",
       "  np.float64(10183276.703681113),\n",
       "  np.float64(10140242.203439929),\n",
       "  np.float64(10097389.566881984),\n",
       "  np.float64(10054718.025452254),\n",
       "  np.float64(10012226.813842801),\n",
       "  np.float64(9969915.169980625),\n",
       "  np.float64(9927782.335012786),\n",
       "  np.float64(9885827.553293277),\n",
       "  np.float64(9844050.07236968),\n",
       "  np.float64(9802449.142969314),\n",
       "  np.float64(9761024.018985659),\n",
       "  np.float64(9719773.957465978),\n",
       "  np.float64(9678698.21859632),\n",
       "  np.float64(9637796.065689752),\n",
       "  np.float64(9597066.765172524),\n",
       "  np.float64(9556509.586570699),\n",
       "  np.float64(9516123.802497944),\n",
       "  np.float64(9475908.688640945),\n",
       "  np.float64(9435863.523748234),\n",
       "  np.float64(9395987.589615794),\n",
       "  np.float64(9356280.171074796),\n",
       "  np.float64(9316740.555978725),\n",
       "  np.float64(9277368.035190847),\n",
       "  np.float64(9238161.90257099),\n",
       "  np.float64(9199121.454963185),\n",
       "  np.float64(9160245.992183022),\n",
       "  np.float64(9121534.817005172),\n",
       "  np.float64(9082987.235150544),\n",
       "  np.float64(9044602.555274297),\n",
       "  np.float64(9006380.088952817),\n",
       "  np.float64(8968319.150672417),\n",
       "  np.float64(8930419.057815922),\n",
       "  np.float64(8892679.130650917),\n",
       "  np.float64(8855098.692317484),\n",
       "  np.float64(8817677.06881649),\n",
       "  np.float64(8780413.588996708),\n",
       "  np.float64(8743307.584543752),\n",
       "  np.float64(8706358.389966717),\n",
       "  np.float64(8669565.342587465),\n",
       "  np.float64(8632927.782528657),\n",
       "  np.float64(8596445.052700968),\n",
       "  np.float64(8560116.498792503),\n",
       "  np.float64(8523941.469256058),\n",
       "  np.float64(8487919.315298218),\n",
       "  np.float64(8452049.390867162),\n",
       "  np.float64(8416331.052641198),\n",
       "  np.float64(8380763.660017376),\n",
       "  np.float64(8345346.575100094),\n",
       "  np.float64(8310079.162689554),\n",
       "  np.float64(8274960.790269996),\n",
       "  np.float64(8239990.827998863),\n",
       "  np.float64(8205168.648694935),\n",
       "  np.float64(8170493.627828208),\n",
       "  np.float64(8135965.143507335),\n",
       "  np.float64(8101582.576469232),\n",
       "  np.float64(8067345.3100679545),\n",
       "  np.float64(8033252.730263346),\n",
       "  np.float64(7999304.225610137),\n",
       "  np.float64(7965499.187247255),\n",
       "  np.float64(7931837.008886559),\n",
       "  np.float64(7898317.086801996),\n",
       "  np.float64(7864938.819818896),\n",
       "  np.float64(7831701.60930342),\n",
       "  np.float64(7798604.859150962),\n",
       "  np.float64(7765647.975776441),\n",
       "  np.float64(7732830.368103539),\n",
       "  np.float64(7700151.447553186),\n",
       "  np.float64(7667610.628033956),\n",
       "  np.float64(7635207.325931448),\n",
       "  np.float64(7602940.960097328),\n",
       "  np.float64(7570810.951839492),\n",
       "  np.float64(7538816.724911027),\n",
       "  np.float64(7506957.705500342),\n",
       "  np.float64(7475233.322220855),\n",
       "  np.float64(7443643.006100613),\n",
       "  np.float64(7412186.1905722385),\n",
       "  np.float64(7380862.311462465),\n",
       "  np.float64(7349670.806982428),\n",
       "  np.float64(7318611.117717427),\n",
       "  np.float64(7287682.686616558),\n",
       "  np.float64(7256884.958983035),\n",
       "  np.float64(7226217.382464623),\n",
       "  np.float64(7195679.407042896),\n",
       "  np.float64(7165270.4850240005),\n",
       "  np.float64(7134990.071028744),\n",
       "  np.float64(7104837.621982458),\n",
       "  np.float64(7074812.59710536),\n",
       "  np.float64(7044914.45790359),\n",
       "  np.float64(7015142.668158446),\n",
       "  np.float64(6985496.693917513),\n",
       "  np.float64(6955976.0034847865),\n",
       "  np.float64(6926580.067411383),\n",
       "  np.float64(6897308.358485386),\n",
       "  np.float64(6868160.351723343),\n",
       "  np.float64(6839135.524360444),\n",
       "  np.float64(6810233.355840638),\n",
       "  np.float64(6781453.327808154),\n",
       "  np.float64(6752794.924097431),\n",
       "  np.float64(6724257.630724446),\n",
       "  np.float64(6695840.935877375),\n",
       "  np.float64(6667544.329907013),\n",
       "  np.float64(6639367.30531838),\n",
       "  np.float64(6611309.356760404),\n",
       "  np.float64(6583369.981018363),\n",
       "  np.float64(6555548.677003878),\n",
       "  np.float64(6527844.945746149),\n",
       "  np.float64(6500258.290382859),\n",
       "  np.float64(6472788.216151745),\n",
       "  np.float64(6445434.23038132),\n",
       "  np.float64(6418195.842481786),\n",
       "  np.float64(6391072.56393705),\n",
       "  np.float64(6364063.908295207),\n",
       "  np.float64(6337169.391160238),\n",
       "  np.float64(6310388.530183155),\n",
       "  np.float64(6283720.84505322),\n",
       "  np.float64(6257165.857489718),\n",
       "  np.float64(6230723.091232953),\n",
       "  np.float64(6204392.0720359655),\n",
       "  np.float64(6178172.327655977),\n",
       "  np.float64(6152063.387845838),\n",
       "  np.float64(6126064.78434587),\n",
       "  np.float64(6100176.0508752605),\n",
       "  np.float64(6074396.723123211),\n",
       "  np.float64(6048726.338741704),\n",
       "  np.float64(6023164.437336123),\n",
       "  np.float64(5997710.560458021),\n",
       "  np.float64(5972364.25159582),\n",
       "  np.float64(5947125.056167296),\n",
       "  np.float64(5921992.521511586),\n",
       "  np.float64(5896966.196880264),\n",
       "  np.float64(5872045.633430326),\n",
       "  np.float64(5847230.3842152385),\n",
       "  np.float64(5822520.004177207),\n",
       "  np.float64(5797914.05013937),\n",
       "  np.float64(5773412.080797773),\n",
       "  np.float64(5749013.65671359),\n",
       "  np.float64(5724718.340304484),\n",
       "  np.float64(5700525.695837897),\n",
       "  np.float64(5676435.289422441),\n",
       "  np.float64(5652446.689000428),\n",
       "  np.float64(5628559.464339789),\n",
       "  np.float64(5604773.187027021),\n",
       "  np.float64(5581087.430458833),\n",
       "  np.float64(5557501.769834833),\n",
       "  np.float64(5534015.7821498085)])"
      ]
     },
     "execution_count": 82,
     "metadata": {},
     "output_type": "execute_result"
    }
   ],
   "source": [
    "theta_final, cost_history = gradient_descent(X, y, theta, learning_rate, n_iterations)\n",
    "theta_final, cost_history"
   ]
  },
  {
   "cell_type": "markdown",
   "metadata": {},
   "source": [
    "**Exercise :** \n",
    "1. Create a ``predictions`` variable that contains model(X, theta_final).\n",
    "2. Use matplotlib to display the x and y scatterplot.\n",
    "3. Use the plot method to display your predictions. \n"
   ]
  },
  {
   "cell_type": "code",
   "execution_count": 83,
   "metadata": {},
   "outputs": [
    {
     "data": {
      "text/plain": [
       "[<matplotlib.lines.Line2D at 0x7a0c8571ef90>]"
      ]
     },
     "execution_count": 83,
     "metadata": {},
     "output_type": "execute_result"
    },
    {
     "data": {
      "image/png": "[encoded data removed]",
      "text/plain": [
       "<Figure size 640x480 with 1 Axes>"
      ]
     },
     "metadata": {},
     "output_type": "display_data"
    }
   ],
   "source": [
    "import matplotlib.pyplot as plt\n",
    "\n",
    "predictions = model(X,theta_final)\n",
    "plt.scatter(df['YearsExperience'], y)\n",
    "plt.plot(df['YearsExperience'], predictions, color='red')"
   ]
  },
  {
   "cell_type": "markdown",
   "metadata": {},
   "source": [
    "You should have something like this. \n",
    "![](./assets/final_theta.png)"
   ]
  },
  {
   "cell_type": "markdown",
   "metadata": {},
   "source": [
    "If not, change the learning rate and the number of iterations."
   ]
  },
  {
   "cell_type": "markdown",
   "metadata": {},
   "source": [
    "### Learning curves\n",
    "\n",
    "To check if our Gradient Descent algorithm worked well, we observe the evolution of the cost function through iterations. We are supposed to obtain a curve that decreases with each iteration until it stagnates at a minimal level (close to zero). If the curve does not follow this pattern, then the learning_rate step may be too high, we should take a lower step."
   ]
  },
  {
   "cell_type": "code",
   "execution_count": 35,
   "metadata": {},
   "outputs": [
    {
     "data": {
      "image/png": "[encoded data removed]",
      "text/plain": [
       "<Figure size 640x480 with 1 Axes>"
      ]
     },
     "metadata": {},
     "output_type": "display_data"
    }
   ],
   "source": [
    "n_it = np.arange(300)\n",
    "plt.plot(n_it, cost_history[:300])\n",
    "plt.show()"
   ]
  },
  {
   "cell_type": "markdown",
   "metadata": {},
   "source": [
    "You should have something like this: \n",
    "![](./assets/learning_curve.png)"
   ]
  },
  {
   "cell_type": "markdown",
   "metadata": {},
   "source": [
    "On this histogram, we can see that after 400 iterations, the model no longer learns and becomes constant. We can thus redefine the n_iterations to 400"
   ]
  },
  {
   "cell_type": "markdown",
   "metadata": {},
   "source": [
    "### Evaluation\n",
    "\n",
    "To evaluate the real performance of our model with a popular metric (for your boss, client, or colleagues) we can use the coefficient of determination, also known as $R^2$. It comes from the method of least squares. The closer the result is to 1, the better your model is."
   ]
  },
  {
   "cell_type": "code",
   "execution_count": 36,
   "metadata": {},
   "outputs": [],
   "source": [
    "def coef_determination(y, pred):\n",
    "    u = ((y - pred)**2).sum()\n",
    "    v = ((y - y.mean())**2).sum()\n",
    "    return 1 - u/v"
   ]
  },
  {
   "cell_type": "code",
   "execution_count": 80,
   "metadata": {},
   "outputs": [
    {
     "data": {
      "text/plain": [
       "np.float64(0.9545032557037034)"
      ]
     },
     "execution_count": 80,
     "metadata": {},
     "output_type": "execute_result"
    }
   ],
   "source": [
    "coef_determination(y, predictions)"
   ]
  },
  {
   "cell_type": "markdown",
   "metadata": {},
   "source": [
    "### The end\n",
    "Ok ok, you just built your own model of linear regression, do you realize that? \n",
    "This part was a bit theoretical, but it's essential to understand how it works.  \n",
    "![tired.gif](./assets/tired.gif)"
   ]
  }
 ],
 "metadata": {
  "colab": {
   "collapsed_sections": [],
   "name": "Copie de linearregression.ipynb",
   "provenance": []
  },
  "kernelspec": {
   "display_name": "Project Classification Iris",
   "language": "python",
   "name": "project_classification_iris"
  },
  "language_info": {
   "codemirror_mode": {
    "name": "ipython",
    "version": 3
   },
   "file_extension": ".py",
   "mimetype": "text/x-python",
   "name": "python",
   "nbconvert_exporter": "python",
   "pygments_lexer": "ipython3",
   "version": "3.12.4"
  }
 },
 "nbformat": 4,
 "nbformat_minor": 4
}
