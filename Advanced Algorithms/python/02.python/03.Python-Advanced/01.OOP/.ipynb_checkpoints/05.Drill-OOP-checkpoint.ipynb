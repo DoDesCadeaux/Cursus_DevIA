{
 "cells": [
  {
   "cell_type": "markdown",
   "metadata": {},
   "source": [
    "# Drill - OOP"
   ]
  },
  {
   "cell_type": "markdown",
   "metadata": {},
   "source": [
    "## Exercise 01 - Dog Inheritance\n",
    "Create a Pets class that holds instances of dogs; this class is completely separate from the Dog class. In other words, the Dog class does not inherit from the Pets class. Then assign three dog instances to an instance of the Pets class. Start with the following code below. Save the file as pets_class.py. Your output should look like this:\n",
    "````\n",
    "I have 3 dogs. \n",
    "Tom is 6. \n",
    "Fletcher is 7. \n",
    "Larry is 9. \n",
    "And they're all mammals, of course.\n",
    "````"
   ]
  },
  {
   "cell_type": "code",
   "execution_count": 2,
   "metadata": {},
   "outputs": [],
   "source": [
    "# Parent class\n",
    "class Dog:\n",
    "\n",
    "    # Class attribute\n",
    "    species = 'mammal'\n",
    "\n",
    "    # Initializer / Instance attributes\n",
    "    def __init__(self, name, age):\n",
    "        self.name = name\n",
    "        self.age = age\n",
    "\n",
    "    # instance method\n",
    "    def description(self):\n",
    "        return \"{} is {} years old\".format(self.name, self.age)\n",
    "\n",
    "    # instance method\n",
    "    def speak(self, sound):\n",
    "        return \"{} says {}\".format(self.name, sound)\n",
    "\n",
    "# Child class (inherits from Dog class)\n",
    "class RussellTerrier(Dog):\n",
    "    def run(self, speed):\n",
    "        return \"{} runs {}\".format(self.name, speed)\n",
    "\n",
    "# Child class (inherits from Dog class)\n",
    "class Bulldog(Dog):\n",
    "    def run(self, speed):\n",
    "        return \"{} runs {}\".format(self.name, speed)"
   ]
  },
  {
   "cell_type": "markdown",
   "metadata": {},
   "source": [
    "## Exercise 02 - Hungry Dogs\n",
    "Using the same file, add an instance attribute of is_hungry = True to the Dog class. Then add a method called eat() which changes the value of is_hungry to False when called. Figure out the best way to feed each dog and then output “My dogs are hungry.” if all are hungry or “My dogs are not hungry.” if all are not hungry. The final output should look like this:\n",
    "````\n",
    "I have 3 dogs. \n",
    "Tom is 6. \n",
    "Fletcher is 7. \n",
    "Larry is 9. \n",
    "And they're all mammals, of course. \n",
    "My dogs are not hungry.\n",
    "````\n"
   ]
  },
  {
   "cell_type": "code",
   "execution_count": null,
   "metadata": {},
   "outputs": [],
   "source": []
  },
  {
   "cell_type": "markdown",
   "metadata": {},
   "source": [
    "## Exercise 03 - Dog Walking\n",
    "Next, add a walk() method to both the Pets and Dog classes so that when you call the method on the Pets class, each dog instance assigned to the Pets class will walk(). Save this as dog_walking.py. This is slightly more difficult.\n",
    "\n",
    "Start by implementing the method in the same manner as the speak() method. As for the method in the Pets class, you will need to iterate through the list of dogs, then call the method itself.\n",
    "\n",
    "The output should look like this:\n",
    "\n",
    "````\n",
    "Tom is walking!\n",
    "Fletcher is walking!\n",
    "Larry is walking!\n",
    "````"
   ]
  },
  {
   "cell_type": "markdown",
   "metadata": {},
   "source": [
    "## Exercise 04 - Comprehension Check \n",
    "Answer the following questions about OOP to check your learning progress:\n",
    "\n",
    "1. What’s a class?\n",
    "1. What’s an instance?\n",
    "1. What’s the relationship between a class and an instance?\n",
    "1. What’s the Python syntax used for defining a new class?\n",
    "1. What’s the spelling convention for a class name?\n",
    "1. How do you instantiate, or create an instance of, a class?\n",
    "1. How do you access the attributes and behaviors of a class instance?\n",
    "1. What’s a method?\n",
    "1. What’s the purpose of self?\n",
    "1. What’s the purpose of the __init__ method?\n",
    "1. Describe how inheritance helps prevent code duplication.\n",
    "1. Can child classes override properties of their parents?"
   ]
  },
  {
   "cell_type": "code",
   "execution_count": 1,
   "metadata": {},
   "outputs": [],
   "source": [
    "#1. A blueprint for a specific type of object we want to create\n",
    "#2. It's a class object. When we create a object. the object is the instance of the class\n",
    "#3. The class is the type, the instance is the object. The object is created from the class\n",
    "#4. class\n",
    "#5. CamelCase\n",
    "#6 object = ClassType(attributes)\n",
    "#7. with dot \n",
    "#8. It's a class member fonction\n",
    "#9. To assign attributes, it's only made for its object\n",
    "#10. When we create a instance you mihgt need to initiate attributes when it's created that's why you need __init__\n",
    "#11. It's a blueprint for a repetitive class object which inherits all attributes and methods to the child class\n",
    "#12. Yes with super, but it overrides only for himself and not to the parent"
   ]
  }
 ],
 "metadata": {
  "kernelspec": {
   "display_name": "Python 3 (ipykernel)",
   "language": "python",
   "name": "python3"
  },
  "language_info": {
   "codemirror_mode": {
    "name": "ipython",
    "version": 3
   },
   "file_extension": ".py",
   "mimetype": "text/x-python",
   "name": "python",
   "nbconvert_exporter": "python",
   "pygments_lexer": "ipython3",
   "version": "3.12.4"
  }
 },
 "nbformat": 4,
 "nbformat_minor": 4
}
