{
 "cells": [
  {
   "cell_type": "markdown",
   "metadata": {},
   "source": [
    "# Drill : Lists, Tuples, Dictionaries"
   ]
  },
  {
   "cell_type": "markdown",
   "metadata": {},
   "source": [
    "### 1. Choose 5 words from the English language and create  dictionaries that associates each of these words with its French translation."
   ]
  },
  {
   "cell_type": "code",
   "execution_count": 1,
   "metadata": {},
   "outputs": [],
   "source": [
    "translate = {\"one\": \"un\", \"two\": \"deux\", \"tree\": \"trois\", \"four\": \"quatre\", \"five\": \"cinq\"}"
   ]
  },
  {
   "cell_type": "markdown",
   "metadata": {},
   "source": [
    "### 2. Add an entry to the dictionary of the previous question (a new word and its definition)"
   ]
  },
  {
   "cell_type": "code",
   "execution_count": 3,
   "metadata": {},
   "outputs": [
    {
     "data": {
      "text/plain": [
       "{'one': 'un',\n",
       " 'two': 'deux',\n",
       " 'tree': 'trois',\n",
       " 'four': 'quatre',\n",
       " 'five': 'cinq',\n",
       " 'six': 'six'}"
      ]
     },
     "execution_count": 3,
     "metadata": {},
     "output_type": "execute_result"
    }
   ],
   "source": [
    "translate.setdefault(\"six\", \"six\")\n",
    "translate"
   ]
  },
  {
   "cell_type": "markdown",
   "metadata": {},
   "source": [
    "### 3. How would you cut the following string at each space and put it in a list: "
   ]
  },
  {
   "cell_type": "code",
   "execution_count": 4,
   "metadata": {},
   "outputs": [
    {
     "data": {
      "text/plain": [
       "['I', 'am', 'the', 'master', 'of', 'the', 'world']"
      ]
     },
     "execution_count": 4,
     "metadata": {},
     "output_type": "execute_result"
    }
   ],
   "source": [
    "sentence = \"I am the master of the world\"\n",
    "no_space = sentence.split(' ')\n",
    "no_space"
   ]
  },
  {
   "cell_type": "markdown",
   "metadata": {},
   "source": [
    "### 4. Transform this string \"The_universal_number_is_42\" by removing the underscores: \"The universal number is 42\""
   ]
  },
  {
   "cell_type": "code",
   "execution_count": 7,
   "metadata": {},
   "outputs": [
    {
     "data": {
      "text/plain": [
       "'The universal number is 42'"
      ]
     },
     "execution_count": 7,
     "metadata": {},
     "output_type": "execute_result"
    }
   ],
   "source": [
    "universal_number =  \"The_universal_number_is_42\"\n",
    "spaced_universal = universal_number.replace('_', ' ')\n",
    "spaced_universal"
   ]
  },
  {
   "cell_type": "markdown",
   "metadata": {},
   "source": [
    "### 5. Display only values of this dictionary."
   ]
  },
  {
   "cell_type": "code",
   "execution_count": 11,
   "metadata": {},
   "outputs": [
    {
     "data": {
      "text/plain": [
       "['Clark kent', 'Bruce Wayne', 'Tony Parker']"
      ]
     },
     "execution_count": 11,
     "metadata": {},
     "output_type": "execute_result"
    }
   ],
   "source": [
    "heroes = {\"Superman\" : \"Clark kent\", \"Batman\" : \"Bruce Wayne\", \"Spiderman\" : \"Tony Parker\"}\n",
    "test = list(heroes.values())\n",
    "test"
   ]
  },
  {
   "cell_type": "markdown",
   "metadata": {},
   "source": [
    "### 6. Display only keys of this dictionary."
   ]
  },
  {
   "cell_type": "code",
   "execution_count": 12,
   "metadata": {},
   "outputs": [
    {
     "data": {
      "text/plain": [
       "['Superman', 'Batman', 'Spiderman']"
      ]
     },
     "execution_count": 12,
     "metadata": {},
     "output_type": "execute_result"
    }
   ],
   "source": [
    "heroes = {\"Superman\" : \"Clark kent\", \"Batman\" : \"Bruce Wayne\", \"Spiderman\" : \"Tony Parker\"}\n",
    "test = list(heroes.keys())\n",
    "test"
   ]
  },
  {
   "cell_type": "markdown",
   "metadata": {},
   "source": [
    "### 7. Replace the value of \"Spiderman\" by \"Peter Parker\"."
   ]
  },
  {
   "cell_type": "code",
   "execution_count": 13,
   "metadata": {},
   "outputs": [
    {
     "data": {
      "text/plain": [
       "{'Superman': 'Clark kent',\n",
       " 'Batman': 'Bruce Wayne',\n",
       " 'Spiderman': 'Peter Parker'}"
      ]
     },
     "execution_count": 13,
     "metadata": {},
     "output_type": "execute_result"
    }
   ],
   "source": [
    "heroes = {\"Superman\" : \"Clark kent\", \"Batman\" : \"Bruce Wayne\", \"Spiderman\" : \"Tony Parker\"}\n",
    "heroes[\"Spiderman\"] = \"Peter Parker\"\n",
    "heroes"
   ]
  },
  {
   "cell_type": "markdown",
   "metadata": {},
   "source": [
    "### 8. Create a dictionary to build the price base of the products corresponding to the following table:\n",
    "\n",
    "    Laser sword // 229.0\n",
    "    Mitendo DX // 127.30\n",
    "    Linux cushion // 74.50\n",
    "    Goldorak briefs // 29.90\n",
    "    Nextpresso station // 184.60"
   ]
  },
  {
   "cell_type": "code",
   "execution_count": 15,
   "metadata": {},
   "outputs": [
    {
     "data": {
      "text/plain": [
       "{'laser sword': 229.0,\n",
       " 'Mintendo DX': 127.3,\n",
       " 'Linux cushion': 74.5,\n",
       " 'Goldorak briefs': 29.9,\n",
       " 'Nextpresso station': 184.6}"
      ]
     },
     "execution_count": 15,
     "metadata": {},
     "output_type": "execute_result"
    }
   ],
   "source": [
    "prices = {\"laser sword\": 229.0, \"Mintendo DX\": 127.30, \"Linux cushion\": 74.50, \"Goldorak briefs\": 29.90, \"Nextpresso station\": 184.60}\n",
    "prices"
   ]
  },
  {
   "cell_type": "markdown",
   "metadata": {},
   "source": [
    "### 9. Calculate the total price of the items of the dictionary"
   ]
  },
  {
   "cell_type": "code",
   "execution_count": 16,
   "metadata": {},
   "outputs": [
    {
     "data": {
      "text/plain": [
       "645.3"
      ]
     },
     "execution_count": 16,
     "metadata": {},
     "output_type": "execute_result"
    }
   ],
   "source": [
    "price = 0\n",
    "for value in prices.values():\n",
    "    price += value\n",
    "price"
   ]
  },
  {
   "cell_type": "markdown",
   "metadata": {},
   "source": [
    "### 10. Remove one of the articles from the dictionary"
   ]
  },
  {
   "cell_type": "code",
   "execution_count": 17,
   "metadata": {},
   "outputs": [
    {
     "data": {
      "text/plain": [
       "{'Mintendo DX': 127.3,\n",
       " 'Linux cushion': 74.5,\n",
       " 'Goldorak briefs': 29.9,\n",
       " 'Nextpresso station': 184.6}"
      ]
     },
     "execution_count": 17,
     "metadata": {},
     "output_type": "execute_result"
    }
   ],
   "source": [
    "prices.pop(\"laser sword\")\n",
    "prices"
   ]
  },
  {
   "cell_type": "markdown",
   "metadata": {},
   "source": [
    "## [Next one](../8.everything-is-object/everything-is-object.ipynb)"
   ]
  },
  {
   "cell_type": "code",
   "execution_count": null,
   "metadata": {},
   "outputs": [],
   "source": []
  }
 ],
 "metadata": {
  "kernelspec": {
   "display_name": "Python 3 (ipykernel)",
   "language": "python",
   "name": "python3"
  },
  "language_info": {
   "codemirror_mode": {
    "name": "ipython",
    "version": 3
   },
   "file_extension": ".py",
   "mimetype": "text/x-python",
   "name": "python",
   "nbconvert_exporter": "python",
   "pygments_lexer": "ipython3",
   "version": "3.12.4"
  }
 },
 "nbformat": 4,
 "nbformat_minor": 4
}
