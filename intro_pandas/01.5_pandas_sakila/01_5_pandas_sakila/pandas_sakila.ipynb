{
 "cells": [
  {
   "cell_type": "markdown",
   "id": "38563017-9d9c-4f46-a0ed-a36a8063e2d9",
   "metadata": {},
   "source": [
    "# Sakila: bonus pandas\n",
    "\n",
    "## A) Importez l'excel Sakila \n",
    "(ou établir une connexion avec un SQL serveur Sakila, via SQLAlchemy)\n",
    "\n",
    "vous allez utiliser les tables:\n",
    "- actor\n",
    "- film\n",
    "- category\n",
    "\n",
    "- film_actor\n",
    "- film_category   \n",
    "    \n",
    "## B) Repondez au questions suivantes via des manimpulation Pandas \n",
    "#### Bonus : comparez avec des requêtes SQL equivalentes\n",
    "\n",
    "1. Trouvez le numéro d'identification, le prénom et le nom de famille d'un acteur, dont vous ne connaissez que le prénom «William».\n",
    "1. Affichez le prénom et le nom de chaque acteur dans une seule colonne en majuscules. Nommez la colonne Nom de l'acteur.\n",
    "1. Sélectionner les films sauf 'GREASE YOUTH'.\n",
    "2. Trouvez tous les acteurs dont le nom contient les lettres « GEN ».\n",
    "3. Trouvez tous les acteurs dont les noms contiennent les lettres « LI » ou la 3e lettre est « E » . Cette fois, triez les lignes par nom et prénom, dans cet ordre.\n",
    "4. Sélectionner les 5 premières descriptions de films ayant une description contenant le mot \"Woman\".\n",
    "6. Combien y a-t-il de noms de famille d'acteurs distincts?\n",
    "7. Les acteurs ont joué dans quel film ?\n",
    "8. Énumérez les noms de famille des acteurs, ainsi que le nombre d'acteurs qui portent ce nom de famille. Triez et sélectionnez les 5 noms les plus utilisés dans la base de données.\n",
    "9. Lister les noms de famille des acteurs et le nombre d'acteurs qui portent ce nom de famille, mais uniquement pour les noms partagés par au moins deux acteurs.\n",
    "10. Quelle est la durée moyenne des films par catégorie?\n",
    "11. Quels sont les acteurs qui ont déjà joué dans un film d'horreur (catégorie 'Horror’) ?\n",
    "12. Quels sont les acteurs qui ont joué avec Penelope Guiness ?\n",
    "13. Quels sont les acteurs qui ont joué dans toutes les catégories de film ?"
   ]
  },
  {
   "cell_type": "code",
   "execution_count": 6,
   "id": "2a0f9a8e-ad2b-4e4b-8b4b-250e7f3c1f8d",
   "metadata": {},
   "outputs": [
    {
     "data": {
      "text/plain": [
       "['actor', 'film', 'category', 'film_actor', 'film_category']"
      ]
     },
     "execution_count": 6,
     "metadata": {},
     "output_type": "execute_result"
    }
   ],
   "source": [
    "import pandas as pd\n",
    "\n",
    "# Load the Excel file\n",
    "file_path = './sakila.xlsx'\n",
    "sakila_data = pd.ExcelFile(file_path)\n",
    "\n",
    "# Display sheet names to understand the structure\n",
    "sakila_data.sheet_names"
   ]
  },
  {
   "cell_type": "code",
   "execution_count": 7,
   "id": "28c9844d-0a6c-4317-910c-78b949ff9aa4",
   "metadata": {},
   "outputs": [
    {
     "data": {
      "text/plain": [
       "(   Unnamed: 0  actor_id first_name     last_name         last_update\n",
       " 0           0         1   PENELOPE       GUINESS 2006-02-15 04:34:33\n",
       " 1           1         2       NICK      WAHLBERG 2006-02-15 04:34:33\n",
       " 2           2         3         ED         CHASE 2006-02-15 04:34:33\n",
       " 3           3         4   JENNIFER         DAVIS 2006-02-15 04:34:33\n",
       " 4           4         5     JOHNNY  LOLLOBRIGIDA 2006-02-15 04:34:33,\n",
       "    Unnamed: 0  film_id             title  \\\n",
       " 0           0        1  ACADEMY DINOSAUR   \n",
       " 1           1        2    ACE GOLDFINGER   \n",
       " 2           2        3  ADAPTATION HOLES   \n",
       " 3           3        4  AFFAIR PREJUDICE   \n",
       " 4           4        5       AFRICAN EGG   \n",
       " \n",
       "                                          description  release_year  \\\n",
       " 0  An Epic Drama of a Feminist And a Mad Scientis...          2006   \n",
       " 1  A Astounding Epistle of a Database Administrat...          2006   \n",
       " 2  A Astounding Reflection of a Lumberjack And a ...          2006   \n",
       " 3  A Fanciful Documentary of a Frisbee And a Lumb...          2006   \n",
       " 4  A Fast-Paced Documentary of a Pastry Chef And ...          2006   \n",
       " \n",
       "    language_id  original_language_id  rental_duration  rental_rate  length  \\\n",
       " 0            1                   NaN                6         0.99      86   \n",
       " 1            1                   NaN                3         4.99      48   \n",
       " 2            1                   NaN                7         2.99      50   \n",
       " 3            1                   NaN                5         2.99     117   \n",
       " 4            1                   NaN                6         2.99     130   \n",
       " \n",
       "    replacement_cost rating                  special_features  \\\n",
       " 0             20.99     PG  Deleted Scenes,Behind the Scenes   \n",
       " 1             12.99      G           Trailers,Deleted Scenes   \n",
       " 2             18.99  NC-17           Trailers,Deleted Scenes   \n",
       " 3             26.99      G    Commentaries,Behind the Scenes   \n",
       " 4             22.99      G                    Deleted Scenes   \n",
       " \n",
       "           last_update  \n",
       " 0 2006-02-15 05:03:42  \n",
       " 1 2006-02-15 05:03:42  \n",
       " 2 2006-02-15 05:03:42  \n",
       " 3 2006-02-15 05:03:42  \n",
       " 4 2006-02-15 05:03:42  ,\n",
       "    Unnamed: 0  category_id       name         last_update\n",
       " 0           0            1     Action 2006-02-15 04:46:27\n",
       " 1           1            2  Animation 2006-02-15 04:46:27\n",
       " 2           2            3   Children 2006-02-15 04:46:27\n",
       " 3           3            4   Classics 2006-02-15 04:46:27\n",
       " 4           4            5     Comedy 2006-02-15 04:46:27,\n",
       "    Unnamed: 0  actor_id  film_id         last_update\n",
       " 0           0         1        1 2006-02-15 05:05:03\n",
       " 1           1         1       23 2006-02-15 05:05:03\n",
       " 2           2         1       25 2006-02-15 05:05:03\n",
       " 3           3         1      106 2006-02-15 05:05:03\n",
       " 4           4         1      140 2006-02-15 05:05:03,\n",
       "    Unnamed: 0  film_id  category_id         last_update\n",
       " 0           0        1            6 2006-02-15 05:07:09\n",
       " 1           1        2           11 2006-02-15 05:07:09\n",
       " 2           2        3            6 2006-02-15 05:07:09\n",
       " 3           3        4           11 2006-02-15 05:07:09\n",
       " 4           4        5            8 2006-02-15 05:07:09)"
      ]
     },
     "execution_count": 7,
     "metadata": {},
     "output_type": "execute_result"
    }
   ],
   "source": [
    "# Load each sheet into a DataFrame\n",
    "actor_df = pd.read_excel(sakila_data, sheet_name='actor')\n",
    "film_df = pd.read_excel(sakila_data, sheet_name='film')\n",
    "category_df = pd.read_excel(sakila_data, sheet_name='category')\n",
    "film_actor_df = pd.read_excel(sakila_data, sheet_name='film_actor')\n",
    "film_category_df = pd.read_excel(sakila_data, sheet_name='film_category')\n",
    "\n",
    "# Display the first few rows of each DataFrame to understand their structure\n",
    "actor_df.head(), film_df.head(), category_df.head(), film_actor_df.head(), film_category_df.head()\n"
   ]
  },
  {
   "cell_type": "code",
   "execution_count": 8,
   "id": "fa75d8c5-6970-40c0-b0db-fb9487518b11",
   "metadata": {},
   "outputs": [
    {
     "data": {
      "text/html": [
       "<div>\n",
       "<style scoped>\n",
       "    .dataframe tbody tr th:only-of-type {\n",
       "        vertical-align: middle;\n",
       "    }\n",
       "\n",
       "    .dataframe tbody tr th {\n",
       "        vertical-align: top;\n",
       "    }\n",
       "\n",
       "    .dataframe thead th {\n",
       "        text-align: right;\n",
       "    }\n",
       "</style>\n",
       "<table border=\"1\" class=\"dataframe\">\n",
       "  <thead>\n",
       "    <tr style=\"text-align: right;\">\n",
       "      <th></th>\n",
       "      <th>actor_id</th>\n",
       "      <th>first_name</th>\n",
       "      <th>last_name</th>\n",
       "    </tr>\n",
       "  </thead>\n",
       "  <tbody>\n",
       "  </tbody>\n",
       "</table>\n",
       "</div>"
      ],
      "text/plain": [
       "Empty DataFrame\n",
       "Columns: [actor_id, first_name, last_name]\n",
       "Index: []"
      ]
     },
     "execution_count": 8,
     "metadata": {},
     "output_type": "execute_result"
    }
   ],
   "source": [
    "# Find the actor with the first name \"William\"\n",
    "william_actor = actor_df[actor_df['first_name'] == 'William'][['actor_id', 'first_name', 'last_name']]\n",
    "william_actor"
   ]
  },
  {
   "cell_type": "code",
   "execution_count": 10,
   "id": "363ec207-9dc6-4e76-9872-9be584c1434e",
   "metadata": {},
   "outputs": [
    {
     "data": {
      "text/html": [
       "<div>\n",
       "<style scoped>\n",
       "    .dataframe tbody tr th:only-of-type {\n",
       "        vertical-align: middle;\n",
       "    }\n",
       "\n",
       "    .dataframe tbody tr th {\n",
       "        vertical-align: top;\n",
       "    }\n",
       "\n",
       "    .dataframe thead th {\n",
       "        text-align: right;\n",
       "    }\n",
       "</style>\n",
       "<table border=\"1\" class=\"dataframe\">\n",
       "  <thead>\n",
       "    <tr style=\"text-align: right;\">\n",
       "      <th></th>\n",
       "      <th>Nom de l'acteur</th>\n",
       "    </tr>\n",
       "  </thead>\n",
       "  <tbody>\n",
       "    <tr>\n",
       "      <th>0</th>\n",
       "      <td>PENELOPE GUINESS</td>\n",
       "    </tr>\n",
       "    <tr>\n",
       "      <th>1</th>\n",
       "      <td>NICK WAHLBERG</td>\n",
       "    </tr>\n",
       "    <tr>\n",
       "      <th>2</th>\n",
       "      <td>ED CHASE</td>\n",
       "    </tr>\n",
       "    <tr>\n",
       "      <th>3</th>\n",
       "      <td>JENNIFER DAVIS</td>\n",
       "    </tr>\n",
       "    <tr>\n",
       "      <th>4</th>\n",
       "      <td>JOHNNY LOLLOBRIGIDA</td>\n",
       "    </tr>\n",
       "  </tbody>\n",
       "</table>\n",
       "</div>"
      ],
      "text/plain": [
       "       Nom de l'acteur\n",
       "0     PENELOPE GUINESS\n",
       "1        NICK WAHLBERG\n",
       "2             ED CHASE\n",
       "3       JENNIFER DAVIS\n",
       "4  JOHNNY LOLLOBRIGIDA"
      ]
     },
     "execution_count": 10,
     "metadata": {},
     "output_type": "execute_result"
    }
   ],
   "source": [
    "# Combine first and last names into a single column and convert to uppercase\n",
    "actor_df['Nom de l\\'acteur'] = (actor_df['first_name'] + ' ' + actor_df['last_name']).str.upper()\n",
    "actor_names_upper = actor_df[['Nom de l\\'acteur']]\n",
    "actor_names_upper.head()\n"
   ]
  },
  {
   "cell_type": "code",
   "execution_count": 11,
   "id": "cf9f9dfa-73e4-4bc8-b2fc-cb1659c08a00",
   "metadata": {},
   "outputs": [
    {
     "name": "stdout",
     "output_type": "stream",
     "text": [
      "   Unnamed: 0  film_id             title  \\\n",
      "0           0        1  ACADEMY DINOSAUR   \n",
      "1           1        2    ACE GOLDFINGER   \n",
      "2           2        3  ADAPTATION HOLES   \n",
      "3           3        4  AFFAIR PREJUDICE   \n",
      "4           4        5       AFRICAN EGG   \n",
      "\n",
      "                                         description  release_year  \\\n",
      "0  An Epic Drama of a Feminist And a Mad Scientis...          2006   \n",
      "1  A Astounding Epistle of a Database Administrat...          2006   \n",
      "2  A Astounding Reflection of a Lumberjack And a ...          2006   \n",
      "3  A Fanciful Documentary of a Frisbee And a Lumb...          2006   \n",
      "4  A Fast-Paced Documentary of a Pastry Chef And ...          2006   \n",
      "\n",
      "   language_id  original_language_id  rental_duration  rental_rate  length  \\\n",
      "0            1                   NaN                6         0.99      86   \n",
      "1            1                   NaN                3         4.99      48   \n",
      "2            1                   NaN                7         2.99      50   \n",
      "3            1                   NaN                5         2.99     117   \n",
      "4            1                   NaN                6         2.99     130   \n",
      "\n",
      "   replacement_cost rating                  special_features  \\\n",
      "0             20.99     PG  Deleted Scenes,Behind the Scenes   \n",
      "1             12.99      G           Trailers,Deleted Scenes   \n",
      "2             18.99  NC-17           Trailers,Deleted Scenes   \n",
      "3             26.99      G    Commentaries,Behind the Scenes   \n",
      "4             22.99      G                    Deleted Scenes   \n",
      "\n",
      "          last_update  \n",
      "0 2006-02-15 05:03:42  \n",
      "1 2006-02-15 05:03:42  \n",
      "2 2006-02-15 05:03:42  \n",
      "3 2006-02-15 05:03:42  \n",
      "4 2006-02-15 05:03:42  \n"
     ]
    }
   ],
   "source": [
    "films_excluding_grease_youth = film_df[film_df['title'] != 'GREASE YOUTH']\n",
    "print(films_excluding_grease_youth.head())\n"
   ]
  },
  {
   "cell_type": "code",
   "execution_count": 12,
   "id": "29cf7122-a5e0-4a43-ac5d-e00265f9fd03",
   "metadata": {},
   "outputs": [
    {
     "name": "stdout",
     "output_type": "stream",
     "text": [
      "     Unnamed: 0  actor_id first_name  last_name         last_update  \\\n",
      "13           13        14     VIVIEN     BERGEN 2006-02-15 04:34:33   \n",
      "40           40        41      JODIE  DEGENERES 2006-02-15 04:34:33   \n",
      "106         106       107       GINA  DEGENERES 2006-02-15 04:34:33   \n",
      "165         165       166       NICK  DEGENERES 2006-02-15 04:34:33   \n",
      "\n",
      "     Nom de l'acteur  \n",
      "13     VIVIEN BERGEN  \n",
      "40   JODIE DEGENERES  \n",
      "106   GINA DEGENERES  \n",
      "165   NICK DEGENERES  \n"
     ]
    }
   ],
   "source": [
    "actors_with_gen = actor_df[actor_df['last_name'].str.contains('GEN', case=False, na=False)]\n",
    "print(actors_with_gen)\n"
   ]
  },
  {
   "cell_type": "code",
   "execution_count": 13,
   "id": "c364a659-2c8e-4ba2-95f5-d7db0017eb39",
   "metadata": {},
   "outputs": [
    {
     "name": "stdout",
     "output_type": "stream",
     "text": [
      "     Unnamed: 0  actor_id first_name last_name         last_update  \\\n",
      "85           85        86       GREG   CHAPLIN 2006-02-15 04:34:33   \n",
      "147         147       148      EMILY       DEE 2006-02-15 04:34:33   \n",
      "137         137       138    LUCILLE       DEE 2006-02-15 04:34:33   \n",
      "172         172       173       ALAN  DREYFUSS 2006-02-15 04:34:33   \n",
      "81           81        82      WOODY     JOLIE 2006-02-15 04:34:33   \n",
      "60           60        61  CHRISTIAN    NEESON 2006-02-15 04:34:33   \n",
      "61           61        62      JAYNE    NEESON 2006-02-15 04:34:33   \n",
      "33           33        34     AUDREY   OLIVIER 2006-02-15 04:34:33   \n",
      "14           14        15       CUBA   OLIVIER 2006-02-15 04:34:33   \n",
      "170         170       171    OLYMPIA  PFEIFFER 2006-02-15 04:34:33   \n",
      "92           92        93      ELLEN   PRESLEY 2006-02-15 04:34:33   \n",
      "171         171       172    GROUCHO  WILLIAMS 2006-02-15 04:34:33   \n",
      "136         136       137     MORGAN  WILLIAMS 2006-02-15 04:34:33   \n",
      "71           71        72       SEAN  WILLIAMS 2006-02-15 04:34:33   \n",
      "82           82        83        BEN    WILLIS 2006-02-15 04:34:33   \n",
      "95           95        96       GENE    WILLIS 2006-02-15 04:34:33   \n",
      "163         163       164   HUMPHREY    WILLIS 2006-02-15 04:34:33   \n",
      "\n",
      "      Nom de l'acteur  \n",
      "85       GREG CHAPLIN  \n",
      "147         EMILY DEE  \n",
      "137       LUCILLE DEE  \n",
      "172     ALAN DREYFUSS  \n",
      "81        WOODY JOLIE  \n",
      "60   CHRISTIAN NEESON  \n",
      "61       JAYNE NEESON  \n",
      "33     AUDREY OLIVIER  \n",
      "14       CUBA OLIVIER  \n",
      "170  OLYMPIA PFEIFFER  \n",
      "92      ELLEN PRESLEY  \n",
      "171  GROUCHO WILLIAMS  \n",
      "136   MORGAN WILLIAMS  \n",
      "71      SEAN WILLIAMS  \n",
      "82         BEN WILLIS  \n",
      "95        GENE WILLIS  \n",
      "163   HUMPHREY WILLIS  \n"
     ]
    }
   ],
   "source": [
    "actors_with_li_or_third_e = actor_df[\n",
    "    (actor_df['last_name'].str.contains('LI', case=False, na=False)) | \n",
    "    (actor_df['last_name'].str[2] == 'E')\n",
    "].sort_values(by=['last_name', 'first_name'])\n",
    "print(actors_with_li_or_third_e)"
   ]
  },
  {
   "cell_type": "code",
   "execution_count": 14,
   "id": "2fe2c2ae-2eec-444a-9e64-5b36e6ec86c4",
   "metadata": {},
   "outputs": [
    {
     "name": "stdout",
     "output_type": "stream",
     "text": [
      "                                          description\n",
      "19  A Boring Drama of a Woman And a Squirrel who m...\n",
      "24  A Thoughtful Display of a Woman And a Astronau...\n",
      "25  A Amazing Panorama of a Pastry Chef And a Boat...\n",
      "27  A Touching Panorama of a Waitress And a Woman ...\n",
      "28  A Fateful Yarn of a Womanizer And a Feminist w...\n"
     ]
    }
   ],
   "source": [
    "films_with_woman_desc = film_df[film_df['description'].str.contains('Woman', case=False, na=False)].head(5)\n",
    "print(films_with_woman_desc[['description']])"
   ]
  },
  {
   "cell_type": "code",
   "execution_count": 15,
   "id": "31b89d2e-3c0e-45f0-8dfd-6d4680b1ec3c",
   "metadata": {},
   "outputs": [
    {
     "name": "stdout",
     "output_type": "stream",
     "text": [
      "121\n"
     ]
    }
   ],
   "source": [
    "unique_last_names_count = actor_df['last_name'].nunique()\n",
    "print(unique_last_names_count)"
   ]
  },
  {
   "cell_type": "code",
   "execution_count": 16,
   "id": "41d47790-20b7-4a67-9b0e-fcea1d56e3fe",
   "metadata": {},
   "outputs": [
    {
     "name": "stdout",
     "output_type": "stream",
     "text": [
      "  first_name last_name                  title\n",
      "0   PENELOPE   GUINESS       ACADEMY DINOSAUR\n",
      "1   PENELOPE   GUINESS   ANACONDA CONFESSIONS\n",
      "2   PENELOPE   GUINESS            ANGELS LIFE\n",
      "3   PENELOPE   GUINESS  BULWORTH COMMANDMENTS\n",
      "4   PENELOPE   GUINESS          CHEAPER CLYDE\n"
     ]
    }
   ],
   "source": [
    "actor_film_df = film_actor_df.merge(actor_df, on='actor_id').merge(film_df, on='film_id')\n",
    "actor_films = actor_film_df[['first_name', 'last_name', 'title']]\n",
    "print(actor_films.head())"
   ]
  },
  {
   "cell_type": "code",
   "execution_count": 23,
   "id": "0f73dc62-571a-400b-ba5a-d3ba6cf03d0a",
   "metadata": {},
   "outputs": [
    {
     "name": "stdout",
     "output_type": "stream",
     "text": [
      "last_name\n",
      "KILMER    5\n",
      "TEMPLE    4\n",
      "NOLTE     4\n",
      "BERRY     3\n",
      "DAVIS     3\n",
      "Name: count, dtype: int64\n"
     ]
    }
   ],
   "source": [
    "last_name_counts = actor_df['last_name'].value_counts().sort_values(ascending=False).head(5)\n",
    "print(last_name_counts)\n"
   ]
  },
  {
   "cell_type": "code",
   "execution_count": 18,
   "id": "d0333ac0-049e-485a-9f54-1e89a106d812",
   "metadata": {},
   "outputs": [
    {
     "name": "stdout",
     "output_type": "stream",
     "text": [
      "last_name\n",
      "KILMER         5\n",
      "TEMPLE         4\n",
      "NOLTE          4\n",
      "BERRY          3\n",
      "DAVIS          3\n",
      "TORN           3\n",
      "DEGENERES      3\n",
      "HOFFMAN        3\n",
      "JOHANSSON      3\n",
      "PECK           3\n",
      "HOPKINS        3\n",
      "AKROYD         3\n",
      "HARRIS         3\n",
      "WILLIAMS       3\n",
      "WILLIS         3\n",
      "KEITEL         3\n",
      "GUINESS        3\n",
      "ALLEN          3\n",
      "GARLAND        3\n",
      "ZELLWEGER      3\n",
      "MCQUEEN        2\n",
      "PALTROW        2\n",
      "TRACY          2\n",
      "OLIVIER        2\n",
      "BRODY          2\n",
      "NEESON         2\n",
      "BOLGER         2\n",
      "MCKELLEN       2\n",
      "CRONYN         2\n",
      "DEAN           2\n",
      "HACKMAN        2\n",
      "DUKAKIS        2\n",
      "CRAWFORD       2\n",
      "WINSLET        2\n",
      "STREEP         2\n",
      "SILVERSTONE    2\n",
      "WEST           2\n",
      "HOPPER         2\n",
      "BENING         2\n",
      "DEE            2\n",
      "GOODING        2\n",
      "TANDY          2\n",
      "MCCONAUGHEY    2\n",
      "MONROE         2\n",
      "JACKMAN        2\n",
      "BAILEY         2\n",
      "PENN           2\n",
      "DEPP           2\n",
      "DENCH          2\n",
      "FAWCETT        2\n",
      "MOSTEL         2\n",
      "WOOD           2\n",
      "CAGE           2\n",
      "CHASE          2\n",
      "WAHLBERG       2\n",
      "Name: count, dtype: int64\n"
     ]
    }
   ],
   "source": [
    "common_last_names = actor_df['last_name'].value_counts()\n",
    "common_last_names = common_last_names[common_last_names > 1]\n",
    "print(common_last_names)\n"
   ]
  },
  {
   "cell_type": "code",
   "execution_count": 19,
   "id": "fdf5a552-a760-4620-9d61-93da2ee830fc",
   "metadata": {},
   "outputs": [
    {
     "name": "stdout",
     "output_type": "stream",
     "text": [
      "name\n",
      "Action         111.609375\n",
      "Animation      111.015152\n",
      "Children       109.800000\n",
      "Classics       111.666667\n",
      "Comedy         115.827586\n",
      "Documentary    108.750000\n",
      "Drama          120.838710\n",
      "Family         114.782609\n",
      "Foreign        121.698630\n",
      "Games          127.836066\n",
      "Horror         112.482143\n",
      "Music          113.647059\n",
      "New            111.126984\n",
      "Sci-Fi         108.196721\n",
      "Sports         128.202703\n",
      "Travel         113.315789\n",
      "Name: length, dtype: float64\n"
     ]
    }
   ],
   "source": [
    "film_category_merged = film_df.merge(film_category_df, on='film_id').merge(category_df, on='category_id')\n",
    "avg_film_length_by_category = film_category_merged.groupby('name')['length'].mean()\n",
    "print(avg_film_length_by_category)"
   ]
  },
  {
   "cell_type": "code",
   "execution_count": 20,
   "id": "1e3a9232-95c6-40c6-ae0a-a82e777b6a5d",
   "metadata": {},
   "outputs": [
    {
     "name": "stdout",
     "output_type": "stream",
     "text": [
      "    first_name     last_name\n",
      "0     PENELOPE       GUINESS\n",
      "3     JENNIFER         DAVIS\n",
      "4       JOHNNY  LOLLOBRIGIDA\n",
      "7        GRACE        MOSTEL\n",
      "9          JOE         SWANK\n",
      "..         ...           ...\n",
      "308       JOHN        SUVARI\n",
      "309      MERYL         ALLEN\n",
      "311      JAYNE   SILVERSTONE\n",
      "314       BELA        WALKEN\n",
      "315      REESE          WEST\n",
      "\n",
      "[156 rows x 2 columns]\n"
     ]
    }
   ],
   "source": [
    "horror_films = film_category_df[film_category_df['category_id'] == category_df[category_df['name'] == 'Horror']['category_id'].values[0]]\n",
    "horror_actors = film_actor_df[film_actor_df['film_id'].isin(horror_films['film_id'])]\n",
    "horror_actors_merged = horror_actors.merge(actor_df, on='actor_id').drop_duplicates(subset=['actor_id'])\n",
    "print(horror_actors_merged[['first_name', 'last_name']])\n"
   ]
  },
  {
   "cell_type": "code",
   "execution_count": 21,
   "id": "abfa0906-6d63-4d00-b336-309cc3d9518b",
   "metadata": {},
   "outputs": [
    {
     "name": "stdout",
     "output_type": "stream",
     "text": [
      "    first_name    last_name\n",
      "0     JENNIFER        DAVIS\n",
      "4        BETTE    NICHOLSON\n",
      "6        GRACE       MOSTEL\n",
      "7    CHRISTIAN        GABLE\n",
      "9         KARL        BERRY\n",
      "..         ...          ...\n",
      "96        CUBA        BIRCH\n",
      "97        JOHN       SUVARI\n",
      "99       JAYNE  SILVERSTONE\n",
      "100       BELA       WALKEN\n",
      "102       MARY       KEITEL\n",
      "\n",
      "[79 rows x 2 columns]\n"
     ]
    }
   ],
   "source": [
    "penelope_films = film_actor_df[film_actor_df['actor_id'] == actor_df[(actor_df['first_name'] == 'PENELOPE') & (actor_df['last_name'] == 'GUINESS')]['actor_id'].values[0]]['film_id']\n",
    "penelope_co_actors = film_actor_df[film_actor_df['film_id'].isin(penelope_films) & (film_actor_df['actor_id'] != actor_df[(actor_df['first_name'] == 'PENELOPE') & (actor_df['last_name'] == 'GUINESS')]['actor_id'].values[0])]\n",
    "penelope_co_actors_merged = penelope_co_actors.merge(actor_df, on='actor_id').drop_duplicates(subset=['actor_id'])\n",
    "print(penelope_co_actors_merged[['first_name', 'last_name']])\n"
   ]
  },
  {
   "cell_type": "code",
   "execution_count": 22,
   "id": "622e29f8-0cc1-4628-84c0-4d6fa221c2f5",
   "metadata": {},
   "outputs": [
    {
     "name": "stdout",
     "output_type": "stream",
     "text": [
      "    first_name  last_name\n",
      "12         UMA       WOOD\n",
      "71        SEAN   WILLIAMS\n",
      "94       DARYL   WAHLBERG\n",
      "105    GROUCHO      DUNST\n",
      "106       GINA  DEGENERES\n",
      "126      KEVIN    GARLAND\n",
      "138       EWAN    GOODING\n",
      "154        IAN      TANDY\n",
      "160     HARVEY       HOPE\n",
      "184    MICHAEL     BOLGER\n",
      "196      REESE       WEST\n"
     ]
    }
   ],
   "source": [
    "total_categories = category_df['category_id'].nunique()\n",
    "actors_in_all_categories = film_actor_df.merge(film_category_df, on='film_id').groupby('actor_id')['category_id'].nunique()\n",
    "actors_in_all_categories = actors_in_all_categories[actors_in_all_categories == total_categories].index\n",
    "actors_in_all_categories_df = actor_df[actor_df['actor_id'].isin(actors_in_all_categories)]\n",
    "print(actors_in_all_categories_df[['first_name', 'last_name']])\n"
   ]
  }
 ],
 "metadata": {
  "kernelspec": {
   "display_name": "Pandas_Kernel",
   "language": "python",
   "name": "pandas_kernel"
  },
  "language_info": {
   "codemirror_mode": {
    "name": "ipython",
    "version": 3
   },
   "file_extension": ".py",
   "mimetype": "text/x-python",
   "name": "python",
   "nbconvert_exporter": "python",
   "pygments_lexer": "ipython3",
   "version": "3.12.4"
  }
 },
 "nbformat": 4,
 "nbformat_minor": 5
}
