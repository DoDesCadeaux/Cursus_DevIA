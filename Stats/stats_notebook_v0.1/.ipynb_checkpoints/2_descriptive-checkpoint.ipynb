{
 "cells": [
  {
   "cell_type": "markdown",
   "id": "ee180b5d-9e55-4933-af2e-40350b01c79d",
   "metadata": {},
   "source": [
    "# Statistiques descriptives\n"
   ]
  },
  {
   "cell_type": "code",
   "execution_count": 1,
   "id": "a6f31c2d-42c9-44f2-8629-a4160959e10e",
   "metadata": {},
   "outputs": [],
   "source": [
    "import pandas as pd\n",
    "import numpy as np\n",
    "\n",
    "import matplotlib.pyplot as plt\n",
    "import seaborn as sns"
   ]
  },
  {
   "cell_type": "markdown",
   "id": "fdc5b0ff-d8f2-4ca2-8004-78d45b6269a8",
   "metadata": {},
   "source": [
    "1. **Statistique descriptive** : \n",
    "    1. but\n",
    "        - Résume et décrit les données (via des mesures et des graphiques visuels)\n",
    "        - Permet de détecter de potentiel \"outlier\" (valeurs aberrantes)\n",
    "        - Prépare aux \"data cleaning\"\n",
    "        - Prépare aux modèles inférentiels\n",
    "    <br><br>\n",
    "    2. comment chiffrer:\n",
    "        -  \"chiffres\"/\"données\"/\"information\" = statistiques\n",
    "        - mesure de tendance centrale\n",
    "        - mesure de dispersion/variation\n",
    "    <br><br>\n",
    "    4. distributions\n",
    "        - fréquences et effectifs\n",
    "        - graphiques: barplot, histogrammes, nuage de points, etc.\n",
    "        - représentation graphique des statistiques \"tabulaires\"/\"chiffres\"\n",
    "    <br><br>\n",
    "    \n",
    "    1. ***Statistique descriptive univariée*** fournit les outils statistiques pour organiser, présenter et synthétiser l’information issue de l’analyse d’une variable indépendamment des autres\n",
    "        -  nominale\n",
    "            - mode, fréquences\n",
    "            - pie, bar\n",
    "        -  ordinale\n",
    "            - mode, médiane & IQR, fréquences\n",
    "            - pie, bar, boxplot\n",
    "        -  discrète\n",
    "            - mode, médiane & IQR, moyenne et écart-type, fréquences(*)\n",
    "            - histogramme, boxplot, ecdf\n",
    "        -  continue\n",
    "            - médiane & IQR, moyenne et écart-type, fréquence(*)\n",
    "            - histogramme, boxplot, ecdf\n",
    "    <br><br>\n",
    "\n",
    "    2. ***Statistique descriptive bivariée*** a pour objet d’étudier conjointement deux variables X et Y sur une même population\n",
    "        - catégories vs catégories\n",
    "            - fréquences, mode\n",
    "        - catégories vs numérique\n",
    "            - comme numérique, mais ventilation par catégories\n",
    "        - numérique vs numérique\n",
    "            - covariance, corrélation\n",
    "            - nuage de points\n",
    "    <br><br>\n",
    "\n",
    "    3. ***Statistique descriptive multivariée*** vise à étudier plusieurs variables simultanément"
   ]
  },
  {
   "cell_type": "code",
   "execution_count": null,
   "id": "edf3357e-4229-4070-851f-80bddfe03d44",
   "metadata": {},
   "outputs": [],
   "source": []
  },
  {
   "cell_type": "markdown",
   "id": "bc2ceb77-f785-4d38-84ac-46bd04832840",
   "metadata": {},
   "source": [
    "## Tendence centrale\n",
    "- ou ce situe le centre des données ?\n",
    "- quelle est la valeur la plus représentative du dataset?"
   ]
  },
  {
   "cell_type": "code",
   "execution_count": 2,
   "id": "3788a634-b9f4-4bb9-9c67-9136eaf6a035",
   "metadata": {},
   "outputs": [
    {
     "data": {
      "text/html": [
       "<div>\n",
       "<style scoped>\n",
       "    .dataframe tbody tr th:only-of-type {\n",
       "        vertical-align: middle;\n",
       "    }\n",
       "\n",
       "    .dataframe tbody tr th {\n",
       "        vertical-align: top;\n",
       "    }\n",
       "\n",
       "    .dataframe thead th {\n",
       "        text-align: right;\n",
       "    }\n",
       "</style>\n",
       "<table border=\"1\" class=\"dataframe\">\n",
       "  <thead>\n",
       "    <tr style=\"text-align: right;\">\n",
       "      <th></th>\n",
       "      <th>math</th>\n",
       "      <th>eng</th>\n",
       "      <th>gender</th>\n",
       "      <th>class</th>\n",
       "    </tr>\n",
       "  </thead>\n",
       "  <tbody>\n",
       "    <tr>\n",
       "      <th>0</th>\n",
       "      <td>15.8</td>\n",
       "      <td>13.7</td>\n",
       "      <td>M</td>\n",
       "      <td>A</td>\n",
       "    </tr>\n",
       "    <tr>\n",
       "      <th>1</th>\n",
       "      <td>13.6</td>\n",
       "      <td>12.0</td>\n",
       "      <td>M</td>\n",
       "      <td>C</td>\n",
       "    </tr>\n",
       "    <tr>\n",
       "      <th>2</th>\n",
       "      <td>14.2</td>\n",
       "      <td>11.0</td>\n",
       "      <td>M</td>\n",
       "      <td>A</td>\n",
       "    </tr>\n",
       "    <tr>\n",
       "      <th>3</th>\n",
       "      <td>14.8</td>\n",
       "      <td>12.0</td>\n",
       "      <td>M</td>\n",
       "      <td>A</td>\n",
       "    </tr>\n",
       "    <tr>\n",
       "      <th>4</th>\n",
       "      <td>12.2</td>\n",
       "      <td>8.1</td>\n",
       "      <td>M</td>\n",
       "      <td>B</td>\n",
       "    </tr>\n",
       "  </tbody>\n",
       "</table>\n",
       "</div>"
      ],
      "text/plain": [
       "   math   eng gender class\n",
       "0  15.8  13.7      M     A\n",
       "1  13.6  12.0      M     C\n",
       "2  14.2  11.0      M     A\n",
       "3  14.8  12.0      M     A\n",
       "4  12.2   8.1      M     B"
      ]
     },
     "metadata": {},
     "output_type": "display_data"
    },
    {
     "name": "stdout",
     "output_type": "stream",
     "text": [
      "<class 'pandas.core.frame.DataFrame'>\n",
      "RangeIndex: 10000 entries, 0 to 9999\n",
      "Data columns (total 4 columns):\n",
      " #   Column  Non-Null Count  Dtype  \n",
      "---  ------  --------------  -----  \n",
      " 0   math    10000 non-null  float64\n",
      " 1   eng     10000 non-null  float64\n",
      " 2   gender  10000 non-null  object \n",
      " 3   class   10000 non-null  object \n",
      "dtypes: float64(2), object(2)\n",
      "memory usage: 312.6+ KB\n"
     ]
    }
   ],
   "source": [
    "d1 = pd.read_csv(\"demo/d1_scores.csv\")\n",
    "display(d1.head())\n",
    "d1.info()"
   ]
  },
  {
   "cell_type": "markdown",
   "id": "bfebf201-ec3b-4824-8ac3-8b65e2387873",
   "metadata": {},
   "source": [
    "### moyenne (arithmétique)\n",
    "- applicable pour les numériques (discrète et continue)\n",
    "- EN: mean,average\n",
    "\n",
    "$ \\text{mean}(X) = \\bar{x} = \\frac{\\sum_{i=1}^{N} x_i}{N} = \\frac{1}{N} \\left(x_0 + x_1 + ... + x_n\\right)\n",
    "$\n",
    "\n",
    "ce n'est pas une mesure robuste car elle est sensible aux valeurs extrèmes\n",
    "\n",
    "\n",
    "Dans les statistiques infrérentiels on va utiliser le symbole grec \"mu\" $\\mu$ pour désigner la moyenne de la population (la valeur fondamentale/théorique). En lien avec cette valeur, on peut retrouver l'expression suivante:\n",
    "\n",
    "$\\hat{\\mu} = \\bar{x} = \\frac{\\sum_{i=1}^{N} x_i}{N} $  \n",
    "\n",
    "Cela signifie qu'on peut estimer (=une approximation maitrisé de) cette valeur $\\mu$ avec la moyenne $\\bar{x}$."
   ]
  },
  {
   "cell_type": "code",
   "execution_count": 3,
   "id": "c952302a-3f07-494e-b9f8-41f6d0734bc7",
   "metadata": {},
   "outputs": [
    {
     "name": "stdout",
     "output_type": "stream",
     "text": [
      "2.857142857142857\n",
      "15.0\n"
     ]
    }
   ],
   "source": [
    "list = [0,1,1,2,3,5,8]\n",
    "list_extr = list + [100]\n",
    "\n",
    "print(np.mean(list))\n",
    "print(np.mean(list_extr))"
   ]
  },
  {
   "cell_type": "code",
   "execution_count": 4,
   "id": "0de5adcf-d69d-443e-9946-3ed3cbd5afc1",
   "metadata": {},
   "outputs": [
    {
     "data": {
      "text/plain": [
       "11.98138"
      ]
     },
     "metadata": {},
     "output_type": "display_data"
    }
   ],
   "source": [
    "avg_math = d1[\"math\"].mean()\n",
    "display(avg_math)"
   ]
  },
  {
   "cell_type": "code",
   "execution_count": null,
   "id": "5c78ca7d-3001-46cc-a2c7-52a9d474904a",
   "metadata": {},
   "outputs": [],
   "source": []
  },
  {
   "cell_type": "markdown",
   "id": "d5c72842-9c02-4bbc-9a85-58351b61169c",
   "metadata": {},
   "source": [
    "### Mediane\n",
    "- applicable pour les données ordinales et numériques\n",
    "- EN: median, 2nd quartile, 50-percentile\n",
    "\n",
    "on trie les données (d'une manière croissante), et on prend la valeur du milieu de cette liste trié.\n",
    "\n",
    "- si elle est de longeur impaire -> pas d'embiguité sur la valeur du milieu\n",
    "- si la liste est de longeur paire-> la moyenne des 2 valeur du milieu\n",
    "\n",
    "c'est une mesure robuste:\n",
    "- elle n'est pas sensible au valeur extrèmes"
   ]
  },
  {
   "cell_type": "code",
   "execution_count": 5,
   "id": "225fa627-3d83-49ea-961e-2b4a0c89d98d",
   "metadata": {},
   "outputs": [
    {
     "data": {
      "text/plain": [
       "2"
      ]
     },
     "execution_count": 5,
     "metadata": {},
     "output_type": "execute_result"
    }
   ],
   "source": [
    "list_sorted = [0,1,1,2,3,5,8]\n",
    "median = list_sorted[int(len(list_sorted)/2)]\n",
    "median"
   ]
  },
  {
   "cell_type": "code",
   "execution_count": 6,
   "id": "ac5f7694-a5f2-4c95-b899-d0913abc3c3c",
   "metadata": {},
   "outputs": [
    {
     "name": "stdout",
     "output_type": "stream",
     "text": [
      "3\n",
      "4\n"
     ]
    },
    {
     "data": {
      "text/plain": [
       "2.5"
      ]
     },
     "execution_count": 6,
     "metadata": {},
     "output_type": "execute_result"
    }
   ],
   "source": [
    "list_ext_sorted = list_extr.copy()\n",
    "low = int(len(list_ext_sorted)/2)-1\n",
    "high = int(len(list_ext_sorted)/2)\n",
    "median = 0.5*(list_ext_sorted[low]+list_ext_sorted[high])\n",
    "print(low)\n",
    "print(high)\n",
    "median"
   ]
  },
  {
   "cell_type": "code",
   "execution_count": 7,
   "id": "034196fc-7ecc-444e-9242-b6347dab53bb",
   "metadata": {},
   "outputs": [
    {
     "data": {
      "text/plain": [
       "11.8"
      ]
     },
     "execution_count": 7,
     "metadata": {},
     "output_type": "execute_result"
    }
   ],
   "source": [
    "median = d1.math.median()\n",
    "median"
   ]
  },
  {
   "cell_type": "markdown",
   "id": "90eeca9d-3be9-4852-8eeb-6a933ffdd04a",
   "metadata": {},
   "source": [
    "### Mode\n",
    "- applicable pour les catégories (nominales, ordinales) est les discrètes\n",
    "- EN: mode\n",
    "\n",
    "c'est la valeur qui revient le plus souvent"
   ]
  },
  {
   "cell_type": "code",
   "execution_count": 8,
   "id": "b490fbd4-acce-4da3-b67c-1e46b18b995e",
   "metadata": {},
   "outputs": [],
   "source": [
    "list_sorted = [0,1,1,2,3,5,8]\n",
    "mode = 1"
   ]
  },
  {
   "cell_type": "code",
   "execution_count": 9,
   "id": "83994318-0c50-46e9-a844-686771d26eb4",
   "metadata": {},
   "outputs": [
    {
     "data": {
      "text/plain": [
       "0    A\n",
       "Name: class, dtype: object"
      ]
     },
     "execution_count": 9,
     "metadata": {},
     "output_type": "execute_result"
    }
   ],
   "source": [
    "d1[\"class\"].mode()"
   ]
  },
  {
   "cell_type": "markdown",
   "id": "15bf7b7e-17b0-45e4-88b9-624a92203f4c",
   "metadata": {},
   "source": [
    "### moyenne tronquée\n",
    "$\\bar{x}_{tr} = \\frac{\\sum_{i=p}^{N-p} x_i}{N-2p}$\n",
    "\n",
    "on élimine un nombre $p$ de valeurs les plus basses et plus élevées avant de faire la moyenne\n",
    "\n",
    "### moyenne pondérée\n",
    "$\\bar{x} = \\frac{\\sum_{i=1}^{N} w_i \\cdot x_i}{\\sum_{i=1}^{N} w_i}$\n",
    "\n",
    "chaque valeur possible $x_i$ a un poids $w_i$, on tient compte de ce poids dans la moyenne:\n",
    "- à noter que quand tout les poids sont identiques <br>\n",
    "( par  exemple $w_i=1$ ) ,<br> on retrouve la moyenne (arithmétique) "
   ]
  },
  {
   "cell_type": "markdown",
   "id": "b35b2666-0b67-4601-b890-066a4c7d90a3",
   "metadata": {},
   "source": [
    "## Mesures de dispersion\n",
    "- dispersion=variation\n",
    "- quelle est la variation des données ?\n",
    "\n",
    "les mesures de tendances centrales ne sont pas du tout suffisantes pour bien résumer le data en statistiques !"
   ]
  },
  {
   "cell_type": "code",
   "execution_count": 10,
   "id": "58892d43-ece5-4344-a96a-219ec608de5d",
   "metadata": {},
   "outputs": [
    {
     "name": "stdout",
     "output_type": "stream",
     "text": [
      "2.857142857142857\n",
      "2.8\n"
     ]
    }
   ],
   "source": [
    "list_highvar = [-100,2,4,8,100]\n",
    "print(np.mean(list))\n",
    "print(np.mean(list_highvar)) ## moyenne similaire"
   ]
  },
  {
   "cell_type": "markdown",
   "id": "07f222eb-495d-4b44-b3a5-0eeb2dadc90c",
   "metadata": {},
   "source": [
    "### Amplitude\n",
    "- Amplitude ou Etendue\n",
    "- EN: range\n",
    "- applicable quand mediane est applicable\n",
    "\n",
    "c'est la distance entre la valeur maximum et minimum \n",
    "\n",
    "$\\text{range}(X) = \\max(X) - \\min(X)$"
   ]
  },
  {
   "cell_type": "code",
   "execution_count": 11,
   "id": "db10360b-c3db-4886-9b98-13176c781f4c",
   "metadata": {},
   "outputs": [
    {
     "name": "stdout",
     "output_type": "stream",
     "text": [
      "8\n",
      "200\n"
     ]
    }
   ],
   "source": [
    "print(np.max(list) - np.min(list))\n",
    "print(np.max(list_highvar) - np.min(list_highvar))"
   ]
  },
  {
   "cell_type": "markdown",
   "id": "d880bd62-36a3-4139-96cf-aa68c4f3c5d1",
   "metadata": {},
   "source": [
    "### Déviation absolue moyenne\n",
    "- mean absolute deviation\n",
    "- applicable quand la moyenne est applicable\n",
    "\n",
    "cette mesure est moins sensible au valeurs extrèmes\n",
    "\n",
    "$ \\text{mad}(X) = \\frac{\\sum_{i=1}^{N} |x_i-\\bar{x}|}{N}$\n"
   ]
  },
  {
   "cell_type": "code",
   "execution_count": 12,
   "id": "efd5deac-a5d7-46af-9b56-41befeb3858a",
   "metadata": {},
   "outputs": [
    {
     "data": {
      "text/plain": [
       "2.25056072"
      ]
     },
     "execution_count": 12,
     "metadata": {},
     "output_type": "execute_result"
    }
   ],
   "source": [
    "(d1.math - d1.math.mean()).abs().mean()"
   ]
  },
  {
   "cell_type": "code",
   "execution_count": 13,
   "id": "22c5b4f1-1950-4186-a87b-67d42906a078",
   "metadata": {},
   "outputs": [
    {
     "data": {
      "text/plain": [
       "2.1224489795918364"
      ]
     },
     "execution_count": 13,
     "metadata": {},
     "output_type": "execute_result"
    }
   ],
   "source": [
    "m_ = np.mean(list)\n",
    "np.mean([np.abs(x-m_) for x in list])"
   ]
  },
  {
   "cell_type": "code",
   "execution_count": 14,
   "id": "80cd3c34-2596-4168-a318-29b8e344c45e",
   "metadata": {},
   "outputs": [
    {
     "data": {
      "text/plain": [
       "2.1142857142857143"
      ]
     },
     "execution_count": 14,
     "metadata": {},
     "output_type": "execute_result"
    }
   ],
   "source": [
    "m_ = np.mean(list_highvar)\n",
    "np.mean([np.abs(x-m_) for x in list])"
   ]
  },
  {
   "cell_type": "markdown",
   "id": "e086ab17-3dae-4645-81e8-564f302b74c7",
   "metadata": {},
   "source": [
    "### Variance et écart-type\n",
    "- variance and standard deviation\n",
    "- applicable quand la moyenne est applicable\n",
    "\n",
    "cette valeur est tres sensible au valeurs extrèmes\n",
    "\n",
    "$\\text{var}_\\text{population}(X) = \\sigma^2= \\frac{\\sum_{i=1}^{N} (x_i - \\mu)^2}{N}$\n",
    "\n",
    "$\\text{var}_\\text{sample}(X)= s^2 = \\frac{\\sum_{i=1}^{N} (x_i - \\bar{x})^2}{N-1}$\n",
    "\n",
    "\n",
    "\n",
    "[facteur de correction](https://en.wikipedia.org/wiki/Bessel%27s_correction) $N-1$ de Bessel :\n",
    "- à utiliser quand on calcule la variance en utilisant la moyenne observée $\\bar{x}$ d'un echantillon (=une estimation/observé), à la place de la vraie moyenne $\\mu$ (= valeur fondamentale/théorique de la population).\n",
    "\n",
    "Cette correction n'est vraiement importante que quand on a peu de données (<20), donc en pratique (commercial/industriel N>1000) cette nuance n'a pas d'impact significatif.\n",
    "\n",
    "On reviendra sur la différences et les liens probabilités (=inférentiel) et statistiques (=descriptive)\n",
    "\n",
    "Notez que la formule/definition correspond à la ***moyenne des distance*** Euclidienne (au carré) entre:\n",
    "- les données $x_i$\n",
    "- et la moyenne (de population/théorique) $\\mu$ :\n",
    "\n",
    "$\\text{var}_\\text{population}(X) = \\frac{1}{N} ||X - \\mu||^2 =\\frac{1}{N} (X-\\mu)^T \\cdot (X-\\mu) $\n",
    "    $ = \\frac{1}{N}\\begin{bmatrix}\n",
    "    (x_1 - \\mu) & (x_2 - \\mu) & ... & (x_N - \\mu)\n",
    "\\end{bmatrix} \\cdot \\newline\n",
    "\\begin{bmatrix}\n",
    "    (x_1 - \\mu) \\\\ (x_2 - \\mu) \\\\ ... \\\\ (x_N - \\mu)\n",
    "\\end{bmatrix}\n",
    "= \\frac{\\sum_{i=1}^{N} (x_i - \\mu)^2}{N}$"
   ]
  },
  {
   "cell_type": "code",
   "execution_count": 15,
   "id": "09cffa07-342a-471d-a6f3-1ec01ad3cff5",
   "metadata": {},
   "outputs": [
    {
     "name": "stdout",
     "output_type": "stream",
     "text": [
      "6.693877551020407\n",
      "4008.9600000000005\n"
     ]
    }
   ],
   "source": [
    "print(np.var(list))\n",
    "print(np.var(list_highvar))"
   ]
  },
  {
   "cell_type": "code",
   "execution_count": null,
   "id": "6442f921-7a7f-4271-9c13-ee52f1413efc",
   "metadata": {},
   "outputs": [],
   "source": []
  },
  {
   "cell_type": "markdown",
   "id": "b32c919c-8ad1-4784-a102-70b14d2e86c0",
   "metadata": {},
   "source": [
    "Si les données ont comme unité \"metre\" \"$m$\", la variance a des unité \"mètre carré\" \"$m^2$\".\n",
    "Ceci complique l'interprétation des résultat, car peu intuitif. C'est pour cela qu'on préfèrera utiliser les écarts-types (standard deviation).\n",
    "\n",
    "\n",
    "\n",
    "$\\text{std}_\\text{pop}(X) = \\sigma = \\sqrt{\\frac{\\sum_{i=1}^{N} (x_i - \\mu)^2}{N}}$ \n",
    "\n",
    "$\\text{std}_\\text{sample}(X) = s = \\sqrt{\\frac{\\sum_{i=1}^{N} (x_i - \\bar{x})^2}{N-1}}$ (*)\n",
    "\n",
    "(*): une correction de 1.5 au lieu de 1 serait plus [exacte](https://en.wikipedia.org/wiki/Unbiased_estimation_of_standard_deviation), pour avoir une estimation non-biaisé de l'écart-type fondamental/théorique \"$\\sigma$\"\n",
    "\n",
    "Comme pour la variance, en pratique, les nuance entre \"$\\sigma$\" et \"$s$\" sont négligable ($N>1000$). "
   ]
  },
  {
   "cell_type": "code",
   "execution_count": 16,
   "id": "b92df596-9978-491b-95f3-8aec748121a2",
   "metadata": {},
   "outputs": [
    {
     "name": "stdout",
     "output_type": "stream",
     "text": [
      "2.58725289661069\n",
      "63.31634859971002\n"
     ]
    }
   ],
   "source": [
    "print(np.std(list,ddof=0))\n",
    "print(np.std(list_highvar, ddof=0))"
   ]
  },
  {
   "cell_type": "code",
   "execution_count": null,
   "id": "80118878-9c41-42cd-8c64-e755561ae005",
   "metadata": {},
   "outputs": [],
   "source": []
  },
  {
   "cell_type": "markdown",
   "id": "9e88cf4f-df6f-49f2-9911-bdc560fc870e",
   "metadata": {},
   "source": [
    "### Quartiles et écart interquartile\n",
    "- EN: quartiles and interquartile range (IQR)\n",
    "- applicable quand mediane est applicable\n",
    "\n",
    "Q1 = la mediane entre :\n",
    "- le mininum\n",
    "- et la mediane\n",
    "\n",
    "Q2 = la mediane\n",
    "\n",
    "Q3 = la mediane entre:\n",
    "- la mediane\n",
    "- et le maximum\n",
    "\n",
    "Par construction/définition :\n",
    "- on a 25% du nombre des données entre (min,Q1),(Q1,Q2),(Q2,Q3),(Q3,max)\n",
    "\n",
    "- on a 75% des valeurs qui se trouve entre le Q1 et max\n",
    "- on a 50% des valeurs entre Q1 et Q3\n",
    "\n",
    "\n",
    "\n",
    "\n",
    "IQR c'est la distance entre Q3 et Q1\n",
    "\n",
    "on a des définitions similaire avec \n",
    "- decile = tranche de  10%\n",
    "- pourcentile = tranche de 1% "
   ]
  },
  {
   "cell_type": "code",
   "execution_count": 17,
   "id": "3cd09e64-508b-4c50-adfb-e61c65f43450",
   "metadata": {},
   "outputs": [
    {
     "name": "stdout",
     "output_type": "stream",
     "text": [
      "True\n",
      "--------------------------------------------------\n",
      "9.9 11.8 14.0\n"
     ]
    }
   ],
   "source": [
    "Q1 = d1.math.quantile(q=0.25)\n",
    "Q2 = d1.math.quantile(q=0.5)\n",
    "Q3 = d1.math.quantile(q=0.75)\n",
    "\n",
    "print(Q2 == d1.math.median())\n",
    "print(\"-\"*50)\n",
    "print(Q1,Q2,Q3)"
   ]
  },
  {
   "cell_type": "code",
   "execution_count": 18,
   "id": "2ecc9bca-2263-4a74-851e-514cc2da6b80",
   "metadata": {},
   "outputs": [
    {
     "name": "stdout",
     "output_type": "stream",
     "text": [
      "2.1999999999999993\n"
     ]
    }
   ],
   "source": [
    "IQR = Q3-Q2\n",
    "print(IQR)"
   ]
  },
  {
   "cell_type": "markdown",
   "id": "72ae2986-b2f7-43da-b84a-ce2de6bfe7f1",
   "metadata": {},
   "source": [
    "\n",
    "### Pour une distribution normale\n",
    "- =courbe de Gauss, (distribution paramétrique)\n",
    "- EN: normal distribution, Gauss curve\n",
    "\n",
    "**Règle de J.tuckey**: une donnée peut être appelée valeur (potentiellement) aberrante/extrème si elle s'écarte d'une\n",
    "distance d'au moins 1,5xIQR au dessus du Q3 ou en dessous du Q1.\n",
    "\n",
    "**Cela permet de separer/identifier les données \"standards\" des données potentiellement \"aberants\"**, et de faire un analyse générale/global pour l'un et sur mesure pour l'autre. \n",
    "\n",
    "![](repos/boxplot-gauss.png)\n",
    "\n",
    "\n"
   ]
  },
  {
   "cell_type": "markdown",
   "id": "29a45bff-dfc7-4642-a2eb-4b96451439bc",
   "metadata": {},
   "source": [
    "### Covariance\n",
    "- EN: Covariance\n",
    "- applicable quand la moyenne est applicable (sur les deux variables)\n",
    "- c'est une extension de la variance\n",
    "- permet de faire une analyse sur 2 variables (=bivarié)\n",
    "C'est une mesure qui quantifie comment deux variables $X$ et $Y$ varient ensemble quand on parcours toutes les données d'un dataset\n",
    "\n",
    "\n",
    "$\\text{covar}_\\text{pop}(X,Y) = \\frac{\\sum_{i=1}^{N} (x_i - \\mu_x)\\cdot (y_i - \\mu_y)}{N}$\n",
    "\n",
    "$\\text{covar}_\\text{sample}(X,Y) = \\frac{\\sum_{i=1}^{N} (x_i - \\bar{x})\\cdot (y_i - \\bar{y})}{N-1}$"
   ]
  },
  {
   "cell_type": "markdown",
   "id": "52a85cd8-0e59-4bae-abc2-71128f5956eb",
   "metadata": {},
   "source": [
    "### Coëfficient de correlation \n",
    "- EN: correlation coefficient\n",
    "- permet de faire une analyse sur 2 variables (=bivarié)\n",
    "\n",
    "#### [Pearson](https://en.wikipedia.org/wiki/Pearson_correlation_coefficient)\n",
    "- applicable quand la moyenne est applicable aux deux variables $X$ et $Y$\n",
    "- ceci représente la \"force\" d'association (linéaire) entre deux variables:\n",
    "    - exemple : quand je fait variér les valeurs de $X$  d'une valeur basse à haute, est-ce que les valeurs de la variable $Y$ on tendance à changer avec les même direction: également un changement de bas à haut ?\n",
    "        - si $\\rho \\approx 1$: elle vont dans le même sens \n",
    "        - si $\\rho \\approx -1$: dans sens opposé\n",
    "        - si $\\rho \\approx 0$: le changement d'une variable n'impacte pas l'autre\n",
    "\n",
    "$\\rho(X,Y) = \\frac{\\text{covar}(X,Y)}{\\text{std}(X) \\cdot \\text{std}(Y)} $\n",
    "\n",
    "$-1 \\leq \\rho(X,Y) \\leq 1$\n"
   ]
  },
  {
   "cell_type": "code",
   "execution_count": 20,
   "id": "50532e96-9b49-42be-8fc5-87a4d0ab7c94",
   "metadata": {},
   "outputs": [
    {
     "data": {
      "text/html": [
       "<div>\n",
       "<style scoped>\n",
       "    .dataframe tbody tr th:only-of-type {\n",
       "        vertical-align: middle;\n",
       "    }\n",
       "\n",
       "    .dataframe tbody tr th {\n",
       "        vertical-align: top;\n",
       "    }\n",
       "\n",
       "    .dataframe thead th {\n",
       "        text-align: right;\n",
       "    }\n",
       "</style>\n",
       "<table border=\"1\" class=\"dataframe\">\n",
       "  <thead>\n",
       "    <tr style=\"text-align: right;\">\n",
       "      <th></th>\n",
       "      <th>math</th>\n",
       "      <th>eng</th>\n",
       "    </tr>\n",
       "  </thead>\n",
       "  <tbody>\n",
       "    <tr>\n",
       "      <th>math</th>\n",
       "      <td>1.00000</td>\n",
       "      <td>-0.32474</td>\n",
       "    </tr>\n",
       "    <tr>\n",
       "      <th>eng</th>\n",
       "      <td>-0.32474</td>\n",
       "      <td>1.00000</td>\n",
       "    </tr>\n",
       "  </tbody>\n",
       "</table>\n",
       "</div>"
      ],
      "text/plain": [
       "         math      eng\n",
       "math  1.00000 -0.32474\n",
       "eng  -0.32474  1.00000"
      ]
     },
     "execution_count": 20,
     "metadata": {},
     "output_type": "execute_result"
    }
   ],
   "source": [
    "d1[[\"math\",\"eng\"]].corr(method='pearson')"
   ]
  },
  {
   "cell_type": "markdown",
   "id": "573e91d8-dd99-4099-9a2b-c514be841df2",
   "metadata": {},
   "source": [
    "#### [Spearman](https://en.wikipedia.org/wiki/Spearman%27s_rank_correlation_coefficient)\n",
    "- applicable quand la mediane est applicable aux deux variables $X$ et $Y$\n",
    "- ceci représente la \"force\" d'association (de rang/ordre) entre deux variables (*):\n",
    "- exemple avec $\\rho \\approx 1$:\n",
    "    - quand on prends les lignes qui sont dans le top/bottom 10 des $X$, pour ces même lignes on a également le top/bottom 10 des $Y$\n",
    "\n",
    "$-1 \\leq \\rho(X,Y) \\leq 1$\n",
    "\n",
    "(*): plus exactement: si la relation décrit une fonction [monotone](https://en.wikipedia.org/wiki/Monotonic_function)"
   ]
  },
  {
   "cell_type": "code",
   "execution_count": 21,
   "id": "42071101-7b0e-460c-9ab8-b1a2d0d7b8fa",
   "metadata": {},
   "outputs": [
    {
     "data": {
      "text/html": [
       "<div>\n",
       "<style scoped>\n",
       "    .dataframe tbody tr th:only-of-type {\n",
       "        vertical-align: middle;\n",
       "    }\n",
       "\n",
       "    .dataframe tbody tr th {\n",
       "        vertical-align: top;\n",
       "    }\n",
       "\n",
       "    .dataframe thead th {\n",
       "        text-align: right;\n",
       "    }\n",
       "</style>\n",
       "<table border=\"1\" class=\"dataframe\">\n",
       "  <thead>\n",
       "    <tr style=\"text-align: right;\">\n",
       "      <th></th>\n",
       "      <th>math</th>\n",
       "      <th>eng</th>\n",
       "    </tr>\n",
       "  </thead>\n",
       "  <tbody>\n",
       "    <tr>\n",
       "      <th>math</th>\n",
       "      <td>1.000000</td>\n",
       "      <td>-0.385255</td>\n",
       "    </tr>\n",
       "    <tr>\n",
       "      <th>eng</th>\n",
       "      <td>-0.385255</td>\n",
       "      <td>1.000000</td>\n",
       "    </tr>\n",
       "  </tbody>\n",
       "</table>\n",
       "</div>"
      ],
      "text/plain": [
       "          math       eng\n",
       "math  1.000000 -0.385255\n",
       "eng  -0.385255  1.000000"
      ]
     },
     "execution_count": 21,
     "metadata": {},
     "output_type": "execute_result"
    }
   ],
   "source": [
    "d1[[\"math\",\"eng\"]].corr(method='spearman')"
   ]
  },
  {
   "cell_type": "markdown",
   "id": "c8f53055-728c-4d29-b4dc-fed11bdb6f2a",
   "metadata": {},
   "source": [
    "### Effectifs, fréquences et distributions\n",
    "- EN: frequencies, relative frequencies and distributions\n",
    "- l'idée ici c'est avoir un apperçu des valeurs possibles et à quelle point ces valeurs sont répétées\n",
    "    - on ne résume plus avec un ou deux chiffre\n",
    "    - on fait des \"group by\" = tableau de contingence = table pivot = tableau croisé dynamique\n",
    "    - EN: \"group by\", contingency table, pivot table \n",
    "\n",
    "\n",
    "\n",
    "1. Effectif $F$ = nombre d’apparition d’une modalité pour une variable donnée\n",
    "\n",
    "2. Fréquence $f$ = fréquence d’apparition d’une modalité pour une variable donnée $f_i = F_i/N_\\text{tot}$\n",
    "\n",
    "3. Distribution marginale somme des effectifs pour une colonne ou ligne particulière"
   ]
  },
  {
   "cell_type": "code",
   "execution_count": 46,
   "id": "554c59fa-b8bc-43e8-87a0-0b8c7d418bdd",
   "metadata": {},
   "outputs": [
    {
     "data": {
      "text/html": [
       "<div>\n",
       "<style scoped>\n",
       "    .dataframe tbody tr th:only-of-type {\n",
       "        vertical-align: middle;\n",
       "    }\n",
       "\n",
       "    .dataframe tbody tr th {\n",
       "        vertical-align: top;\n",
       "    }\n",
       "\n",
       "    .dataframe thead th {\n",
       "        text-align: right;\n",
       "    }\n",
       "</style>\n",
       "<table border=\"1\" class=\"dataframe\">\n",
       "  <thead>\n",
       "    <tr style=\"text-align: right;\">\n",
       "      <th></th>\n",
       "      <th>class</th>\n",
       "      <th>F</th>\n",
       "    </tr>\n",
       "  </thead>\n",
       "  <tbody>\n",
       "    <tr>\n",
       "      <th>0</th>\n",
       "      <td>A</td>\n",
       "      <td>3345</td>\n",
       "    </tr>\n",
       "    <tr>\n",
       "      <th>1</th>\n",
       "      <td>B</td>\n",
       "      <td>3333</td>\n",
       "    </tr>\n",
       "    <tr>\n",
       "      <th>2</th>\n",
       "      <td>C</td>\n",
       "      <td>3322</td>\n",
       "    </tr>\n",
       "  </tbody>\n",
       "</table>\n",
       "</div>"
      ],
      "text/plain": [
       "  class     F\n",
       "0     A  3345\n",
       "1     B  3333\n",
       "2     C  3322"
      ]
     },
     "metadata": {},
     "output_type": "display_data"
    }
   ],
   "source": [
    "contingency = d1[[\"class\"]].groupby(by=[\"class\"],as_index=False).agg(F=(\"class\",\"count\"))\n",
    "\n",
    "display(contingency)"
   ]
  },
  {
   "cell_type": "code",
   "execution_count": 47,
   "id": "04f83c44-68b4-4857-93e7-f80adbe47879",
   "metadata": {},
   "outputs": [
    {
     "name": "stdout",
     "output_type": "stream",
     "text": [
      "1.0\n"
     ]
    },
    {
     "data": {
      "text/html": [
       "<div>\n",
       "<style scoped>\n",
       "    .dataframe tbody tr th:only-of-type {\n",
       "        vertical-align: middle;\n",
       "    }\n",
       "\n",
       "    .dataframe tbody tr th {\n",
       "        vertical-align: top;\n",
       "    }\n",
       "\n",
       "    .dataframe thead th {\n",
       "        text-align: right;\n",
       "    }\n",
       "</style>\n",
       "<table border=\"1\" class=\"dataframe\">\n",
       "  <thead>\n",
       "    <tr style=\"text-align: right;\">\n",
       "      <th></th>\n",
       "      <th>class</th>\n",
       "      <th>F</th>\n",
       "      <th>f</th>\n",
       "    </tr>\n",
       "  </thead>\n",
       "  <tbody>\n",
       "    <tr>\n",
       "      <th>0</th>\n",
       "      <td>A</td>\n",
       "      <td>3345</td>\n",
       "      <td>0.3345</td>\n",
       "    </tr>\n",
       "    <tr>\n",
       "      <th>1</th>\n",
       "      <td>B</td>\n",
       "      <td>3333</td>\n",
       "      <td>0.3333</td>\n",
       "    </tr>\n",
       "    <tr>\n",
       "      <th>2</th>\n",
       "      <td>C</td>\n",
       "      <td>3322</td>\n",
       "      <td>0.3322</td>\n",
       "    </tr>\n",
       "  </tbody>\n",
       "</table>\n",
       "</div>"
      ],
      "text/plain": [
       "  class     F       f\n",
       "0     A  3345  0.3345\n",
       "1     B  3333  0.3333\n",
       "2     C  3322  0.3322"
      ]
     },
     "metadata": {},
     "output_type": "display_data"
    }
   ],
   "source": [
    "contingency[\"f\"] = contingency[\"F\"]/contingency[\"F\"].sum()\n",
    "\n",
    "print(contingency[\"f\"].sum())\n",
    "display(contingency)"
   ]
  },
  {
   "cell_type": "code",
   "execution_count": 56,
   "id": "c3c06725-3fc9-4908-8238-79718fbf3ae1",
   "metadata": {},
   "outputs": [
    {
     "data": {
      "text/html": [
       "<div>\n",
       "<style scoped>\n",
       "    .dataframe tbody tr th:only-of-type {\n",
       "        vertical-align: middle;\n",
       "    }\n",
       "\n",
       "    .dataframe tbody tr th {\n",
       "        vertical-align: top;\n",
       "    }\n",
       "\n",
       "    .dataframe thead th {\n",
       "        text-align: right;\n",
       "    }\n",
       "</style>\n",
       "<table border=\"1\" class=\"dataframe\">\n",
       "  <thead>\n",
       "    <tr style=\"text-align: right;\">\n",
       "      <th></th>\n",
       "      <th>id</th>\n",
       "      <th>f</th>\n",
       "    </tr>\n",
       "    <tr>\n",
       "      <th>class</th>\n",
       "      <th></th>\n",
       "      <th></th>\n",
       "    </tr>\n",
       "  </thead>\n",
       "  <tbody>\n",
       "    <tr>\n",
       "      <th>A</th>\n",
       "      <td>3345</td>\n",
       "      <td>0.3345</td>\n",
       "    </tr>\n",
       "    <tr>\n",
       "      <th>B</th>\n",
       "      <td>3333</td>\n",
       "      <td>0.3333</td>\n",
       "    </tr>\n",
       "    <tr>\n",
       "      <th>C</th>\n",
       "      <td>3322</td>\n",
       "      <td>0.3322</td>\n",
       "    </tr>\n",
       "    <tr>\n",
       "      <th>All</th>\n",
       "      <td>10000</td>\n",
       "      <td>1.0000</td>\n",
       "    </tr>\n",
       "  </tbody>\n",
       "</table>\n",
       "</div>"
      ],
      "text/plain": [
       "          id       f\n",
       "class               \n",
       "A       3345  0.3345\n",
       "B       3333  0.3333\n",
       "C       3322  0.3322\n",
       "All    10000  1.0000"
      ]
     },
     "metadata": {},
     "output_type": "display_data"
    }
   ],
   "source": [
    "d1[\"id\"] = d1.index\n",
    "pivot = d1.pivot_table(index=\"class\",values='id',aggfunc='count',margins=True,)\n",
    "pivot[\"f\"] = pivot[\"id\"]/pivot.at[\"All\",\"id\"]\n",
    "display(pivot)"
   ]
  },
  {
   "cell_type": "code",
   "execution_count": null,
   "id": "309c4f4d-1498-4f36-88ee-97f2b481a392",
   "metadata": {},
   "outputs": [],
   "source": []
  }
 ],
 "metadata": {
  "kernelspec": {
   "display_name": "Python 3 (ipykernel)",
   "language": "python",
   "name": "python3"
  },
  "language_info": {
   "codemirror_mode": {
    "name": "ipython",
    "version": 3
   },
   "file_extension": ".py",
   "mimetype": "text/x-python",
   "name": "python",
   "nbconvert_exporter": "python",
   "pygments_lexer": "ipython3",
   "version": "3.11.9"
  }
 },
 "nbformat": 4,
 "nbformat_minor": 5
}
