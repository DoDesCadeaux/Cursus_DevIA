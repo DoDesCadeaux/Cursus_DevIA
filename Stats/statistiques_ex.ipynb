{
 "cells": [
  {
   "cell_type": "markdown",
   "id": "9bbe524e-3f36-4e02-b7e2-5060af7c3df3",
   "metadata": {},
   "source": [
    "## Exercice 1: Les notes"
   ]
  },
  {
   "cell_type": "code",
   "execution_count": 1,
   "id": "e3b72635-f852-4bc8-858c-795a33ede6da",
   "metadata": {},
   "outputs": [],
   "source": [
    "import pandas as pd\n",
    "import numpy as np\n",
    "import math"
   ]
  },
  {
   "cell_type": "code",
   "execution_count": 2,
   "id": "f61113b6-f64a-407e-bdcd-abe6d4f2a217",
   "metadata": {},
   "outputs": [
    {
     "data": {
      "text/html": [
       "<div>\n",
       "<style scoped>\n",
       "    .dataframe tbody tr th:only-of-type {\n",
       "        vertical-align: middle;\n",
       "    }\n",
       "\n",
       "    .dataframe tbody tr th {\n",
       "        vertical-align: top;\n",
       "    }\n",
       "\n",
       "    .dataframe thead th {\n",
       "        text-align: right;\n",
       "    }\n",
       "</style>\n",
       "<table border=\"1\" class=\"dataframe\">\n",
       "  <thead>\n",
       "    <tr style=\"text-align: right;\">\n",
       "      <th></th>\n",
       "      <th>Observation</th>\n",
       "      <th>Note</th>\n",
       "    </tr>\n",
       "  </thead>\n",
       "  <tbody>\n",
       "    <tr>\n",
       "      <th>0</th>\n",
       "      <td>1</td>\n",
       "      <td>10</td>\n",
       "    </tr>\n",
       "    <tr>\n",
       "      <th>1</th>\n",
       "      <td>2</td>\n",
       "      <td>7</td>\n",
       "    </tr>\n",
       "    <tr>\n",
       "      <th>2</th>\n",
       "      <td>3</td>\n",
       "      <td>0</td>\n",
       "    </tr>\n",
       "    <tr>\n",
       "      <th>3</th>\n",
       "      <td>4</td>\n",
       "      <td>5</td>\n",
       "    </tr>\n",
       "    <tr>\n",
       "      <th>4</th>\n",
       "      <td>5</td>\n",
       "      <td>2</td>\n",
       "    </tr>\n",
       "    <tr>\n",
       "      <th>5</th>\n",
       "      <td>6</td>\n",
       "      <td>7</td>\n",
       "    </tr>\n",
       "    <tr>\n",
       "      <th>6</th>\n",
       "      <td>7</td>\n",
       "      <td>9</td>\n",
       "    </tr>\n",
       "    <tr>\n",
       "      <th>7</th>\n",
       "      <td>8</td>\n",
       "      <td>7</td>\n",
       "    </tr>\n",
       "    <tr>\n",
       "      <th>8</th>\n",
       "      <td>9</td>\n",
       "      <td>0</td>\n",
       "    </tr>\n",
       "    <tr>\n",
       "      <th>9</th>\n",
       "      <td>10</td>\n",
       "      <td>8</td>\n",
       "    </tr>\n",
       "    <tr>\n",
       "      <th>10</th>\n",
       "      <td>11</td>\n",
       "      <td>3</td>\n",
       "    </tr>\n",
       "    <tr>\n",
       "      <th>11</th>\n",
       "      <td>12</td>\n",
       "      <td>2</td>\n",
       "    </tr>\n",
       "    <tr>\n",
       "      <th>12</th>\n",
       "      <td>13</td>\n",
       "      <td>8</td>\n",
       "    </tr>\n",
       "    <tr>\n",
       "      <th>13</th>\n",
       "      <td>14</td>\n",
       "      <td>2</td>\n",
       "    </tr>\n",
       "    <tr>\n",
       "      <th>14</th>\n",
       "      <td>15</td>\n",
       "      <td>10</td>\n",
       "    </tr>\n",
       "    <tr>\n",
       "      <th>15</th>\n",
       "      <td>16</td>\n",
       "      <td>2</td>\n",
       "    </tr>\n",
       "    <tr>\n",
       "      <th>16</th>\n",
       "      <td>17</td>\n",
       "      <td>3</td>\n",
       "    </tr>\n",
       "    <tr>\n",
       "      <th>17</th>\n",
       "      <td>18</td>\n",
       "      <td>7</td>\n",
       "    </tr>\n",
       "    <tr>\n",
       "      <th>18</th>\n",
       "      <td>19</td>\n",
       "      <td>5</td>\n",
       "    </tr>\n",
       "    <tr>\n",
       "      <th>19</th>\n",
       "      <td>20</td>\n",
       "      <td>6</td>\n",
       "    </tr>\n",
       "  </tbody>\n",
       "</table>\n",
       "</div>"
      ],
      "text/plain": [
       "    Observation  Note\n",
       "0             1    10\n",
       "1             2     7\n",
       "2             3     0\n",
       "3             4     5\n",
       "4             5     2\n",
       "5             6     7\n",
       "6             7     9\n",
       "7             8     7\n",
       "8             9     0\n",
       "9            10     8\n",
       "10           11     3\n",
       "11           12     2\n",
       "12           13     8\n",
       "13           14     2\n",
       "14           15    10\n",
       "15           16     2\n",
       "16           17     3\n",
       "17           18     7\n",
       "18           19     5\n",
       "19           20     6"
      ]
     },
     "execution_count": 2,
     "metadata": {},
     "output_type": "execute_result"
    }
   ],
   "source": [
    "data = pd.read_excel(\"Datasets/Notes (ex.1).xlsx\")\n",
    "data"
   ]
  },
  {
   "cell_type": "code",
   "execution_count": 3,
   "id": "3eacd519-cbfa-472a-ae89-1b69cb8e6905",
   "metadata": {},
   "outputs": [
    {
     "data": {
      "text/plain": [
       "5.15"
      ]
     },
     "metadata": {},
     "output_type": "display_data"
    },
    {
     "data": {
      "text/plain": [
       "np.float64(5.15)"
      ]
     },
     "metadata": {},
     "output_type": "display_data"
    }
   ],
   "source": [
    "def mean(notes):\n",
    "    return sum(notes) / len(notes)\n",
    "\n",
    "display(mean(data['Note']))\n",
    "display(np.mean(data['Note']))"
   ]
  },
  {
   "cell_type": "code",
   "execution_count": 4,
   "id": "38853dfc-8cff-4c83-ad6c-1438a92bae84",
   "metadata": {},
   "outputs": [
    {
     "data": {
      "text/plain": [
       "9.727499999999996"
      ]
     },
     "metadata": {},
     "output_type": "display_data"
    },
    {
     "data": {
      "text/plain": [
       "np.float64(9.7275)"
      ]
     },
     "metadata": {},
     "output_type": "display_data"
    }
   ],
   "source": [
    "def variance(notes):\n",
    "    squares = []\n",
    "    for i in notes:\n",
    "        squares.append(i ** 2)\n",
    "    \n",
    "    return ((sum(squares) / len(notes)) - mean(notes) ** 2)\n",
    "\n",
    "display(variance(data['Note']))\n",
    "display(np.var(data['Note']))"
   ]
  },
  {
   "cell_type": "code",
   "execution_count": 5,
   "id": "83fa5781-f52f-417c-b037-0180adc96ad0",
   "metadata": {},
   "outputs": [
    {
     "data": {
      "text/plain": [
       "3.118894034750139"
      ]
     },
     "metadata": {},
     "output_type": "display_data"
    },
    {
     "data": {
      "text/plain": [
       "np.float64(3.118894034750139)"
      ]
     },
     "metadata": {},
     "output_type": "display_data"
    }
   ],
   "source": [
    "def standard_deviation(notes):\n",
    "    deviation = []\n",
    "    for i in notes:\n",
    "        deviation.append((i - mean(notes)) ** 2)\n",
    "    return math.sqrt( (sum(deviation)) / len(notes))\n",
    "\n",
    "display(standard_deviation(data['Note']))\n",
    "display(np.std(data['Note']))"
   ]
  },
  {
   "cell_type": "code",
   "execution_count": 6,
   "id": "f6120193-2821-441e-8ac8-a4ac5ba80209",
   "metadata": {},
   "outputs": [
    {
     "data": {
      "text/plain": [
       "0.6056104921844929"
      ]
     },
     "metadata": {},
     "output_type": "display_data"
    }
   ],
   "source": [
    "def coef_variation(notes):\n",
    "    return standard_deviation(notes) / mean(notes)\n",
    "\n",
    "display(coef_variation(data['Note']))"
   ]
  },
  {
   "cell_type": "code",
   "execution_count": 7,
   "id": "e51d8a81-af28-415c-8b74-159fc493bc33",
   "metadata": {},
   "outputs": [
    {
     "data": {
      "text/plain": [
       "np.float64(5.5)"
      ]
     },
     "metadata": {},
     "output_type": "display_data"
    },
    {
     "data": {
      "text/plain": [
       "np.float64(5.5)"
      ]
     },
     "metadata": {},
     "output_type": "display_data"
    }
   ],
   "source": [
    "def median(notes):\n",
    "    notes.sort_values()\n",
    "    if len(notes) % 2 == 1:\n",
    "        return notes[len(notes) // 2]\n",
    "    else:\n",
    "        n1 = notes[len(notes) // 2 - 1]\n",
    "        n2 = notes[len(notes) // 2]\n",
    "        return (n1 + n2) / 2\n",
    "\n",
    "display(median(data['Note']))\n",
    "display(np.median(data['Note']))"
   ]
  },
  {
   "cell_type": "code",
   "execution_count": 8,
   "id": "d4ce4f51-b14b-40ee-8087-07ebec165bb4",
   "metadata": {},
   "outputs": [
    {
     "data": {
      "text/plain": [
       "[7, 2]"
      ]
     },
     "metadata": {},
     "output_type": "display_data"
    }
   ],
   "source": [
    "def mode(notes):\n",
    "    frequencies = {}\n",
    "    for i in notes:\n",
    "        if i in frequencies:\n",
    "            frequencies[i] += 1\n",
    "        else:\n",
    "            frequencies[i] = 1\n",
    "    max_count = max(frequencies.values())\n",
    "    modes = [key for key, value in frequencies.items() if value == max_count]\n",
    "\n",
    "    return modes\n",
    "    \n",
    "display(mode(data['Note']))"
   ]
  },
  {
   "cell_type": "markdown",
   "id": "dd11e3a3-3eab-463b-8c30-a6d610badd3c",
   "metadata": {},
   "source": [
    "## Exercice 2: Les notes\n",
    "### Definition d'effectif en statistique :\n",
    "    Un effectif est un nombre d'apparation d'une modalite pour une variable donnee"
   ]
  },
  {
   "cell_type": "code",
   "execution_count": 9,
   "id": "171f347c-d33e-4ad8-849d-17fd01407af3",
   "metadata": {},
   "outputs": [
    {
     "data": {
      "text/html": [
       "<div>\n",
       "<style scoped>\n",
       "    .dataframe tbody tr th:only-of-type {\n",
       "        vertical-align: middle;\n",
       "    }\n",
       "\n",
       "    .dataframe tbody tr th {\n",
       "        vertical-align: top;\n",
       "    }\n",
       "\n",
       "    .dataframe thead th {\n",
       "        text-align: right;\n",
       "    }\n",
       "</style>\n",
       "<table border=\"1\" class=\"dataframe\">\n",
       "  <thead>\n",
       "    <tr style=\"text-align: right;\">\n",
       "      <th></th>\n",
       "      <th>Note</th>\n",
       "      <th>Effectifs</th>\n",
       "    </tr>\n",
       "  </thead>\n",
       "  <tbody>\n",
       "    <tr>\n",
       "      <th>0</th>\n",
       "      <td>1</td>\n",
       "      <td>3</td>\n",
       "    </tr>\n",
       "    <tr>\n",
       "      <th>1</th>\n",
       "      <td>2</td>\n",
       "      <td>7</td>\n",
       "    </tr>\n",
       "    <tr>\n",
       "      <th>2</th>\n",
       "      <td>3</td>\n",
       "      <td>7</td>\n",
       "    </tr>\n",
       "    <tr>\n",
       "      <th>3</th>\n",
       "      <td>4</td>\n",
       "      <td>12</td>\n",
       "    </tr>\n",
       "    <tr>\n",
       "      <th>4</th>\n",
       "      <td>5</td>\n",
       "      <td>9</td>\n",
       "    </tr>\n",
       "    <tr>\n",
       "      <th>5</th>\n",
       "      <td>6</td>\n",
       "      <td>11</td>\n",
       "    </tr>\n",
       "    <tr>\n",
       "      <th>6</th>\n",
       "      <td>7</td>\n",
       "      <td>12</td>\n",
       "    </tr>\n",
       "    <tr>\n",
       "      <th>7</th>\n",
       "      <td>8</td>\n",
       "      <td>14</td>\n",
       "    </tr>\n",
       "    <tr>\n",
       "      <th>8</th>\n",
       "      <td>9</td>\n",
       "      <td>20</td>\n",
       "    </tr>\n",
       "    <tr>\n",
       "      <th>9</th>\n",
       "      <td>10</td>\n",
       "      <td>5</td>\n",
       "    </tr>\n",
       "  </tbody>\n",
       "</table>\n",
       "</div>"
      ],
      "text/plain": [
       "   Note  Effectifs\n",
       "0     1          3\n",
       "1     2          7\n",
       "2     3          7\n",
       "3     4         12\n",
       "4     5          9\n",
       "5     6         11\n",
       "6     7         12\n",
       "7     8         14\n",
       "8     9         20\n",
       "9    10          5"
      ]
     },
     "execution_count": 9,
     "metadata": {},
     "output_type": "execute_result"
    }
   ],
   "source": [
    "data = pd.read_excel(\"Datasets/Notes (ex.2).xlsx\")\n",
    "data"
   ]
  },
  {
   "cell_type": "code",
   "execution_count": 10,
   "id": "6643b166-ee43-4bcb-8c12-68b0d11b49a1",
   "metadata": {},
   "outputs": [
    {
     "data": {
      "text/plain": [
       "6.23"
      ]
     },
     "metadata": {},
     "output_type": "display_data"
    }
   ],
   "source": [
    "def weighted_mean(notes, effectifs):\n",
    "    return (sum(notes * effectifs) / sum(effectifs))\n",
    "\n",
    "display(weighted_mean(data['Note'], data['Effectifs']))"
   ]
  },
  {
   "cell_type": "code",
   "execution_count": 11,
   "id": "6e0644dd-b89b-4bf6-9e66-3fa471cbc9ad",
   "metadata": {},
   "outputs": [
    {
     "data": {
      "text/plain": [
       "6.2971"
      ]
     },
     "metadata": {},
     "output_type": "display_data"
    }
   ],
   "source": [
    "def weighted_variance(notes, effectifs):\n",
    "    return sum(effectifs * (notes - weighted_mean(notes, effectifs)) ** 2) / sum(effectifs)\n",
    "\n",
    "display(weighted_variance(data['Note'], data['Effectifs']))"
   ]
  },
  {
   "cell_type": "code",
   "execution_count": 12,
   "id": "3bda179d-879e-458d-b8a8-8891b92edcd5",
   "metadata": {},
   "outputs": [
    {
     "data": {
      "text/plain": [
       "2.509402319278437"
      ]
     },
     "metadata": {},
     "output_type": "display_data"
    }
   ],
   "source": [
    "def weighted_standard_dev(notes, effectifs):\n",
    "    return math.sqrt((sum(effectifs * (notes - weighted_mean(notes, effectifs)) ** 2)) / sum(effectifs))\n",
    "\n",
    "display(weighted_standard_dev(data['Note'], data['Effectifs']))"
   ]
  },
  {
   "cell_type": "code",
   "execution_count": 13,
   "id": "c4d2543c-cd44-4805-81fe-238b0eba86e2",
   "metadata": {},
   "outputs": [
    {
     "data": {
      "text/plain": [
       "0.4027933096755116"
      ]
     },
     "metadata": {},
     "output_type": "display_data"
    }
   ],
   "source": [
    "def weighted_coef_variation(notes, effectifs):\n",
    "    return weighted_standard_dev(notes, effectifs) / weighted_mean(notes, effectifs)\n",
    "\n",
    "display(weighted_coef_variation(data['Note'], data['Effectifs']))"
   ]
  },
  {
   "cell_type": "code",
   "execution_count": 14,
   "id": "7a67e3f7-4810-4231-b399-1433865ab91b",
   "metadata": {},
   "outputs": [
    {
     "data": {
      "text/plain": [
       "10.5"
      ]
     },
     "execution_count": 14,
     "metadata": {},
     "output_type": "execute_result"
    }
   ],
   "source": [
    "def weighted_median(notes, effectifs):\n",
    "    extended_list = []\n",
    "    for note, effectif in zip(notes, effectifs):\n",
    "        extended_list.extend([note] * effectif)\n",
    "\n",
    "    extended_list.sort()\n",
    "\n",
    "    if len(extended_list) % 2 == 1:\n",
    "        return extended_list[len(extended_list) // 2]\n",
    "\n",
    "    else:\n",
    "        m1 = extended_list[len(extended_list) // 2 - 1]\n",
    "        m2 = extended_list[len(extended_list) // 2]\n",
    "        median = m1 + m2 / 2\n",
    "        return median\n",
    "\n",
    "    \n",
    "    print(extended_list)\n",
    "\n",
    "weighted_median(data['Note'], data['Effectifs'])"
   ]
  },
  {
   "cell_type": "code",
   "execution_count": 15,
   "id": "e8c0d8b6-1d3b-4dc9-942a-5ce09ca238f0",
   "metadata": {},
   "outputs": [
    {
     "data": {
      "text/plain": [
       "[9]"
      ]
     },
     "execution_count": 15,
     "metadata": {},
     "output_type": "execute_result"
    }
   ],
   "source": [
    "def weighted_mode(notes, effectifs):\n",
    "    repetitions = {}\n",
    "\n",
    "    for note, effectif in zip(notes, effectifs):\n",
    "        repetitions[note] = effectif\n",
    "\n",
    "    max_values = [key for key, value in repetitions.items() if value == max(repetitions.values())]\n",
    "    return max_values\n",
    "\n",
    "weighted_mode(data['Note'], data['Effectifs'])"
   ]
  },
  {
   "cell_type": "markdown",
   "id": "84350d04-32be-4fc7-8088-b6c71db5284d",
   "metadata": {},
   "source": [
    "## Exercice 3\n",
    "### Frequence (f) est la frequence d'apparition d'une modalite pour une variable donnee\n",
    "### (fi = Fi / N)\n",
    "\n",
    "- n = 100\n",
    "- F = Effectif"
   ]
  },
  {
   "cell_type": "code",
   "execution_count": 16,
   "id": "0c8b849d-c2f4-4443-bd65-9fd2c03d67a9",
   "metadata": {},
   "outputs": [
    {
     "data": {
      "text/plain": [
       "6.53"
      ]
     },
     "metadata": {},
     "output_type": "display_data"
    },
    {
     "data": {
      "text/plain": [
       "5.0291"
      ]
     },
     "metadata": {},
     "output_type": "display_data"
    },
    {
     "data": {
      "text/plain": [
       "2.2425654951416694"
      ]
     },
     "metadata": {},
     "output_type": "display_data"
    },
    {
     "data": {
      "text/plain": [
       "0.3434250375408376"
      ]
     },
     "metadata": {},
     "output_type": "display_data"
    },
    {
     "data": {
      "text/plain": [
       "10.5"
      ]
     },
     "metadata": {},
     "output_type": "display_data"
    },
    {
     "data": {
      "text/plain": [
       "[8]"
      ]
     },
     "metadata": {},
     "output_type": "display_data"
    }
   ],
   "source": [
    "data = pd.read_excel(\"Datasets/Notes (ex.3).xlsx\")\n",
    "\n",
    "effectifs = data['Fréquence'] * 100\n",
    "int_effectifs = effectifs.astype(int)\n",
    "\n",
    "display(weighted_mean(data['Note'], int_effectifs))\n",
    "display(weighted_variance(data['Note'], int_effectifs))\n",
    "display(weighted_standard_dev(data['Note'], int_effectifs))\n",
    "display(weighted_coef_variation(data['Note'], int_effectifs))\n",
    "display(weighted_median(data['Note'], int_effectifs))\n",
    "display(weighted_mode(data['Note'], int_effectifs))"
   ]
  },
  {
   "cell_type": "markdown",
   "id": "4ad8113e-4614-469a-8c23-b30255846450",
   "metadata": {},
   "source": [
    "## Exercice 4 "
   ]
  },
  {
   "cell_type": "code",
   "execution_count": 67,
   "id": "8778acb1-3bac-4406-8743-aebcbdb89975",
   "metadata": {},
   "outputs": [
    {
     "data": {
      "text/html": [
       "<div>\n",
       "<style scoped>\n",
       "    .dataframe tbody tr th:only-of-type {\n",
       "        vertical-align: middle;\n",
       "    }\n",
       "\n",
       "    .dataframe tbody tr th {\n",
       "        vertical-align: top;\n",
       "    }\n",
       "\n",
       "    .dataframe thead th {\n",
       "        text-align: right;\n",
       "    }\n",
       "</style>\n",
       "<table border=\"1\" class=\"dataframe\">\n",
       "  <thead>\n",
       "    <tr style=\"text-align: right;\">\n",
       "      <th></th>\n",
       "      <th>Unnamed: 0</th>\n",
       "      <th>Oui</th>\n",
       "      <th>Non</th>\n",
       "    </tr>\n",
       "  </thead>\n",
       "  <tbody>\n",
       "    <tr>\n",
       "      <th>0</th>\n",
       "      <td>Homme</td>\n",
       "      <td>175</td>\n",
       "      <td>114</td>\n",
       "    </tr>\n",
       "    <tr>\n",
       "      <th>1</th>\n",
       "      <td>Femme</td>\n",
       "      <td>461</td>\n",
       "      <td>198</td>\n",
       "    </tr>\n",
       "    <tr>\n",
       "      <th>Margin</th>\n",
       "      <td>Total</td>\n",
       "      <td>636</td>\n",
       "      <td>312</td>\n",
       "    </tr>\n",
       "  </tbody>\n",
       "</table>\n",
       "</div>"
      ],
      "text/plain": [
       "       Unnamed: 0  Oui  Non\n",
       "0           Homme  175  114\n",
       "1           Femme  461  198\n",
       "Margin      Total  636  312"
      ]
     },
     "execution_count": 67,
     "metadata": {},
     "output_type": "execute_result"
    }
   ],
   "source": [
    "data = pd.read_excel(\"Datasets/HF - Internet.xlsx\")\n",
    "data\n",
    "\n",
    "margin = data.copy()\n",
    "margin.loc['Margin'] = [\"Total\", sum(data['Oui']), sum(data['Non'])]\n",
    "margin"
   ]
  },
  {
   "cell_type": "markdown",
   "id": "c2e044c6-2847-4ef6-9c26-a6a97515881a",
   "metadata": {},
   "source": [
    "### Type de variables : Quantitative Nominales"
   ]
  },
  {
   "cell_type": "code",
   "execution_count": 68,
   "id": "21ad4eea-434a-4d95-b529-f966850895e0",
   "metadata": {},
   "outputs": [
    {
     "data": {
      "text/html": [
       "<div>\n",
       "<style scoped>\n",
       "    .dataframe tbody tr th:only-of-type {\n",
       "        vertical-align: middle;\n",
       "    }\n",
       "\n",
       "    .dataframe tbody tr th {\n",
       "        vertical-align: top;\n",
       "    }\n",
       "\n",
       "    .dataframe thead th {\n",
       "        text-align: right;\n",
       "    }\n",
       "</style>\n",
       "<table border=\"1\" class=\"dataframe\">\n",
       "  <thead>\n",
       "    <tr style=\"text-align: right;\">\n",
       "      <th></th>\n",
       "      <th>Unnamed: 0</th>\n",
       "      <th>Oui</th>\n",
       "      <th>Non</th>\n",
       "      <th>Margin</th>\n",
       "    </tr>\n",
       "  </thead>\n",
       "  <tbody>\n",
       "    <tr>\n",
       "      <th>0</th>\n",
       "      <td>Homme</td>\n",
       "      <td>175</td>\n",
       "      <td>114</td>\n",
       "      <td>289.0</td>\n",
       "    </tr>\n",
       "    <tr>\n",
       "      <th>1</th>\n",
       "      <td>Femme</td>\n",
       "      <td>461</td>\n",
       "      <td>198</td>\n",
       "      <td>659.0</td>\n",
       "    </tr>\n",
       "    <tr>\n",
       "      <th>Margin</th>\n",
       "      <td>Total</td>\n",
       "      <td>636</td>\n",
       "      <td>312</td>\n",
       "      <td>948.0</td>\n",
       "    </tr>\n",
       "  </tbody>\n",
       "</table>\n",
       "</div>"
      ],
      "text/plain": [
       "       Unnamed: 0  Oui  Non  Margin\n",
       "0           Homme  175  114   289.0\n",
       "1           Femme  461  198   659.0\n",
       "Margin      Total  636  312   948.0"
      ]
     },
     "execution_count": 68,
     "metadata": {},
     "output_type": "execute_result"
    }
   ],
   "source": [
    "margin.loc[0::, 'Margin'] = margin.loc[0::, ['Oui', 'Non']].sum(axis=1)\n",
    "margin"
   ]
  },
  {
   "cell_type": "markdown",
   "id": "31913e30-56a8-43ad-b5e0-a578b84049d8",
   "metadata": {},
   "source": [
    "## Exercice 5"
   ]
  },
  {
   "cell_type": "code",
   "execution_count": 61,
   "id": "8e5d367c-2436-4cde-8947-285d1e7cf267",
   "metadata": {},
   "outputs": [
    {
     "data": {
      "text/html": [
       "<div>\n",
       "<style scoped>\n",
       "    .dataframe tbody tr th:only-of-type {\n",
       "        vertical-align: middle;\n",
       "    }\n",
       "\n",
       "    .dataframe tbody tr th {\n",
       "        vertical-align: top;\n",
       "    }\n",
       "\n",
       "    .dataframe thead th {\n",
       "        text-align: right;\n",
       "    }\n",
       "</style>\n",
       "<table border=\"1\" class=\"dataframe\">\n",
       "  <thead>\n",
       "    <tr style=\"text-align: right;\">\n",
       "      <th></th>\n",
       "      <th>Unnamed: 0</th>\n",
       "      <th>Guéri</th>\n",
       "      <th>Non-Guéri</th>\n",
       "    </tr>\n",
       "  </thead>\n",
       "  <tbody>\n",
       "    <tr>\n",
       "      <th>0</th>\n",
       "      <td>TrA</td>\n",
       "      <td>139</td>\n",
       "      <td>34</td>\n",
       "    </tr>\n",
       "    <tr>\n",
       "      <th>1</th>\n",
       "      <td>TrB</td>\n",
       "      <td>98</td>\n",
       "      <td>10</td>\n",
       "    </tr>\n",
       "  </tbody>\n",
       "</table>\n",
       "</div>"
      ],
      "text/plain": [
       "  Unnamed: 0  Guéri  Non-Guéri\n",
       "0        TrA    139         34\n",
       "1        TrB     98         10"
      ]
     },
     "execution_count": 61,
     "metadata": {},
     "output_type": "execute_result"
    }
   ],
   "source": [
    "data = pd.read_excel(\"Datasets/Traitements.xlsx\")\n",
    "data"
   ]
  },
  {
   "cell_type": "code",
   "execution_count": 62,
   "id": "e1831fc8-6edd-4d84-92f1-2c74c97aec29",
   "metadata": {},
   "outputs": [
    {
     "data": {
      "text/html": [
       "<div>\n",
       "<style scoped>\n",
       "    .dataframe tbody tr th:only-of-type {\n",
       "        vertical-align: middle;\n",
       "    }\n",
       "\n",
       "    .dataframe tbody tr th {\n",
       "        vertical-align: top;\n",
       "    }\n",
       "\n",
       "    .dataframe thead th {\n",
       "        text-align: right;\n",
       "    }\n",
       "</style>\n",
       "<table border=\"1\" class=\"dataframe\">\n",
       "  <thead>\n",
       "    <tr style=\"text-align: right;\">\n",
       "      <th></th>\n",
       "      <th>Unnamed: 0</th>\n",
       "      <th>Guéri</th>\n",
       "      <th>Non-Guéri</th>\n",
       "    </tr>\n",
       "  </thead>\n",
       "  <tbody>\n",
       "    <tr>\n",
       "      <th>0</th>\n",
       "      <td>TrA</td>\n",
       "      <td>139</td>\n",
       "      <td>34</td>\n",
       "    </tr>\n",
       "    <tr>\n",
       "      <th>1</th>\n",
       "      <td>TrB</td>\n",
       "      <td>98</td>\n",
       "      <td>10</td>\n",
       "    </tr>\n",
       "    <tr>\n",
       "      <th>Margin</th>\n",
       "      <td>Total</td>\n",
       "      <td>237</td>\n",
       "      <td>44</td>\n",
       "    </tr>\n",
       "  </tbody>\n",
       "</table>\n",
       "</div>"
      ],
      "text/plain": [
       "       Unnamed: 0  Guéri  Non-Guéri\n",
       "0             TrA    139         34\n",
       "1             TrB     98         10\n",
       "Margin      Total    237         44"
      ]
     },
     "execution_count": 62,
     "metadata": {},
     "output_type": "execute_result"
    }
   ],
   "source": [
    "margin = data.copy()\n",
    "\n",
    "margin.loc['Margin'] = [\"Total\", sum(data['Guéri']), sum(data['Non-Guéri'])]\n",
    "margin"
   ]
  },
  {
   "cell_type": "code",
   "execution_count": 64,
   "id": "fbca63a1-af1c-4b3e-a216-c574ce815158",
   "metadata": {},
   "outputs": [
    {
     "data": {
      "text/html": [
       "<div>\n",
       "<style scoped>\n",
       "    .dataframe tbody tr th:only-of-type {\n",
       "        vertical-align: middle;\n",
       "    }\n",
       "\n",
       "    .dataframe tbody tr th {\n",
       "        vertical-align: top;\n",
       "    }\n",
       "\n",
       "    .dataframe thead th {\n",
       "        text-align: right;\n",
       "    }\n",
       "</style>\n",
       "<table border=\"1\" class=\"dataframe\">\n",
       "  <thead>\n",
       "    <tr style=\"text-align: right;\">\n",
       "      <th></th>\n",
       "      <th>Unnamed: 0</th>\n",
       "      <th>Guéri</th>\n",
       "      <th>Non-Guéri</th>\n",
       "      <th>Margin</th>\n",
       "    </tr>\n",
       "  </thead>\n",
       "  <tbody>\n",
       "    <tr>\n",
       "      <th>0</th>\n",
       "      <td>TrA</td>\n",
       "      <td>139</td>\n",
       "      <td>34</td>\n",
       "      <td>173.0</td>\n",
       "    </tr>\n",
       "    <tr>\n",
       "      <th>1</th>\n",
       "      <td>TrB</td>\n",
       "      <td>98</td>\n",
       "      <td>10</td>\n",
       "      <td>108.0</td>\n",
       "    </tr>\n",
       "    <tr>\n",
       "      <th>Margin</th>\n",
       "      <td>Total</td>\n",
       "      <td>237</td>\n",
       "      <td>44</td>\n",
       "      <td>281.0</td>\n",
       "    </tr>\n",
       "  </tbody>\n",
       "</table>\n",
       "</div>"
      ],
      "text/plain": [
       "       Unnamed: 0  Guéri  Non-Guéri  Margin\n",
       "0             TrA    139         34   173.0\n",
       "1             TrB     98         10   108.0\n",
       "Margin      Total    237         44   281.0"
      ]
     },
     "execution_count": 64,
     "metadata": {},
     "output_type": "execute_result"
    }
   ],
   "source": [
    "margin.loc[0::, 'Margin'] = margin.loc[0::, ['Guéri', 'Non-Guéri']].sum(axis=1)\n",
    "margin"
   ]
  }
 ],
 "metadata": {
  "kernelspec": {
   "display_name": "Stats",
   "language": "python",
   "name": "stats"
  },
  "language_info": {
   "codemirror_mode": {
    "name": "ipython",
    "version": 3
   },
   "file_extension": ".py",
   "mimetype": "text/x-python",
   "name": "python",
   "nbconvert_exporter": "python",
   "pygments_lexer": "ipython3",
   "version": "3.12.4"
  }
 },
 "nbformat": 4,
 "nbformat_minor": 5
}
